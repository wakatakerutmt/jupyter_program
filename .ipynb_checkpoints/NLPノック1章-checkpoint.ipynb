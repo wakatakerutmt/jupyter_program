{
 "cells": [
  {
   "cell_type": "code",
   "execution_count": 10,
   "metadata": {},
   "outputs": [],
   "source": [
    "https://qiita.com/moriwo/items/4fde7f725db215ce1a26\n",
    "\n",
    "# 00 文字列を逆順で表示する\n",
    "#　方針：①文字配列を逆からループ\n",
    "#        ②①をpythonの配列操作[::-1]で行う"
   ]
  },
  {
   "cell_type": "code",
   "execution_count": 13,
   "metadata": {},
   "outputs": [],
   "source": [
    "def reverse(s: str):\n",
    "    \"\"\"\n",
    "    文字列を逆順にして返します.\n",
    "\n",
    "    >>> reverse('stressed')\n",
    "    'desserts'\n",
    "    \"\"\"\n",
    "    result = ''\n",
    "    for i in range(len(s)):\n",
    "        result += s[len(s) - 1 - i]\n",
    "    return result\n",
    "\n",
    "if __name__ == '__main__':\n",
    "    import doctest\n",
    "    doctest.testmod()"
   ]
  },
  {
   "cell_type": "code",
   "execution_count": 14,
   "metadata": {},
   "outputs": [],
   "source": [
    "def reverse(s: str):\n",
    "    \"\"\"\n",
    "    文字列を逆順にして返します.\n",
    "\n",
    "    >>> reverse('stressed')\n",
    "    'desserts'\n",
    "    \"\"\"\n",
    "    return s[::-1]\n",
    "\n",
    "if __name__ == '__main__':\n",
    "    import doctest\n",
    "    doctest.testmod()"
   ]
  },
  {
   "cell_type": "code",
   "execution_count": 15,
   "metadata": {},
   "outputs": [],
   "source": [
    "# 01 パタトクカシーー」という文字列の1,3,5,7文字目を取り出して連結した文字列を得よ．\n",
    "# 方法①''.join(リスト内包表記)\n",
    "#     ②部分配列取得で一つ飛ばしを行う[::2]"
   ]
  },
  {
   "cell_type": "code",
   "execution_count": 23,
   "metadata": {},
   "outputs": [],
   "source": [
    "def take_even_pos(s: str):\n",
    "    \"\"\"\n",
    "    文字列の奇数文字目を取り出して連結した文字列を返します．\n",
    "    奇数文字目なので、インデックス的には偶数だけを出します\n",
    "\n",
    "    >>> take_even_pos('パタトクカシーー')\n",
    "    'パトカー'\n",
    "    \"\"\"\n",
    "    return ''.join(s[i] for i in range(0, len(s), 2))\n",
    "\n",
    "# join の反対派split"
   ]
  },
  {
   "cell_type": "code",
   "execution_count": 24,
   "metadata": {},
   "outputs": [],
   "source": [
    "def take_even_pos(s: str):\n",
    "    \"\"\"\n",
    "    文字列の奇数文字目を取り出して連結した文字列を返します．\n",
    "    奇数文字目なので、インデックス的には偶数だけを出します\n",
    "\n",
    "    >>> take_even_pos('パタトクカシーー')\n",
    "    'パトカー'\n",
    "    \"\"\"\n",
    "    return s[::2]"
   ]
  },
  {
   "cell_type": "code",
   "execution_count": 25,
   "metadata": {},
   "outputs": [],
   "source": [
    "# 02 「パトカー」＋「タクシー」の文字を先頭から交互に連結して文字列「パタトクカシーー」を得よ．\n",
    "# 方法①''.join(リスト内包表記　＋　長いほうの文字列を付け足す)"
   ]
  },
  {
   "cell_type": "code",
   "execution_count": 38,
   "metadata": {},
   "outputs": [],
   "source": [
    "def merge_two_strings(s1: str, s2: str):\n",
    "    \"\"\"\n",
    "    s1とs2の文字を交互に連結した文字列を返します\n",
    "\n",
    "    >>> merge_two_strings('パトカー', 'タクシー')\n",
    "    'パタトクカシーー'\n",
    "\n",
    "    >>> merge_two_strings('パトカー', 'バス')\n",
    "    'パバトスカー'\n",
    "\n",
    "    >>> merge_two_strings('パトロールカー', 'タクシー')\n",
    "    'パタトクロシーールカー'\n",
    "    \"\"\"\n",
    "    return ''.join(s1[i] + s2[i] for i in range(min(len(s1), len(s2)))) + s1[len(s2):] + s2[len(s1):]\n",
    "# join で同じ語数のところまで交互に連結した後に、長いほうの残りの文字列を + s1[len(s2):] ... で連結している"
   ]
  },
  {
   "cell_type": "code",
   "execution_count": 41,
   "metadata": {},
   "outputs": [],
   "source": [
    "# 03 \"Now I need a drink, alcoholic of course, after the heavy lectures involving quantum mechanics.\"という文を単語に分解し，\n",
    "#    各単語の（アルファベットの）文字数を先頭から出現順に並べたリストを作成せよ．\n",
    "# 方法 ①空白のところで出力するジェネレータを作成してリスト化する\n",
    "#      ②正規表現のfindall関数利用"
   ]
  },
  {
   "cell_type": "code",
   "execution_count": 43,
   "metadata": {},
   "outputs": [],
   "source": [
    "def count_length_of_each_word(s: str):\n",
    "    \"\"\"\n",
    "    連続するアルファベット([a-zA-Z])の文字数をリストとして列挙します\n",
    "\n",
    "    >>> count_length_of_each_word('Now I need a drink, alcoholic of course, after the heavy lectures involving quantum mechanics.')\n",
    "    [3, 1, 4, 1, 5, 9, 2, 6, 5, 3, 5, 8, 9, 7, 9]\n",
    "    \"\"\"\n",
    "    return list(count_length_of_each_word_sub(s))\n",
    "\n",
    "def count_length_of_each_word_sub(s: str):\n",
    "    count = 0\n",
    "    for c in s:\n",
    "        if 'a' <= c <= 'z' or 'A' <= c <= 'Z':\n",
    "            count += 1\n",
    "        else:\n",
    "            if count > 0:\n",
    "                yield count\n",
    "            count = 0\n",
    "    if count > 0:\n",
    "        yield count"
   ]
  },
  {
   "cell_type": "code",
   "execution_count": 48,
   "metadata": {},
   "outputs": [
    {
     "data": {
      "text/plain": [
       "<generator object count_length_of_each_word_sub at 0x000002BFEED8A5C8>"
      ]
     },
     "execution_count": 48,
     "metadata": {},
     "output_type": "execute_result"
    }
   ],
   "source": [
    "count_length_of_each_word_sub('I am legend')"
   ]
  },
  {
   "cell_type": "code",
   "execution_count": 50,
   "metadata": {},
   "outputs": [],
   "source": [
    "def count_length_of_each_word(s: str):\n",
    "    \"\"\"\n",
    "    連続するアルファベット([a-zA-Z])の文字数をリストとして列挙します\n",
    "\n",
    "    >>> count_length_of_each_word('Now I need a drink, alcoholic of course, after the heavy lectures involving quantum mechanics.')\n",
    "    [3, 1, 4, 1, 5, 9, 2, 6, 5, 3, 5, 8, 9, 7, 9]\n",
    "    \"\"\"\n",
    "    import re\n",
    "    return list(len(m) for m in re.findall('[a-zA-Z]+', s))"
   ]
  },
  {
   "cell_type": "code",
   "execution_count": 55,
   "metadata": {},
   "outputs": [
    {
     "data": {
      "text/plain": [
       "['fsda', 'gsga']"
      ]
     },
     "execution_count": 55,
     "metadata": {},
     "output_type": "execute_result"
    }
   ],
   "source": [
    "s = 'fsda gsga'\n",
    "import re\n",
    "re.findall('[a-zA-Z]+', s)\n",
    "# findallは該当する部分文字列を全てリストで返す"
   ]
  },
  {
   "cell_type": "code",
   "execution_count": 56,
   "metadata": {},
   "outputs": [],
   "source": [
    "# 04\n",
    "#\"Hi He Lied Because Boron Could Not Oxidize Fluorine. New Nations Might Also Sign Peace Security Clause. Arthur King Can.\"という文を\n",
    "# 単語に分解し，1, 5, 6, 7, 8, 9, 15, 16, 19番目の単語は先頭の1文字，それ以外の単語は先頭に2文字を取り出し，\n",
    "# 取り出した文字列から単語の位置（先頭から何番目の単語か）への連想配列（辞書型もしくはマップ型）を作成せよ．\n",
    "\n",
    "# 方法①keyに元素記号の名前valueに番号を辞書型で返す\n",
    "#     ②辞書の内包表記を行う"
   ]
  },
  {
   "cell_type": "code",
   "execution_count": 57,
   "metadata": {},
   "outputs": [],
   "source": [
    "def atomic_symbols(s: str):\n",
    "    \"\"\"\n",
    "    単語に分解し，1, 5, 6, 7, 8, 9, 15, 16, 19番目の単語は先頭の1文字，それ以外の単語は先頭に2文字を取り出し，\n",
    "    取り出した文字列から単語の位置（先頭から何番目の単語か）への連想配列（辞書型もしくはマップ型）を返します\n",
    "    単語の1文字目は大文字であるという前提にします\n",
    "\n",
    "    >>> atomic_symbols('Hi He Lied Because Boron Could Not Oxidize Fluorine. New Nations Might Also Sign Peace Security Clause. Arthur King Can.')\n",
    "    {'H': 1, 'He': 2, 'Li': 3, 'Be': 4, 'B': 5, 'C': 6, 'N': 7, 'O': 8, 'F': 9, 'Ne': 10, 'Na': 11, 'Mi': 12, 'Al': 13, 'Si': 14, 'P': 15, 'S': 16, 'Cl': 17, 'Ar': 18, 'K': 19, 'Ca': 20}\n",
    "    \"\"\"\n",
    "    single_char_atomic_symbols = [1, 5, 6, 7, 8, 9, 15, 16, 19]\n",
    "    word_number = 0\n",
    "    result = {}\n",
    "\n",
    "    for i in range(len(s)):\n",
    "        if 'A' <= s[i] <= 'Z':  # 大文字だったらここから単語\n",
    "            word_number += 1  # 何番目の単語かカウント\n",
    "            if word_number in single_char_atomic_symbols:\n",
    "                # 1文字取る\n",
    "                word = s[i]\n",
    "            else:\n",
    "                # 2文字取る\n",
    "                word = s[i:i+2]\n",
    "            result[word] = word_number  # 連想配列に入れる\n",
    "\n",
    "    return result\n",
    "    "
   ]
  },
  {
   "cell_type": "code",
   "execution_count": 64,
   "metadata": {},
   "outputs": [],
   "source": [
    "def atomic_symbols(s: str):\n",
    "    \"\"\"\n",
    "    単語に分解し，1, 5, 6, 7, 8, 9, 15, 16, 19番目の単語は先頭の1文字，それ以外の単語は先頭に2文字を取り出し，\n",
    "    取り出した文字列から単語の位置（先頭から何番目の単語か）への連想配列（辞書型もしくはマップ型）を返します\n",
    "\n",
    "    >>> atomic_symbols('Hi He Lied Because Boron Could Not Oxidize Fluorine. New Nations Might Also Sign Peace Security Clause. Arthur King Can.')\n",
    "    {'H': 1, 'He': 2, 'Li': 3, 'Be': 4, 'B': 5, 'C': 6, 'N': 7, 'O': 8, 'F': 9, 'Ne': 10, 'Na': 11, 'Mi': 12, 'Al': 13, 'Si': 14, 'P': 15, 'S': 16, 'Cl': 17, 'Ar': 18, 'K': 19, 'Ca': 20}\n",
    "    \"\"\"\n",
    "    import re\n",
    "    single_char_atomic_symbols = [1, 5, 6, 7, 8, 9, 15, 16, 19]\n",
    "    return {\n",
    "        word[0] if index + 1 in single_char_atomic_symbols else word[0:2]: index + 1\n",
    "        for index, word in enumerate(m for m in re.findall('[a-zA-Z]+', s))\n",
    "    }\n",
    "   #  リスト内包表記ではなく辞書の内包表記\n",
    "    "
   ]
  },
  {
   "cell_type": "code",
   "execution_count": 66,
   "metadata": {},
   "outputs": [],
   "source": [
    "# 05 \n",
    "# 与えられたシーケンス（文字列やリストなど）からn-gramを作る関数を作成せよ．\n",
    "# この関数を用い，\"I am an NLPer\"という文から単語bi-gram，文字bi-gramを得よ．"
   ]
  },
  {
   "cell_type": "code",
   "execution_count": 67,
   "metadata": {},
   "outputs": [],
   "source": [
    "def make_ngram(arr: [], n: int):\n",
    "    \"\"\"\n",
    "    渡されたリストからn-gramを作成します\n",
    "\n",
    "    >>> make_ngram('I am an NLPer', 2)\n",
    "    [('I', ' '), (' ', 'a'), ('a', 'm'), ('m', ' '), (' ', 'a'), ('a', 'n'), ('n', ' '), (' ', 'N'), ('N', 'L'), ('L', 'P'), ('P', 'e'), ('e', 'r')]\n",
    "\n",
    "    >>> make_ngram('I am an NLPer'.split(' '), 2)\n",
    "    [('I', 'am'), ('am', 'an'), ('an', 'NLPer')]\n",
    "    \"\"\"\n",
    "    return list(tuple(arr[i:i + n]) for i in range(len(arr) + 1 - n))"
   ]
  },
  {
   "cell_type": "code",
   "execution_count": null,
   "metadata": {},
   "outputs": [],
   "source": [
    "# 06\n",
    "# \"paraparaparadise\"と\"paragraph\"に含まれる文字bi-gramの集合を，それぞれ, XとYとして求め，XとYの和集合，積集合，差集合を求めよ．\n",
    "# さらに，'se'というbi-gramがXおよびYに含まれるかどうかを調べよ．\n",
    "\n",
    "# Python には set という集合そのものを表すデータ型があります。（他の言語でもありますね。HashSet みたいなクラスとか） \n",
    "# で、これらが和集合、積集合、差集合の実装をしてくれちゃってるので、ありがたく使ってしまいましょう。"
   ]
  },
  {
   "cell_type": "code",
   "execution_count": null,
   "metadata": {},
   "outputs": [],
   "source": [
    "def nlp06():\n",
    "    \"\"\"\n",
    "    >>> x = set(make_ngram('paraparaparadise', 2))\n",
    "    >>> y = set(make_ngram('paragraph', 2))\n",
    "    >>> sorted(x.union(y))  # 和集合\n",
    "    [('a', 'd'), ('a', 'g'), ('a', 'p'), ('a', 'r'), ('d', 'i'), ('g', 'r'), ('i', 's'), ('p', 'a'), ('p', 'h'), ('r', 'a'), ('s', 'e')]\n",
    "\n",
    "    >>> sorted(x.difference(y))  # 差集合\n",
    "    [('a', 'd'), ('d', 'i'), ('i', 's'), ('s', 'e')]\n",
    "\n",
    "    >>> sorted(x.intersection(y))  # 積集合（共通部分）\n",
    "    [('a', 'p'), ('a', 'r'), ('p', 'a'), ('r', 'a')]\n",
    "\n",
    "    >>> ('s', 'e') in x  # Xにseが含まれるか\n",
    "    True\n",
    "\n",
    "    >>> ('s', 'e') in y  # Yにseが含まれるか\n",
    "    False\n",
    "    \"\"\"\n",
    "    pass"
   ]
  },
  {
   "cell_type": "code",
   "execution_count": 68,
   "metadata": {},
   "outputs": [],
   "source": [
    "# 07\n",
    "# 引数x, y, zを受け取り「x時のyはz」という文字列を返す関数を実装せよ．さらに，x=12, y=\"気温\", z=22.4として，実行結果を確認せよ．\n",
    "\n",
    "# 愚直に書く"
   ]
  },
  {
   "cell_type": "code",
   "execution_count": 70,
   "metadata": {},
   "outputs": [],
   "source": [
    "def template(x, y, z):\n",
    "    \"\"\"\n",
    "    >>> template(12, '気温', 22.4)\n",
    "    '12時の気温は22.4'\n",
    "    \"\"\"\n",
    "    return '{}時の{}は{}'.format(x, y, z)"
   ]
  },
  {
   "cell_type": "code",
   "execution_count": null,
   "metadata": {},
   "outputs": [],
   "source": [
    "# 08\n",
    "# 与えられた文字列の各文字を，以下の仕様で変換する関数cipherを実装せよ．\n",
    "# 英小文字ならば(219 - 文字コード)の文字に置換\n",
    "# その他の文字はそのまま出力\n",
    "# この関数を用い，英語のメッセージを暗号化・復号化せよ．\n",
    "\n",
    "\n",
    "# さて、まずこの「219 - 文字コード」ってどういう意味か考えてみましょう。\n",
    "# a の文字コードは 97。219 - 97 = 122 で、文字コード 122 は z。\n",
    "# z の文字コードは 122。219 - 97 = 122 で、文字コード 97 は a。\n",
    "# つまり、ローマ字小文字 a～z について z～a に入れ替えるという暗号化になっていますね。\n",
    "# ちなみに 219 - (219 - n) = n なので、２回cipher関数を通すと元の文字列に戻ります。\n",
    "# そのへんを意識してテストコードを書いてみましょう。\n"
   ]
  },
  {
   "cell_type": "code",
   "execution_count": 72,
   "metadata": {},
   "outputs": [],
   "source": [
    "def cipher(s: str) -> str:\n",
    "    \"\"\"\n",
    "    渡された英文を暗号化します\n",
    "\n",
    "    >>> cipher('AaBbCc')\n",
    "    'AzByCx'\n",
    "\n",
    "    >>> cipher(cipher('She Sells Sea Shells by the Sea Shore'))\n",
    "    'She Sells Sea Shells by the Sea Shore'\n",
    "    \"\"\"\n",
    "    return ''.join(chr(219 - ord(c)) if 'a' <= c <= 'z' else c for c in s)\n",
    "\n",
    "# リスト内包表記（join内包表記）にifを書くとき\n",
    "#  ifのみの場合( if を後ろに書く )\n",
    "# [i for i in range(10) if i % 2 == 0]\n",
    "#  if else の場合 ( if を前に書く )\n",
    "# [i if i % 2 == 0 else \"odd\" for i in range(10)]"
   ]
  },
  {
   "cell_type": "code",
   "execution_count": null,
   "metadata": {},
   "outputs": [],
   "source": [
    "# 09\n",
    "# スペースで区切られた単語列に対して，各単語の先頭と末尾の文字は残し，それ以外の文字の順序をランダムに並び替えるプログラムを作成せよ．\n",
    "# ただし，長さが４以下の単語は並び替えないこととする．\n",
    "# 適当な英語の文（例えば\"I couldn't believe that I could actually understand what I was reading : the phenomenal power of the human mind .\"）\n",
    "# を与え，その実行結果を確認せよ．\n",
    "\n"
   ]
  },
  {
   "cell_type": "code",
   "execution_count": 76,
   "metadata": {},
   "outputs": [
    {
     "name": "stdout",
     "output_type": "stream",
     "text": [
      "I culn'odt biveele that I cluod alalctuy udtsnnared what I was rnidaeg : the paennheoml poewr of the hamun mind .\n"
     ]
    }
   ],
   "source": [
    "def typoglycemia(word: str) -> str: # 各単語を処理する\n",
    "    \"\"\"\n",
    "    長さが4以下であれば渡された文字列をそのまま返す。\n",
    "    長さが5以上であれば、最初と最後以外の文字をランダムに並び替える。\n",
    "    ランダムに並び替えた結果、元と同じ文字列になっていたら、つまらないのでやり直し。\n",
    "\n",
    "    # 最初の文字はキープ\n",
    "    >>> typoglycemia('embassy')[0]  \n",
    "    'e'\n",
    "\n",
    "    # 最後の文字もキープ\n",
    "    >>> typoglycemia('embassy')[-1]\n",
    "    'y'\n",
    "\n",
    "    # 必ず元と違う単語になっている\n",
    "    >>> typoglycemia('embassy') != 'embassy'\n",
    "    True\n",
    "\n",
    "    # 4文字以下は並び替えない\n",
    "    >>> typoglycemia('true')\n",
    "    'true'\n",
    "    \"\"\"\n",
    "    if len(word) <= 4:\n",
    "        return word\n",
    "    from random import sample\n",
    "    while True:\n",
    "        result = word[0] + ''.join(sample(word[1:-1], len(word) - 2)) + word[-1]\n",
    "        if result != word:\n",
    "            return result\n",
    "\n",
    "def typoglycemia_sentence(sentence: str) -> str: # 全単語から書く単語を取り出してそれぞれにtypoglycemiaを呼び出す\n",
    "    words = sentence.split(' ')\n",
    "    return ' '.join(typoglycemia(word) for word in words)\n",
    "\n",
    "print(typoglycemia_sentence(\"I couldn't believe that I could actually understand what I was reading : the phenomenal power of the human mind .\"))"
   ]
  },
  {
   "cell_type": "code",
   "execution_count": null,
   "metadata": {},
   "outputs": [],
   "source": [
    "# 上のdef typoglycemia_sentence(sentence: str) -> str:　に関して\n",
    "https://qiita.com/icoxfog417/items/c17eb042f4735b7924a3　参照以下略\n",
    "    \n",
    "\n",
    "# Python3.5からType Hintsという機能が導入されました。\n",
    "\n",
    "# これは型に関する注釈(型アノテーション)をつけることができる仕様で、具体的には以下のような感じになります(Abstractより引用)。\n",
    "\n",
    "# def greeting(name: str) -> str:\n",
    "#     return 'Hello ' + name\n",
    "# アノテーションを実際に行っているのは以下の部分になります。\n",
    "\n",
    "# name: str: 引数nameが、str型であることをアノテート\n",
    "# -> str: 関数greetingの返り値の型がstrであることをアノテート"
   ]
  },
  {
   "cell_type": "code",
   "execution_count": null,
   "metadata": {},
   "outputs": [],
   "source": []
  },
  {
   "cell_type": "code",
   "execution_count": null,
   "metadata": {},
   "outputs": [],
   "source": []
  }
 ],
 "metadata": {
  "kernelspec": {
   "display_name": "Python 3",
   "language": "python",
   "name": "python3"
  },
  "language_info": {
   "codemirror_mode": {
    "name": "ipython",
    "version": 3
   },
   "file_extension": ".py",
   "mimetype": "text/x-python",
   "name": "python",
   "nbconvert_exporter": "python",
   "pygments_lexer": "ipython3",
   "version": "3.6.6"
  }
 },
 "nbformat": 4,
 "nbformat_minor": 2
}
