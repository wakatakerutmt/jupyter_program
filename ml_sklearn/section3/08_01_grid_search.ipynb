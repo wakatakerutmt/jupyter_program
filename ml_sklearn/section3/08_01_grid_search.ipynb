{
 "cells": [
  {
   "cell_type": "code",
   "execution_count": null,
   "metadata": {
    "ExecuteTime": {
     "end_time": "2017-06-22T08:33:35.443875Z",
     "start_time": "2017-06-22T08:33:34.967924Z"
    },
    "collapsed": true
   },
   "outputs": [],
   "source": [
    "import numpy as np\n",
    "\n",
    "import matplotlib.pyplot as plt\n",
    "%matplotlib inline"
   ]
  },
  {
   "cell_type": "code",
   "execution_count": null,
   "metadata": {
    "ExecuteTime": {
     "end_time": "2017-06-22T08:33:35.768623Z",
     "start_time": "2017-06-22T08:33:35.445071Z"
    },
    "collapsed": true
   },
   "outputs": [],
   "source": [
    "from sklearn.datasets import load_breast_cancer\n",
    "data = load_breast_cancer()\n",
    "X = data.data\n",
    "y = data.target"
   ]
  },
  {
   "cell_type": "code",
   "execution_count": null,
   "metadata": {
    "ExecuteTime": {
     "end_time": "2017-06-22T08:33:35.803176Z",
     "start_time": "2017-06-22T08:33:35.769740Z"
    },
    "collapsed": true
   },
   "outputs": [],
   "source": [
    "from sklearn.model_selection import ShuffleSplit\n",
    "ss = ShuffleSplit(n_splits=1, \n",
    "                  train_size=0.8, \n",
    "                  test_size=0.2, \n",
    "                  random_state=0)\n",
    "\n",
    "train_index, test_index = next(ss.split(X, y))\n",
    "\n",
    "X_train, X_test = X[train_index], X[test_index]\n",
    "y_train, y_test = y[train_index], y[test_index]"
   ]
  },
  {
   "cell_type": "code",
   "execution_count": null,
   "metadata": {
    "ExecuteTime": {
     "end_time": "2017-06-22T08:33:35.807978Z",
     "start_time": "2017-06-22T08:33:35.804084Z"
    },
    "collapsed": true
   },
   "outputs": [],
   "source": [
    "from sklearn.preprocessing import MinMaxScaler\n",
    "scaler = MinMaxScaler()\n",
    "scaler.fit(X_train)\n",
    "X_train = scaler.transform(X_train)\n",
    "X_test  = scaler.transform(X_test)"
   ]
  },
  {
   "cell_type": "code",
   "execution_count": null,
   "metadata": {
    "collapsed": true
   },
   "outputs": [],
   "source": []
  },
  {
   "cell_type": "code",
   "execution_count": null,
   "metadata": {
    "collapsed": true
   },
   "outputs": [],
   "source": []
  },
  {
   "cell_type": "code",
   "execution_count": null,
   "metadata": {
    "ExecuteTime": {
     "end_time": "2017-06-22T08:33:35.866966Z",
     "start_time": "2017-06-22T08:33:35.809040Z"
    },
    "collapsed": true
   },
   "outputs": [],
   "source": [
    "from sklearn.linear_model import LogisticRegression\n",
    "clf = LogisticRegression()"
   ]
  },
  {
   "cell_type": "code",
   "execution_count": null,
   "metadata": {
    "ExecuteTime": {
     "end_time": "2017-06-22T08:33:35.872548Z",
     "start_time": "2017-06-22T08:33:35.868087Z"
    }
   },
   "outputs": [],
   "source": [
    "clf"
   ]
  },
  {
   "cell_type": "code",
   "execution_count": null,
   "metadata": {
    "ExecuteTime": {
     "end_time": "2017-06-22T08:33:35.909586Z",
     "start_time": "2017-06-22T08:33:35.873923Z"
    }
   },
   "outputs": [],
   "source": [
    "clf.C = 1.0\n",
    "clf.fit(X_train, y_train)\n",
    "clf.score(X_test, y_test)"
   ]
  },
  {
   "cell_type": "code",
   "execution_count": null,
   "metadata": {
    "ExecuteTime": {
     "end_time": "2017-06-22T08:33:35.917984Z",
     "start_time": "2017-06-22T08:33:35.910945Z"
    }
   },
   "outputs": [],
   "source": [
    "clf.C = 100.0\n",
    "clf.fit(X_train, y_train)\n",
    "clf.score(X_test, y_test)"
   ]
  },
  {
   "cell_type": "code",
   "execution_count": null,
   "metadata": {
    "collapsed": true
   },
   "outputs": [],
   "source": []
  },
  {
   "cell_type": "code",
   "execution_count": null,
   "metadata": {
    "ExecuteTime": {
     "end_time": "2017-06-22T08:33:35.921584Z",
     "start_time": "2017-06-22T08:33:35.919336Z"
    },
    "collapsed": true
   },
   "outputs": [],
   "source": [
    "C_range = [1e-5, 1e-3, 1e-2, 1, 1e2, 1e5, 1e10]"
   ]
  },
  {
   "cell_type": "code",
   "execution_count": null,
   "metadata": {
    "ExecuteTime": {
     "end_time": "2017-06-22T08:33:35.925126Z",
     "start_time": "2017-06-22T08:33:35.922744Z"
    },
    "collapsed": true
   },
   "outputs": [],
   "source": [
    "C_range_exp = np.arange(-15.0,21.0)\n",
    "C_range = 10 ** C_range_exp"
   ]
  },
  {
   "cell_type": "code",
   "execution_count": null,
   "metadata": {
    "ExecuteTime": {
     "end_time": "2017-06-22T08:33:35.930613Z",
     "start_time": "2017-06-22T08:33:35.926511Z"
    }
   },
   "outputs": [],
   "source": [
    "C_range"
   ]
  },
  {
   "cell_type": "code",
   "execution_count": null,
   "metadata": {
    "ExecuteTime": {
     "end_time": "2017-06-22T08:33:36.518223Z",
     "start_time": "2017-06-22T08:33:35.931927Z"
    }
   },
   "outputs": [],
   "source": [
    "from sklearn.model_selection import GridSearchCV\n",
    "\n",
    "param = {'C':C_range} # clf.C\n",
    "\n",
    "gs = GridSearchCV(clf, param)\n",
    "gs.fit(X_train, y_train)"
   ]
  },
  {
   "cell_type": "code",
   "execution_count": null,
   "metadata": {
    "ExecuteTime": {
     "end_time": "2017-06-22T08:33:36.535180Z",
     "start_time": "2017-06-22T08:33:36.519157Z"
    }
   },
   "outputs": [],
   "source": [
    "gs.cv_results_"
   ]
  },
  {
   "cell_type": "code",
   "execution_count": null,
   "metadata": {
    "ExecuteTime": {
     "end_time": "2017-06-22T08:33:36.539664Z",
     "start_time": "2017-06-22T08:33:36.536170Z"
    },
    "scrolled": true
   },
   "outputs": [],
   "source": [
    "gs.best_params_, gs.best_score_, gs.best_estimator_"
   ]
  },
  {
   "cell_type": "code",
   "execution_count": null,
   "metadata": {
    "ExecuteTime": {
     "end_time": "2017-06-22T08:33:36.544562Z",
     "start_time": "2017-06-22T08:33:36.540665Z"
    }
   },
   "outputs": [],
   "source": [
    "clf_best = gs.best_estimator_\n",
    "# clf_best.fit(X_train, y_train) # training of classifier\n",
    "clf_best.score(X_test, y_test)"
   ]
  },
  {
   "cell_type": "code",
   "execution_count": null,
   "metadata": {
    "ExecuteTime": {
     "end_time": "2017-06-22T08:33:36.549909Z",
     "start_time": "2017-06-22T08:33:36.546062Z"
    }
   },
   "outputs": [],
   "source": [
    "# gs.fit(X_train, y_train) # grid search, and training classifier\n",
    "gs.score(X_test, y_test)"
   ]
  },
  {
   "cell_type": "code",
   "execution_count": null,
   "metadata": {
    "collapsed": true
   },
   "outputs": [],
   "source": []
  },
  {
   "cell_type": "code",
   "execution_count": null,
   "metadata": {
    "collapsed": true
   },
   "outputs": [],
   "source": []
  },
  {
   "cell_type": "code",
   "execution_count": null,
   "metadata": {
    "ExecuteTime": {
     "end_time": "2017-06-22T08:33:37.067716Z",
     "start_time": "2017-06-22T08:33:36.550999Z"
    }
   },
   "outputs": [],
   "source": [
    "plt.errorbar(gs.cv_results_['param_C'].data, \n",
    "             gs.cv_results_['mean_train_score'], \n",
    "             yerr=gs.cv_results_['std_train_score'],\n",
    "             label=\"training\")\n",
    "\n",
    "plt.errorbar(gs.cv_results_['param_C'].data,\n",
    "             gs.cv_results_['mean_test_score'], \n",
    "             yerr=gs.cv_results_['std_test_score'],\n",
    "             label=\"test(val)\")\n",
    "\n",
    "plt.ylim(.6, 1.01)\n",
    "plt.xscale(\"log\")\n",
    "plt.xlabel(\"C\")\n",
    "plt.ylabel(\"accuracy\")\n",
    "plt.legend(loc=\"best\");"
   ]
  },
  {
   "cell_type": "code",
   "execution_count": null,
   "metadata": {
    "ExecuteTime": {
     "end_time": "2017-06-22T08:33:37.422725Z",
     "start_time": "2017-06-22T08:33:37.068703Z"
    }
   },
   "outputs": [],
   "source": [
    "plt.errorbar(gs.cv_results_['param_C'].data, \n",
    "             gs.cv_results_['mean_fit_time'], \n",
    "             yerr=gs.cv_results_['std_fit_time'],\n",
    "             label=\"training\")\n",
    "\n",
    "plt.errorbar(gs.cv_results_['param_C'].data,\n",
    "             gs.cv_results_['mean_score_time'], \n",
    "             yerr=gs.cv_results_['std_score_time'],\n",
    "             label=\"test(val)\")\n",
    "\n",
    "plt.ylim(0,)\n",
    "plt.xscale(\"log\")\n",
    "plt.xlabel(\"C\")\n",
    "plt.ylabel(\"computation time\")\n",
    "plt.legend(loc=\"best\");"
   ]
  },
  {
   "cell_type": "code",
   "execution_count": null,
   "metadata": {
    "collapsed": true
   },
   "outputs": [],
   "source": []
  },
  {
   "cell_type": "markdown",
   "metadata": {},
   "source": []
  },
  {
   "cell_type": "code",
   "execution_count": null,
   "metadata": {
    "collapsed": true
   },
   "outputs": [],
   "source": []
  },
  {
   "cell_type": "code",
   "execution_count": null,
   "metadata": {
    "collapsed": true
   },
   "outputs": [],
   "source": []
  },
  {
   "cell_type": "code",
   "execution_count": null,
   "metadata": {
    "ExecuteTime": {
     "end_time": "2017-06-22T08:33:37.712346Z",
     "start_time": "2017-06-22T08:33:37.423760Z"
    },
    "scrolled": false
   },
   "outputs": [],
   "source": [
    "from sklearn.svm import SVC\n",
    "\n",
    "clf = SVC()\n",
    "\n",
    "C_range_exp = np.arange(-2.0, 5.0)\n",
    "C_range = 10 ** C_range_exp\n",
    "\n",
    "param = {'C': C_range,\n",
    "         'kernel': ['linear', 'rbf']}\n",
    "\n",
    "gs = GridSearchCV(clf, param, n_jobs=-1, verbose=2)\n",
    "gs.fit(X_train, y_train)"
   ]
  },
  {
   "cell_type": "code",
   "execution_count": null,
   "metadata": {
    "ExecuteTime": {
     "end_time": "2017-06-22T08:33:37.717462Z",
     "start_time": "2017-06-22T08:33:37.713837Z"
    },
    "scrolled": true
   },
   "outputs": [],
   "source": [
    "gs.best_params_, gs.best_score_, gs.best_estimator_"
   ]
  },
  {
   "cell_type": "code",
   "execution_count": null,
   "metadata": {
    "ExecuteTime": {
     "end_time": "2017-06-22T08:33:38.176300Z",
     "start_time": "2017-06-22T08:33:37.718870Z"
    }
   },
   "outputs": [],
   "source": [
    "s_linear = [gs.cv_results_['param_kernel']=='linear']\n",
    "\n",
    "plt.plot(gs.cv_results_['param_C'][s_linear].data, \n",
    "         gs.cv_results_['mean_train_score'][s_linear],\n",
    "         label=\"training (linaer)\")\n",
    "\n",
    "plt.plot(gs.cv_results_['param_C'][s_linear].data, \n",
    "         gs.cv_results_['mean_test_score'][s_linear],\n",
    "         linestyle=\"--\",\n",
    "         label=\"test/val (linear)\")\n",
    "\n",
    "\n",
    "s_rbf = [gs.cv_results_['param_kernel']=='rbf']\n",
    "\n",
    "plt.plot(gs.cv_results_['param_C'][s_rbf].data, \n",
    "         gs.cv_results_['mean_train_score'][s_rbf],\n",
    "         label=\"training (rbf)\")\n",
    "\n",
    "plt.plot(gs.cv_results_['param_C'][s_rbf].data, \n",
    "         gs.cv_results_['mean_test_score'][s_rbf],\n",
    "         linestyle=\"--\",\n",
    "         label=\"test/val (rbf)\")\n",
    "\n",
    "\n",
    "\n",
    "plt.ylim(.6, 1.01)\n",
    "plt.xscale(\"log\")\n",
    "plt.xlabel(\"C\")\n",
    "plt.ylabel(\"accuracy\")\n",
    "plt.legend(bbox_to_anchor=(1.05, 1), loc=2, borderaxespad=0.)\n",
    "\n"
   ]
  },
  {
   "cell_type": "code",
   "execution_count": null,
   "metadata": {
    "ExecuteTime": {
     "end_time": "2017-06-22T08:33:38.182179Z",
     "start_time": "2017-06-22T08:33:38.177739Z"
    }
   },
   "outputs": [],
   "source": [
    "gs.score(X_test, y_test)"
   ]
  },
  {
   "cell_type": "code",
   "execution_count": null,
   "metadata": {
    "ExecuteTime": {
     "end_time": "2017-06-22T08:33:38.186202Z",
     "start_time": "2017-06-22T08:33:38.183164Z"
    }
   },
   "outputs": [],
   "source": [
    "SVC(kernel='rbf').gamma"
   ]
  },
  {
   "cell_type": "code",
   "execution_count": null,
   "metadata": {
    "collapsed": true
   },
   "outputs": [],
   "source": []
  },
  {
   "cell_type": "markdown",
   "metadata": {},
   "source": []
  },
  {
   "cell_type": "code",
   "execution_count": null,
   "metadata": {
    "collapsed": true
   },
   "outputs": [],
   "source": []
  },
  {
   "cell_type": "code",
   "execution_count": null,
   "metadata": {
    "collapsed": true
   },
   "outputs": [],
   "source": []
  },
  {
   "cell_type": "code",
   "execution_count": null,
   "metadata": {
    "ExecuteTime": {
     "end_time": "2017-06-22T08:33:38.983733Z",
     "start_time": "2017-06-22T08:33:38.187167Z"
    },
    "scrolled": false
   },
   "outputs": [],
   "source": [
    "from sklearn.svm import SVC\n",
    "\n",
    "clf = SVC()\n",
    "\n",
    "C_range_exp = np.arange(-2.0, 10.0)\n",
    "C_range = 10 ** C_range_exp\n",
    "\n",
    "gamma_range_exp = np.arange(-10.0, 0.0, 3)\n",
    "gamma_range = 10 ** gamma_range_exp\n",
    "\n",
    "param = [ {'C': C_range,\n",
    "           'kernel': ['linear']},\n",
    "         \n",
    "          {'C': C_range,\n",
    "           'gamma': gamma_range, \n",
    "           'kernel': ['rbf']} ]\n",
    "\n",
    "gs = GridSearchCV(clf, param, n_jobs=-1, verbose=2)\n",
    "gs.fit(X_train, y_train)"
   ]
  },
  {
   "cell_type": "code",
   "execution_count": null,
   "metadata": {
    "ExecuteTime": {
     "end_time": "2017-06-22T08:33:38.988550Z",
     "start_time": "2017-06-22T08:33:38.985092Z"
    },
    "scrolled": true
   },
   "outputs": [],
   "source": [
    "gs.best_params_, gs.best_score_, gs.best_estimator_"
   ]
  },
  {
   "cell_type": "code",
   "execution_count": null,
   "metadata": {
    "collapsed": true
   },
   "outputs": [],
   "source": []
  },
  {
   "cell_type": "code",
   "execution_count": null,
   "metadata": {
    "ExecuteTime": {
     "end_time": "2017-06-22T08:33:39.394289Z",
     "start_time": "2017-06-22T08:33:38.989678Z"
    }
   },
   "outputs": [],
   "source": [
    "s_linear = [gs.cv_results_['param_kernel']=='linear']\n",
    "\n",
    "plt.plot(gs.cv_results_['param_C'][s_linear].data, \n",
    "         gs.cv_results_['mean_train_score'][s_linear],\n",
    "         label=\"training (linear)\")\n",
    "\n",
    "plt.plot(gs.cv_results_['param_C'][s_linear].data, \n",
    "         gs.cv_results_['mean_test_score'][s_linear],\n",
    "         linestyle=\"--\",\n",
    "         label=\"test/val (linearr)\")\n",
    "\n",
    "\n",
    "\n",
    "\n",
    "\n",
    "s_rbf = [gs.cv_results_['param_kernel']=='rbf']\n",
    "\n",
    "for g in gamma_range:\n",
    "    s_gamma = gs.cv_results_['param_gamma'][s_rbf].data == g\n",
    "\n",
    "    plt.plot(gs.cv_results_['param_C'][s_rbf][s_gamma].data, \n",
    "             gs.cv_results_['mean_train_score'][s_rbf][s_gamma],\n",
    "             label=\"training (rbf, gamma {0:.0e})\".format(g))\n",
    "    \n",
    "    plt.plot(gs.cv_results_['param_C'][s_rbf][s_gamma].data, \n",
    "             gs.cv_results_['mean_test_score'][s_rbf][s_gamma],\n",
    "             linestyle=\"--\",\n",
    "             label=\"test/val (rbf, gamma {0:.0e})\".format(g))\n",
    "\n",
    "plt.ylim(.6, 1.01)\n",
    "plt.xscale(\"log\")\n",
    "plt.xlabel(\"C\")\n",
    "plt.ylabel(\"accuracy\")\n",
    "plt.legend(bbox_to_anchor=(1.05, 1), loc=2, borderaxespad=0.)\n"
   ]
  },
  {
   "cell_type": "code",
   "execution_count": null,
   "metadata": {
    "ExecuteTime": {
     "end_time": "2017-06-22T08:33:39.399304Z",
     "start_time": "2017-06-22T08:33:39.395603Z"
    }
   },
   "outputs": [],
   "source": [
    "gs.score(X_test, y_test)"
   ]
  },
  {
   "cell_type": "code",
   "execution_count": null,
   "metadata": {
    "collapsed": true
   },
   "outputs": [],
   "source": []
  },
  {
   "cell_type": "markdown",
   "metadata": {},
   "source": []
  },
  {
   "cell_type": "code",
   "execution_count": null,
   "metadata": {
    "collapsed": true
   },
   "outputs": [],
   "source": []
  },
  {
   "cell_type": "code",
   "execution_count": null,
   "metadata": {
    "collapsed": true
   },
   "outputs": [],
   "source": []
  },
  {
   "cell_type": "code",
   "execution_count": null,
   "metadata": {
    "ExecuteTime": {
     "end_time": "2017-06-22T08:33:39.402970Z",
     "start_time": "2017-06-22T08:33:39.400458Z"
    },
    "collapsed": true
   },
   "outputs": [],
   "source": [
    "from sklearn.neighbors import KNeighborsClassifier\n",
    "\n",
    "clf = KNeighborsClassifier()"
   ]
  },
  {
   "cell_type": "code",
   "execution_count": null,
   "metadata": {
    "ExecuteTime": {
     "end_time": "2017-06-22T08:33:39.839662Z",
     "start_time": "2017-06-22T08:33:39.404300Z"
    }
   },
   "outputs": [],
   "source": [
    "param = {'n_neighbors': range(1,20) }\n",
    "\n",
    "gs = GridSearchCV(clf, param)\n",
    "gs.fit(X_train, y_train)"
   ]
  },
  {
   "cell_type": "code",
   "execution_count": null,
   "metadata": {
    "ExecuteTime": {
     "end_time": "2017-06-22T08:33:39.844015Z",
     "start_time": "2017-06-22T08:33:39.840674Z"
    }
   },
   "outputs": [],
   "source": [
    "gs.best_params_, gs.best_score_, gs.best_estimator_"
   ]
  },
  {
   "cell_type": "code",
   "execution_count": null,
   "metadata": {
    "ExecuteTime": {
     "end_time": "2017-06-22T08:33:39.991255Z",
     "start_time": "2017-06-22T08:33:39.845162Z"
    }
   },
   "outputs": [],
   "source": [
    "plt.errorbar(gs.cv_results_['param_n_neighbors'].data, \n",
    "             gs.cv_results_['mean_train_score'], \n",
    "             yerr=gs.cv_results_['std_train_score'],\n",
    "             label=\"training\")\n",
    "\n",
    "plt.errorbar(gs.cv_results_['param_n_neighbors'].data,\n",
    "             gs.cv_results_['mean_test_score'], \n",
    "             yerr=gs.cv_results_['std_test_score'],\n",
    "             label=\"test(val)\")\n",
    "\n",
    "plt.ylim(.6, 1.01)\n",
    "plt.xlabel(\"# neighbors\")\n",
    "plt.ylabel(\"accuracy\")\n",
    "plt.legend(loc=\"best\");"
   ]
  },
  {
   "cell_type": "code",
   "execution_count": null,
   "metadata": {
    "ExecuteTime": {
     "end_time": "2017-06-22T08:33:39.998198Z",
     "start_time": "2017-06-22T08:33:39.992628Z"
    }
   },
   "outputs": [],
   "source": [
    "gs.score(X_test, y_test)"
   ]
  },
  {
   "cell_type": "code",
   "execution_count": null,
   "metadata": {
    "collapsed": true
   },
   "outputs": [],
   "source": []
  },
  {
   "cell_type": "code",
   "execution_count": null,
   "metadata": {
    "collapsed": true
   },
   "outputs": [],
   "source": []
  },
  {
   "cell_type": "code",
   "execution_count": null,
   "metadata": {
    "ExecuteTime": {
     "end_time": "2017-06-22T08:33:40.007478Z",
     "start_time": "2017-06-22T08:33:39.999261Z"
    }
   },
   "outputs": [],
   "source": [
    "from sklearn.neural_network import MLPClassifier\n",
    "\n",
    "clf = MLPClassifier(max_iter=2000)\n",
    "clf"
   ]
  },
  {
   "cell_type": "code",
   "execution_count": null,
   "metadata": {
    "ExecuteTime": {
     "end_time": "2017-06-22T08:33:40.014658Z",
     "start_time": "2017-06-22T08:33:40.008457Z"
    },
    "collapsed": true
   },
   "outputs": [],
   "source": [
    "param = {'hidden_layer_sizes': [(10,), (50,), (100,),\n",
    "                                (10,10,), (50,50,), (100,100,),\n",
    "                                (10, 5,), (5,5,), (30, 20, 10),\n",
    "                                (100,1000,50,), (1000,100,50,),\n",
    "                                (10,10,10), (50,50,50), (100,100,100,),\n",
    "                                ],\n",
    "          'activation' : ['identity', 'logistic', 'tanh', 'relu'],\n",
    "          'beta_1' : [0.9, 0.8, 0.7, 0.6, 0.5],\n",
    "          'beta_2' : [0.999, 0.9, 0.8, 0.7],\n",
    "          'alpha' : [1e-5, 1e-4, 1e-3, 1e-2, 1e-1, 1]\n",
    "        }"
   ]
  },
  {
   "cell_type": "code",
   "execution_count": null,
   "metadata": {
    "ExecuteTime": {
     "end_time": "2017-06-22T08:33:40.018572Z",
     "start_time": "2017-06-22T08:33:40.015892Z"
    },
    "collapsed": true
   },
   "outputs": [],
   "source": [
    "gs = GridSearchCV(clf, param, n_jobs=-1, verbose=1)\n",
    "# gs.fit(X_train, y_train)\n",
    "\n",
    "# # Fitting 3 folds for each of 6720 candidates, totalling 20160 fits"
   ]
  },
  {
   "cell_type": "code",
   "execution_count": null,
   "metadata": {
    "ExecuteTime": {
     "end_time": "2017-06-22T08:33:48.641764Z",
     "start_time": "2017-06-22T08:33:40.019788Z"
    },
    "scrolled": false
   },
   "outputs": [],
   "source": [
    "from sklearn.model_selection import RandomizedSearchCV\n",
    "\n",
    "gs = RandomizedSearchCV(clf, param,\n",
    "                        n_iter=20, \n",
    "                        n_jobs=-1, verbose=2)\n",
    "gs.fit(X_train, y_train)"
   ]
  },
  {
   "cell_type": "code",
   "execution_count": null,
   "metadata": {
    "ExecuteTime": {
     "end_time": "2017-06-22T08:33:48.648438Z",
     "start_time": "2017-06-22T08:33:48.643667Z"
    },
    "scrolled": true
   },
   "outputs": [],
   "source": [
    "gs.best_params_, gs.best_score_, gs.best_estimator_"
   ]
  },
  {
   "cell_type": "code",
   "execution_count": null,
   "metadata": {
    "ExecuteTime": {
     "end_time": "2017-06-22T08:33:48.654382Z",
     "start_time": "2017-06-22T08:33:48.649972Z"
    }
   },
   "outputs": [],
   "source": [
    "gs.score(X_test, y_test)"
   ]
  },
  {
   "cell_type": "code",
   "execution_count": null,
   "metadata": {
    "collapsed": true
   },
   "outputs": [],
   "source": []
  }
 ],
 "metadata": {
  "anaconda-cloud": {},
  "kernelspec": {
   "display_name": "Python 3",
   "language": "python",
   "name": "python3"
  },
  "language_info": {
   "codemirror_mode": {
    "name": "ipython",
    "version": 3
   },
   "file_extension": ".py",
   "mimetype": "text/x-python",
   "name": "python",
   "nbconvert_exporter": "python",
   "pygments_lexer": "ipython3",
   "version": "3.6.1"
  },
  "toc": {
   "colors": {
    "hover_highlight": "#DAA520",
    "running_highlight": "#FF0000",
    "selected_highlight": "#FFD700"
   },
   "moveMenuLeft": true,
   "nav_menu": {
    "height": "12px",
    "width": "252px"
   },
   "navigate_menu": true,
   "number_sections": true,
   "sideBar": true,
   "threshold": 4,
   "toc_cell": false,
   "toc_section_display": "block",
   "toc_window_display": false,
   "widenNotebook": false
  }
 },
 "nbformat": 4,
 "nbformat_minor": 1
}
