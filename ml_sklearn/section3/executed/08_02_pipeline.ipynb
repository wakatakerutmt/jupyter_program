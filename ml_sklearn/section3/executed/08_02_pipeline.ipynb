{
 "cells": [
  {
   "cell_type": "code",
   "execution_count": 1,
   "metadata": {
    "ExecuteTime": {
     "end_time": "2017-06-22T08:36:26.246179Z",
     "start_time": "2017-06-22T08:36:25.719958Z"
    },
    "collapsed": true
   },
   "outputs": [],
   "source": [
    "import numpy as np\n",
    "\n",
    "import matplotlib.pyplot as plt\n",
    "%matplotlib inline"
   ]
  },
  {
   "cell_type": "code",
   "execution_count": 2,
   "metadata": {
    "ExecuteTime": {
     "end_time": "2017-06-22T08:36:26.642014Z",
     "start_time": "2017-06-22T08:36:26.247763Z"
    },
    "collapsed": true
   },
   "outputs": [],
   "source": [
    "from sklearn.datasets import load_breast_cancer\n",
    "data = load_breast_cancer()\n",
    "X = data.data\n",
    "y = data.target"
   ]
  },
  {
   "cell_type": "code",
   "execution_count": 3,
   "metadata": {
    "ExecuteTime": {
     "end_time": "2017-06-22T08:36:26.679610Z",
     "start_time": "2017-06-22T08:36:26.643151Z"
    }
   },
   "outputs": [],
   "source": [
    "from sklearn.model_selection import ShuffleSplit\n",
    "ss = ShuffleSplit(n_splits=1, \n",
    "                  train_size=0.8, \n",
    "                  test_size=0.2, \n",
    "                  random_state=0)\n",
    "\n",
    "train_index, test_index = next(ss.split(X, y))\n",
    "\n",
    "X_train, X_test = X[train_index], X[test_index]\n",
    "y_train, y_test = y[train_index], y[test_index]"
   ]
  },
  {
   "cell_type": "code",
   "execution_count": null,
   "metadata": {
    "collapsed": true
   },
   "outputs": [],
   "source": []
  },
  {
   "cell_type": "code",
   "execution_count": 4,
   "metadata": {
    "ExecuteTime": {
     "end_time": "2017-06-22T08:36:26.780479Z",
     "start_time": "2017-06-22T08:36:26.680749Z"
    },
    "collapsed": true
   },
   "outputs": [],
   "source": [
    "from sklearn.decomposition import PCA\n",
    "\n",
    "pca = PCA(whiten=True)\n",
    "pca.fit(X_train)\n",
    "X_train_pca = pca.transform(X_train)\n",
    "X_test_pca  = pca.transform(X_test)"
   ]
  },
  {
   "cell_type": "code",
   "execution_count": 5,
   "metadata": {
    "ExecuteTime": {
     "end_time": "2017-06-22T08:36:26.784665Z",
     "start_time": "2017-06-22T08:36:26.781808Z"
    },
    "collapsed": true
   },
   "outputs": [],
   "source": [
    "from sklearn.linear_model import LogisticRegression\n",
    "clf = LogisticRegression()"
   ]
  },
  {
   "cell_type": "code",
   "execution_count": 6,
   "metadata": {
    "ExecuteTime": {
     "end_time": "2017-06-22T08:36:26.797284Z",
     "start_time": "2017-06-22T08:36:26.786117Z"
    }
   },
   "outputs": [
    {
     "data": {
      "text/plain": [
       "0.95614035087719296"
      ]
     },
     "execution_count": 6,
     "metadata": {},
     "output_type": "execute_result"
    }
   ],
   "source": [
    "clf.fit(X_train, y_train)\n",
    "clf.score(X_test, y_test)"
   ]
  },
  {
   "cell_type": "code",
   "execution_count": 7,
   "metadata": {
    "ExecuteTime": {
     "end_time": "2017-06-22T08:36:26.805606Z",
     "start_time": "2017-06-22T08:36:26.798729Z"
    }
   },
   "outputs": [
    {
     "data": {
      "text/plain": [
       "0.96491228070175439"
      ]
     },
     "execution_count": 7,
     "metadata": {},
     "output_type": "execute_result"
    }
   ],
   "source": [
    "clf.fit(X_train_pca, y_train)\n",
    "clf.score(X_test_pca, y_test)"
   ]
  },
  {
   "cell_type": "code",
   "execution_count": 8,
   "metadata": {
    "ExecuteTime": {
     "end_time": "2017-06-22T08:36:26.813657Z",
     "start_time": "2017-06-22T08:36:26.807164Z"
    }
   },
   "outputs": [],
   "source": [
    "from sklearn.pipeline import Pipeline\n",
    "\n",
    "estimators = [('pca', PCA(whiten=True)), \n",
    "              ('clf', LogisticRegression())]\n",
    "pipe = Pipeline(estimators)"
   ]
  },
  {
   "cell_type": "code",
   "execution_count": 9,
   "metadata": {
    "ExecuteTime": {
     "end_time": "2017-06-22T08:36:26.823364Z",
     "start_time": "2017-06-22T08:36:26.815162Z"
    }
   },
   "outputs": [
    {
     "data": {
      "text/plain": [
       "Pipeline(steps=[('pca', PCA(copy=True, iterated_power='auto', n_components=None, random_state=None,\n",
       "  svd_solver='auto', tol=0.0, whiten=True)), ('clf', LogisticRegression(C=1.0, class_weight=None, dual=False, fit_intercept=True,\n",
       "          intercept_scaling=1, max_iter=100, multi_class='ovr', n_jobs=1,\n",
       "          penalty='l2', random_state=None, solver='liblinear', tol=0.0001,\n",
       "          verbose=0, warm_start=False))])"
      ]
     },
     "execution_count": 9,
     "metadata": {},
     "output_type": "execute_result"
    }
   ],
   "source": [
    "pipe.fit(X_train, y_train)"
   ]
  },
  {
   "cell_type": "code",
   "execution_count": 10,
   "metadata": {
    "ExecuteTime": {
     "end_time": "2017-06-22T08:36:26.829373Z",
     "start_time": "2017-06-22T08:36:26.824856Z"
    }
   },
   "outputs": [
    {
     "data": {
      "text/plain": [
       "0.96491228070175439"
      ]
     },
     "execution_count": 10,
     "metadata": {},
     "output_type": "execute_result"
    }
   ],
   "source": [
    "pipe.score(X_test, y_test)"
   ]
  },
  {
   "cell_type": "code",
   "execution_count": null,
   "metadata": {
    "collapsed": true
   },
   "outputs": [],
   "source": []
  },
  {
   "cell_type": "code",
   "execution_count": null,
   "metadata": {
    "collapsed": true
   },
   "outputs": [],
   "source": [
    "\n"
   ]
  },
  {
   "cell_type": "code",
   "execution_count": 11,
   "metadata": {
    "ExecuteTime": {
     "end_time": "2017-06-22T08:36:26.835519Z",
     "start_time": "2017-06-22T08:36:26.830765Z"
    },
    "collapsed": true
   },
   "outputs": [],
   "source": [
    "from sklearn.preprocessing import MinMaxScaler\n",
    "from sklearn.svm import SVC\n",
    "\n",
    "estimators = [('mms', MinMaxScaler()), \n",
    "              ('clf', SVC(kernel='rbf', C=1e10))]\n",
    "pipe = Pipeline(estimators)"
   ]
  },
  {
   "cell_type": "code",
   "execution_count": 12,
   "metadata": {
    "ExecuteTime": {
     "end_time": "2017-06-22T08:36:26.849847Z",
     "start_time": "2017-06-22T08:36:26.837051Z"
    }
   },
   "outputs": [
    {
     "data": {
      "text/plain": [
       "Pipeline(steps=[('mms', MinMaxScaler(copy=True, feature_range=(0, 1))), ('clf', SVC(C=10000000000.0, cache_size=200, class_weight=None, coef0=0.0,\n",
       "  decision_function_shape=None, degree=3, gamma='auto', kernel='rbf',\n",
       "  max_iter=-1, probability=False, random_state=None, shrinking=True,\n",
       "  tol=0.001, verbose=False))])"
      ]
     },
     "execution_count": 12,
     "metadata": {},
     "output_type": "execute_result"
    }
   ],
   "source": [
    "pipe.fit(X_train, y_train)"
   ]
  },
  {
   "cell_type": "code",
   "execution_count": 13,
   "metadata": {
    "ExecuteTime": {
     "end_time": "2017-06-22T08:36:26.855920Z",
     "start_time": "2017-06-22T08:36:26.851378Z"
    }
   },
   "outputs": [
    {
     "data": {
      "text/plain": [
       "0.98245614035087714"
      ]
     },
     "execution_count": 13,
     "metadata": {},
     "output_type": "execute_result"
    }
   ],
   "source": [
    "pipe.score(X_test, y_test)"
   ]
  },
  {
   "cell_type": "code",
   "execution_count": null,
   "metadata": {
    "collapsed": true
   },
   "outputs": [],
   "source": []
  },
  {
   "cell_type": "code",
   "execution_count": 14,
   "metadata": {
    "ExecuteTime": {
     "end_time": "2017-06-22T08:36:26.861166Z",
     "start_time": "2017-06-22T08:36:26.857421Z"
    },
    "collapsed": true
   },
   "outputs": [],
   "source": [
    "estimators = [('pca', PCA(whiten=True)), \n",
    "              ('clf', LogisticRegression())]\n",
    "pipe = Pipeline(estimators)"
   ]
  },
  {
   "cell_type": "code",
   "execution_count": 15,
   "metadata": {
    "ExecuteTime": {
     "end_time": "2017-06-22T08:36:26.988995Z",
     "start_time": "2017-06-22T08:36:26.862382Z"
    }
   },
   "outputs": [
    {
     "data": {
      "text/plain": [
       "GridSearchCV(cv=None, error_score='raise',\n",
       "       estimator=Pipeline(steps=[('pca', PCA(copy=True, iterated_power='auto', n_components=None, random_state=None,\n",
       "  svd_solver='auto', tol=0.0, whiten=True)), ('clf', LogisticRegression(C=1.0, class_weight=None, dual=False, fit_intercept=True,\n",
       "          intercept_scaling=1, max_iter=100, multi_class='ovr', n_jobs=1,\n",
       "          penalty='l2', random_state=None, solver='liblinear', tol=0.0001,\n",
       "          verbose=0, warm_start=False))]),\n",
       "       fit_params={}, iid=True, n_jobs=1,\n",
       "       param_grid={'clf__C': [1e-05, 0.001, 0.01, 1, 100.0, 100000.0, 10000000000.0]},\n",
       "       pre_dispatch='2*n_jobs', refit=True, return_train_score=True,\n",
       "       scoring=None, verbose=0)"
      ]
     },
     "execution_count": 15,
     "metadata": {},
     "output_type": "execute_result"
    }
   ],
   "source": [
    "from sklearn.model_selection import GridSearchCV\n",
    "\n",
    "param = {'clf__C':[1e-5, 1e-3, 1e-2, 1, 1e2, 1e5, 1e10]} # clf.C\n",
    "\n",
    "gs = GridSearchCV(pipe, param)\n",
    "gs.fit(X_train, y_train)"
   ]
  },
  {
   "cell_type": "code",
   "execution_count": 16,
   "metadata": {
    "ExecuteTime": {
     "end_time": "2017-06-22T08:36:26.994789Z",
     "start_time": "2017-06-22T08:36:26.990498Z"
    }
   },
   "outputs": [
    {
     "data": {
      "text/plain": [
       "({'clf__C': 1},\n",
       " 0.95604395604395609,\n",
       " Pipeline(steps=[('pca', PCA(copy=True, iterated_power='auto', n_components=None, random_state=None,\n",
       "   svd_solver='auto', tol=0.0, whiten=True)), ('clf', LogisticRegression(C=1, class_weight=None, dual=False, fit_intercept=True,\n",
       "           intercept_scaling=1, max_iter=100, multi_class='ovr', n_jobs=1,\n",
       "           penalty='l2', random_state=None, solver='liblinear', tol=0.0001,\n",
       "           verbose=0, warm_start=False))]))"
      ]
     },
     "execution_count": 16,
     "metadata": {},
     "output_type": "execute_result"
    }
   ],
   "source": [
    "gs.best_params_, gs.best_score_, gs.best_estimator_"
   ]
  },
  {
   "cell_type": "code",
   "execution_count": 17,
   "metadata": {
    "ExecuteTime": {
     "end_time": "2017-06-22T08:36:27.000433Z",
     "start_time": "2017-06-22T08:36:26.996119Z"
    }
   },
   "outputs": [
    {
     "data": {
      "text/plain": [
       "0.96491228070175439"
      ]
     },
     "execution_count": 17,
     "metadata": {},
     "output_type": "execute_result"
    }
   ],
   "source": [
    "gs.score(X_test, y_test)"
   ]
  },
  {
   "cell_type": "code",
   "execution_count": null,
   "metadata": {
    "collapsed": true
   },
   "outputs": [],
   "source": []
  },
  {
   "cell_type": "code",
   "execution_count": null,
   "metadata": {
    "collapsed": true
   },
   "outputs": [],
   "source": []
  },
  {
   "cell_type": "code",
   "execution_count": 18,
   "metadata": {
    "ExecuteTime": {
     "end_time": "2017-06-22T08:42:09.170235Z",
     "start_time": "2017-06-22T08:36:27.001893Z"
    },
    "scrolled": false
   },
   "outputs": [
    {
     "name": "stdout",
     "output_type": "stream",
     "text": [
      "Fitting 3 folds for each of 10 candidates, totalling 30 fits\n",
      "[CV] pca__whiten=False, pca__n_components=30, clf__kernel=rbf, clf__C=1000.0 \n",
      "[CV] pca__whiten=False, pca__n_components=30, clf__kernel=rbf, clf__C=1000.0 \n",
      "[CV] pca__whiten=False, pca__n_components=30, clf__kernel=rbf, clf__C=1000.0 \n",
      "[CV] pca__whiten=False, pca__n_components=20, clf__kernel=rbf, clf__C=0.01 \n",
      "[CV] pca__whiten=False, pca__n_components=20, clf__kernel=rbf, clf__C=0.01 \n",
      "[CV] pca__whiten=False, pca__n_components=20, clf__kernel=rbf, clf__C=0.01 \n",
      "[CV] pca__whiten=True, pca__n_components=20, clf__kernel=rbf, clf__C=0.001 \n",
      "[CV] pca__whiten=True, pca__n_components=20, clf__kernel=rbf, clf__C=0.001 \n",
      "[CV]  pca__whiten=False, pca__n_components=20, clf__kernel=rbf, clf__C=0.01, total=   0.0s\n",
      "[CV] pca__whiten=True, pca__n_components=20, clf__kernel=rbf, clf__C=0.001 \n",
      "[CV]  pca__whiten=False, pca__n_components=20, clf__kernel=rbf, clf__C=0.01, total=   0.0s\n",
      "[CV]  pca__whiten=False, pca__n_components=30, clf__kernel=rbf, clf__C=1000.0, total=   0.0s\n",
      "[CV]  pca__whiten=False, pca__n_components=20, clf__kernel=rbf, clf__C=0.01, total=   0.0s\n",
      "[CV]  pca__whiten=False, pca__n_components=30, clf__kernel=rbf, clf__C=1000.0, total=   0.0s\n",
      "[CV]  pca__whiten=False, pca__n_components=30, clf__kernel=rbf, clf__C=1000.0, total=   0.0s\n",
      "[CV] pca__whiten=False, pca__n_components=30, clf__kernel=rbf, clf__C=100.0 \n",
      "[CV]  pca__whiten=True, pca__n_components=20, clf__kernel=rbf, clf__C=0.001, total=   0.0s\n",
      "[CV] pca__whiten=False, pca__n_components=30, clf__kernel=rbf, clf__C=100.0 \n",
      "[CV] pca__whiten=False, pca__n_components=30, clf__kernel=linear, clf__C=1000.0 \n",
      "[CV] pca__whiten=False, pca__n_components=30, clf__kernel=linear, clf__C=1000.0 \n",
      "[CV] pca__whiten=False, pca__n_components=30, clf__kernel=rbf, clf__C=100.0 \n",
      "[CV] pca__whiten=False, pca__n_components=30, clf__kernel=linear, clf__C=1000.0 \n",
      "[CV]  pca__whiten=True, pca__n_components=20, clf__kernel=rbf, clf__C=0.001, total=   0.0s\n",
      "[CV]  pca__whiten=True, pca__n_components=20, clf__kernel=rbf, clf__C=0.001, total=   0.0s\n",
      "[CV] pca__whiten=False, pca__n_components=30, clf__kernel=rbf, clf__C=0.01 \n",
      "[CV] pca__whiten=False, pca__n_components=30, clf__kernel=rbf, clf__C=0.01 \n",
      "[CV]  pca__whiten=False, pca__n_components=30, clf__kernel=rbf, clf__C=100.0, total=   0.0s\n",
      "[CV]  pca__whiten=False, pca__n_components=30, clf__kernel=rbf, clf__C=100.0, total=   0.0s\n",
      "[CV]  pca__whiten=False, pca__n_components=30, clf__kernel=rbf, clf__C=100.0, total=   0.0s\n",
      "[CV] pca__whiten=True, pca__n_components=20, clf__kernel=linear, clf__C=0.001 \n",
      "[CV] pca__whiten=False, pca__n_components=30, clf__kernel=rbf, clf__C=1 \n",
      "[CV] pca__whiten=True, pca__n_components=20, clf__kernel=rbf, clf__C=1000.0 \n",
      "[CV]  pca__whiten=False, pca__n_components=30, clf__kernel=rbf, clf__C=0.01, total=   0.0s\n",
      "[CV]  pca__whiten=False, pca__n_components=30, clf__kernel=rbf, clf__C=0.01, total=   0.0s\n",
      "[CV] pca__whiten=False, pca__n_components=30, clf__kernel=rbf, clf__C=0.01 \n",
      "[CV]  pca__whiten=True, pca__n_components=20, clf__kernel=linear, clf__C=0.001, total=   0.0s\n",
      "[CV] pca__whiten=True, pca__n_components=20, clf__kernel=linear, clf__C=0.001 \n",
      "[CV]  pca__whiten=True, pca__n_components=20, clf__kernel=rbf, clf__C=1000.0, total=   0.0s\n",
      "[CV]  pca__whiten=False, pca__n_components=30, clf__kernel=rbf, clf__C=1, total=   0.0s\n",
      "[CV] pca__whiten=False, pca__n_components=30, clf__kernel=linear, clf__C=0.01 \n",
      "[CV] pca__whiten=True, pca__n_components=20, clf__kernel=rbf, clf__C=1000.0 \n",
      "[CV]  pca__whiten=False, pca__n_components=30, clf__kernel=rbf, clf__C=0.01, total=   0.0s\n",
      "[CV] pca__whiten=False, pca__n_components=30, clf__kernel=rbf, clf__C=1 \n",
      "[CV]  pca__whiten=True, pca__n_components=20, clf__kernel=linear, clf__C=0.001, total=   0.0s\n",
      "[CV]  pca__whiten=False, pca__n_components=30, clf__kernel=linear, clf__C=0.01, total=   0.0s\n",
      "[CV]  pca__whiten=True, pca__n_components=20, clf__kernel=rbf, clf__C=1000.0, total=   0.0s\n",
      "[CV] pca__whiten=True, pca__n_components=20, clf__kernel=rbf, clf__C=1000.0 \n",
      "[CV] pca__whiten=False, pca__n_components=30, clf__kernel=linear, clf__C=0.01 \n",
      "[CV]  pca__whiten=False, pca__n_components=30, clf__kernel=linear, clf__C=0.01, total=   0.0s\n",
      "[CV]  pca__whiten=True, pca__n_components=20, clf__kernel=rbf, clf__C=1000.0, total=   0.0s\n",
      "[CV] pca__whiten=False, pca__n_components=30, clf__kernel=linear, clf__C=0.01 \n",
      "[CV] pca__whiten=True, pca__n_components=20, clf__kernel=linear, clf__C=0.001 \n",
      "[CV]  pca__whiten=False, pca__n_components=30, clf__kernel=rbf, clf__C=1, total=   0.1s\n",
      "[CV]  pca__whiten=True, pca__n_components=20, clf__kernel=linear, clf__C=0.001, total=   0.0s\n",
      "[CV] pca__whiten=False, pca__n_components=30, clf__kernel=rbf, clf__C=1 \n",
      "[CV]  pca__whiten=False, pca__n_components=30, clf__kernel=linear, clf__C=0.01, total=   0.0s\n",
      "[CV]  pca__whiten=False, pca__n_components=30, clf__kernel=rbf, clf__C=1, total=   0.0s\n"
     ]
    },
    {
     "name": "stderr",
     "output_type": "stream",
     "text": [
      "[Parallel(n_jobs=-1)]: Done  15 out of  30 | elapsed:    0.2s remaining:    0.2s\n"
     ]
    },
    {
     "name": "stdout",
     "output_type": "stream",
     "text": [
      "[CV]  pca__whiten=False, pca__n_components=30, clf__kernel=linear, clf__C=1000.0, total=   7.7s\n",
      "[CV]  pca__whiten=False, pca__n_components=30, clf__kernel=linear, clf__C=1000.0, total=  37.9s\n",
      "[CV]  pca__whiten=False, pca__n_components=30, clf__kernel=linear, clf__C=1000.0, total= 1.6min\n"
     ]
    },
    {
     "name": "stderr",
     "output_type": "stream",
     "text": [
      "[Parallel(n_jobs=-1)]: Done  30 out of  30 | elapsed:  1.6min finished\n"
     ]
    },
    {
     "data": {
      "text/plain": [
       "RandomizedSearchCV(cv=None, error_score='raise',\n",
       "          estimator=Pipeline(steps=[('pca', PCA(copy=True, iterated_power='auto', n_components=None, random_state=None,\n",
       "  svd_solver='auto', tol=0.0, whiten=False)), ('clf', SVC(C=1.0, cache_size=200, class_weight=None, coef0=0.0,\n",
       "  decision_function_shape=None, degree=3, gamma='auto', kernel='rbf',\n",
       "  max_iter=-1, probability=False, random_state=None, shrinking=True,\n",
       "  tol=0.001, verbose=False))]),\n",
       "          fit_params={}, iid=True, n_iter=10, n_jobs=-1,\n",
       "          param_distributions={'clf__C': [0.001, 0.01, 1, 100.0, 1000.0], 'clf__kernel': ['linear', 'rbf'], 'pca__whiten': [True, False], 'pca__n_components': [30, 20, 10]},\n",
       "          pre_dispatch='2*n_jobs', random_state=None, refit=True,\n",
       "          return_train_score=True, scoring=None, verbose=2)"
      ]
     },
     "execution_count": 18,
     "metadata": {},
     "output_type": "execute_result"
    }
   ],
   "source": [
    "from sklearn.svm import SVC\n",
    "\n",
    "C_range = [1e-3, 1e-2, 1, 1e2, 1e3]\n",
    "\n",
    "param = {'clf__C': C_range, \n",
    "         'clf__kernel': ['linear', 'rbf'], \n",
    "         'pca__whiten': [True, False], \n",
    "         'pca__n_components': [30, 20, 10]}\n",
    "\n",
    "estimators = [('pca', PCA()),\n",
    "              ('clf', SVC())]\n",
    "\n",
    "pipe = Pipeline(estimators)\n",
    "\n",
    "\n",
    "from sklearn.model_selection import RandomizedSearchCV\n",
    "\n",
    "gs = RandomizedSearchCV(pipe, param, n_jobs=-1, verbose=2)\n",
    "gs.fit(X_train, y_train)"
   ]
  },
  {
   "cell_type": "code",
   "execution_count": 19,
   "metadata": {
    "ExecuteTime": {
     "end_time": "2017-06-22T08:42:09.197227Z",
     "start_time": "2017-06-22T08:42:09.174969Z"
    }
   },
   "outputs": [
    {
     "data": {
      "text/plain": [
       "({'clf__C': 1000.0,\n",
       "  'clf__kernel': 'linear',\n",
       "  'pca__n_components': 30,\n",
       "  'pca__whiten': False},\n",
       " 0.9516483516483516,\n",
       " Pipeline(steps=[('pca', PCA(copy=True, iterated_power='auto', n_components=30, random_state=None,\n",
       "   svd_solver='auto', tol=0.0, whiten=False)), ('clf', SVC(C=1000.0, cache_size=200, class_weight=None, coef0=0.0,\n",
       "   decision_function_shape=None, degree=3, gamma='auto', kernel='linear',\n",
       "   max_iter=-1, probability=False, random_state=None, shrinking=True,\n",
       "   tol=0.001, verbose=False))]))"
      ]
     },
     "execution_count": 19,
     "metadata": {},
     "output_type": "execute_result"
    }
   ],
   "source": [
    "gs.best_params_, gs.best_score_, gs.best_estimator_"
   ]
  },
  {
   "cell_type": "code",
   "execution_count": 20,
   "metadata": {
    "ExecuteTime": {
     "end_time": "2017-06-22T08:42:09.205924Z",
     "start_time": "2017-06-22T08:42:09.198873Z"
    }
   },
   "outputs": [
    {
     "data": {
      "text/plain": [
       "0.97368421052631582"
      ]
     },
     "execution_count": 20,
     "metadata": {},
     "output_type": "execute_result"
    }
   ],
   "source": [
    "gs.score(X_test, y_test)"
   ]
  },
  {
   "cell_type": "code",
   "execution_count": 21,
   "metadata": {
    "ExecuteTime": {
     "end_time": "2017-06-22T08:42:09.225923Z",
     "start_time": "2017-06-22T08:42:09.207649Z"
    }
   },
   "outputs": [
    {
     "data": {
      "text/plain": [
       "{'mean_fit_time': array([  3.72280280e-02,   2.48262882e-02,   3.00091108e-02,\n",
       "          2.86669731e-02,   4.67691738e+01,   2.96607812e-02,\n",
       "          3.36525440e-02,   2.96262900e-02,   1.69839859e-02,\n",
       "          1.70950890e-02]),\n",
       " 'mean_score_time': array([ 0.00635759,  0.00355029,  0.00470138,  0.01006961,  0.000772  ,\n",
       "         0.00669702,  0.00297546,  0.00097466,  0.00160877,  0.00318503]),\n",
       " 'mean_test_score': array([ 0.63736264,  0.63736264,  0.63736264,  0.63736264,  0.95164835,\n",
       "         0.63736264,  0.63736264,  0.94945055,  0.93186813,  0.63736264]),\n",
       " 'mean_train_score': array([ 1.        ,  0.63736176,  0.63736176,  1.        ,  0.98462741,\n",
       "         0.63736176,  1.        ,  0.95824648,  1.        ,  0.63736176]),\n",
       " 'param_clf__C': masked_array(data = [1000.0 0.01 0.001 100.0 1000.0 0.01 1 0.01 1000.0 0.001],\n",
       "              mask = [False False False False False False False False False False],\n",
       "        fill_value = ?),\n",
       " 'param_clf__kernel': masked_array(data = ['rbf' 'rbf' 'rbf' 'rbf' 'linear' 'rbf' 'rbf' 'linear' 'rbf' 'linear'],\n",
       "              mask = [False False False False False False False False False False],\n",
       "        fill_value = ?),\n",
       " 'param_pca__n_components': masked_array(data = [30 20 20 30 30 30 30 30 20 20],\n",
       "              mask = [False False False False False False False False False False],\n",
       "        fill_value = ?),\n",
       " 'param_pca__whiten': masked_array(data = [False False True False False False False False True True],\n",
       "              mask = [False False False False False False False False False False],\n",
       "        fill_value = ?),\n",
       " 'params': ({'clf__C': 1000.0,\n",
       "   'clf__kernel': 'rbf',\n",
       "   'pca__n_components': 30,\n",
       "   'pca__whiten': False},\n",
       "  {'clf__C': 0.01,\n",
       "   'clf__kernel': 'rbf',\n",
       "   'pca__n_components': 20,\n",
       "   'pca__whiten': False},\n",
       "  {'clf__C': 0.001,\n",
       "   'clf__kernel': 'rbf',\n",
       "   'pca__n_components': 20,\n",
       "   'pca__whiten': True},\n",
       "  {'clf__C': 100.0,\n",
       "   'clf__kernel': 'rbf',\n",
       "   'pca__n_components': 30,\n",
       "   'pca__whiten': False},\n",
       "  {'clf__C': 1000.0,\n",
       "   'clf__kernel': 'linear',\n",
       "   'pca__n_components': 30,\n",
       "   'pca__whiten': False},\n",
       "  {'clf__C': 0.01,\n",
       "   'clf__kernel': 'rbf',\n",
       "   'pca__n_components': 30,\n",
       "   'pca__whiten': False},\n",
       "  {'clf__C': 1,\n",
       "   'clf__kernel': 'rbf',\n",
       "   'pca__n_components': 30,\n",
       "   'pca__whiten': False},\n",
       "  {'clf__C': 0.01,\n",
       "   'clf__kernel': 'linear',\n",
       "   'pca__n_components': 30,\n",
       "   'pca__whiten': False},\n",
       "  {'clf__C': 1000.0,\n",
       "   'clf__kernel': 'rbf',\n",
       "   'pca__n_components': 20,\n",
       "   'pca__whiten': True},\n",
       "  {'clf__C': 0.001,\n",
       "   'clf__kernel': 'linear',\n",
       "   'pca__n_components': 20,\n",
       "   'pca__whiten': True}),\n",
       " 'rank_test_score': array([4, 4, 4, 4, 1, 4, 4, 2, 3, 4], dtype=int32),\n",
       " 'split0_test_score': array([ 0.63815789,  0.63815789,  0.63815789,  0.63815789,  0.96710526,\n",
       "         0.63815789,  0.63815789,  0.95394737,  0.94078947,  0.63815789]),\n",
       " 'split0_train_score': array([ 1.        ,  0.6369637 ,  0.6369637 ,  1.        ,  0.98019802,\n",
       "         0.6369637 ,  1.        ,  0.95709571,  1.        ,  0.6369637 ]),\n",
       " 'split1_test_score': array([ 0.63815789,  0.63815789,  0.63815789,  0.63815789,  0.94736842,\n",
       "         0.63815789,  0.63815789,  0.92763158,  0.92105263,  0.63815789]),\n",
       " 'split1_train_score': array([ 1.        ,  0.6369637 ,  0.6369637 ,  1.        ,  1.        ,\n",
       "         0.6369637 ,  1.        ,  0.96369637,  1.        ,  0.6369637 ]),\n",
       " 'split2_test_score': array([ 0.63576159,  0.63576159,  0.63576159,  0.63576159,  0.94039735,\n",
       "         0.63576159,  0.63576159,  0.96688742,  0.93377483,  0.63576159]),\n",
       " 'split2_train_score': array([ 1.        ,  0.63815789,  0.63815789,  1.        ,  0.97368421,\n",
       "         0.63815789,  1.        ,  0.95394737,  1.        ,  0.63815789]),\n",
       " 'std_fit_time': array([  3.27302236e-03,   6.31558602e-03,   1.01715154e-02,\n",
       "          2.37298519e-03,   3.60773059e+01,   1.04420120e-02,\n",
       "          1.65428452e-02,   1.30512102e-02,   6.80737736e-03,\n",
       "          6.28121187e-03]),\n",
       " 'std_score_time': array([  3.45119679e-03,   7.41851429e-04,   1.19987875e-03,\n",
       "          2.29665406e-03,   9.07012714e-05,   4.32203214e-03,\n",
       "          7.56522351e-05,   6.68289730e-05,   1.13548390e-04,\n",
       "          2.17252133e-03]),\n",
       " 'std_test_score': array([ 0.00112838,  0.00112838,  0.00112838,  0.00112838,  0.01131117,\n",
       "         0.00112838,  0.00112838,  0.01633082,  0.00817755,  0.00112838]),\n",
       " 'std_train_score': array([ 0.        ,  0.00056295,  0.00056295,  0.        ,  0.01119062,\n",
       "         0.00056295,  0.        ,  0.00406234,  0.        ,  0.00056295])}"
      ]
     },
     "execution_count": 21,
     "metadata": {},
     "output_type": "execute_result"
    }
   ],
   "source": [
    "gs.cv_results_"
   ]
  },
  {
   "cell_type": "code",
   "execution_count": null,
   "metadata": {
    "collapsed": true
   },
   "outputs": [],
   "source": []
  }
 ],
 "metadata": {
  "anaconda-cloud": {},
  "kernelspec": {
   "display_name": "Python 3",
   "language": "python",
   "name": "python3"
  },
  "language_info": {
   "codemirror_mode": {
    "name": "ipython",
    "version": 3
   },
   "file_extension": ".py",
   "mimetype": "text/x-python",
   "name": "python",
   "nbconvert_exporter": "python",
   "pygments_lexer": "ipython3",
   "version": "3.6.1"
  },
  "toc": {
   "colors": {
    "hover_highlight": "#DAA520",
    "running_highlight": "#FF0000",
    "selected_highlight": "#FFD700"
   },
   "moveMenuLeft": true,
   "nav_menu": {
    "height": "12px",
    "width": "252px"
   },
   "navigate_menu": true,
   "number_sections": true,
   "sideBar": true,
   "threshold": 4,
   "toc_cell": false,
   "toc_section_display": "block",
   "toc_window_display": false,
   "widenNotebook": false
  }
 },
 "nbformat": 4,
 "nbformat_minor": 1
}
