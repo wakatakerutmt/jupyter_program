{
 "cells": [
  {
   "cell_type": "code",
   "execution_count": 1,
   "metadata": {
    "ExecuteTime": {
     "end_time": "2017-06-22T08:33:35.443875Z",
     "start_time": "2017-06-22T08:33:34.967924Z"
    },
    "collapsed": true
   },
   "outputs": [],
   "source": [
    "import numpy as np\n",
    "\n",
    "import matplotlib.pyplot as plt\n",
    "%matplotlib inline"
   ]
  },
  {
   "cell_type": "code",
   "execution_count": 2,
   "metadata": {
    "ExecuteTime": {
     "end_time": "2017-06-22T08:33:35.768623Z",
     "start_time": "2017-06-22T08:33:35.445071Z"
    },
    "collapsed": true
   },
   "outputs": [],
   "source": [
    "from sklearn.datasets import load_breast_cancer\n",
    "data = load_breast_cancer()\n",
    "X = data.data\n",
    "y = data.target"
   ]
  },
  {
   "cell_type": "code",
   "execution_count": 3,
   "metadata": {
    "ExecuteTime": {
     "end_time": "2017-06-22T08:33:35.803176Z",
     "start_time": "2017-06-22T08:33:35.769740Z"
    }
   },
   "outputs": [],
   "source": [
    "from sklearn.model_selection import ShuffleSplit\n",
    "ss = ShuffleSplit(n_splits=1, \n",
    "                  train_size=0.8, \n",
    "                  test_size=0.2, \n",
    "                  random_state=0)\n",
    "\n",
    "train_index, test_index = next(ss.split(X, y))\n",
    "\n",
    "X_train, X_test = X[train_index], X[test_index]\n",
    "y_train, y_test = y[train_index], y[test_index]"
   ]
  },
  {
   "cell_type": "code",
   "execution_count": 4,
   "metadata": {
    "ExecuteTime": {
     "end_time": "2017-06-22T08:33:35.807978Z",
     "start_time": "2017-06-22T08:33:35.804084Z"
    },
    "collapsed": true
   },
   "outputs": [],
   "source": [
    "from sklearn.preprocessing import MinMaxScaler\n",
    "scaler = MinMaxScaler()\n",
    "scaler.fit(X_train)\n",
    "X_train = scaler.transform(X_train)\n",
    "X_test  = scaler.transform(X_test)"
   ]
  },
  {
   "cell_type": "code",
   "execution_count": null,
   "metadata": {
    "collapsed": true
   },
   "outputs": [],
   "source": []
  },
  {
   "cell_type": "code",
   "execution_count": null,
   "metadata": {
    "collapsed": true
   },
   "outputs": [],
   "source": []
  },
  {
   "cell_type": "code",
   "execution_count": 5,
   "metadata": {
    "ExecuteTime": {
     "end_time": "2017-06-22T08:33:35.866966Z",
     "start_time": "2017-06-22T08:33:35.809040Z"
    },
    "collapsed": true
   },
   "outputs": [],
   "source": [
    "from sklearn.linear_model import LogisticRegression\n",
    "clf = LogisticRegression()"
   ]
  },
  {
   "cell_type": "code",
   "execution_count": 6,
   "metadata": {
    "ExecuteTime": {
     "end_time": "2017-06-22T08:33:35.872548Z",
     "start_time": "2017-06-22T08:33:35.868087Z"
    }
   },
   "outputs": [
    {
     "data": {
      "text/plain": [
       "LogisticRegression(C=1.0, class_weight=None, dual=False, fit_intercept=True,\n",
       "          intercept_scaling=1, max_iter=100, multi_class='ovr', n_jobs=1,\n",
       "          penalty='l2', random_state=None, solver='liblinear', tol=0.0001,\n",
       "          verbose=0, warm_start=False)"
      ]
     },
     "execution_count": 6,
     "metadata": {},
     "output_type": "execute_result"
    }
   ],
   "source": [
    "clf"
   ]
  },
  {
   "cell_type": "code",
   "execution_count": 7,
   "metadata": {
    "ExecuteTime": {
     "end_time": "2017-06-22T08:33:35.909586Z",
     "start_time": "2017-06-22T08:33:35.873923Z"
    }
   },
   "outputs": [
    {
     "data": {
      "text/plain": [
       "0.95614035087719296"
      ]
     },
     "execution_count": 7,
     "metadata": {},
     "output_type": "execute_result"
    }
   ],
   "source": [
    "clf.C = 1.0\n",
    "clf.fit(X_train, y_train)\n",
    "clf.score(X_test, y_test)"
   ]
  },
  {
   "cell_type": "code",
   "execution_count": 8,
   "metadata": {
    "ExecuteTime": {
     "end_time": "2017-06-22T08:33:35.917984Z",
     "start_time": "2017-06-22T08:33:35.910945Z"
    }
   },
   "outputs": [
    {
     "data": {
      "text/plain": [
       "0.97368421052631582"
      ]
     },
     "execution_count": 8,
     "metadata": {},
     "output_type": "execute_result"
    }
   ],
   "source": [
    "clf.C = 100.0\n",
    "clf.fit(X_train, y_train)\n",
    "clf.score(X_test, y_test)"
   ]
  },
  {
   "cell_type": "code",
   "execution_count": null,
   "metadata": {
    "collapsed": true
   },
   "outputs": [],
   "source": []
  },
  {
   "cell_type": "code",
   "execution_count": 9,
   "metadata": {
    "ExecuteTime": {
     "end_time": "2017-06-22T08:33:35.921584Z",
     "start_time": "2017-06-22T08:33:35.919336Z"
    },
    "collapsed": true
   },
   "outputs": [],
   "source": [
    "C_range = [1e-5, 1e-3, 1e-2, 1, 1e2, 1e5, 1e10]"
   ]
  },
  {
   "cell_type": "code",
   "execution_count": 10,
   "metadata": {
    "ExecuteTime": {
     "end_time": "2017-06-22T08:33:35.925126Z",
     "start_time": "2017-06-22T08:33:35.922744Z"
    },
    "collapsed": true
   },
   "outputs": [],
   "source": [
    "C_range_exp = np.arange(-15.0,21.0)\n",
    "C_range = 10 ** C_range_exp"
   ]
  },
  {
   "cell_type": "code",
   "execution_count": 11,
   "metadata": {
    "ExecuteTime": {
     "end_time": "2017-06-22T08:33:35.930613Z",
     "start_time": "2017-06-22T08:33:35.926511Z"
    }
   },
   "outputs": [
    {
     "data": {
      "text/plain": [
       "array([  1.00000000e-15,   1.00000000e-14,   1.00000000e-13,\n",
       "         1.00000000e-12,   1.00000000e-11,   1.00000000e-10,\n",
       "         1.00000000e-09,   1.00000000e-08,   1.00000000e-07,\n",
       "         1.00000000e-06,   1.00000000e-05,   1.00000000e-04,\n",
       "         1.00000000e-03,   1.00000000e-02,   1.00000000e-01,\n",
       "         1.00000000e+00,   1.00000000e+01,   1.00000000e+02,\n",
       "         1.00000000e+03,   1.00000000e+04,   1.00000000e+05,\n",
       "         1.00000000e+06,   1.00000000e+07,   1.00000000e+08,\n",
       "         1.00000000e+09,   1.00000000e+10,   1.00000000e+11,\n",
       "         1.00000000e+12,   1.00000000e+13,   1.00000000e+14,\n",
       "         1.00000000e+15,   1.00000000e+16,   1.00000000e+17,\n",
       "         1.00000000e+18,   1.00000000e+19,   1.00000000e+20])"
      ]
     },
     "execution_count": 11,
     "metadata": {},
     "output_type": "execute_result"
    }
   ],
   "source": [
    "C_range"
   ]
  },
  {
   "cell_type": "code",
   "execution_count": 12,
   "metadata": {
    "ExecuteTime": {
     "end_time": "2017-06-22T08:33:36.518223Z",
     "start_time": "2017-06-22T08:33:35.931927Z"
    }
   },
   "outputs": [
    {
     "data": {
      "text/plain": [
       "GridSearchCV(cv=None, error_score='raise',\n",
       "       estimator=LogisticRegression(C=100.0, class_weight=None, dual=False, fit_intercept=True,\n",
       "          intercept_scaling=1, max_iter=100, multi_class='ovr', n_jobs=1,\n",
       "          penalty='l2', random_state=None, solver='liblinear', tol=0.0001,\n",
       "          verbose=0, warm_start=False),\n",
       "       fit_params={}, iid=True, n_jobs=1,\n",
       "       param_grid={'C': array([  1.00000e-15,   1.00000e-14,   1.00000e-13,   1.00000e-12,\n",
       "         1.00000e-11,   1.00000e-10,   1.00000e-09,   1.00000e-08,\n",
       "         1.00000e-07,   1.00000e-06,   1.00000e-05,   1.00000e-04,\n",
       "         1.00000e-03,   1.00000e-02,   1.00000e-01,   1.00000e+00,\n",
       "         1.0000...,   1.00000e+15,   1.00000e+16,\n",
       "         1.00000e+17,   1.00000e+18,   1.00000e+19,   1.00000e+20])},\n",
       "       pre_dispatch='2*n_jobs', refit=True, return_train_score=True,\n",
       "       scoring=None, verbose=0)"
      ]
     },
     "execution_count": 12,
     "metadata": {},
     "output_type": "execute_result"
    }
   ],
   "source": [
    "from sklearn.model_selection import GridSearchCV\n",
    "\n",
    "param = {'C':C_range} # clf.C\n",
    "\n",
    "gs = GridSearchCV(clf, param)\n",
    "gs.fit(X_train, y_train)"
   ]
  },
  {
   "cell_type": "code",
   "execution_count": 13,
   "metadata": {
    "ExecuteTime": {
     "end_time": "2017-06-22T08:33:36.535180Z",
     "start_time": "2017-06-22T08:33:36.519157Z"
    }
   },
   "outputs": [
    {
     "data": {
      "text/plain": [
       "{'mean_fit_time': array([ 0.00058198,  0.00047294,  0.00039776,  0.00037726,  0.0003957 ,\n",
       "         0.00040301,  0.00039927,  0.00045164,  0.00040905,  0.00045268,\n",
       "         0.00040054,  0.00049162,  0.00055019,  0.000513  ,  0.00063523,\n",
       "         0.0009017 ,  0.00109275,  0.00141088,  0.00213369,  0.00283265,\n",
       "         0.0037996 ,  0.00780932,  0.00853141,  0.00929721,  0.00968107,\n",
       "         0.01109163,  0.00906467,  0.01025907,  0.00918269,  0.010065  ,\n",
       "         0.01098371,  0.00951131,  0.00972875,  0.01047421,  0.00867081,\n",
       "         0.00860802]),\n",
       " 'mean_score_time': array([ 0.00019693,  0.00016165,  0.00013192,  0.00012533,  0.00012938,\n",
       "         0.00012906,  0.00014861,  0.00016483,  0.00013439,  0.00013494,\n",
       "         0.00012509,  0.00013192,  0.00015346,  0.00014091,  0.000127  ,\n",
       "         0.00020027,  0.00014098,  0.00013312,  0.000163  ,  0.0001754 ,\n",
       "         0.00017428,  0.00020933,  0.00021497,  0.00024343,  0.00024001,\n",
       "         0.00022125,  0.00018907,  0.00021601,  0.00017627,  0.00017309,\n",
       "         0.00018652,  0.00017548,  0.00019463,  0.00019479,  0.0001746 ,\n",
       "         0.00017023]),\n",
       " 'mean_test_score': array([ 0.64175824,  0.64175824,  0.64175824,  0.64175824,  0.64175824,\n",
       "         0.64175824,  0.64175824,  0.64175824,  0.64175824,  0.64175824,\n",
       "         0.64175824,  0.64175824,  0.64835165,  0.7956044 ,  0.92527473,\n",
       "         0.94945055,  0.96703297,  0.96483516,  0.96483516,  0.94945055,\n",
       "         0.94285714,  0.93406593,  0.93186813,  0.93186813,  0.93406593,\n",
       "         0.93406593,  0.93186813,  0.92967033,  0.93186813,  0.93406593,\n",
       "         0.93406593,  0.93186813,  0.93186813,  0.93186813,  0.93186813,\n",
       "         0.93406593]),\n",
       " 'mean_train_score': array([ 0.64066209,  0.64066209,  0.64066209,  0.64066209,  0.64066209,\n",
       "         0.64066209,  0.64066209,  0.64066209,  0.64066209,  0.64066209,\n",
       "         0.64066209,  0.64066209,  0.65275968,  0.80110083,  0.92088255,\n",
       "         0.96374341,  0.9857239 ,  0.98901699,  0.99012072,  0.99451754,\n",
       "         0.99890351,  1.        ,  1.        ,  1.        ,  1.        ,\n",
       "         1.        ,  1.        ,  1.        ,  1.        ,  1.        ,\n",
       "         1.        ,  1.        ,  1.        ,  1.        ,  1.        ,  1.        ]),\n",
       " 'param_C': masked_array(data = [1.0000000000000001e-15 1e-14 1e-13 9.9999999999999998e-13\n",
       "  9.9999999999999994e-12 1e-10 1.0000000000000001e-09 1e-08\n",
       "  9.9999999999999995e-08 9.9999999999999995e-07 1.0000000000000001e-05\n",
       "  0.0001 0.001 0.01 0.10000000000000001 1.0 10.0 100.0 1000.0 10000.0\n",
       "  100000.0 1000000.0 10000000.0 100000000.0 1000000000.0 10000000000.0\n",
       "  100000000000.0 1000000000000.0 10000000000000.0 100000000000000.0\n",
       "  1000000000000000.0 10000000000000000.0 1e+17 1e+18 1e+19 1e+20],\n",
       "              mask = [False False False False False False False False False False False False\n",
       "  False False False False False False False False False False False False\n",
       "  False False False False False False False False False False False False],\n",
       "        fill_value = ?),\n",
       " 'params': ({'C': 1.0000000000000001e-15},\n",
       "  {'C': 1e-14},\n",
       "  {'C': 1e-13},\n",
       "  {'C': 9.9999999999999998e-13},\n",
       "  {'C': 9.9999999999999994e-12},\n",
       "  {'C': 1e-10},\n",
       "  {'C': 1.0000000000000001e-09},\n",
       "  {'C': 1e-08},\n",
       "  {'C': 9.9999999999999995e-08},\n",
       "  {'C': 9.9999999999999995e-07},\n",
       "  {'C': 1.0000000000000001e-05},\n",
       "  {'C': 0.0001},\n",
       "  {'C': 0.001},\n",
       "  {'C': 0.01},\n",
       "  {'C': 0.10000000000000001},\n",
       "  {'C': 1.0},\n",
       "  {'C': 10.0},\n",
       "  {'C': 100.0},\n",
       "  {'C': 1000.0},\n",
       "  {'C': 10000.0},\n",
       "  {'C': 100000.0},\n",
       "  {'C': 1000000.0},\n",
       "  {'C': 10000000.0},\n",
       "  {'C': 100000000.0},\n",
       "  {'C': 1000000000.0},\n",
       "  {'C': 10000000000.0},\n",
       "  {'C': 100000000000.0},\n",
       "  {'C': 1000000000000.0},\n",
       "  {'C': 10000000000000.0},\n",
       "  {'C': 100000000000000.0},\n",
       "  {'C': 1000000000000000.0},\n",
       "  {'C': 10000000000000000.0},\n",
       "  {'C': 1e+17},\n",
       "  {'C': 1e+18},\n",
       "  {'C': 1e+19},\n",
       "  {'C': 1e+20}),\n",
       " 'rank_test_score': array([25, 25, 25, 25, 25, 25, 25, 25, 25, 25, 25, 25, 24, 23, 22,  4,  1,\n",
       "         2,  2,  4,  6,  7, 13, 13,  7,  7, 13, 21, 13,  7,  7, 13, 13, 13,\n",
       "        13,  7], dtype=int32),\n",
       " 'split0_test_score': array([ 0.63815789,  0.63815789,  0.63815789,  0.63815789,  0.63815789,\n",
       "         0.63815789,  0.63815789,  0.63815789,  0.63815789,  0.63815789,\n",
       "         0.63815789,  0.63815789,  0.63815789,  0.80263158,  0.91447368,\n",
       "         0.92763158,  0.96710526,  0.96710526,  0.96710526,  0.94078947,\n",
       "         0.93421053,  0.92763158,  0.93421053,  0.93421053,  0.93421053,\n",
       "         0.94078947,  0.93421053,  0.92763158,  0.93421053,  0.94078947,\n",
       "         0.94078947,  0.93421053,  0.93421053,  0.93421053,  0.93421053,\n",
       "         0.94078947]),\n",
       " 'split0_train_score': array([ 0.64026403,  0.64026403,  0.64026403,  0.64026403,  0.64026403,\n",
       "         0.64026403,  0.64026403,  0.64026403,  0.64026403,  0.64026403,\n",
       "         0.64026403,  0.64026403,  0.65346535,  0.79207921,  0.93069307,\n",
       "         0.9669967 ,  0.98679868,  0.98679868,  0.99009901,  1.        ,\n",
       "         1.        ,  1.        ,  1.        ,  1.        ,  1.        ,\n",
       "         1.        ,  1.        ,  1.        ,  1.        ,  1.        ,\n",
       "         1.        ,  1.        ,  1.        ,  1.        ,  1.        ,  1.        ]),\n",
       " 'split1_test_score': array([ 0.64473684,  0.64473684,  0.64473684,  0.64473684,  0.64473684,\n",
       "         0.64473684,  0.64473684,  0.64473684,  0.64473684,  0.64473684,\n",
       "         0.64473684,  0.64473684,  0.65131579,  0.79605263,  0.92105263,\n",
       "         0.94078947,  0.94078947,  0.94078947,  0.93421053,  0.92105263,\n",
       "         0.92105263,  0.92105263,  0.92105263,  0.92105263,  0.92105263,\n",
       "         0.92105263,  0.92105263,  0.92105263,  0.92105263,  0.92105263,\n",
       "         0.92105263,  0.92105263,  0.92105263,  0.92105263,  0.92105263,\n",
       "         0.92105263]),\n",
       " 'split1_train_score': array([ 0.64356436,  0.64356436,  0.64356436,  0.64356436,  0.64356436,\n",
       "         0.64356436,  0.64356436,  0.64356436,  0.64356436,  0.64356436,\n",
       "         0.64356436,  0.64356436,  0.66336634,  0.81188119,  0.91419142,\n",
       "         0.9669967 ,  0.99339934,  0.99669967,  1.        ,  1.        ,\n",
       "         1.        ,  1.        ,  1.        ,  1.        ,  1.        ,\n",
       "         1.        ,  1.        ,  1.        ,  1.        ,  1.        ,\n",
       "         1.        ,  1.        ,  1.        ,  1.        ,  1.        ,  1.        ]),\n",
       " 'split2_test_score': array([ 0.64238411,  0.64238411,  0.64238411,  0.64238411,  0.64238411,\n",
       "         0.64238411,  0.64238411,  0.64238411,  0.64238411,  0.64238411,\n",
       "         0.64238411,  0.64238411,  0.65562914,  0.78807947,  0.94039735,\n",
       "         0.98013245,  0.99337748,  0.98675497,  0.99337748,  0.98675497,\n",
       "         0.97350993,  0.95364238,  0.94039735,  0.94039735,  0.94701987,\n",
       "         0.94039735,  0.94039735,  0.94039735,  0.94039735,  0.94039735,\n",
       "         0.94039735,  0.94039735,  0.94039735,  0.94039735,  0.94039735,\n",
       "         0.94039735]),\n",
       " 'split2_train_score': array([ 0.63815789,  0.63815789,  0.63815789,  0.63815789,  0.63815789,\n",
       "         0.63815789,  0.63815789,  0.63815789,  0.63815789,  0.63815789,\n",
       "         0.63815789,  0.63815789,  0.64144737,  0.79934211,  0.91776316,\n",
       "         0.95723684,  0.97697368,  0.98355263,  0.98026316,  0.98355263,\n",
       "         0.99671053,  1.        ,  1.        ,  1.        ,  1.        ,\n",
       "         1.        ,  1.        ,  1.        ,  1.        ,  1.        ,\n",
       "         1.        ,  1.        ,  1.        ,  1.        ,  1.        ,  1.        ]),\n",
       " 'std_fit_time': array([  2.16368768e-04,   9.20745128e-05,   3.03390700e-05,\n",
       "          3.09334261e-05,   3.75514098e-05,   7.85070383e-05,\n",
       "          5.35780299e-05,   1.17739571e-04,   9.61063160e-06,\n",
       "          2.89606341e-05,   6.24456446e-06,   2.84954258e-05,\n",
       "          2.33620471e-05,   1.55787077e-05,   7.21673081e-06,\n",
       "          7.49507019e-05,   6.43466181e-05,   6.68571307e-05,\n",
       "          3.03200219e-04,   3.26006757e-04,   1.25151297e-03,\n",
       "          6.47419933e-03,   7.58806954e-03,   8.58229606e-03,\n",
       "          8.77602556e-03,   1.07464283e-02,   8.33250856e-03,\n",
       "          9.72206229e-03,   8.72323424e-03,   1.00717884e-02,\n",
       "          1.07774999e-02,   9.00473836e-03,   9.38764280e-03,\n",
       "          1.02354198e-02,   7.95371250e-03,   7.88225123e-03]),\n",
       " 'std_score_time': array([  9.62634512e-05,   3.65182763e-05,   9.46161026e-06,\n",
       "          1.17340271e-06,   7.64262853e-06,   8.54397927e-06,\n",
       "          3.19874064e-05,   5.40617596e-05,   5.85731690e-06,\n",
       "          7.08067055e-06,   1.47400196e-06,   1.46109075e-06,\n",
       "          1.68377466e-05,   1.52898016e-05,   1.40826266e-06,\n",
       "          3.28862112e-05,   1.15205498e-05,   4.49566384e-07,\n",
       "          3.61916646e-05,   5.25723629e-06,   2.49486560e-05,\n",
       "          3.87741233e-05,   5.08129354e-06,   7.44571209e-05,\n",
       "          5.16557693e-05,   6.24456446e-06,   1.77468430e-05,\n",
       "          1.20364001e-05,   2.93744419e-05,   2.94695394e-05,\n",
       "          2.06800537e-05,   2.63859469e-05,   4.27349739e-05,\n",
       "          1.19161596e-05,   3.01215768e-05,   3.04883827e-05]),\n",
       " 'std_test_score': array([ 0.00272473,  0.00272473,  0.00272473,  0.00272473,  0.00272473,\n",
       "         0.00272473,  0.00272473,  0.00272473,  0.00272473,  0.00272473,\n",
       "         0.00272473,  0.00272473,  0.00743136,  0.00594606,  0.01099201,\n",
       "         0.02228253,  0.02145711,  0.01882371,  0.02419489,  0.02750088,\n",
       "         0.02226263,  0.01405659,  0.00806554,  0.00806554,  0.01059569,\n",
       "         0.00921835,  0.00806554,  0.00802406,  0.00806554,  0.00921835,\n",
       "         0.00921835,  0.00806554,  0.00806554,  0.00806554,  0.00806554,\n",
       "         0.00921835]),\n",
       " 'std_train_score': array([ 0.00222505,  0.00222505,  0.00222505,  0.00222505,  0.00222505,\n",
       "         0.00222505,  0.00222505,  0.00222505,  0.00222505,  0.00222505,\n",
       "         0.00222505,  0.00222505,  0.00896228,  0.00817922,  0.00708868,\n",
       "         0.00460084,  0.00674867,  0.00559177,  0.00805755,  0.00775336,\n",
       "         0.00155067,  0.        ,  0.        ,  0.        ,  0.        ,\n",
       "         0.        ,  0.        ,  0.        ,  0.        ,  0.        ,\n",
       "         0.        ,  0.        ,  0.        ,  0.        ,  0.        ,  0.        ])}"
      ]
     },
     "execution_count": 13,
     "metadata": {},
     "output_type": "execute_result"
    }
   ],
   "source": [
    "gs.cv_results_"
   ]
  },
  {
   "cell_type": "code",
   "execution_count": 14,
   "metadata": {
    "ExecuteTime": {
     "end_time": "2017-06-22T08:33:36.539664Z",
     "start_time": "2017-06-22T08:33:36.536170Z"
    },
    "scrolled": true
   },
   "outputs": [
    {
     "data": {
      "text/plain": [
       "({'C': 10.0},\n",
       " 0.96703296703296704,\n",
       " LogisticRegression(C=10.0, class_weight=None, dual=False, fit_intercept=True,\n",
       "           intercept_scaling=1, max_iter=100, multi_class='ovr', n_jobs=1,\n",
       "           penalty='l2', random_state=None, solver='liblinear', tol=0.0001,\n",
       "           verbose=0, warm_start=False))"
      ]
     },
     "execution_count": 14,
     "metadata": {},
     "output_type": "execute_result"
    }
   ],
   "source": [
    "gs.best_params_, gs.best_score_, gs.best_estimator_"
   ]
  },
  {
   "cell_type": "code",
   "execution_count": 15,
   "metadata": {
    "ExecuteTime": {
     "end_time": "2017-06-22T08:33:36.544562Z",
     "start_time": "2017-06-22T08:33:36.540665Z"
    }
   },
   "outputs": [
    {
     "data": {
      "text/plain": [
       "0.96491228070175439"
      ]
     },
     "execution_count": 15,
     "metadata": {},
     "output_type": "execute_result"
    }
   ],
   "source": [
    "clf_best = gs.best_estimator_\n",
    "# clf_best.fit(X_train, y_train) # training of classifier\n",
    "clf_best.score(X_test, y_test)"
   ]
  },
  {
   "cell_type": "code",
   "execution_count": 16,
   "metadata": {
    "ExecuteTime": {
     "end_time": "2017-06-22T08:33:36.549909Z",
     "start_time": "2017-06-22T08:33:36.546062Z"
    }
   },
   "outputs": [
    {
     "data": {
      "text/plain": [
       "0.96491228070175439"
      ]
     },
     "execution_count": 16,
     "metadata": {},
     "output_type": "execute_result"
    }
   ],
   "source": [
    "# gs.fit(X_train, y_train) # grid search, and training classifier\n",
    "gs.score(X_test, y_test)"
   ]
  },
  {
   "cell_type": "code",
   "execution_count": null,
   "metadata": {
    "collapsed": true
   },
   "outputs": [],
   "source": []
  },
  {
   "cell_type": "code",
   "execution_count": null,
   "metadata": {
    "collapsed": true
   },
   "outputs": [],
   "source": []
  },
  {
   "cell_type": "code",
   "execution_count": 17,
   "metadata": {
    "ExecuteTime": {
     "end_time": "2017-06-22T08:33:37.067716Z",
     "start_time": "2017-06-22T08:33:36.550999Z"
    }
   },
   "outputs": [
    {
     "data": {
      "image/png": "[encoded data removed]",
      "text/plain": [
       "<matplotlib.figure.Figure at 0x1102ee4a8>"
      ]
     },
     "metadata": {},
     "output_type": "display_data"
    }
   ],
   "source": [
    "plt.errorbar(gs.cv_results_['param_C'].data, \n",
    "             gs.cv_results_['mean_train_score'], \n",
    "             yerr=gs.cv_results_['std_train_score'],\n",
    "             label=\"training\")\n",
    "\n",
    "plt.errorbar(gs.cv_results_['param_C'].data,\n",
    "             gs.cv_results_['mean_test_score'], \n",
    "             yerr=gs.cv_results_['std_test_score'],\n",
    "             label=\"test(val)\")\n",
    "\n",
    "plt.ylim(.6, 1.01)\n",
    "plt.xscale(\"log\")\n",
    "plt.xlabel(\"C\")\n",
    "plt.ylabel(\"accuracy\")\n",
    "plt.legend(loc=\"best\");"
   ]
  },
  {
   "cell_type": "code",
   "execution_count": 18,
   "metadata": {
    "ExecuteTime": {
     "end_time": "2017-06-22T08:33:37.422725Z",
     "start_time": "2017-06-22T08:33:37.068703Z"
    }
   },
   "outputs": [
    {
     "data": {
      "image/png": "[encoded data removed]",
      "text/plain": [
       "<matplotlib.figure.Figure at 0x113a66e10>"
      ]
     },
     "metadata": {},
     "output_type": "display_data"
    }
   ],
   "source": [
    "plt.errorbar(gs.cv_results_['param_C'].data, \n",
    "             gs.cv_results_['mean_fit_time'], \n",
    "             yerr=gs.cv_results_['std_fit_time'],\n",
    "             label=\"training\")\n",
    "\n",
    "plt.errorbar(gs.cv_results_['param_C'].data,\n",
    "             gs.cv_results_['mean_score_time'], \n",
    "             yerr=gs.cv_results_['std_score_time'],\n",
    "             label=\"test(val)\")\n",
    "\n",
    "plt.ylim(0,)\n",
    "plt.xscale(\"log\")\n",
    "plt.xlabel(\"C\")\n",
    "plt.ylabel(\"computation time\")\n",
    "plt.legend(loc=\"best\");"
   ]
  },
  {
   "cell_type": "code",
   "execution_count": null,
   "metadata": {
    "collapsed": true
   },
   "outputs": [],
   "source": []
  },
  {
   "cell_type": "markdown",
   "metadata": {},
   "source": []
  },
  {
   "cell_type": "code",
   "execution_count": null,
   "metadata": {
    "collapsed": true
   },
   "outputs": [],
   "source": []
  },
  {
   "cell_type": "code",
   "execution_count": null,
   "metadata": {
    "collapsed": true
   },
   "outputs": [],
   "source": []
  },
  {
   "cell_type": "code",
   "execution_count": 19,
   "metadata": {
    "ExecuteTime": {
     "end_time": "2017-06-22T08:33:37.712346Z",
     "start_time": "2017-06-22T08:33:37.423760Z"
    },
    "scrolled": false
   },
   "outputs": [
    {
     "name": "stdout",
     "output_type": "stream",
     "text": [
      "Fitting 3 folds for each of 14 candidates, totalling 42 fits\n",
      "[CV] C=0.01, kernel=linear ...........................................\n",
      "[CV] C=0.01, kernel=linear ...........................................\n",
      "[CV] C=0.01, kernel=linear ...........................................\n",
      "[CV] C=0.01, kernel=rbf ..............................................\n",
      "[CV] C=0.01, kernel=rbf ..............................................\n",
      "[CV] C=0.1, kernel=linear ............................................\n",
      "[CV] C=0.01, kernel=rbf ..............................................\n",
      "[CV] C=0.1, kernel=linear ............................................\n",
      "[CV] ............................ C=0.01, kernel=linear, total=   0.0s\n",
      "[CV] ............................ C=0.01, kernel=linear, total=   0.0s\n",
      "[CV] C=0.1, kernel=linear ............................................\n",
      "[CV] ............................... C=0.01, kernel=rbf, total=   0.0s\n",
      "[CV] ............................ C=0.01, kernel=linear, total=   0.0s\n",
      "[CV] ............................. C=0.1, kernel=linear, total=   0.0s\n",
      "[CV] ............................... C=0.01, kernel=rbf, total=   0.0s\n",
      "[CV] ............................. C=0.1, kernel=linear, total=   0.0s\n",
      "[CV] ............................. C=0.1, kernel=linear, total=   0.0s\n",
      "[CV] ............................... C=0.01, kernel=rbf, total=   0.0s\n",
      "[CV] C=0.1, kernel=rbf ...............................................\n",
      "[CV] C=0.1, kernel=rbf ...............................................\n",
      "[CV] C=0.1, kernel=rbf ...............................................\n",
      "[CV] C=1.0, kernel=linear ............................................\n",
      "[CV] C=1.0, kernel=linear ............................................\n",
      "[CV] C=1.0, kernel=rbf ...............................................\n",
      "[CV] ................................ C=0.1, kernel=rbf, total=   0.0s\n",
      "[CV] ................................ C=0.1, kernel=rbf, total=   0.0s\n",
      "[CV] C=1.0, kernel=linear ............................................\n",
      "[CV] C=1.0, kernel=rbf ...............................................\n",
      "[CV] C=10000.0, kernel=linear ........................................\n",
      "[CV] ............................. C=1.0, kernel=linear, total=   0.0s\n",
      "[CV] C=100.0, kernel=linear ..........................................\n",
      "[CV] ............................. C=1.0, kernel=linear, total=   0.0s\n",
      "[CV] ................................ C=0.1, kernel=rbf, total=   0.0s\n",
      "[CV] ................................ C=1.0, kernel=rbf, total=   0.0s\n",
      "[CV] ............................. C=1.0, kernel=linear, total=   0.0s\n",
      "[CV] ......................... C=10000.0, kernel=linear, total=   0.0s\n",
      "[CV] C=10000.0, kernel=linear ........................................\n",
      "[CV] ........................... C=100.0, kernel=linear, total=   0.0s\n",
      "[CV] ................................ C=1.0, kernel=rbf, total=   0.0s\n",
      "[CV] C=1.0, kernel=rbf ...............................................\n",
      "[CV] ......................... C=10000.0, kernel=linear, total=   0.0s\n",
      "[CV] C=100.0, kernel=rbf .............................................\n",
      "[CV] C=10000.0, kernel=linear ........................................\n",
      "[CV] .............................. C=100.0, kernel=rbf, total=   0.0s\n",
      "[CV] C=100.0, kernel=rbf .............................................\n",
      "[CV] ................................ C=1.0, kernel=rbf, total=   0.0s\n",
      "[CV] C=10.0, kernel=linear ...........................................\n",
      "[CV] .............................. C=100.0, kernel=rbf, total=   0.0s\n",
      "[CV] C=100.0, kernel=rbf .............................................\n",
      "[CV] ............................ C=10.0, kernel=linear, total=   0.0s\n",
      "[CV] C=10.0, kernel=linear ...........................................\n",
      "[CV] .............................. C=100.0, kernel=rbf, total=   0.0s\n",
      "[CV] C=1000.0, kernel=linear .........................................\n",
      "[CV] ............................ C=10.0, kernel=linear, total=   0.0s\n",
      "[CV] C=10.0, kernel=linear ...........................................\n",
      "[CV] ......................... C=10000.0, kernel=linear, total=   0.0s\n",
      "[CV] ............................ C=10.0, kernel=linear, total=   0.0s\n",
      "[CV] C=10000.0, kernel=rbf ...........................................\n",
      "[CV] C=10.0, kernel=rbf ..............................................\n",
      "[CV] .......................... C=1000.0, kernel=linear, total=   0.0s\n",
      "[CV] C=1000.0, kernel=linear .........................................\n",
      "[CV] ............................ C=10000.0, kernel=rbf, total=   0.0s\n",
      "[CV] ............................... C=10.0, kernel=rbf, total=   0.0s\n",
      "[CV] .......................... C=1000.0, kernel=linear, total=   0.0s\n",
      "[CV] C=10000.0, kernel=rbf ...........................................\n",
      "[CV] C=1000.0, kernel=linear .........................................\n",
      "[CV] C=10.0, kernel=rbf ..............................................\n",
      "[CV] ............................ C=10000.0, kernel=rbf, total=   0.0s\n",
      "[CV] ............................... C=10.0, kernel=rbf, total=   0.0s\n",
      "[CV] C=10.0, kernel=rbf ..............................................\n",
      "[CV] C=10000.0, kernel=rbf ...........................................\n",
      "[CV] .......................... C=1000.0, kernel=linear, total=   0.0s\n",
      "[CV] ............................... C=10.0, kernel=rbf, total=   0.0s\n",
      "[CV] C=1000.0, kernel=rbf ............................................\n",
      "[CV] C=100.0, kernel=linear ..........................................\n",
      "[CV] ............................ C=10000.0, kernel=rbf, total=   0.0s\n",
      "[CV] ............................. C=1000.0, kernel=rbf, total=   0.0s\n",
      "[CV] ........................... C=100.0, kernel=linear, total=   0.0s\n",
      "[CV] C=1000.0, kernel=rbf ............................................\n",
      "[CV] C=100.0, kernel=linear ..........................................\n",
      "[CV] ............................. C=1000.0, kernel=rbf, total=   0.0s\n",
      "[CV] ........................... C=100.0, kernel=linear, total=   0.0s\n",
      "[CV] C=1000.0, kernel=rbf ............................................\n",
      "[CV] ............................. C=1000.0, kernel=rbf, total=   0.0s\n"
     ]
    },
    {
     "name": "stderr",
     "output_type": "stream",
     "text": [
      "[Parallel(n_jobs=-1)]: Done   5 out of  42 | elapsed:    0.0s remaining:    0.4s\n",
      "[Parallel(n_jobs=-1)]: Done  42 out of  42 | elapsed:    0.1s finished\n"
     ]
    },
    {
     "data": {
      "text/plain": [
       "GridSearchCV(cv=None, error_score='raise',\n",
       "       estimator=SVC(C=1.0, cache_size=200, class_weight=None, coef0=0.0,\n",
       "  decision_function_shape=None, degree=3, gamma='auto', kernel='rbf',\n",
       "  max_iter=-1, probability=False, random_state=None, shrinking=True,\n",
       "  tol=0.001, verbose=False),\n",
       "       fit_params={}, iid=True, n_jobs=-1,\n",
       "       param_grid={'C': array([  1.00000e-02,   1.00000e-01,   1.00000e+00,   1.00000e+01,\n",
       "         1.00000e+02,   1.00000e+03,   1.00000e+04]), 'kernel': ['linear', 'rbf']},\n",
       "       pre_dispatch='2*n_jobs', refit=True, return_train_score=True,\n",
       "       scoring=None, verbose=2)"
      ]
     },
     "execution_count": 19,
     "metadata": {},
     "output_type": "execute_result"
    }
   ],
   "source": [
    "from sklearn.svm import SVC\n",
    "\n",
    "clf = SVC()\n",
    "\n",
    "C_range_exp = np.arange(-2.0, 5.0)\n",
    "C_range = 10 ** C_range_exp\n",
    "\n",
    "param = {'C': C_range,\n",
    "         'kernel': ['linear', 'rbf']}\n",
    "\n",
    "gs = GridSearchCV(clf, param, n_jobs=-1, verbose=2)\n",
    "gs.fit(X_train, y_train)"
   ]
  },
  {
   "cell_type": "code",
   "execution_count": 20,
   "metadata": {
    "ExecuteTime": {
     "end_time": "2017-06-22T08:33:37.717462Z",
     "start_time": "2017-06-22T08:33:37.713837Z"
    },
    "scrolled": true
   },
   "outputs": [
    {
     "data": {
      "text/plain": [
       "({'C': 100.0, 'kernel': 'rbf'},\n",
       " 0.97142857142857142,\n",
       " SVC(C=100.0, cache_size=200, class_weight=None, coef0=0.0,\n",
       "   decision_function_shape=None, degree=3, gamma='auto', kernel='rbf',\n",
       "   max_iter=-1, probability=False, random_state=None, shrinking=True,\n",
       "   tol=0.001, verbose=False))"
      ]
     },
     "execution_count": 20,
     "metadata": {},
     "output_type": "execute_result"
    }
   ],
   "source": [
    "gs.best_params_, gs.best_score_, gs.best_estimator_"
   ]
  },
  {
   "cell_type": "code",
   "execution_count": 21,
   "metadata": {
    "ExecuteTime": {
     "end_time": "2017-06-22T08:33:38.176300Z",
     "start_time": "2017-06-22T08:33:37.718870Z"
    }
   },
   "outputs": [
    {
     "data": {
      "text/plain": [
       "<matplotlib.legend.Legend at 0x11374dac8>"
      ]
     },
     "execution_count": 21,
     "metadata": {},
     "output_type": "execute_result"
    },
    {
     "data": {
      "image/png": "[encoded data removed]",
      "text/plain": [
       "<matplotlib.figure.Figure at 0x113c031d0>"
      ]
     },
     "metadata": {},
     "output_type": "display_data"
    }
   ],
   "source": [
    "s_linear = [gs.cv_results_['param_kernel']=='linear']\n",
    "\n",
    "plt.plot(gs.cv_results_['param_C'][s_linear].data, \n",
    "         gs.cv_results_['mean_train_score'][s_linear],\n",
    "         label=\"training (linaer)\")\n",
    "\n",
    "plt.plot(gs.cv_results_['param_C'][s_linear].data, \n",
    "         gs.cv_results_['mean_test_score'][s_linear],\n",
    "         linestyle=\"--\",\n",
    "         label=\"test/val (linear)\")\n",
    "\n",
    "\n",
    "s_rbf = [gs.cv_results_['param_kernel']=='rbf']\n",
    "\n",
    "plt.plot(gs.cv_results_['param_C'][s_rbf].data, \n",
    "         gs.cv_results_['mean_train_score'][s_rbf],\n",
    "         label=\"training (rbf)\")\n",
    "\n",
    "plt.plot(gs.cv_results_['param_C'][s_rbf].data, \n",
    "         gs.cv_results_['mean_test_score'][s_rbf],\n",
    "         linestyle=\"--\",\n",
    "         label=\"test/val (rbf)\")\n",
    "\n",
    "\n",
    "\n",
    "plt.ylim(.6, 1.01)\n",
    "plt.xscale(\"log\")\n",
    "plt.xlabel(\"C\")\n",
    "plt.ylabel(\"accuracy\")\n",
    "plt.legend(bbox_to_anchor=(1.05, 1), loc=2, borderaxespad=0.)\n",
    "\n"
   ]
  },
  {
   "cell_type": "code",
   "execution_count": 22,
   "metadata": {
    "ExecuteTime": {
     "end_time": "2017-06-22T08:33:38.182179Z",
     "start_time": "2017-06-22T08:33:38.177739Z"
    }
   },
   "outputs": [
    {
     "data": {
      "text/plain": [
       "0.96491228070175439"
      ]
     },
     "execution_count": 22,
     "metadata": {},
     "output_type": "execute_result"
    }
   ],
   "source": [
    "gs.score(X_test, y_test)"
   ]
  },
  {
   "cell_type": "code",
   "execution_count": 23,
   "metadata": {
    "ExecuteTime": {
     "end_time": "2017-06-22T08:33:38.186202Z",
     "start_time": "2017-06-22T08:33:38.183164Z"
    }
   },
   "outputs": [
    {
     "data": {
      "text/plain": [
       "'auto'"
      ]
     },
     "execution_count": 23,
     "metadata": {},
     "output_type": "execute_result"
    }
   ],
   "source": [
    "SVC(kernel='rbf').gamma"
   ]
  },
  {
   "cell_type": "code",
   "execution_count": null,
   "metadata": {
    "collapsed": true
   },
   "outputs": [],
   "source": []
  },
  {
   "cell_type": "markdown",
   "metadata": {},
   "source": []
  },
  {
   "cell_type": "code",
   "execution_count": null,
   "metadata": {
    "collapsed": true
   },
   "outputs": [],
   "source": []
  },
  {
   "cell_type": "code",
   "execution_count": null,
   "metadata": {
    "collapsed": true
   },
   "outputs": [],
   "source": []
  },
  {
   "cell_type": "code",
   "execution_count": 24,
   "metadata": {
    "ExecuteTime": {
     "end_time": "2017-06-22T08:33:38.983733Z",
     "start_time": "2017-06-22T08:33:38.187167Z"
    },
    "scrolled": false
   },
   "outputs": [
    {
     "name": "stdout",
     "output_type": "stream",
     "text": [
      "Fitting 3 folds for each of 60 candidates, totalling 180 fits\n",
      "[CV] C=0.01, kernel=linear ...........................................\n",
      "[CV] C=0.01, kernel=linear ...........................................\n",
      "[CV] C=0.01, kernel=linear ...........................................\n",
      "[CV] C=0.1, kernel=linear ............................................\n",
      "[CV] C=0.1, kernel=linear ............................................\n",
      "[CV] C=0.1, kernel=linear ............................................\n",
      "[CV] C=1.0, kernel=linear ............................................\n",
      "[CV] C=1.0, kernel=linear ............................................\n",
      "[CV] ............................ C=0.01, kernel=linear, total=   0.0s\n",
      "[CV] ............................ C=0.01, kernel=linear, total=   0.0s\n",
      "[CV] ............................ C=0.01, kernel=linear, total=   0.0s\n",
      "[CV] ............................. C=0.1, kernel=linear, total=   0.0s\n",
      "[CV] ............................. C=0.1, kernel=linear, total=   0.0s\n",
      "[CV] C=1.0, kernel=linear ............................................\n",
      "[CV] ............................. C=1.0, kernel=linear, total=   0.0s\n",
      "[CV] ............................. C=1.0, kernel=linear, total=   0.0s\n",
      "[CV] ............................. C=0.1, kernel=linear, total=   0.0s\n",
      "[CV] C=10.0, kernel=linear ...........................................\n",
      "[CV] ............................. C=1.0, kernel=linear, total=   0.0s\n",
      "[CV] ............................ C=10.0, kernel=linear, total=   0.0s\n",
      "[CV] C=10.0, kernel=linear ...........................................\n",
      "[CV] ............................ C=10.0, kernel=linear, total=   0.0s\n",
      "[CV] C=10.0, kernel=linear ...........................................\n",
      "[CV] ............................ C=10.0, kernel=linear, total=   0.0s\n",
      "[CV] C=100.0, kernel=linear ..........................................\n",
      "[CV] ........................... C=100.0, kernel=linear, total=   0.0s\n",
      "[CV] C=100.0, kernel=linear ..........................................\n",
      "[CV] C=100.0, kernel=linear ..........................................\n",
      "[CV] ........................... C=100.0, kernel=linear, total=   0.0s\n",
      "[CV] C=1000.0, kernel=linear .........................................\n",
      "[CV] C=1000.0, kernel=linear .........................................\n",
      "[CV] C=100000000.0, kernel=linear ....................................\n",
      "[CV] ........................... C=100.0, kernel=linear, total=   0.0s\n",
      "[CV] C=0.01, gamma=0.0001, kernel=rbf ................................\n",
      "[CV] C=100.0, gamma=1e-10, kernel=rbf ................................\n",
      "[CV] C=0.1, gamma=0.1, kernel=rbf ....................................\n",
      "[CV] .......................... C=1000.0, kernel=linear, total=   0.0s\n",
      "[CV] C=10.0, gamma=1e-10, kernel=rbf .................................\n",
      "[CV] .......................... C=1000.0, kernel=linear, total=   0.0s\n",
      "[CV] C=1000.0, gamma=1e-07, kernel=rbf ...............................\n",
      "[CV] ..................... C=100000000.0, kernel=linear, total=   0.0s\n",
      "[CV] C=1000.0, kernel=linear .........................................\n",
      "[CV] ................. C=100.0, gamma=1e-10, kernel=rbf, total=   0.0s\n",
      "[CV] C=100000000.0, kernel=linear ....................................\n",
      "[CV] ................. C=0.01, gamma=0.0001, kernel=rbf, total=   0.0s\n",
      "[CV] .................. C=10.0, gamma=1e-10, kernel=rbf, total=   0.0s\n",
      "[CV] C=10000.0, gamma=0.0001, kernel=rbf .............................\n",
      "[CV] ..................... C=0.1, gamma=0.1, kernel=rbf, total=   0.0s\n",
      "[CV] .............. C=10000.0, gamma=0.0001, kernel=rbf, total=   0.0s\n",
      "[CV] C=100.0, gamma=1e-07, kernel=rbf ................................\n",
      "[CV] C=0.01, gamma=0.1, kernel=rbf ...................................\n",
      "[CV] ..................... C=100000000.0, kernel=linear, total=   0.0s\n",
      "[CV] C=10.0, gamma=1e-10, kernel=rbf .................................\n",
      "[CV] C=0.1, gamma=0.1, kernel=rbf ....................................\n",
      "[CV] ................ C=1000.0, gamma=1e-07, kernel=rbf, total=   0.0s\n",
      "[CV] C=10000.0, gamma=0.0001, kernel=rbf .............................\n",
      "[CV] C=1000.0, gamma=1e-07, kernel=rbf ...............................\n",
      "[CV] C=100000000.0, kernel=linear ....................................\n",
      "[CV] .......................... C=1000.0, kernel=linear, total=   0.0s\n",
      "[CV] ................. C=100.0, gamma=1e-07, kernel=rbf, total=   0.0s\n",
      "[CV] .............. C=10000.0, gamma=0.0001, kernel=rbf, total=   0.0s\n",
      "[CV] .................... C=0.01, gamma=0.1, kernel=rbf, total=   0.0s\n",
      "[CV] .................. C=10.0, gamma=1e-10, kernel=rbf, total=   0.0s\n",
      "[CV] C=10000.0, kernel=linear ........................................\n",
      "[CV] ..................... C=0.1, gamma=0.1, kernel=rbf, total=   0.0s\n",
      "[CV] C=100.0, gamma=1e-07, kernel=rbf ................................\n",
      "[CV] C=10000.0, gamma=0.0001, kernel=rbf .............................\n",
      "[CV] C=10.0, gamma=1e-10, kernel=rbf .................................\n",
      "[CV] C=0.01, gamma=0.1, kernel=rbf ...................................\n",
      "[CV] C=1.0, gamma=1e-10, kernel=rbf ..................................\n",
      "[CV] ................ C=1000.0, gamma=1e-07, kernel=rbf, total=   0.0s\n",
      "[CV] ......................... C=10000.0, kernel=linear, total=   0.0s\n",
      "[CV] .............. C=10000.0, gamma=0.0001, kernel=rbf, total=   0.0s\n",
      "[CV] ................. C=100.0, gamma=1e-07, kernel=rbf, total=   0.0s\n",
      "[CV] C=1000.0, gamma=0.0001, kernel=rbf ..............................\n",
      "[CV] C=10000.0, kernel=linear ........................................\n",
      "[CV] .................. C=10.0, gamma=1e-10, kernel=rbf, total=   0.0s\n",
      "[CV] ................... C=1.0, gamma=1e-10, kernel=rbf, total=   0.0s\n",
      "[CV] C=100.0, gamma=1e-07, kernel=rbf ................................\n",
      "[CV] C=10000.0, gamma=0.1, kernel=rbf ................................\n",
      "[CV] C=1.0, gamma=1e-10, kernel=rbf ..................................\n",
      "[CV] C=10.0, gamma=1e-07, kernel=rbf .................................\n",
      "[CV] .................... C=0.01, gamma=0.1, kernel=rbf, total=   0.0s\n",
      "[CV] ................. C=10000.0, gamma=0.1, kernel=rbf, total=   0.0s\n",
      "[CV] ......................... C=10000.0, kernel=linear, total=   0.0s\n",
      "[CV] C=0.01, gamma=0.1, kernel=rbf ...................................\n",
      "[CV] ............... C=1000.0, gamma=0.0001, kernel=rbf, total=   0.0s\n",
      "[CV] C=10000.0, kernel=linear ........................................\n",
      "[CV] ................... C=1.0, gamma=1e-10, kernel=rbf, total=   0.0s\n",
      "[CV] C=10000.0, gamma=0.1, kernel=rbf ................................\n",
      "[CV] C=1000.0, gamma=0.0001, kernel=rbf ..............................\n",
      "[CV] ................. C=100.0, gamma=1e-07, kernel=rbf, total=   0.0s\n",
      "[CV] C=1.0, gamma=1e-10, kernel=rbf ..................................\n",
      "[CV] .................. C=10.0, gamma=1e-07, kernel=rbf, total=   0.0s\n",
      "[CV] C=100.0, gamma=0.0001, kernel=rbf ...............................\n",
      "[CV] C=10.0, gamma=1e-07, kernel=rbf .................................\n",
      "[CV] ............... C=1000.0, gamma=0.0001, kernel=rbf, total=   0.0s\n",
      "[CV] ................... C=1.0, gamma=1e-10, kernel=rbf, total=   0.0s\n",
      "[CV] .................... C=0.01, gamma=0.1, kernel=rbf, total=   0.0s\n",
      "[CV] ................. C=10000.0, gamma=0.1, kernel=rbf, total=   0.0s\n",
      "[CV] C=1000.0, gamma=0.0001, kernel=rbf ..............................\n",
      "[CV] C=1.0, gamma=1e-07, kernel=rbf ..................................\n",
      "[CV] .................. C=10.0, gamma=1e-07, kernel=rbf, total=   0.0s\n",
      "[CV] C=0.1, gamma=1e-10, kernel=rbf ..................................\n",
      "[CV] ................ C=100.0, gamma=0.0001, kernel=rbf, total=   0.0s\n",
      "[CV] C=10000.0, gamma=0.1, kernel=rbf ................................\n",
      "[CV] C=100.0, gamma=0.0001, kernel=rbf ...............................\n",
      "[CV] ............... C=1000.0, gamma=0.0001, kernel=rbf, total=   0.0s\n",
      "[CV] C=10.0, gamma=1e-07, kernel=rbf .................................\n",
      "[CV] ................... C=1.0, gamma=1e-07, kernel=rbf, total=   0.0s\n",
      "[CV] C=1000.0, gamma=0.1, kernel=rbf .................................\n",
      "[CV] ................. C=10000.0, gamma=0.1, kernel=rbf, total=   0.0s\n",
      "[CV] ......................... C=10000.0, kernel=linear, total=   0.0s\n",
      "[CV] C=100000.0, gamma=1e-10, kernel=rbf .............................\n",
      "[CV] C=1.0, gamma=1e-07, kernel=rbf ..................................\n"
     ]
    },
    {
     "name": "stdout",
     "output_type": "stream",
     "text": [
      "[CV] C=100000.0, kernel=linear .......................................\n",
      "[CV] ................ C=100.0, gamma=0.0001, kernel=rbf, total=   0.0s\n",
      "[CV] C=100.0, gamma=0.0001, kernel=rbf ...............................\n",
      "[CV] .................. C=1000.0, gamma=0.1, kernel=rbf, total=   0.0s\n",
      "[CV] ................... C=0.1, gamma=1e-10, kernel=rbf, total=   0.0s\n",
      "[CV] ........................ C=100000.0, kernel=linear, total=   0.0s\n",
      "[CV] .................. C=10.0, gamma=1e-07, kernel=rbf, total=   0.0s\n",
      "[CV] C=1000.0, gamma=0.1, kernel=rbf .................................\n",
      "[CV] C=100000.0, kernel=linear .......................................\n",
      "[CV] .............. C=100000.0, gamma=1e-10, kernel=rbf, total=   0.0s\n",
      "[CV] C=0.1, gamma=1e-10, kernel=rbf ..................................\n",
      "[CV] C=10.0, gamma=0.0001, kernel=rbf ................................\n",
      "[CV] C=100000.0, gamma=1e-10, kernel=rbf .............................\n",
      "[CV] ........................ C=100000.0, kernel=linear, total=   0.0s\n",
      "[CV] ................... C=1.0, gamma=1e-07, kernel=rbf, total=   0.0s\n",
      "[CV] .................. C=1000.0, gamma=0.1, kernel=rbf, total=   0.0s\n",
      "[CV] C=100000.0, kernel=linear .......................................\n",
      "[CV] C=1.0, gamma=1e-07, kernel=rbf ..................................\n",
      "[CV] C=1000.0, gamma=0.1, kernel=rbf .................................\n",
      "[CV] ................ C=100.0, gamma=0.0001, kernel=rbf, total=   0.0s\n",
      "[CV] C=100.0, gamma=0.1, kernel=rbf ..................................\n",
      "[CV] ................... C=0.1, gamma=1e-10, kernel=rbf, total=   0.0s\n",
      "[CV] .............. C=100000.0, gamma=1e-10, kernel=rbf, total=   0.0s\n",
      "[CV] ................. C=10.0, gamma=0.0001, kernel=rbf, total=   0.0s\n",
      "[CV] C=0.1, gamma=1e-10, kernel=rbf ..................................\n",
      "[CV] C=100000.0, gamma=1e-10, kernel=rbf .............................\n",
      "[CV] .................. C=1000.0, gamma=0.1, kernel=rbf, total=   0.0s\n",
      "[CV] ................... C=100.0, gamma=0.1, kernel=rbf, total=   0.0s\n",
      "[CV] C=10.0, gamma=0.0001, kernel=rbf ................................\n",
      "[CV] ................... C=1.0, gamma=1e-07, kernel=rbf, total=   0.0s\n",
      "[CV] C=100.0, gamma=0.1, kernel=rbf ..................................\n",
      "[CV] C=10000.0, gamma=1e-10, kernel=rbf ..............................\n",
      "[CV] .............. C=100000.0, gamma=1e-10, kernel=rbf, total=   0.0s\n",
      "[CV] C=100000.0, gamma=1e-07, kernel=rbf .............................\n",
      "[CV] C=1.0, gamma=0.0001, kernel=rbf .................................\n",
      "[CV] ................... C=100.0, gamma=0.1, kernel=rbf, total=   0.0s\n",
      "[CV] ................... C=0.1, gamma=1e-10, kernel=rbf, total=   0.0s\n",
      "[CV] C=100.0, gamma=0.1, kernel=rbf ..................................\n",
      "[CV] C=0.1, gamma=1e-07, kernel=rbf ..................................\n",
      "[CV] ................. C=10.0, gamma=0.0001, kernel=rbf, total=   0.0s\n",
      "[CV] ............... C=10000.0, gamma=1e-10, kernel=rbf, total=   0.0s\n",
      "[CV] C=10.0, gamma=0.0001, kernel=rbf ................................\n",
      "[CV] ................... C=100.0, gamma=0.1, kernel=rbf, total=   0.0s\n",
      "[CV] C=10000.0, gamma=1e-10, kernel=rbf ..............................\n",
      "[CV] .................. C=1.0, gamma=0.0001, kernel=rbf, total=   0.0s\n",
      "[CV] ................... C=0.1, gamma=1e-07, kernel=rbf, total=   0.0s\n",
      "[CV] .............. C=100000.0, gamma=1e-07, kernel=rbf, total=   0.0s\n",
      "[CV] C=1000.0, gamma=1e-10, kernel=rbf ...............................\n",
      "[CV] C=1.0, gamma=0.0001, kernel=rbf .................................\n",
      "[CV] C=0.1, gamma=1e-07, kernel=rbf ..................................\n",
      "[CV] C=100000.0, gamma=1e-07, kernel=rbf .............................\n",
      "[CV] ............... C=10000.0, gamma=1e-10, kernel=rbf, total=   0.0s\n",
      "[CV] ................. C=10.0, gamma=0.0001, kernel=rbf, total=   0.0s\n",
      "[CV] C=10000.0, gamma=1e-10, kernel=rbf ..............................\n",
      "[CV] ................ C=1000.0, gamma=1e-10, kernel=rbf, total=   0.0s\n",
      "[CV] C=10.0, gamma=0.1, kernel=rbf ...................................\n",
      "[CV] .................. C=1.0, gamma=0.0001, kernel=rbf, total=   0.0s\n",
      "[CV] ..................... C=100000000.0, kernel=linear, total=   0.1s\n",
      "[CV] C=1000.0, gamma=1e-10, kernel=rbf ...............................\n",
      "[CV] C=1.0, gamma=0.0001, kernel=rbf .................................\n",
      "[CV] C=1000000000.0, kernel=linear ...................................\n",
      "[CV] .............. C=100000.0, gamma=1e-07, kernel=rbf, total=   0.0s\n",
      "[CV] ............... C=10000.0, gamma=1e-10, kernel=rbf, total=   0.0s\n",
      "[CV] ................... C=0.1, gamma=1e-07, kernel=rbf, total=   0.0s\n",
      "[CV] C=100000.0, gamma=1e-07, kernel=rbf .............................\n",
      "[CV] .................... C=10.0, gamma=0.1, kernel=rbf, total=   0.0s\n",
      "[CV] C=10000.0, gamma=1e-07, kernel=rbf ..............................\n",
      "[CV] C=0.1, gamma=1e-07, kernel=rbf ..................................\n",
      "[CV] C=10.0, gamma=0.1, kernel=rbf ...................................\n",
      "[CV] .................... C=1000000000.0, kernel=linear, total=   0.0s\n",
      "[CV] ................ C=1000.0, gamma=1e-10, kernel=rbf, total=   0.0s\n",
      "[CV] C=1000000000.0, kernel=linear ...................................\n",
      "[CV] .................. C=1.0, gamma=0.0001, kernel=rbf, total=   0.0s\n",
      "[CV] .................... C=10.0, gamma=0.1, kernel=rbf, total=   0.0s\n",
      "[CV] C=1000.0, gamma=1e-10, kernel=rbf ...............................\n",
      "[CV] .............. C=100000.0, gamma=1e-07, kernel=rbf, total=   0.0s\n",
      "[CV] C=1.0, gamma=0.1, kernel=rbf ....................................\n",
      "[CV] C=100000.0, gamma=0.0001, kernel=rbf ............................\n",
      "[CV] C=10.0, gamma=0.1, kernel=rbf ...................................\n",
      "[CV] ............... C=10000.0, gamma=1e-07, kernel=rbf, total=   0.0s\n",
      "[CV] ................... C=0.1, gamma=1e-07, kernel=rbf, total=   0.0s\n",
      "[CV] C=0.1, gamma=0.0001, kernel=rbf .................................\n",
      "[CV] .................... C=1000000000.0, kernel=linear, total=   0.0s\n",
      "[CV] C=10000.0, gamma=1e-07, kernel=rbf ..............................\n",
      "[CV] ............. C=100000.0, gamma=0.0001, kernel=rbf, total=   0.0s\n",
      "[CV] ..................... C=1.0, gamma=0.1, kernel=rbf, total=   0.0s\n",
      "[CV] C=1000000000.0, kernel=linear ...................................\n",
      "[CV] .................... C=10.0, gamma=0.1, kernel=rbf, total=   0.0s\n",
      "[CV] C=1.0, gamma=0.1, kernel=rbf ....................................\n",
      "[CV] C=100000.0, gamma=0.0001, kernel=rbf ............................\n",
      "[CV] ................ C=1000.0, gamma=1e-10, kernel=rbf, total=   0.0s\n",
      "[CV] C=100.0, gamma=1e-10, kernel=rbf ................................\n",
      "[CV] ............. C=100000.0, gamma=0.0001, kernel=rbf, total=   0.0s\n",
      "[CV] ..................... C=1.0, gamma=0.1, kernel=rbf, total=   0.0s\n",
      "[CV] C=1000.0, gamma=1e-07, kernel=rbf ...............................\n",
      "[CV] ............... C=10000.0, gamma=1e-07, kernel=rbf, total=   0.0s\n",
      "[CV] C=1.0, gamma=0.1, kernel=rbf ....................................\n",
      "[CV] C=100000.0, gamma=0.0001, kernel=rbf ............................\n",
      "[CV] .................. C=0.1, gamma=0.0001, kernel=rbf, total=   0.0s\n",
      "[CV] C=0.1, gamma=0.0001, kernel=rbf .................................\n",
      "[CV] C=10000.0, gamma=1e-07, kernel=rbf ..............................\n",
      "[CV] ............. C=100000.0, gamma=0.0001, kernel=rbf, total=   0.0s\n",
      "[CV] ................. C=100.0, gamma=1e-10, kernel=rbf, total=   0.0s\n",
      "[CV] ..................... C=1.0, gamma=0.1, kernel=rbf, total=   0.0s\n",
      "[CV] C=100000.0, gamma=0.1, kernel=rbf ...............................\n",
      "[CV] C=100.0, gamma=1e-10, kernel=rbf ................................\n",
      "[CV] C=1000000.0, gamma=0.1, kernel=rbf ..............................\n",
      "[CV] ................ C=1000.0, gamma=1e-07, kernel=rbf, total=   0.0s\n",
      "[CV] .................. C=0.1, gamma=0.0001, kernel=rbf, total=   0.0s\n",
      "[CV] ................ C=100000.0, gamma=0.1, kernel=rbf, total=   0.0s\n",
      "[CV] C=100000000.0, gamma=1e-10, kernel=rbf ..........................\n",
      "[CV] ............... C=10000.0, gamma=1e-07, kernel=rbf, total=   0.0s\n",
      "[CV] C=100000.0, gamma=0.1, kernel=rbf ...............................\n",
      "[CV] ............... C=1000000.0, gamma=0.1, kernel=rbf, total=   0.0s\n",
      "[CV] C=0.1, gamma=0.0001, kernel=rbf .................................\n",
      "[CV] C=1000000000.0, gamma=1e-10, kernel=rbf .........................\n"
     ]
    },
    {
     "name": "stdout",
     "output_type": "stream",
     "text": [
      "[CV] C=1000000.0, gamma=0.1, kernel=rbf ..............................\n",
      "[CV] ................. C=100.0, gamma=1e-10, kernel=rbf, total=   0.0s\n",
      "[CV] ................ C=100000.0, gamma=0.1, kernel=rbf, total=   0.0s\n",
      "[CV] C=100000.0, gamma=0.1, kernel=rbf ...............................\n",
      "[CV] ............... C=1000000.0, gamma=0.1, kernel=rbf, total=   0.0s\n",
      "[CV] ........... C=100000000.0, gamma=1e-10, kernel=rbf, total=   0.0s\n",
      "[CV] C=10000000.0, gamma=1e-10, kernel=rbf ...........................\n",
      "[CV] C=100000000.0, gamma=1e-10, kernel=rbf ..........................\n",
      "[CV] .......... C=1000000000.0, gamma=1e-10, kernel=rbf, total=   0.0s\n",
      "[CV] C=1000000000.0, gamma=1e-07, kernel=rbf .........................\n",
      "[CV] .................. C=0.1, gamma=0.0001, kernel=rbf, total=   0.0s\n",
      "[CV] C=0.1, gamma=0.1, kernel=rbf ....................................\n",
      "[CV] ................ C=100000.0, gamma=0.1, kernel=rbf, total=   0.0s\n",
      "[CV] C=1000000.0, gamma=1e-10, kernel=rbf ............................\n",
      "[CV] .......... C=1000000000.0, gamma=1e-07, kernel=rbf, total=   0.0s\n",
      "[CV] C=1000000000.0, gamma=1e-07, kernel=rbf .........................\n",
      "[CV] ............ C=10000000.0, gamma=1e-10, kernel=rbf, total=   0.0s\n",
      "[CV] ........... C=100000000.0, gamma=1e-10, kernel=rbf, total=   0.0s\n",
      "[CV] C=10000000.0, gamma=1e-10, kernel=rbf ...........................\n",
      "[CV] ............. C=1000000.0, gamma=1e-10, kernel=rbf, total=   0.0s\n",
      "[CV] .......... C=1000000000.0, gamma=1e-07, kernel=rbf, total=   0.0s\n",
      "[CV] ............ C=10000000.0, gamma=1e-10, kernel=rbf, total=   0.0s\n",
      "[CV] ..................... C=0.1, gamma=0.1, kernel=rbf, total=   0.0s\n",
      "[CV] C=100000000.0, gamma=1e-10, kernel=rbf ..........................\n",
      "[CV] C=1000000000.0, gamma=1e-07, kernel=rbf .........................\n",
      "[CV] C=1000000.0, gamma=1e-10, kernel=rbf ............................\n",
      "[CV] ........... C=100000000.0, gamma=1e-10, kernel=rbf, total=   0.0s\n",
      "[CV] C=10000000.0, gamma=1e-10, kernel=rbf ...........................\n",
      "[CV] C=100000000.0, gamma=1e-07, kernel=rbf ..........................\n",
      "[CV] .......... C=1000000000.0, gamma=1e-07, kernel=rbf, total=   0.0s\n",
      "[CV] C=1000000000.0, gamma=0.0001, kernel=rbf ........................\n",
      "[CV] ........... C=100000000.0, gamma=1e-07, kernel=rbf, total=   0.0s\n",
      "[CV] ............. C=1000000.0, gamma=1e-10, kernel=rbf, total=   0.0s\n",
      "[CV] ............ C=10000000.0, gamma=1e-10, kernel=rbf, total=   0.0s\n",
      "[CV] C=100000000.0, gamma=1e-07, kernel=rbf ..........................\n",
      "[CV] ........................ C=100000.0, kernel=linear, total=   0.2s\n",
      "[CV] C=1000000.0, gamma=1e-10, kernel=rbf ............................\n",
      "[CV] C=10000000.0, gamma=1e-07, kernel=rbf ...........................\n",
      "[CV] ......... C=1000000000.0, gamma=0.0001, kernel=rbf, total=   0.0s\n",
      "[CV] C=1000000.0, kernel=linear ......................................\n",
      "[CV] ........... C=100000000.0, gamma=1e-07, kernel=rbf, total=   0.0s\n",
      "[CV] ............ C=10000000.0, gamma=1e-07, kernel=rbf, total=   0.0s\n",
      "[CV] C=1000000000.0, gamma=0.0001, kernel=rbf ........................\n",
      "[CV] C=10000000.0, gamma=1e-07, kernel=rbf ...........................\n",
      "[CV] ............. C=1000000.0, gamma=1e-10, kernel=rbf, total=   0.0s\n",
      "[CV] C=100000000.0, gamma=1e-07, kernel=rbf ..........................\n",
      "[CV] ....................... C=1000000.0, kernel=linear, total=   0.0s\n",
      "[CV] C=1000000.0, gamma=1e-07, kernel=rbf ............................\n",
      "[CV] ......... C=1000000000.0, gamma=0.0001, kernel=rbf, total=   0.0s\n",
      "[CV] C=1000000000.0, gamma=0.0001, kernel=rbf ........................\n",
      "[CV] C=1000000.0, kernel=linear ......................................\n",
      "[CV] ........... C=100000000.0, gamma=1e-07, kernel=rbf, total=   0.0s\n",
      "[CV] ............ C=10000000.0, gamma=1e-07, kernel=rbf, total=   0.0s\n",
      "[CV] ............. C=1000000.0, gamma=1e-07, kernel=rbf, total=   0.0s\n",
      "[CV] ....................... C=1000000.0, kernel=linear, total=   0.0s\n",
      "[CV] C=10000000.0, gamma=1e-07, kernel=rbf ...........................\n",
      "[CV] C=1000000.0, gamma=1e-07, kernel=rbf ............................\n",
      "[CV] C=100000000.0, gamma=0.0001, kernel=rbf .........................\n",
      "[CV] ............ C=10000000.0, gamma=1e-07, kernel=rbf, total=   0.0s\n",
      "[CV] C=1000000.0, kernel=linear ......................................\n",
      "[CV] C=10000000.0, gamma=0.0001, kernel=rbf ..........................\n",
      "[CV] .......... C=100000000.0, gamma=0.0001, kernel=rbf, total=   0.0s\n",
      "[CV] ............. C=1000000.0, gamma=1e-07, kernel=rbf, total=   0.0s\n",
      "[CV] C=1000000.0, gamma=1e-07, kernel=rbf ............................\n",
      "[CV] C=100000000.0, gamma=0.0001, kernel=rbf .........................\n",
      "[CV] ........... C=10000000.0, gamma=0.0001, kernel=rbf, total=   0.0s\n",
      "[CV] ............. C=1000000.0, gamma=1e-07, kernel=rbf, total=   0.0s\n",
      "[CV] C=1000000.0, gamma=0.0001, kernel=rbf ...........................\n",
      "[CV] C=10000000.0, gamma=0.0001, kernel=rbf ..........................\n",
      "[CV] .......... C=100000000.0, gamma=0.0001, kernel=rbf, total=   0.0s\n",
      "[CV] ............ C=1000000.0, gamma=0.0001, kernel=rbf, total=   0.0s\n",
      "[CV] C=100000000.0, gamma=0.0001, kernel=rbf .........................\n",
      "[CV] C=1000000.0, gamma=0.0001, kernel=rbf ...........................\n",
      "[CV] ........... C=10000000.0, gamma=0.0001, kernel=rbf, total=   0.0s\n",
      "[CV] ............ C=1000000.0, gamma=0.0001, kernel=rbf, total=   0.0s\n",
      "[CV] C=10000000.0, gamma=0.0001, kernel=rbf ..........................\n",
      "[CV] C=1000000.0, gamma=0.0001, kernel=rbf ...........................\n",
      "[CV] .................... C=1000000000.0, kernel=linear, total=   0.2s\n",
      "[CV] ......... C=1000000000.0, gamma=0.0001, kernel=rbf, total=   0.1s\n",
      "[CV] C=0.01, gamma=1e-10, kernel=rbf .................................\n",
      "[CV] C=1000000000.0, gamma=0.1, kernel=rbf ...........................\n",
      "[CV] ............ C=1000000.0, gamma=0.0001, kernel=rbf, total=   0.0s\n",
      "[CV] C=1000000.0, gamma=0.1, kernel=rbf ..............................\n",
      "[CV] ............ C=1000000000.0, gamma=0.1, kernel=rbf, total=   0.0s\n",
      "[CV] C=1000000000.0, gamma=0.1, kernel=rbf ...........................\n",
      "[CV] ............... C=1000000.0, gamma=0.1, kernel=rbf, total=   0.0s\n",
      "[CV] ........... C=10000000.0, gamma=0.0001, kernel=rbf, total=   0.0s\n",
      "[CV] C=10000000.0, gamma=0.1, kernel=rbf .............................\n",
      "[CV] .................. C=0.01, gamma=1e-10, kernel=rbf, total=   0.0s\n",
      "[CV] ............ C=1000000000.0, gamma=0.1, kernel=rbf, total=   0.0s\n",
      "[CV] C=1000000000.0, gamma=0.1, kernel=rbf ...........................\n",
      "[CV] C=0.01, gamma=1e-10, kernel=rbf .................................\n",
      "[CV] .............. C=10000000.0, gamma=0.1, kernel=rbf, total=   0.0s\n",
      "[CV] C=10000000.0, gamma=0.1, kernel=rbf .............................\n",
      "[CV] .......... C=100000000.0, gamma=0.0001, kernel=rbf, total=   0.0s\n",
      "[CV] ............ C=1000000000.0, gamma=0.1, kernel=rbf, total=   0.0s\n",
      "[CV] C=100000000.0, gamma=0.1, kernel=rbf ............................\n",
      "[CV] .............. C=10000000.0, gamma=0.1, kernel=rbf, total=   0.0s\n",
      "[CV] .................. C=0.01, gamma=1e-10, kernel=rbf, total=   0.0s\n",
      "[CV] C=10000000.0, gamma=0.1, kernel=rbf .............................\n",
      "[CV] C=0.01, gamma=1e-10, kernel=rbf .................................\n",
      "[CV] ............. C=100000000.0, gamma=0.1, kernel=rbf, total=   0.0s\n",
      "[CV] C=100000000.0, gamma=0.1, kernel=rbf ............................\n",
      "[CV] .............. C=10000000.0, gamma=0.1, kernel=rbf, total=   0.0s\n",
      "[CV] ............. C=100000000.0, gamma=0.1, kernel=rbf, total=   0.0s\n",
      "[CV] C=100000000.0, gamma=0.1, kernel=rbf ............................\n",
      "[CV] .................. C=0.01, gamma=1e-10, kernel=rbf, total=   0.0s\n",
      "[CV] C=0.01, gamma=1e-07, kernel=rbf .................................\n",
      "[CV] ............. C=100000000.0, gamma=0.1, kernel=rbf, total=   0.0s\n",
      "[CV] C=1000000000.0, gamma=1e-10, kernel=rbf .........................\n",
      "[CV] .................. C=0.01, gamma=1e-07, kernel=rbf, total=   0.0s\n",
      "[CV] .......... C=1000000000.0, gamma=1e-10, kernel=rbf, total=   0.0s\n",
      "[CV] C=0.01, gamma=1e-07, kernel=rbf .................................\n",
      "[CV] C=1000000000.0, gamma=1e-10, kernel=rbf .........................\n",
      "[CV] .......... C=1000000000.0, gamma=1e-10, kernel=rbf, total=   0.0s\n",
      "[CV] .................. C=0.01, gamma=1e-07, kernel=rbf, total=   0.0s\n"
     ]
    },
    {
     "name": "stdout",
     "output_type": "stream",
     "text": [
      "[CV] C=0.01, gamma=1e-07, kernel=rbf .................................\n",
      "[CV] .................. C=0.01, gamma=1e-07, kernel=rbf, total=   0.0s\n",
      "[CV] ....................... C=1000000.0, kernel=linear, total=   0.1s\n",
      "[CV] C=0.01, gamma=0.0001, kernel=rbf ................................\n",
      "[CV] C=10000000.0, kernel=linear .....................................\n",
      "[CV] ...................... C=10000000.0, kernel=linear, total=   0.0s\n",
      "[CV] C=10000000.0, kernel=linear .....................................\n",
      "[CV] ................. C=0.01, gamma=0.0001, kernel=rbf, total=   0.0s\n",
      "[CV] ...................... C=10000000.0, kernel=linear, total=   0.0s\n",
      "[CV] C=10000000.0, kernel=linear .....................................\n",
      "[CV] C=0.01, gamma=0.0001, kernel=rbf ................................\n",
      "[CV] ................. C=0.01, gamma=0.0001, kernel=rbf, total=   0.0s\n",
      "[CV] ...................... C=10000000.0, kernel=linear, total=   0.1s\n"
     ]
    },
    {
     "name": "stderr",
     "output_type": "stream",
     "text": [
      "[Parallel(n_jobs=-1)]: Done 180 out of 180 | elapsed:    0.7s finished\n"
     ]
    },
    {
     "data": {
      "text/plain": [
       "GridSearchCV(cv=None, error_score='raise',\n",
       "       estimator=SVC(C=1.0, cache_size=200, class_weight=None, coef0=0.0,\n",
       "  decision_function_shape=None, degree=3, gamma='auto', kernel='rbf',\n",
       "  max_iter=-1, probability=False, random_state=None, shrinking=True,\n",
       "  tol=0.001, verbose=False),\n",
       "       fit_params={}, iid=True, n_jobs=-1,\n",
       "       param_grid=[{'C': array([  1.00000e-02,   1.00000e-01,   1.00000e+00,   1.00000e+01,\n",
       "         1.00000e+02,   1.00000e+03,   1.00000e+04,   1.00000e+05,\n",
       "         1.00000e+06,   1.00000e+07,   1.00000e+08,   1.00000e+09]), 'kernel': ['linear']}, {'C': array([  1.00000e-02,   1.00000e-01,   1.00000e+00...), 'gamma': array([  1.00000e-10,   1.00000e-07,   1.00000e-04,   1.00000e-01]), 'kernel': ['rbf']}],\n",
       "       pre_dispatch='2*n_jobs', refit=True, return_train_score=True,\n",
       "       scoring=None, verbose=2)"
      ]
     },
     "execution_count": 24,
     "metadata": {},
     "output_type": "execute_result"
    }
   ],
   "source": [
    "from sklearn.svm import SVC\n",
    "\n",
    "clf = SVC()\n",
    "\n",
    "C_range_exp = np.arange(-2.0, 10.0)\n",
    "C_range = 10 ** C_range_exp\n",
    "\n",
    "gamma_range_exp = np.arange(-10.0, 0.0, 3)\n",
    "gamma_range = 10 ** gamma_range_exp\n",
    "\n",
    "param = [ {'C': C_range,\n",
    "           'kernel': ['linear']},\n",
    "         \n",
    "          {'C': C_range,\n",
    "           'gamma': gamma_range, \n",
    "           'kernel': ['rbf']} ]\n",
    "\n",
    "gs = GridSearchCV(clf, param, n_jobs=-1, verbose=2)\n",
    "gs.fit(X_train, y_train)"
   ]
  },
  {
   "cell_type": "code",
   "execution_count": 25,
   "metadata": {
    "ExecuteTime": {
     "end_time": "2017-06-22T08:33:38.988550Z",
     "start_time": "2017-06-22T08:33:38.985092Z"
    },
    "scrolled": true
   },
   "outputs": [
    {
     "data": {
      "text/plain": [
       "({'C': 10.0, 'gamma': 0.10000000000000001, 'kernel': 'rbf'},\n",
       " 0.97362637362637361,\n",
       " SVC(C=10.0, cache_size=200, class_weight=None, coef0=0.0,\n",
       "   decision_function_shape=None, degree=3, gamma=0.10000000000000001,\n",
       "   kernel='rbf', max_iter=-1, probability=False, random_state=None,\n",
       "   shrinking=True, tol=0.001, verbose=False))"
      ]
     },
     "execution_count": 25,
     "metadata": {},
     "output_type": "execute_result"
    }
   ],
   "source": [
    "gs.best_params_, gs.best_score_, gs.best_estimator_"
   ]
  },
  {
   "cell_type": "code",
   "execution_count": null,
   "metadata": {
    "collapsed": true
   },
   "outputs": [],
   "source": []
  },
  {
   "cell_type": "code",
   "execution_count": 26,
   "metadata": {
    "ExecuteTime": {
     "end_time": "2017-06-22T08:33:39.394289Z",
     "start_time": "2017-06-22T08:33:38.989678Z"
    }
   },
   "outputs": [
    {
     "data": {
      "text/plain": [
       "<matplotlib.legend.Legend at 0x1139e1f98>"
      ]
     },
     "execution_count": 26,
     "metadata": {},
     "output_type": "execute_result"
    },
    {
     "data": {
      "image/png": "[encoded data removed]",
      "text/plain": [
       "<matplotlib.figure.Figure at 0x113d6d710>"
      ]
     },
     "metadata": {},
     "output_type": "display_data"
    }
   ],
   "source": [
    "s_linear = [gs.cv_results_['param_kernel']=='linear']\n",
    "\n",
    "plt.plot(gs.cv_results_['param_C'][s_linear].data, \n",
    "         gs.cv_results_['mean_train_score'][s_linear],\n",
    "         label=\"training (linear)\")\n",
    "\n",
    "plt.plot(gs.cv_results_['param_C'][s_linear].data, \n",
    "         gs.cv_results_['mean_test_score'][s_linear],\n",
    "         linestyle=\"--\",\n",
    "         label=\"test/val (linearr)\")\n",
    "\n",
    "\n",
    "\n",
    "\n",
    "\n",
    "s_rbf = [gs.cv_results_['param_kernel']=='rbf']\n",
    "\n",
    "for g in gamma_range:\n",
    "    s_gamma = gs.cv_results_['param_gamma'][s_rbf].data == g\n",
    "\n",
    "    plt.plot(gs.cv_results_['param_C'][s_rbf][s_gamma].data, \n",
    "             gs.cv_results_['mean_train_score'][s_rbf][s_gamma],\n",
    "             label=\"training (rbf, gamma {0:.0e})\".format(g))\n",
    "    \n",
    "    plt.plot(gs.cv_results_['param_C'][s_rbf][s_gamma].data, \n",
    "             gs.cv_results_['mean_test_score'][s_rbf][s_gamma],\n",
    "             linestyle=\"--\",\n",
    "             label=\"test/val (rbf, gamma {0:.0e})\".format(g))\n",
    "\n",
    "plt.ylim(.6, 1.01)\n",
    "plt.xscale(\"log\")\n",
    "plt.xlabel(\"C\")\n",
    "plt.ylabel(\"accuracy\")\n",
    "plt.legend(bbox_to_anchor=(1.05, 1), loc=2, borderaxespad=0.)\n"
   ]
  },
  {
   "cell_type": "code",
   "execution_count": 27,
   "metadata": {
    "ExecuteTime": {
     "end_time": "2017-06-22T08:33:39.399304Z",
     "start_time": "2017-06-22T08:33:39.395603Z"
    }
   },
   "outputs": [
    {
     "data": {
      "text/plain": [
       "0.96491228070175439"
      ]
     },
     "execution_count": 27,
     "metadata": {},
     "output_type": "execute_result"
    }
   ],
   "source": [
    "gs.score(X_test, y_test)"
   ]
  },
  {
   "cell_type": "code",
   "execution_count": null,
   "metadata": {
    "collapsed": true
   },
   "outputs": [],
   "source": []
  },
  {
   "cell_type": "markdown",
   "metadata": {},
   "source": []
  },
  {
   "cell_type": "code",
   "execution_count": null,
   "metadata": {
    "collapsed": true
   },
   "outputs": [],
   "source": []
  },
  {
   "cell_type": "code",
   "execution_count": null,
   "metadata": {
    "collapsed": true
   },
   "outputs": [],
   "source": []
  },
  {
   "cell_type": "code",
   "execution_count": 28,
   "metadata": {
    "ExecuteTime": {
     "end_time": "2017-06-22T08:33:39.402970Z",
     "start_time": "2017-06-22T08:33:39.400458Z"
    },
    "collapsed": true
   },
   "outputs": [],
   "source": [
    "from sklearn.neighbors import KNeighborsClassifier\n",
    "\n",
    "clf = KNeighborsClassifier()"
   ]
  },
  {
   "cell_type": "code",
   "execution_count": 29,
   "metadata": {
    "ExecuteTime": {
     "end_time": "2017-06-22T08:33:39.839662Z",
     "start_time": "2017-06-22T08:33:39.404300Z"
    }
   },
   "outputs": [
    {
     "data": {
      "text/plain": [
       "GridSearchCV(cv=None, error_score='raise',\n",
       "       estimator=KNeighborsClassifier(algorithm='auto', leaf_size=30, metric='minkowski',\n",
       "           metric_params=None, n_jobs=1, n_neighbors=5, p=2,\n",
       "           weights='uniform'),\n",
       "       fit_params={}, iid=True, n_jobs=1,\n",
       "       param_grid={'n_neighbors': range(1, 20)}, pre_dispatch='2*n_jobs',\n",
       "       refit=True, return_train_score=True, scoring=None, verbose=0)"
      ]
     },
     "execution_count": 29,
     "metadata": {},
     "output_type": "execute_result"
    }
   ],
   "source": [
    "param = {'n_neighbors': range(1,20) }\n",
    "\n",
    "gs = GridSearchCV(clf, param)\n",
    "gs.fit(X_train, y_train)"
   ]
  },
  {
   "cell_type": "code",
   "execution_count": 30,
   "metadata": {
    "ExecuteTime": {
     "end_time": "2017-06-22T08:33:39.844015Z",
     "start_time": "2017-06-22T08:33:39.840674Z"
    }
   },
   "outputs": [
    {
     "data": {
      "text/plain": [
       "({'n_neighbors': 5},\n",
       " 0.96483516483516485,\n",
       " KNeighborsClassifier(algorithm='auto', leaf_size=30, metric='minkowski',\n",
       "            metric_params=None, n_jobs=1, n_neighbors=5, p=2,\n",
       "            weights='uniform'))"
      ]
     },
     "execution_count": 30,
     "metadata": {},
     "output_type": "execute_result"
    }
   ],
   "source": [
    "gs.best_params_, gs.best_score_, gs.best_estimator_"
   ]
  },
  {
   "cell_type": "code",
   "execution_count": 31,
   "metadata": {
    "ExecuteTime": {
     "end_time": "2017-06-22T08:33:39.991255Z",
     "start_time": "2017-06-22T08:33:39.845162Z"
    }
   },
   "outputs": [
    {
     "data": {
      "image/png": "[encoded data removed]",
      "text/plain": [
       "<matplotlib.figure.Figure at 0x113aeb1d0>"
      ]
     },
     "metadata": {},
     "output_type": "display_data"
    }
   ],
   "source": [
    "plt.errorbar(gs.cv_results_['param_n_neighbors'].data, \n",
    "             gs.cv_results_['mean_train_score'], \n",
    "             yerr=gs.cv_results_['std_train_score'],\n",
    "             label=\"training\")\n",
    "\n",
    "plt.errorbar(gs.cv_results_['param_n_neighbors'].data,\n",
    "             gs.cv_results_['mean_test_score'], \n",
    "             yerr=gs.cv_results_['std_test_score'],\n",
    "             label=\"test(val)\")\n",
    "\n",
    "plt.ylim(.6, 1.01)\n",
    "plt.xlabel(\"# neighbors\")\n",
    "plt.ylabel(\"accuracy\")\n",
    "plt.legend(loc=\"best\");"
   ]
  },
  {
   "cell_type": "code",
   "execution_count": 32,
   "metadata": {
    "ExecuteTime": {
     "end_time": "2017-06-22T08:33:39.998198Z",
     "start_time": "2017-06-22T08:33:39.992628Z"
    }
   },
   "outputs": [
    {
     "data": {
      "text/plain": [
       "0.95614035087719296"
      ]
     },
     "execution_count": 32,
     "metadata": {},
     "output_type": "execute_result"
    }
   ],
   "source": [
    "gs.score(X_test, y_test)"
   ]
  },
  {
   "cell_type": "code",
   "execution_count": null,
   "metadata": {
    "collapsed": true
   },
   "outputs": [],
   "source": []
  },
  {
   "cell_type": "code",
   "execution_count": null,
   "metadata": {
    "collapsed": true
   },
   "outputs": [],
   "source": []
  },
  {
   "cell_type": "code",
   "execution_count": 33,
   "metadata": {
    "ExecuteTime": {
     "end_time": "2017-06-22T08:33:40.007478Z",
     "start_time": "2017-06-22T08:33:39.999261Z"
    }
   },
   "outputs": [
    {
     "data": {
      "text/plain": [
       "MLPClassifier(activation='relu', alpha=0.0001, batch_size='auto', beta_1=0.9,\n",
       "       beta_2=0.999, early_stopping=False, epsilon=1e-08,\n",
       "       hidden_layer_sizes=(100,), learning_rate='constant',\n",
       "       learning_rate_init=0.001, max_iter=2000, momentum=0.9,\n",
       "       nesterovs_momentum=True, power_t=0.5, random_state=None,\n",
       "       shuffle=True, solver='adam', tol=0.0001, validation_fraction=0.1,\n",
       "       verbose=False, warm_start=False)"
      ]
     },
     "execution_count": 33,
     "metadata": {},
     "output_type": "execute_result"
    }
   ],
   "source": [
    "from sklearn.neural_network import MLPClassifier\n",
    "\n",
    "clf = MLPClassifier(max_iter=2000)\n",
    "clf"
   ]
  },
  {
   "cell_type": "code",
   "execution_count": 34,
   "metadata": {
    "ExecuteTime": {
     "end_time": "2017-06-22T08:33:40.014658Z",
     "start_time": "2017-06-22T08:33:40.008457Z"
    },
    "collapsed": true
   },
   "outputs": [],
   "source": [
    "param = {'hidden_layer_sizes': [(10,), (50,), (100,),\n",
    "                                (10,10,), (50,50,), (100,100,),\n",
    "                                (10, 5,), (5,5,), (30, 20, 10),\n",
    "                                (100,1000,50,), (1000,100,50,),\n",
    "                                (10,10,10), (50,50,50), (100,100,100,),\n",
    "                                ],\n",
    "          'activation' : ['identity', 'logistic', 'tanh', 'relu'],\n",
    "          'beta_1' : [0.9, 0.8, 0.7, 0.6, 0.5],\n",
    "          'beta_2' : [0.999, 0.9, 0.8, 0.7],\n",
    "          'alpha' : [1e-5, 1e-4, 1e-3, 1e-2, 1e-1, 1]\n",
    "        }"
   ]
  },
  {
   "cell_type": "code",
   "execution_count": 35,
   "metadata": {
    "ExecuteTime": {
     "end_time": "2017-06-22T08:33:40.018572Z",
     "start_time": "2017-06-22T08:33:40.015892Z"
    }
   },
   "outputs": [],
   "source": [
    "gs = GridSearchCV(clf, param, n_jobs=-1, verbose=1)\n",
    "# gs.fit(X_train, y_train)\n",
    "\n",
    "# # Fitting 3 folds for each of 6720 candidates, totalling 20160 fits"
   ]
  },
  {
   "cell_type": "code",
   "execution_count": 36,
   "metadata": {
    "ExecuteTime": {
     "end_time": "2017-06-22T08:33:48.641764Z",
     "start_time": "2017-06-22T08:33:40.019788Z"
    },
    "scrolled": false
   },
   "outputs": [
    {
     "name": "stdout",
     "output_type": "stream",
     "text": [
      "Fitting 3 folds for each of 20 candidates, totalling 60 fits\n",
      "[CV] hidden_layer_sizes=(100, 100), beta_2=0.7, beta_1=0.9, alpha=1e-05, activation=relu \n",
      "[CV] hidden_layer_sizes=(100, 100), beta_2=0.7, beta_1=0.9, alpha=1e-05, activation=relu \n",
      "[CV] hidden_layer_sizes=(100, 100), beta_2=0.7, beta_1=0.9, alpha=1e-05, activation=relu \n",
      "[CV] hidden_layer_sizes=(10, 10), beta_2=0.8, beta_1=0.7, alpha=0.001, activation=relu \n",
      "[CV] hidden_layer_sizes=(10, 10), beta_2=0.8, beta_1=0.7, alpha=0.001, activation=relu \n",
      "[CV] hidden_layer_sizes=(10, 10), beta_2=0.8, beta_1=0.7, alpha=0.001, activation=relu \n",
      "[CV] hidden_layer_sizes=(10, 5), beta_2=0.8, beta_1=0.7, alpha=0.01, activation=identity \n",
      "[CV] hidden_layer_sizes=(10, 5), beta_2=0.8, beta_1=0.7, alpha=0.01, activation=identity \n",
      "[CV]  hidden_layer_sizes=(10, 5), beta_2=0.8, beta_1=0.7, alpha=0.01, activation=identity, total=   0.5s\n",
      "[CV] hidden_layer_sizes=(10, 5), beta_2=0.8, beta_1=0.7, alpha=0.01, activation=identity \n",
      "[CV]  hidden_layer_sizes=(10, 5), beta_2=0.8, beta_1=0.7, alpha=0.01, activation=identity, total=   0.6s\n",
      "[CV] hidden_layer_sizes=(100, 1000, 50), beta_2=0.9, beta_1=0.5, alpha=0.1, activation=tanh \n",
      "[CV]  hidden_layer_sizes=(100, 100), beta_2=0.7, beta_1=0.9, alpha=1e-05, activation=relu, total=   0.8s\n",
      "[CV] hidden_layer_sizes=(100, 1000, 50), beta_2=0.9, beta_1=0.5, alpha=0.1, activation=tanh \n",
      "[CV]  hidden_layer_sizes=(100, 100), beta_2=0.7, beta_1=0.9, alpha=1e-05, activation=relu, total=   1.0s\n",
      "[CV] hidden_layer_sizes=(100, 1000, 50), beta_2=0.9, beta_1=0.5, alpha=0.1, activation=tanh \n",
      "[CV]  hidden_layer_sizes=(10, 10), beta_2=0.8, beta_1=0.7, alpha=0.001, activation=relu, total=   1.1s\n",
      "[CV] hidden_layer_sizes=(100, 100, 100), beta_2=0.9, beta_1=0.8, alpha=0.001, activation=identity \n",
      "[CV]  hidden_layer_sizes=(10, 5), beta_2=0.8, beta_1=0.7, alpha=0.01, activation=identity, total=   0.6s\n",
      "[CV] hidden_layer_sizes=(100, 100, 100), beta_2=0.9, beta_1=0.8, alpha=0.001, activation=identity \n",
      "[CV]  hidden_layer_sizes=(10, 10), beta_2=0.8, beta_1=0.7, alpha=0.001, activation=relu, total=   1.6s\n",
      "[CV] hidden_layer_sizes=(100, 100, 100), beta_2=0.9, beta_1=0.8, alpha=0.001, activation=identity \n",
      "[CV]  hidden_layer_sizes=(100, 1000, 50), beta_2=0.9, beta_1=0.5, alpha=0.1, activation=tanh, total=   1.0s\n",
      "[CV] hidden_layer_sizes=(1000, 100, 50), beta_2=0.999, beta_1=0.6, alpha=0.1, activation=tanh \n",
      "[CV]  hidden_layer_sizes=(100, 100), beta_2=0.7, beta_1=0.9, alpha=1e-05, activation=relu, total=   1.8s\n",
      "[CV] hidden_layer_sizes=(1000, 100, 50), beta_2=0.999, beta_1=0.6, alpha=0.1, activation=tanh \n",
      "[CV]  hidden_layer_sizes=(100, 100, 100), beta_2=0.9, beta_1=0.8, alpha=0.001, activation=identity, total=   1.0s\n",
      "[CV] hidden_layer_sizes=(1000, 100, 50), beta_2=0.999, beta_1=0.6, alpha=0.1, activation=tanh \n",
      "[CV]  hidden_layer_sizes=(100, 100, 100), beta_2=0.9, beta_1=0.8, alpha=0.001, activation=identity, total=   1.1s\n",
      "[CV] hidden_layer_sizes=(10, 10, 10), beta_2=0.7, beta_1=0.8, alpha=1, activation=relu \n",
      "[CV]  hidden_layer_sizes=(100, 1000, 50), beta_2=0.9, beta_1=0.5, alpha=0.1, activation=tanh, total=   1.6s\n",
      "[CV] hidden_layer_sizes=(10, 10, 10), beta_2=0.7, beta_1=0.8, alpha=1, activation=relu \n",
      "[CV]  hidden_layer_sizes=(100, 1000, 50), beta_2=0.9, beta_1=0.5, alpha=0.1, activation=tanh, total=   1.6s\n",
      "[CV] hidden_layer_sizes=(10, 10, 10), beta_2=0.7, beta_1=0.8, alpha=1, activation=relu \n",
      "[CV]  hidden_layer_sizes=(100, 100, 100), beta_2=0.9, beta_1=0.8, alpha=0.001, activation=identity, total=   1.1s\n",
      "[CV] hidden_layer_sizes=(100, 100, 100), beta_2=0.9, beta_1=0.6, alpha=1, activation=identity \n",
      "[CV]  hidden_layer_sizes=(1000, 100, 50), beta_2=0.999, beta_1=0.6, alpha=0.1, activation=tanh, total=   1.2s\n",
      "[CV] hidden_layer_sizes=(100, 100, 100), beta_2=0.9, beta_1=0.6, alpha=1, activation=identity \n",
      "[CV]  hidden_layer_sizes=(10, 10, 10), beta_2=0.7, beta_1=0.8, alpha=1, activation=relu, total=   1.0s\n",
      "[CV] hidden_layer_sizes=(100, 100, 100), beta_2=0.9, beta_1=0.6, alpha=1, activation=identity \n",
      "[CV]  hidden_layer_sizes=(10, 10, 10), beta_2=0.7, beta_1=0.8, alpha=1, activation=relu, total=   0.7s\n",
      "[CV] hidden_layer_sizes=(10, 10, 10), beta_2=0.999, beta_1=0.8, alpha=0.01, activation=relu \n",
      "[CV]  hidden_layer_sizes=(1000, 100, 50), beta_2=0.999, beta_1=0.6, alpha=0.1, activation=tanh, total=   1.3s\n",
      "[CV] hidden_layer_sizes=(10, 10, 10), beta_2=0.999, beta_1=0.8, alpha=0.01, activation=relu \n",
      "[CV]  hidden_layer_sizes=(1000, 100, 50), beta_2=0.999, beta_1=0.6, alpha=0.1, activation=tanh, total=   1.6s\n",
      "[CV] hidden_layer_sizes=(10, 10, 10), beta_2=0.999, beta_1=0.8, alpha=0.01, activation=relu \n",
      "[CV]  hidden_layer_sizes=(10, 10), beta_2=0.8, beta_1=0.7, alpha=0.001, activation=relu, total=   3.4s\n",
      "[CV] hidden_layer_sizes=(5, 5), beta_2=0.7, beta_1=0.5, alpha=0.01, activation=tanh \n",
      "[CV]  hidden_layer_sizes=(10, 10, 10), beta_2=0.7, beta_1=0.8, alpha=1, activation=relu, total=   1.1s\n",
      "[CV] hidden_layer_sizes=(5, 5), beta_2=0.7, beta_1=0.5, alpha=0.01, activation=tanh \n",
      "[CV]  hidden_layer_sizes=(5, 5), beta_2=0.7, beta_1=0.5, alpha=0.01, activation=tanh, total=   0.5s\n",
      "[CV] hidden_layer_sizes=(5, 5), beta_2=0.7, beta_1=0.5, alpha=0.01, activation=tanh \n",
      "[CV]  hidden_layer_sizes=(10, 10, 10), beta_2=0.999, beta_1=0.8, alpha=0.01, activation=relu, total=   0.6s\n",
      "[CV] hidden_layer_sizes=(30, 20, 10), beta_2=0.8, beta_1=0.6, alpha=0.1, activation=tanh \n",
      "[CV]  hidden_layer_sizes=(10, 10, 10), beta_2=0.999, beta_1=0.8, alpha=0.01, activation=relu, total=   0.7s\n",
      "[CV] hidden_layer_sizes=(30, 20, 10), beta_2=0.8, beta_1=0.6, alpha=0.1, activation=tanh \n",
      "[CV]  hidden_layer_sizes=(5, 5), beta_2=0.7, beta_1=0.5, alpha=0.01, activation=tanh, total=   0.7s\n",
      "[CV] hidden_layer_sizes=(30, 20, 10), beta_2=0.8, beta_1=0.6, alpha=0.1, activation=tanh \n"
     ]
    },
    {
     "name": "stderr",
     "output_type": "stream",
     "text": [
      "[Parallel(n_jobs=-1)]: Done  25 tasks      | elapsed:    4.3s\n"
     ]
    },
    {
     "name": "stdout",
     "output_type": "stream",
     "text": [
      "[CV]  hidden_layer_sizes=(5, 5), beta_2=0.7, beta_1=0.5, alpha=0.01, activation=tanh, total=   0.5s\n",
      "[CV] hidden_layer_sizes=(100, 100), beta_2=0.7, beta_1=0.7, alpha=0.001, activation=logistic \n",
      "[CV]  hidden_layer_sizes=(100, 100, 100), beta_2=0.9, beta_1=0.6, alpha=1, activation=identity, total=   1.8s\n",
      "[CV] hidden_layer_sizes=(100, 100), beta_2=0.7, beta_1=0.7, alpha=0.001, activation=logistic \n",
      "[CV]  hidden_layer_sizes=(100, 100, 100), beta_2=0.9, beta_1=0.6, alpha=1, activation=identity, total=   1.8s\n",
      "[CV] hidden_layer_sizes=(100, 100), beta_2=0.7, beta_1=0.7, alpha=0.001, activation=logistic \n",
      "[CV]  hidden_layer_sizes=(100, 100, 100), beta_2=0.9, beta_1=0.6, alpha=1, activation=identity, total=   1.5s\n",
      "[CV] hidden_layer_sizes=(10, 10, 10), beta_2=0.7, beta_1=0.7, alpha=0.1, activation=tanh \n",
      "[CV]  hidden_layer_sizes=(10, 10, 10), beta_2=0.999, beta_1=0.8, alpha=0.01, activation=relu, total=   1.4s\n",
      "[CV] hidden_layer_sizes=(10, 10, 10), beta_2=0.7, beta_1=0.7, alpha=0.1, activation=tanh \n",
      "[CV]  hidden_layer_sizes=(30, 20, 10), beta_2=0.8, beta_1=0.6, alpha=0.1, activation=tanh, total=   0.8s\n",
      "[CV] hidden_layer_sizes=(10, 10, 10), beta_2=0.7, beta_1=0.7, alpha=0.1, activation=tanh \n",
      "[CV]  hidden_layer_sizes=(30, 20, 10), beta_2=0.8, beta_1=0.6, alpha=0.1, activation=tanh, total=   0.7s\n",
      "[CV] hidden_layer_sizes=(100, 100, 100), beta_2=0.999, beta_1=0.5, alpha=0.01, activation=identity \n",
      "[CV]  hidden_layer_sizes=(30, 20, 10), beta_2=0.8, beta_1=0.6, alpha=0.1, activation=tanh, total=   0.9s\n",
      "[CV] hidden_layer_sizes=(100, 100, 100), beta_2=0.999, beta_1=0.5, alpha=0.01, activation=identity \n",
      "[CV]  hidden_layer_sizes=(10, 10, 10), beta_2=0.7, beta_1=0.7, alpha=0.1, activation=tanh, total=   0.4s\n",
      "[CV] hidden_layer_sizes=(100, 100, 100), beta_2=0.999, beta_1=0.5, alpha=0.01, activation=identity \n",
      "[CV]  hidden_layer_sizes=(10, 10, 10), beta_2=0.7, beta_1=0.7, alpha=0.1, activation=tanh, total=   0.5s\n",
      "[CV] hidden_layer_sizes=(100,), beta_2=0.999, beta_1=0.9, alpha=1e-05, activation=tanh \n",
      "[CV]  hidden_layer_sizes=(10, 10, 10), beta_2=0.7, beta_1=0.7, alpha=0.1, activation=tanh, total=   0.4s\n",
      "[CV] hidden_layer_sizes=(100,), beta_2=0.999, beta_1=0.9, alpha=1e-05, activation=tanh \n",
      "[CV]  hidden_layer_sizes=(100, 100, 100), beta_2=0.999, beta_1=0.5, alpha=0.01, activation=identity, total=   0.3s\n",
      "[CV] hidden_layer_sizes=(100,), beta_2=0.999, beta_1=0.9, alpha=1e-05, activation=tanh \n",
      "[CV]  hidden_layer_sizes=(100, 100, 100), beta_2=0.999, beta_1=0.5, alpha=0.01, activation=identity, total=   0.5s\n",
      "[CV] hidden_layer_sizes=(100,), beta_2=0.9, beta_1=0.9, alpha=0.1, activation=identity \n",
      "[CV]  hidden_layer_sizes=(100, 100, 100), beta_2=0.999, beta_1=0.5, alpha=0.01, activation=identity, total=   0.5s\n",
      "[CV] hidden_layer_sizes=(100,), beta_2=0.9, beta_1=0.9, alpha=0.1, activation=identity \n",
      "[CV]  hidden_layer_sizes=(100, 100), beta_2=0.7, beta_1=0.7, alpha=0.001, activation=logistic, total=   1.5s\n",
      "[CV] hidden_layer_sizes=(100,), beta_2=0.9, beta_1=0.9, alpha=0.1, activation=identity \n",
      "[CV]  hidden_layer_sizes=(100, 100), beta_2=0.7, beta_1=0.7, alpha=0.001, activation=logistic, total=   1.4s\n",
      "[CV] hidden_layer_sizes=(1000, 100, 50), beta_2=0.7, beta_1=0.5, alpha=1e-05, activation=identity \n",
      "[CV]  hidden_layer_sizes=(100,), beta_2=0.9, beta_1=0.9, alpha=0.1, activation=identity, total=   0.9s\n",
      "[CV] hidden_layer_sizes=(1000, 100, 50), beta_2=0.7, beta_1=0.5, alpha=1e-05, activation=identity \n",
      "[CV]  hidden_layer_sizes=(100, 100), beta_2=0.7, beta_1=0.7, alpha=0.001, activation=logistic, total=   1.9s\n",
      "[CV] hidden_layer_sizes=(1000, 100, 50), beta_2=0.7, beta_1=0.5, alpha=1e-05, activation=identity \n",
      "[CV]  hidden_layer_sizes=(100,), beta_2=0.999, beta_1=0.9, alpha=1e-05, activation=tanh, total=   1.2s\n",
      "[CV] hidden_layer_sizes=(10, 10), beta_2=0.9, beta_1=0.6, alpha=0.001, activation=tanh \n",
      "[CV]  hidden_layer_sizes=(1000, 100, 50), beta_2=0.7, beta_1=0.5, alpha=1e-05, activation=identity, total=   0.6s\n",
      "[CV] hidden_layer_sizes=(10, 10), beta_2=0.9, beta_1=0.6, alpha=0.001, activation=tanh \n",
      "[CV]  hidden_layer_sizes=(100,), beta_2=0.999, beta_1=0.9, alpha=1e-05, activation=tanh, total=   1.4s\n",
      "[CV] hidden_layer_sizes=(10, 10), beta_2=0.9, beta_1=0.6, alpha=0.001, activation=tanh \n",
      "[CV]  hidden_layer_sizes=(100,), beta_2=0.9, beta_1=0.9, alpha=0.1, activation=identity, total=   1.1s\n",
      "[CV] hidden_layer_sizes=(10,), beta_2=0.8, beta_1=0.6, alpha=0.01, activation=logistic \n",
      "[CV]  hidden_layer_sizes=(1000, 100, 50), beta_2=0.7, beta_1=0.5, alpha=1e-05, activation=identity, total=   0.5s\n",
      "[CV] hidden_layer_sizes=(10,), beta_2=0.8, beta_1=0.6, alpha=0.01, activation=logistic \n",
      "[CV]  hidden_layer_sizes=(10, 10), beta_2=0.9, beta_1=0.6, alpha=0.001, activation=tanh, total=   0.7s\n",
      "[CV] hidden_layer_sizes=(10,), beta_2=0.8, beta_1=0.6, alpha=0.01, activation=logistic \n",
      "[CV]  hidden_layer_sizes=(100,), beta_2=0.9, beta_1=0.9, alpha=0.1, activation=identity, total=   1.1s\n",
      "[CV] hidden_layer_sizes=(100, 100), beta_2=0.9, beta_1=0.9, alpha=1e-05, activation=tanh \n",
      "[CV]  hidden_layer_sizes=(1000, 100, 50), beta_2=0.7, beta_1=0.5, alpha=1e-05, activation=identity, total=   0.8s\n",
      "[CV] hidden_layer_sizes=(100, 100), beta_2=0.9, beta_1=0.9, alpha=1e-05, activation=tanh \n",
      "[CV]  hidden_layer_sizes=(100,), beta_2=0.999, beta_1=0.9, alpha=1e-05, activation=tanh, total=   2.0s\n",
      "[CV] hidden_layer_sizes=(100, 100), beta_2=0.9, beta_1=0.9, alpha=1e-05, activation=tanh \n",
      "[CV]  hidden_layer_sizes=(10, 10), beta_2=0.9, beta_1=0.6, alpha=0.001, activation=tanh, total=   0.7s\n",
      "[CV]  hidden_layer_sizes=(10, 10), beta_2=0.9, beta_1=0.6, alpha=0.001, activation=tanh, total=   0.7s\n",
      "[CV]  hidden_layer_sizes=(100, 100), beta_2=0.9, beta_1=0.9, alpha=1e-05, activation=tanh, total=   0.6s\n",
      "[CV]  hidden_layer_sizes=(100, 100), beta_2=0.9, beta_1=0.9, alpha=1e-05, activation=tanh, total=   0.8s\n",
      "[CV]  hidden_layer_sizes=(100, 100), beta_2=0.9, beta_1=0.9, alpha=1e-05, activation=tanh, total=   0.9s\n",
      "[CV]  hidden_layer_sizes=(10,), beta_2=0.8, beta_1=0.6, alpha=0.01, activation=logistic, total=   1.2s\n",
      "[CV]  hidden_layer_sizes=(10,), beta_2=0.8, beta_1=0.6, alpha=0.01, activation=logistic, total=   1.4s\n",
      "[CV]  hidden_layer_sizes=(10,), beta_2=0.8, beta_1=0.6, alpha=0.01, activation=logistic, total=   1.5s\n"
     ]
    },
    {
     "name": "stderr",
     "output_type": "stream",
     "text": [
      "[Parallel(n_jobs=-1)]: Done  60 out of  60 | elapsed:    8.4s finished\n"
     ]
    },
    {
     "data": {
      "text/plain": [
       "RandomizedSearchCV(cv=None, error_score='raise',\n",
       "          estimator=MLPClassifier(activation='relu', alpha=0.0001, batch_size='auto', beta_1=0.9,\n",
       "       beta_2=0.999, early_stopping=False, epsilon=1e-08,\n",
       "       hidden_layer_sizes=(100,), learning_rate='constant',\n",
       "       learning_rate_init=0.001, max_iter=2000, momentum=0.9,\n",
       "       nesterovs_momentum=True, power_t=0.5, random_state=None,\n",
       "       shuffle=True, solver='adam', tol=0.0001, validation_fraction=0.1,\n",
       "       verbose=False, warm_start=False),\n",
       "          fit_params={}, iid=True, n_iter=20, n_jobs=-1,\n",
       "          param_distributions={'hidden_layer_sizes': [(10,), (50,), (100,), (10, 10), (50, 50), (100, 100), (10, 5), (5, 5), (30, 20, 10), (100, 1000, 50), (1000, 100, 50), (10, 10, 10), (50, 50, 50), (100, 100, 100)], 'activation': ['identity', 'logistic', 'tanh', 'relu'], 'beta_1': [0.9, 0.8, 0.7, 0.6, 0.5], 'beta_2': [0.999, 0.9, 0.8, 0.7], 'alpha': [1e-05, 0.0001, 0.001, 0.01, 0.1, 1]},\n",
       "          pre_dispatch='2*n_jobs', random_state=None, refit=True,\n",
       "          return_train_score=True, scoring=None, verbose=2)"
      ]
     },
     "execution_count": 36,
     "metadata": {},
     "output_type": "execute_result"
    }
   ],
   "source": [
    "from sklearn.model_selection import RandomizedSearchCV\n",
    "\n",
    "gs = RandomizedSearchCV(clf, param,\n",
    "                        n_iter=20, \n",
    "                        n_jobs=-1, verbose=2)\n",
    "gs.fit(X_train, y_train)"
   ]
  },
  {
   "cell_type": "code",
   "execution_count": 37,
   "metadata": {
    "ExecuteTime": {
     "end_time": "2017-06-22T08:33:48.648438Z",
     "start_time": "2017-06-22T08:33:48.643667Z"
    },
    "scrolled": true
   },
   "outputs": [
    {
     "data": {
      "text/plain": [
       "({'activation': 'identity',\n",
       "  'alpha': 0.01,\n",
       "  'beta_1': 0.5,\n",
       "  'beta_2': 0.999,\n",
       "  'hidden_layer_sizes': (100, 100, 100)},\n",
       " 0.97362637362637361,\n",
       " MLPClassifier(activation='identity', alpha=0.01, batch_size='auto',\n",
       "        beta_1=0.5, beta_2=0.999, early_stopping=False, epsilon=1e-08,\n",
       "        hidden_layer_sizes=(100, 100, 100), learning_rate='constant',\n",
       "        learning_rate_init=0.001, max_iter=2000, momentum=0.9,\n",
       "        nesterovs_momentum=True, power_t=0.5, random_state=None,\n",
       "        shuffle=True, solver='adam', tol=0.0001, validation_fraction=0.1,\n",
       "        verbose=False, warm_start=False))"
      ]
     },
     "execution_count": 37,
     "metadata": {},
     "output_type": "execute_result"
    }
   ],
   "source": [
    "gs.best_params_, gs.best_score_, gs.best_estimator_"
   ]
  },
  {
   "cell_type": "code",
   "execution_count": 38,
   "metadata": {
    "ExecuteTime": {
     "end_time": "2017-06-22T08:33:48.654382Z",
     "start_time": "2017-06-22T08:33:48.649972Z"
    }
   },
   "outputs": [
    {
     "data": {
      "text/plain": [
       "0.97368421052631582"
      ]
     },
     "execution_count": 38,
     "metadata": {},
     "output_type": "execute_result"
    }
   ],
   "source": [
    "gs.score(X_test, y_test)"
   ]
  },
  {
   "cell_type": "code",
   "execution_count": null,
   "metadata": {
    "collapsed": true
   },
   "outputs": [],
   "source": []
  }
 ],
 "metadata": {
  "anaconda-cloud": {},
  "kernelspec": {
   "display_name": "Python 3",
   "language": "python",
   "name": "python3"
  },
  "language_info": {
   "codemirror_mode": {
    "name": "ipython",
    "version": 3
   },
   "file_extension": ".py",
   "mimetype": "text/x-python",
   "name": "python",
   "nbconvert_exporter": "python",
   "pygments_lexer": "ipython3",
   "version": "3.6.1"
  },
  "toc": {
   "colors": {
    "hover_highlight": "#DAA520",
    "running_highlight": "#FF0000",
    "selected_highlight": "#FFD700"
   },
   "moveMenuLeft": true,
   "nav_menu": {
    "height": "12px",
    "width": "252px"
   },
   "navigate_menu": true,
   "number_sections": true,
   "sideBar": true,
   "threshold": 4,
   "toc_cell": false,
   "toc_section_display": "block",
   "toc_window_display": false,
   "widenNotebook": false
  }
 },
 "nbformat": 4,
 "nbformat_minor": 1
}
