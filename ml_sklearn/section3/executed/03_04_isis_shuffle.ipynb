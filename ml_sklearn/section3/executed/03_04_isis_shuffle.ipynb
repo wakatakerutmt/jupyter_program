{
 "cells": [
  {
   "cell_type": "code",
   "execution_count": 1,
   "metadata": {
    "ExecuteTime": {
     "end_time": "2017-06-22T08:21:06.109551Z",
     "start_time": "2017-06-22T08:21:05.525634Z"
    }
   },
   "outputs": [],
   "source": [
    "# 必要なモジュールのインポート\n",
    "import numpy as np\n",
    "from sklearn.datasets import load_iris\n",
    "from sklearn.model_selection import ShuffleSplit\n",
    "from sklearn import linear_model"
   ]
  },
  {
   "cell_type": "code",
   "execution_count": 2,
   "metadata": {
    "ExecuteTime": {
     "end_time": "2017-06-22T08:21:06.116023Z",
     "start_time": "2017-06-22T08:21:06.110597Z"
    },
    "collapsed": true
   },
   "outputs": [],
   "source": [
    "data = load_iris() # データをロード\n",
    "X = data.data      # 特徴量\n",
    "y = data.target    # ラベル"
   ]
  },
  {
   "cell_type": "code",
   "execution_count": 3,
   "metadata": {
    "ExecuteTime": {
     "end_time": "2017-06-22T08:21:06.119693Z",
     "start_time": "2017-06-22T08:21:06.117152Z"
    }
   },
   "outputs": [],
   "source": [
    "ss = ShuffleSplit(n_splits=1,      # 分割を1個生成\n",
    "                  train_size=0.5,  # 学習は半分\n",
    "                  test_size =0.5,  # テストも半分\n",
    "                  random_state=0)  # 乱数種（再現用）"
   ]
  },
  {
   "cell_type": "code",
   "execution_count": 4,
   "metadata": {
    "ExecuteTime": {
     "end_time": "2017-06-22T08:21:06.123323Z",
     "start_time": "2017-06-22T08:21:06.120900Z"
    },
    "collapsed": true
   },
   "outputs": [],
   "source": [
    "clf = linear_model.LogisticRegression() # 識別器を作成"
   ]
  },
  {
   "cell_type": "code",
   "execution_count": 5,
   "metadata": {
    "ExecuteTime": {
     "end_time": "2017-06-22T08:21:06.129053Z",
     "start_time": "2017-06-22T08:21:06.124986Z"
    },
    "collapsed": true
   },
   "outputs": [],
   "source": [
    "# 学習データとテストデータのインデックスを作成\n",
    "train_index, test_index = next(ss.split(X))\n",
    "\n",
    "X_train, X_test = X[train_index], X[test_index] # 学習データ，テストデータ\n",
    "y_train, y_test = y[train_index], y[test_index] # 学習データのラベル，テストデータのラベル"
   ]
  },
  {
   "cell_type": "code",
   "execution_count": 6,
   "metadata": {
    "ExecuteTime": {
     "end_time": "2017-06-22T08:21:06.154547Z",
     "start_time": "2017-06-22T08:21:06.130202Z"
    },
    "scrolled": false
   },
   "outputs": [],
   "source": [
    "clf.fit(X_train, y_train); # 識別器の学習"
   ]
  },
  {
   "cell_type": "code",
   "execution_count": 7,
   "metadata": {
    "ExecuteTime": {
     "end_time": "2017-06-22T08:21:06.159744Z",
     "start_time": "2017-06-22T08:21:06.155731Z"
    }
   },
   "outputs": [
    {
     "name": "stdout",
     "output_type": "stream",
     "text": [
      "0.92\n"
     ]
    }
   ],
   "source": [
    "print(clf.score(X_train, y_train)) # 学習データの精度"
   ]
  },
  {
   "cell_type": "code",
   "execution_count": 8,
   "metadata": {
    "ExecuteTime": {
     "end_time": "2017-06-22T08:21:06.164302Z",
     "start_time": "2017-06-22T08:21:06.160835Z"
    }
   },
   "outputs": [
    {
     "name": "stdout",
     "output_type": "stream",
     "text": [
      "0.84\n"
     ]
    }
   ],
   "source": [
    "print(clf.score(X_test, y_test)) # テストデータの精度"
   ]
  },
  {
   "cell_type": "code",
   "execution_count": 9,
   "metadata": {
    "ExecuteTime": {
     "end_time": "2017-06-22T08:21:06.182882Z",
     "start_time": "2017-06-22T08:21:06.165488Z"
    }
   },
   "outputs": [
    {
     "name": "stdout",
     "output_type": "stream",
     "text": [
      "[ 0.84        0.93333333  0.90666667  1.          0.90666667  0.93333333\n",
      "  0.94666667  1.          0.90666667  0.88      ]\n"
     ]
    }
   ],
   "source": [
    "ss = ShuffleSplit(n_splits=10,     # 分割を10個生成\n",
    "                  train_size=0.5,  # 学習は半分\n",
    "                  test_size =0.5,  # テストも半分\n",
    "                  random_state=0)  # 乱数種（再現用）\n",
    "\n",
    "scores = []\n",
    "for train_index, test_index in ss.split(X): # 学習データとテストデータのインデックスを作成\n",
    "    \n",
    "    X_train, X_test = X[train_index], X[test_index] # 学習データ，テストデータ\n",
    "    y_train, y_test = y[train_index], y[test_index] # 学習データのラベル，テストデータのラベル\n",
    "\n",
    "    clf.fit(X_train, y_train)         # 識別器の学習\n",
    "    score = clf.score(X_test, y_test) # テストデータの精度\n",
    "    scores.append(score)\n",
    "\n",
    "scores = np.array(scores)\n",
    "print(scores)"
   ]
  },
  {
   "cell_type": "code",
   "execution_count": 10,
   "metadata": {
    "ExecuteTime": {
     "end_time": "2017-06-22T08:21:06.192387Z",
     "start_time": "2017-06-22T08:21:06.184412Z"
    }
   },
   "outputs": [
    {
     "data": {
      "text/plain": [
       "0.92533333333333334"
      ]
     },
     "execution_count": 10,
     "metadata": {},
     "output_type": "execute_result"
    }
   ],
   "source": [
    "scores.mean()"
   ]
  },
  {
   "cell_type": "code",
   "execution_count": 11,
   "metadata": {
    "ExecuteTime": {
     "end_time": "2017-06-22T08:21:06.197024Z",
     "start_time": "2017-06-22T08:21:06.193483Z"
    }
   },
   "outputs": [
    {
     "data": {
      "text/plain": [
       "0.047027178902795737"
      ]
     },
     "execution_count": 11,
     "metadata": {},
     "output_type": "execute_result"
    }
   ],
   "source": [
    "scores.std()"
   ]
  },
  {
   "cell_type": "code",
   "execution_count": 12,
   "metadata": {
    "ExecuteTime": {
     "end_time": "2017-06-22T08:21:06.201201Z",
     "start_time": "2017-06-22T08:21:06.198116Z"
    }
   },
   "outputs": [
    {
     "name": "stdout",
     "output_type": "stream",
     "text": [
      "0.9253333333333333 +/- 0.04702717890279574\n"
     ]
    }
   ],
   "source": [
    "print(\"{0} +/- {1}\".format(scores.mean(), scores.std()))"
   ]
  },
  {
   "cell_type": "code",
   "execution_count": 13,
   "metadata": {
    "ExecuteTime": {
     "end_time": "2017-06-22T08:21:06.205724Z",
     "start_time": "2017-06-22T08:21:06.202476Z"
    }
   },
   "outputs": [
    {
     "name": "stdout",
     "output_type": "stream",
     "text": [
      "92.53 +/- 4.70 %\n"
     ]
    }
   ],
   "source": [
    "print(\"{0:4.2f} +/- {1:4.2f} %\".format(scores.mean() * 100, scores.std() * 100))"
   ]
  },
  {
   "cell_type": "code",
   "execution_count": 14,
   "metadata": {
    "ExecuteTime": {
     "end_time": "2017-06-22T08:21:06.390271Z",
     "start_time": "2017-06-22T08:21:06.206939Z"
    }
   },
   "outputs": [],
   "source": [
    "# matplotlibの準備\n",
    "import matplotlib.pyplot as plt\n",
    "%matplotlib inline"
   ]
  },
  {
   "cell_type": "code",
   "execution_count": 15,
   "metadata": {
    "ExecuteTime": {
     "end_time": "2017-06-22T08:21:06.393719Z",
     "start_time": "2017-06-22T08:21:06.391321Z"
    },
    "collapsed": true
   },
   "outputs": [],
   "source": [
    "# 学習データの分量を0.1, 0.2, ..., 0.9に\n",
    "train_sizes = np.arange(0.1, 1.0, 0.1)"
   ]
  },
  {
   "cell_type": "code",
   "execution_count": 16,
   "metadata": {
    "ExecuteTime": {
     "end_time": "2017-06-22T08:21:06.851702Z",
     "start_time": "2017-06-22T08:21:06.395085Z"
    }
   },
   "outputs": [
    {
     "name": "stdout",
     "output_type": "stream",
     "text": [
      "train_size 10%: 76.09 +/- 10.82 %\n",
      "train_size 20%: 84.54 +/- 10.24 %\n",
      "train_size 30%: 88.08 +/- 8.08 %\n",
      "train_size 40%: 92.21 +/- 5.44 %\n",
      "train_size 50%: 92.79 +/- 5.06 %\n",
      "train_size 60%: 94.47 +/- 3.19 %\n",
      "train_size 70%: 95.02 +/- 3.18 %\n",
      "train_size 80%: 95.03 +/- 3.64 %\n",
      "train_size 90%: 95.87 +/- 5.72 %\n"
     ]
    }
   ],
   "source": [
    "all_mean = []\n",
    "all_std  = []\n",
    "\n",
    "for train_size in train_sizes:\n",
    "\n",
    "    ss = ShuffleSplit(n_splits=100,\n",
    "                      train_size=train_size,\n",
    "                      test_size=1-train_size)\n",
    "\n",
    "    scores = []\n",
    "    for train_index, test_index in ss.split(X):\n",
    "\n",
    "        X_train, X_test = X[train_index], X[test_index]\n",
    "        y_train, y_test = y[train_index], y[test_index]\n",
    "\n",
    "        clf.fit(X_train, y_train)\n",
    "        score = clf.score(X_test, y_test)\n",
    "        scores.append(score)\n",
    "\n",
    "    scores = np.array(scores)\n",
    "    print(\"train_size {0:.0f}%: {1:4.2f} +/- {2:4.2f} %\".format(train_size    * 100, \n",
    "                                                                scores.mean() * 100, \n",
    "                                                                scores.std()  * 100))\n",
    "    all_mean.append(scores.mean() * 100)\n",
    "    all_std.append(scores.std() * 100)"
   ]
  },
  {
   "cell_type": "code",
   "execution_count": 17,
   "metadata": {
    "ExecuteTime": {
     "end_time": "2017-06-22T08:21:06.971377Z",
     "start_time": "2017-06-22T08:21:06.853099Z"
    }
   },
   "outputs": [
    {
     "data": {
      "text/plain": [
       "[<matplotlib.lines.Line2D at 0x11875fdd8>]"
      ]
     },
     "execution_count": 17,
     "metadata": {},
     "output_type": "execute_result"
    },
    {
     "data": {
      "image/png": "[encoded data removed]",
      "text/plain": [
       "<matplotlib.figure.Figure at 0x1186d1ac8>"
      ]
     },
     "metadata": {},
     "output_type": "display_data"
    }
   ],
   "source": [
    "plt.plot(train_sizes, all_mean)"
   ]
  },
  {
   "cell_type": "code",
   "execution_count": 18,
   "metadata": {
    "ExecuteTime": {
     "end_time": "2017-06-22T08:21:07.077305Z",
     "start_time": "2017-06-22T08:21:06.972727Z"
    }
   },
   "outputs": [
    {
     "data": {
      "text/plain": [
       "(0, 1)"
      ]
     },
     "execution_count": 18,
     "metadata": {},
     "output_type": "execute_result"
    },
    {
     "data": {
      "image/png": "[encoded data removed]",
      "text/plain": [
       "<matplotlib.figure.Figure at 0x1187857b8>"
      ]
     },
     "metadata": {},
     "output_type": "display_data"
    }
   ],
   "source": [
    "plt.plot(train_sizes, all_mean)\n",
    "plt.ylim(70,100)\n",
    "plt.xlim(0,1)"
   ]
  },
  {
   "cell_type": "code",
   "execution_count": 19,
   "metadata": {
    "ExecuteTime": {
     "end_time": "2017-06-22T08:21:07.229120Z",
     "start_time": "2017-06-22T08:21:07.078399Z"
    }
   },
   "outputs": [
    {
     "data": {
      "text/plain": [
       "<matplotlib.text.Text at 0x118869e48>"
      ]
     },
     "execution_count": 19,
     "metadata": {},
     "output_type": "execute_result"
    },
    {
     "data": {
      "image/png": "[encoded data removed]",
      "text/plain": [
       "<matplotlib.figure.Figure at 0x11878cdd8>"
      ]
     },
     "metadata": {},
     "output_type": "display_data"
    }
   ],
   "source": [
    "plt.plot(train_sizes, all_mean)\n",
    "plt.ylim(70,100)\n",
    "plt.xlim(0,1)\n",
    "plt.errorbar(train_sizes, all_mean, yerr=all_std)\n",
    "plt.xlabel(\"training size [%]\")\n",
    "plt.ylabel(\"recognition rate\")\n",
    "plt.title(\"Average of 10 hold-out tests for different training size\")"
   ]
  },
  {
   "cell_type": "code",
   "execution_count": null,
   "metadata": {
    "collapsed": true
   },
   "outputs": [],
   "source": []
  }
 ],
 "metadata": {
  "anaconda-cloud": {},
  "kernelspec": {
   "display_name": "Python 3",
   "language": "python",
   "name": "python3"
  },
  "language_info": {
   "codemirror_mode": {
    "name": "ipython",
    "version": 3
   },
   "file_extension": ".py",
   "mimetype": "text/x-python",
   "name": "python",
   "nbconvert_exporter": "python",
   "pygments_lexer": "ipython3",
   "version": "3.6.1"
  },
  "toc": {
   "colors": {
    "hover_highlight": "#DAA520",
    "running_highlight": "#FF0000",
    "selected_highlight": "#FFD700"
   },
   "moveMenuLeft": true,
   "nav_menu": {
    "height": "12px",
    "width": "252px"
   },
   "navigate_menu": true,
   "number_sections": true,
   "sideBar": true,
   "threshold": 4,
   "toc_cell": false,
   "toc_section_display": "block",
   "toc_window_display": false,
   "widenNotebook": false
  }
 },
 "nbformat": 4,
 "nbformat_minor": 1
}
