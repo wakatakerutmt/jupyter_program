{
 "cells": [
  {
   "cell_type": "code",
   "execution_count": 1,
   "metadata": {
    "ExecuteTime": {
     "end_time": "2017-06-22T08:22:11.186554Z",
     "start_time": "2017-06-22T08:22:10.528322Z"
    }
   },
   "outputs": [
    {
     "name": "stdout",
     "output_type": "stream",
     "text": [
      "1.0\n",
      "0.982456140351\n",
      "0.964912280702\n",
      "0.894736842105\n",
      "0.947368421053\n",
      "0.982456140351\n",
      "0.859649122807\n",
      "0.982456140351\n",
      "0.912280701754\n",
      "1.0\n"
     ]
    }
   ],
   "source": [
    "import numpy as np\n",
    "\n",
    "from sklearn.datasets import load_breast_cancer\n",
    "data = load_breast_cancer()\n",
    "\n",
    "X = data.data\n",
    "y = data.target\n",
    "\n",
    "from sklearn import linear_model\n",
    "clf = linear_model.LogisticRegression()\n",
    "\n",
    "from sklearn.model_selection import KFold\n",
    "ss = KFold(n_splits=10, shuffle=True)\n",
    "\n",
    "for train_index, test_index in ss.split(X, y):\n",
    "\n",
    "    X_train, X_test = X[train_index], X[test_index]\n",
    "    y_train, y_test = y[train_index], y[test_index]\n",
    "    \n",
    "    clf.fit(X_train, y_train)\n",
    "    print(clf.score(X_test, y_test))"
   ]
  },
  {
   "cell_type": "code",
   "execution_count": 2,
   "metadata": {
    "ExecuteTime": {
     "end_time": "2017-06-22T08:22:11.193135Z",
     "start_time": "2017-06-22T08:22:11.187737Z"
    },
    "scrolled": true
   },
   "outputs": [
    {
     "name": "stdout",
     "output_type": "stream",
     "text": [
      "(array([0, 1]), array([212, 357]))\n",
      "[ 0.37258348  0.62741652]\n"
     ]
    }
   ],
   "source": [
    "print(np.unique(y, return_counts=True))\n",
    "print(np.unique(y, return_counts=True)[1] / y.size)"
   ]
  },
  {
   "cell_type": "code",
   "execution_count": 3,
   "metadata": {
    "ExecuteTime": {
     "end_time": "2017-06-22T08:22:11.213567Z",
     "start_time": "2017-06-22T08:22:11.194669Z"
    }
   },
   "outputs": [
    {
     "name": "stdout",
     "output_type": "stream",
     "text": [
      "[ 0.3671875  0.6328125] 512 [ 0.42105263  0.57894737] 57\n",
      "[ 0.38085938  0.61914062] 512 [ 0.29824561  0.70175439] 57\n",
      "[ 0.36914062  0.63085938] 512 [ 0.40350877  0.59649123] 57\n",
      "[ 0.375  0.625] 512 [ 0.35087719  0.64912281] 57\n",
      "[ 0.3828125  0.6171875] 512 [ 0.28070175  0.71929825] 57\n",
      "[ 0.35546875  0.64453125] 512 [ 0.52631579  0.47368421] 57\n",
      "[ 0.36328125  0.63671875] 512 [ 0.45614035  0.54385965] 57\n",
      "[ 0.37695312  0.62304688] 512 [ 0.33333333  0.66666667] 57\n",
      "[ 0.37109375  0.62890625] 512 [ 0.38596491  0.61403509] 57\n",
      "[ 0.38401559  0.61598441] 513 [ 0.26785714  0.73214286] 56\n"
     ]
    }
   ],
   "source": [
    "ss = KFold(n_splits=10, shuffle=True)\n",
    "\n",
    "for train_index, test_index in ss.split(X, y):\n",
    "\n",
    "    X_train, X_test = X[train_index], X[test_index]\n",
    "    y_train, y_test = y[train_index], y[test_index]\n",
    "    \n",
    "    print(np.unique(y_train, return_counts=True)[1] / y_train.size, y_train.size, \n",
    "          np.unique(y_test,  return_counts=True)[1] / y_test.size,  y_test.size)\n",
    "    "
   ]
  },
  {
   "cell_type": "code",
   "execution_count": 4,
   "metadata": {
    "ExecuteTime": {
     "end_time": "2017-06-22T08:22:11.240219Z",
     "start_time": "2017-06-22T08:22:11.214836Z"
    }
   },
   "outputs": [
    {
     "name": "stdout",
     "output_type": "stream",
     "text": [
      "[ 0.37181996  0.62818004] 511 [ 0.37931034  0.62068966] 58\n",
      "[ 0.37181996  0.62818004] 511 [ 0.37931034  0.62068966] 58\n",
      "[ 0.37304688  0.62695312] 512 [ 0.36842105  0.63157895] 57\n",
      "[ 0.37304688  0.62695312] 512 [ 0.36842105  0.63157895] 57\n",
      "[ 0.37304688  0.62695312] 512 [ 0.36842105  0.63157895] 57\n",
      "[ 0.37304688  0.62695312] 512 [ 0.36842105  0.63157895] 57\n",
      "[ 0.37304688  0.62695312] 512 [ 0.36842105  0.63157895] 57\n",
      "[ 0.37231969  0.62768031] 513 [ 0.375  0.625] 56\n",
      "[ 0.37231969  0.62768031] 513 [ 0.375  0.625] 56\n",
      "[ 0.37231969  0.62768031] 513 [ 0.375  0.625] 56\n"
     ]
    }
   ],
   "source": [
    "from sklearn.model_selection import StratifiedKFold\n",
    "ss = StratifiedKFold(n_splits=10, shuffle=True)\n",
    "\n",
    "for train_index, test_index in ss.split(X, y):\n",
    "\n",
    "    X_train, X_test = X[train_index], X[test_index]\n",
    "    y_train, y_test = y[train_index], y[test_index]\n",
    "    \n",
    "    print(np.unique(y_train, return_counts=True)[1] / y_train.size, y_train.size, \n",
    "          np.unique(y_test,  return_counts=True)[1] / y_test.size,  y_test.size)\n",
    "    "
   ]
  },
  {
   "cell_type": "code",
   "execution_count": 5,
   "metadata": {
    "ExecuteTime": {
     "end_time": "2017-06-22T08:22:11.302556Z",
     "start_time": "2017-06-22T08:22:11.241649Z"
    }
   },
   "outputs": [],
   "source": [
    "from sklearn.model_selection import cross_val_score\n",
    "ave_score = cross_val_score(clf, \n",
    "                            X, y, \n",
    "                            cv=10) # StratifiedKFold"
   ]
  },
  {
   "cell_type": "code",
   "execution_count": 6,
   "metadata": {
    "ExecuteTime": {
     "end_time": "2017-06-22T08:22:11.306973Z",
     "start_time": "2017-06-22T08:22:11.303863Z"
    }
   },
   "outputs": [
    {
     "name": "stdout",
     "output_type": "stream",
     "text": [
      "95.09 +/- 1.85 %\n"
     ]
    }
   ],
   "source": [
    "print(\"{0:4.2f} +/- {1:4.2f} %\".format(ave_score.mean() * 100, ave_score.std() * 100))"
   ]
  },
  {
   "cell_type": "code",
   "execution_count": null,
   "metadata": {
    "collapsed": true
   },
   "outputs": [],
   "source": []
  }
 ],
 "metadata": {
  "anaconda-cloud": {},
  "kernelspec": {
   "display_name": "Python 3",
   "language": "python",
   "name": "python3"
  },
  "language_info": {
   "codemirror_mode": {
    "name": "ipython",
    "version": 3
   },
   "file_extension": ".py",
   "mimetype": "text/x-python",
   "name": "python",
   "nbconvert_exporter": "python",
   "pygments_lexer": "ipython3",
   "version": "3.6.1"
  },
  "toc": {
   "colors": {
    "hover_highlight": "#DAA520",
    "running_highlight": "#FF0000",
    "selected_highlight": "#FFD700"
   },
   "moveMenuLeft": true,
   "nav_menu": {
    "height": "12px",
    "width": "252px"
   },
   "navigate_menu": true,
   "number_sections": true,
   "sideBar": true,
   "threshold": 4,
   "toc_cell": false,
   "toc_section_display": "block",
   "toc_window_display": false,
   "widenNotebook": false
  }
 },
 "nbformat": 4,
 "nbformat_minor": 1
}
