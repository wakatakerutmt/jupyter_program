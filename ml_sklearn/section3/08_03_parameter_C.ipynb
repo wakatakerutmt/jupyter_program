{
 "cells": [
  {
   "cell_type": "code",
   "execution_count": null,
   "metadata": {
    "ExecuteTime": {
     "end_time": "2017-06-22T08:34:23.735981Z",
     "start_time": "2017-06-22T08:34:23.287168Z"
    }
   },
   "outputs": [],
   "source": [
    "import numpy as np\n",
    "\n",
    "import matplotlib.pyplot as plt\n",
    "%matplotlib inline\n",
    "plt.set_cmap(plt.cm.Paired) # 色設定"
   ]
  },
  {
   "cell_type": "code",
   "execution_count": null,
   "metadata": {
    "ExecuteTime": {
     "end_time": "2017-06-22T08:34:24.023634Z",
     "start_time": "2017-06-22T08:34:23.737409Z"
    },
    "collapsed": true
   },
   "outputs": [],
   "source": [
    "from sklearn.datasets import load_breast_cancer\n",
    "data = load_breast_cancer()\n",
    "X = data.data\n",
    "y = data.target"
   ]
  },
  {
   "cell_type": "code",
   "execution_count": null,
   "metadata": {
    "ExecuteTime": {
     "end_time": "2017-06-22T08:34:24.054008Z",
     "start_time": "2017-06-22T08:34:24.024911Z"
    },
    "collapsed": true
   },
   "outputs": [],
   "source": [
    "from sklearn.model_selection import ShuffleSplit\n",
    "ss = ShuffleSplit(n_splits=1, \n",
    "                  train_size=0.8, \n",
    "                  test_size=0.2, \n",
    "                  random_state=0)\n",
    "\n",
    "train_index, test_index = next(ss.split(X, y))\n",
    "\n",
    "X_train, X_test = X[train_index], X[test_index]\n",
    "y_train, y_test = y[train_index], y[test_index]"
   ]
  },
  {
   "cell_type": "code",
   "execution_count": null,
   "metadata": {
    "ExecuteTime": {
     "end_time": "2017-06-22T08:34:24.058934Z",
     "start_time": "2017-06-22T08:34:24.055005Z"
    },
    "collapsed": true
   },
   "outputs": [],
   "source": [
    "from sklearn.preprocessing import MinMaxScaler\n",
    "scaler = MinMaxScaler()\n",
    "scaler.fit(X_train)\n",
    "X_train = scaler.transform(X_train)\n",
    "X_test  = scaler.transform(X_test)"
   ]
  },
  {
   "cell_type": "code",
   "execution_count": null,
   "metadata": {
    "collapsed": true
   },
   "outputs": [],
   "source": []
  },
  {
   "cell_type": "code",
   "execution_count": null,
   "metadata": {
    "collapsed": true
   },
   "outputs": [],
   "source": []
  },
  {
   "cell_type": "code",
   "execution_count": null,
   "metadata": {
    "ExecuteTime": {
     "end_time": "2017-06-22T08:34:24.102579Z",
     "start_time": "2017-06-22T08:34:24.060133Z"
    },
    "collapsed": true
   },
   "outputs": [],
   "source": [
    "from sklearn.svm import SVC\n",
    "clf = SVC(kernel='rbf')"
   ]
  },
  {
   "cell_type": "code",
   "execution_count": null,
   "metadata": {
    "ExecuteTime": {
     "end_time": "2017-06-22T08:34:24.114775Z",
     "start_time": "2017-06-22T08:34:24.104072Z"
    }
   },
   "outputs": [],
   "source": [
    "clf.C = 1\n",
    "clf.fit(X_train, y_train)\n",
    "clf.score(X_test, y_test)"
   ]
  },
  {
   "cell_type": "code",
   "execution_count": null,
   "metadata": {
    "ExecuteTime": {
     "end_time": "2017-06-22T08:34:24.124143Z",
     "start_time": "2017-06-22T08:34:24.116230Z"
    }
   },
   "outputs": [],
   "source": [
    "clf.C = 1000\n",
    "clf.fit(X_train, y_train)\n",
    "clf.score(X_test, y_test)"
   ]
  },
  {
   "cell_type": "code",
   "execution_count": null,
   "metadata": {
    "ExecuteTime": {
     "end_time": "2017-06-22T08:34:24.128251Z",
     "start_time": "2017-06-22T08:34:24.125825Z"
    },
    "collapsed": true
   },
   "outputs": [],
   "source": [
    "import time"
   ]
  },
  {
   "cell_type": "code",
   "execution_count": null,
   "metadata": {
    "ExecuteTime": {
     "end_time": "2017-06-22T08:34:24.461538Z",
     "start_time": "2017-06-22T08:34:24.129975Z"
    }
   },
   "outputs": [],
   "source": [
    "C_range_exp = np.arange(-20.,20.)\n",
    "C_range = 10 ** C_range_exp\n",
    "\n",
    "scores = []\n",
    "comp_time = []\n",
    "\n",
    "for C in C_range:\n",
    "    clf.C = C\n",
    "\n",
    "    st = time.time()\n",
    "    clf.fit(X_train, y_train)\n",
    "    comp_time.append(time.time() - st)\n",
    "\n",
    "    score = clf.score(X_test, y_test)\n",
    "    print(C, score)\n",
    "    scores.append(score)\n",
    "\n",
    "scores = np.array(scores)\n",
    "comp_time = np.array(comp_time)"
   ]
  },
  {
   "cell_type": "code",
   "execution_count": null,
   "metadata": {
    "ExecuteTime": {
     "end_time": "2017-06-22T08:34:24.896415Z",
     "start_time": "2017-06-22T08:34:24.462874Z"
    },
    "scrolled": false
   },
   "outputs": [],
   "source": [
    "plt.plot(C_range_exp, scores)\n",
    "plt.ylabel(\"accuracy\")\n",
    "plt.xlabel(r\"$\\log_{10}$(C)\");\n",
    "plt.show()\n",
    "\n",
    "plt.plot(C_range_exp, comp_time)\n",
    "plt.ylabel(\"computation time [sec]\")\n",
    "plt.xlabel(r\"$\\log_{10}$(C)\");"
   ]
  },
  {
   "cell_type": "code",
   "execution_count": null,
   "metadata": {
    "ExecuteTime": {
     "end_time": "2017-06-22T08:34:24.900136Z",
     "start_time": "2017-06-22T08:34:24.897812Z"
    },
    "collapsed": true
   },
   "outputs": [],
   "source": [
    "from sklearn.linear_model import LogisticRegression\n",
    "clf = LogisticRegression()"
   ]
  },
  {
   "cell_type": "code",
   "execution_count": null,
   "metadata": {
    "ExecuteTime": {
     "end_time": "2017-06-22T08:34:24.907449Z",
     "start_time": "2017-06-22T08:34:24.901480Z"
    }
   },
   "outputs": [],
   "source": [
    "clf.C = 1\n",
    "clf.fit(X_train, y_train)\n",
    "clf.score(X_test, y_test)"
   ]
  },
  {
   "cell_type": "code",
   "execution_count": null,
   "metadata": {
    "ExecuteTime": {
     "end_time": "2017-06-22T08:34:24.915696Z",
     "start_time": "2017-06-22T08:34:24.908691Z"
    }
   },
   "outputs": [],
   "source": [
    "clf.C = 100\n",
    "clf.fit(X_train, y_train)\n",
    "clf.score(X_test, y_test)"
   ]
  },
  {
   "cell_type": "code",
   "execution_count": null,
   "metadata": {
    "ExecuteTime": {
     "end_time": "2017-06-22T08:34:25.237930Z",
     "start_time": "2017-06-22T08:34:24.917148Z"
    }
   },
   "outputs": [],
   "source": [
    "C_range_exp = np.arange(-20., 15.)\n",
    "C_range = 10 ** C_range_exp\n",
    "\n",
    "scores = []\n",
    "comp_time = []\n",
    "\n",
    "for C in C_range:\n",
    "    clf.C = C\n",
    "\n",
    "    st = time.time()\n",
    "    clf.fit(X_train, y_train)\n",
    "    comp_time.append(time.time() - st)\n",
    "\n",
    "    score = clf.score(X_test, y_test)\n",
    "    print(C, score)\n",
    "    scores.append(score)\n",
    "\n",
    "scores = np.array(scores)\n",
    "comp_time = np.array(comp_time)"
   ]
  },
  {
   "cell_type": "code",
   "execution_count": null,
   "metadata": {
    "ExecuteTime": {
     "end_time": "2017-06-22T08:34:25.503913Z",
     "start_time": "2017-06-22T08:34:25.238969Z"
    }
   },
   "outputs": [],
   "source": [
    "plt.plot(C_range_exp, scores)\n",
    "plt.ylabel(\"accuracy\")\n",
    "plt.xlabel(r\"$\\log_{10}$(C)\");\n",
    "plt.show()\n",
    "\n",
    "plt.plot(C_range_exp, comp_time)\n",
    "plt.ylabel(\"computation time [sec]\")\n",
    "plt.xlabel(r\"$\\log_{10}$(C)\");"
   ]
  },
  {
   "cell_type": "code",
   "execution_count": null,
   "metadata": {
    "collapsed": true
   },
   "outputs": [],
   "source": []
  },
  {
   "cell_type": "markdown",
   "metadata": {},
   "source": [
    "scikit-learn document: [Logistic regression](http://scikit-learn.org/stable/modules/linear_model.html#logistic-regression)\n",
    "\n",
    "$$\n",
    "\\min_{w,b}\n",
    "\\frac{1}{2} \\| w \\|_2^2\n",
    "+ C \\sum_{i=1}^N\n",
    "\\log(\\exp(-y_i(w^T x_i + b)) + 1)\n",
    "$$"
   ]
  },
  {
   "cell_type": "markdown",
   "metadata": {},
   "source": [
    "scikit-learn document: [SVC](http://scikit-learn.org/stable/modules/svm.html#svc)\n",
    "\n",
    "$$\n",
    "\\min_{w, b, \\{\\xi_i\\} }\n",
    "\\frac{1}{2} \\| w \\|_2^2\n",
    "+ C \\sum_{i=1}^N \\xi_i\n",
    "\\quad \\text{subject to}\\quad \n",
    "y_i(w^T x_i + b) \\ge 1 - \\xi_i\n",
    "$$\n"
   ]
  },
  {
   "cell_type": "markdown",
   "metadata": {},
   "source": [
    "scikit-learn document: [Kernel functions](http://scikit-learn.org/stable/modules/svm.html#svm-kernels)\n",
    "\n",
    "$$\n",
    "\\min_{w, b, \\{\\xi_i\\} }\n",
    "\\frac{1}{2} \\| w \\|_2^2\n",
    "+ C \\sum_{i=1}^N \\xi_i\n",
    "\\quad \\text{subject to}\\quad \n",
    "y_i(w^T \\phi(x_i) + b) \\ge 1 - \\xi_i\n",
    "$$\n",
    "\n",
    "$$\n",
    "\\text{rbf: }\\quad\n",
    "K(x, x')=\n",
    "\\phi(x)^T \\phi(x')=\n",
    "\\exp(-\\gamma \\| x-x' \\|^2)\n",
    "$$"
   ]
  },
  {
   "cell_type": "code",
   "execution_count": null,
   "metadata": {
    "collapsed": true
   },
   "outputs": [],
   "source": []
  },
  {
   "cell_type": "code",
   "execution_count": null,
   "metadata": {
    "collapsed": true
   },
   "outputs": [],
   "source": []
  },
  {
   "cell_type": "code",
   "execution_count": null,
   "metadata": {
    "ExecuteTime": {
     "end_time": "2017-06-22T08:34:25.626690Z",
     "start_time": "2017-06-22T08:34:25.505075Z"
    }
   },
   "outputs": [],
   "source": [
    "from sklearn.datasets import make_blobs\n",
    "\n",
    "X, y = make_blobs(n_samples=200, # 20個生成\n",
    "                  n_features=2, # 2次元\n",
    "                  centers=2,    # クラスタ中心2個\n",
    "                  cluster_std =2, # クラスタの大きさ（標準偏差）\n",
    "                  random_state=3   # 乱数種（再現用）\n",
    "                 )\n",
    "plt.scatter(X[:, 0], X[:, 1], c=y, s=50, edgecolors='k'); # 2次元散布図でプロット"
   ]
  },
  {
   "cell_type": "code",
   "execution_count": null,
   "metadata": {
    "ExecuteTime": {
     "end_time": "2017-06-22T08:34:25.654558Z",
     "start_time": "2017-06-22T08:34:25.627812Z"
    },
    "collapsed": true
   },
   "outputs": [],
   "source": [
    "\n",
    "def plotSVMBoundary(X, clf, mesh=True, boundary=True):\n",
    "    \n",
    "    # if SVM, draw margine lines\n",
    "    colors = ['k']*3\n",
    "    linestyles = ['-']*3\n",
    "    levels = [-1, 0, 1]\n",
    "    # if SVM, plot support vecters\n",
    "    plt.scatter(clf.support_vectors_[:, 0], \n",
    "                clf.support_vectors_[:, 1],\n",
    "                s=80, facecolors='none', edgecolors='k')\n",
    "    \n",
    "    # plot range\n",
    "    x_min = min(X[:,0])\n",
    "    x_max = max(X[:,0])\n",
    "    y_min = min(X[:,1])\n",
    "    y_max = max(X[:,1])\n",
    "\n",
    "    # visualizing decision function\n",
    "    XX, YY = np.mgrid[x_min:x_max:200j, y_min:y_max:200j] # make a grid\n",
    "    Z = clf.decision_function(np.c_[XX.ravel(), YY.ravel()]) # evaluate the value \n",
    "    Z = Z.reshape(XX.shape) # just reshape\n",
    "\n",
    "    if mesh:\n",
    "        plt.pcolormesh(XX, YY, Z > 0, cmap=plt.cm.Paired, zorder=-10)\n",
    "    if boundary:\n",
    "        plt.contour(XX, YY, Z, \n",
    "                    colors=colors,\n",
    "                    linestyles=linestyles,\n",
    "                    levels=levels) # draw lines (level=0:boundary, level=+-1:margine lines)\n",
    "\n",
    "    plt.xlim(x_min, x_max)\n",
    "    plt.ylim(y_min, y_max)"
   ]
  },
  {
   "cell_type": "code",
   "execution_count": null,
   "metadata": {
    "ExecuteTime": {
     "end_time": "2017-06-22T08:34:27.103086Z",
     "start_time": "2017-06-22T08:34:25.655741Z"
    },
    "scrolled": false
   },
   "outputs": [],
   "source": [
    "from sklearn.svm import SVC\n",
    "\n",
    "clf = SVC()\n",
    "clf.kernel = 'rbf'\n",
    "    \n",
    "for C in [1e-10, 1e-5, 1, 1e5, 1e10, 1e20]:\n",
    "   \n",
    "    clf.C = C\n",
    "    clf.fit(X,y)\n",
    "    plotSVMBoundary(X, clf, mesh=True)\n",
    "    plt.scatter(X[:, 0], X[:, 1], marker='o', s=50, c=y, edgecolors='k')\n",
    "    plt.title(\"C={0:.0e}\".format(C))\n",
    "    \n",
    "    plt.show()"
   ]
  },
  {
   "cell_type": "code",
   "execution_count": null,
   "metadata": {
    "collapsed": true
   },
   "outputs": [],
   "source": []
  },
  {
   "cell_type": "code",
   "execution_count": null,
   "metadata": {
    "collapsed": true
   },
   "outputs": [],
   "source": []
  },
  {
   "cell_type": "code",
   "execution_count": null,
   "metadata": {
    "ExecuteTime": {
     "end_time": "2017-06-22T08:34:28.737387Z",
     "start_time": "2017-06-22T08:34:27.104465Z"
    },
    "scrolled": false
   },
   "outputs": [],
   "source": [
    "from sklearn.svm import SVC\n",
    "\n",
    "clf = SVC()\n",
    "clf.kernel = 'rbf'\n",
    "    \n",
    "for C in 10 ** np.arange(-1.0, 6.0):\n",
    "   \n",
    "    clf.C = C\n",
    "    clf.fit(X,y)\n",
    "    plotSVMBoundary(X, clf, mesh=True)\n",
    "    plt.scatter(X[:, 0], X[:, 1], marker='o', s=50, c=y, edgecolors='k')\n",
    "    plt.title(\"C={0:.0e}\".format(C))\n",
    "    \n",
    "    plt.show()"
   ]
  },
  {
   "cell_type": "code",
   "execution_count": null,
   "metadata": {
    "collapsed": true
   },
   "outputs": [],
   "source": []
  },
  {
   "cell_type": "code",
   "execution_count": null,
   "metadata": {
    "collapsed": true
   },
   "outputs": [],
   "source": [
    "\n"
   ]
  },
  {
   "cell_type": "code",
   "execution_count": null,
   "metadata": {
    "ExecuteTime": {
     "end_time": "2017-06-22T08:34:28.868632Z",
     "start_time": "2017-06-22T08:34:28.738743Z"
    }
   },
   "outputs": [],
   "source": [
    "from sklearn.datasets import make_blobs\n",
    "\n",
    "X, y = make_blobs(n_samples=200, # 20個生成\n",
    "                  n_features=2, # 2次元\n",
    "                  centers=[(-2, -2), (2, 2)],    # クラスタ中心2個\n",
    "                  cluster_std=2, # クラスタの大きさ（標準偏差）\n",
    "                  # random_state=3   # 乱数種（再現用）\n",
    "                 )\n",
    "plt.scatter(X[:, 0], X[:, 1], c=y, s=50, edgecolors='k'); # 2次元散布図でプロット\n",
    "plt.xlim(-10,10)\n",
    "plt.ylim(-10,10)"
   ]
  },
  {
   "cell_type": "code",
   "execution_count": null,
   "metadata": {
    "ExecuteTime": {
     "end_time": "2017-06-22T08:34:30.628252Z",
     "start_time": "2017-06-22T08:34:28.869964Z"
    },
    "scrolled": false
   },
   "outputs": [],
   "source": [
    "from sklearn.svm import SVC\n",
    "\n",
    "clf = SVC()\n",
    "clf.kernel = 'rbf'\n",
    "\n",
    "X_train, y_train = make_blobs(n_samples=200, # 20個生成\n",
    "              n_features=2, # 2次元\n",
    "              centers=[(-2, -2), (2, 2)],    # クラスタ中心2個\n",
    "              cluster_std=2, # クラスタの大きさ（標準偏差）\n",
    "              # random_state=3   # 乱数種（再現用）\n",
    "             )\n",
    "\n",
    "X_test, y_test = make_blobs(n_samples=200, # 20個生成\n",
    "      n_features=2, # 2次元\n",
    "      centers=[(-2, -2), (2, 2)],    # クラスタ中心2個\n",
    "      cluster_std=2, # クラスタの大きさ（標準偏差）\n",
    "      # random_state=3   # 乱数種（再現用）\n",
    "     )\n",
    "\n",
    "\n",
    "for C in 10 ** np.arange(-1.0, 6.0):\n",
    "   \n",
    "    clf.C = C\n",
    "    \n",
    "    plt.scatter(X_train[:, 0], X_train[:, 1], marker='o', s=50, c=y, label=\"training\", edgecolors='k')\n",
    "\n",
    "    clf.fit(X_train, y_train)\n",
    "    train_score = clf.score(X_train, y_train)\n",
    "\n",
    "    plotSVMBoundary(X_train, clf, mesh=True)\n",
    "    \n",
    "    plt.scatter(X_test[:, 0], X_test[:, 1], marker='*', s=50, c=y, label=\"test\", edgecolors='k')\n",
    "\n",
    "    test_score = clf.score(X_test, y_test)\n",
    "    \n",
    "    plt.title(\"C={0:.0e}, train {1}, test {2}\".format(C, train_score, test_score))\n",
    "\n",
    "    plt.legend(bbox_to_anchor=(1.05, 1), loc=2, borderaxespad=0.)\n",
    "    \n",
    "    plt.show()"
   ]
  },
  {
   "cell_type": "code",
   "execution_count": null,
   "metadata": {
    "collapsed": true
   },
   "outputs": [],
   "source": []
  },
  {
   "cell_type": "code",
   "execution_count": null,
   "metadata": {
    "collapsed": true
   },
   "outputs": [],
   "source": []
  }
 ],
 "metadata": {
  "anaconda-cloud": {},
  "kernelspec": {
   "display_name": "Python 3",
   "language": "python",
   "name": "python3"
  },
  "language_info": {
   "codemirror_mode": {
    "name": "ipython",
    "version": 3
   },
   "file_extension": ".py",
   "mimetype": "text/x-python",
   "name": "python",
   "nbconvert_exporter": "python",
   "pygments_lexer": "ipython3",
   "version": "3.6.1"
  },
  "toc": {
   "colors": {
    "hover_highlight": "#DAA520",
    "running_highlight": "#FF0000",
    "selected_highlight": "#FFD700"
   },
   "moveMenuLeft": true,
   "nav_menu": {
    "height": "12px",
    "width": "252px"
   },
   "navigate_menu": true,
   "number_sections": true,
   "sideBar": true,
   "threshold": 4,
   "toc_cell": false,
   "toc_section_display": "block",
   "toc_window_display": false,
   "widenNotebook": false
  }
 },
 "nbformat": 4,
 "nbformat_minor": 1
}
