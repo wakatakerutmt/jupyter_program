{
 "cells": [
  {
   "cell_type": "code",
   "execution_count": null,
   "metadata": {
    "ExecuteTime": {
     "end_time": "2017-06-22T08:27:19.881826Z",
     "start_time": "2017-06-22T08:27:19.324587Z"
    },
    "collapsed": true
   },
   "outputs": [],
   "source": [
    "import numpy as np\n",
    "from sklearn.datasets import make_classification\n",
    "\n",
    "X, y = make_classification(n_samples=20, # 20個生成\n",
    "                           n_features=2, # 2次元\n",
    "                           n_classes=3, # 3クラス\n",
    "                           n_clusters_per_class=1,\n",
    "                           n_informative=2,\n",
    "                           n_redundant=0,\n",
    "                           n_repeated=0,\n",
    "                           random_state=8   # 乱数種（再現用）\n",
    "                           )"
   ]
  },
  {
   "cell_type": "code",
   "execution_count": null,
   "metadata": {
    "ExecuteTime": {
     "end_time": "2017-06-22T08:27:19.891748Z",
     "start_time": "2017-06-22T08:27:19.883007Z"
    }
   },
   "outputs": [],
   "source": [
    "X, y"
   ]
  },
  {
   "cell_type": "code",
   "execution_count": null,
   "metadata": {
    "ExecuteTime": {
     "end_time": "2017-06-22T08:27:20.061044Z",
     "start_time": "2017-06-22T08:27:19.893037Z"
    }
   },
   "outputs": [],
   "source": [
    "import matplotlib.pyplot as plt\n",
    "%matplotlib inline\n",
    "plt.set_cmap(plt.cm.brg);"
   ]
  },
  {
   "cell_type": "code",
   "execution_count": null,
   "metadata": {
    "ExecuteTime": {
     "end_time": "2017-06-22T08:27:20.165946Z",
     "start_time": "2017-06-22T08:27:20.062157Z"
    },
    "scrolled": true
   },
   "outputs": [],
   "source": [
    "plt.scatter(X[:, 0], X[:, 1], c=y, s=50, edgecolors='k');"
   ]
  },
  {
   "cell_type": "code",
   "execution_count": null,
   "metadata": {
    "ExecuteTime": {
     "end_time": "2017-06-22T08:27:20.184249Z",
     "start_time": "2017-06-22T08:27:20.167119Z"
    },
    "collapsed": true
   },
   "outputs": [],
   "source": [
    "# 境界線を引く関数の定義\n",
    "\n",
    "def plotBoundary(X, clf, mesh=True, cmap=plt.get_cmap()):\n",
    "\n",
    "    # plot range\n",
    "    x_min = min(X[:,0])\n",
    "    x_max = max(X[:,0])\n",
    "    y_min = min(X[:,1])\n",
    "    y_max = max(X[:,1])\n",
    "\n",
    "    # visualizing decision function\n",
    "    XX, YY = np.mgrid[x_min:x_max:200j, y_min:y_max:200j] # make a grid\n",
    "    \n",
    "    Z = clf.predict(np.c_[XX.ravel(), YY.ravel()]) # evaluate the value \n",
    "    \n",
    "    Z = Z.reshape(XX.shape) # just reshape\n",
    "\n",
    "    if mesh:\n",
    "        plt.pcolormesh(XX, YY, Z, zorder=-10, cmap=cmap)\n",
    "\n",
    "    plt.xlim(x_min, x_max)\n",
    "    plt.ylim(y_min, y_max)"
   ]
  },
  {
   "cell_type": "code",
   "execution_count": null,
   "metadata": {
    "ExecuteTime": {
     "end_time": "2017-06-22T08:27:20.207833Z",
     "start_time": "2017-06-22T08:27:20.185785Z"
    },
    "collapsed": true
   },
   "outputs": [],
   "source": [
    "from sklearn import neighbors\n",
    "\n",
    "clf = neighbors.KNeighborsClassifier(n_neighbors=1)"
   ]
  },
  {
   "cell_type": "code",
   "execution_count": null,
   "metadata": {
    "ExecuteTime": {
     "end_time": "2017-06-22T08:27:20.366727Z",
     "start_time": "2017-06-22T08:27:20.208861Z"
    },
    "scrolled": true
   },
   "outputs": [],
   "source": [
    "clf.fit(X, y)\n",
    "\n",
    "plt.scatter(X[:, 0], X[:, 1], marker='o', s=50, c=y, edgecolors='k')\n",
    "\n",
    "plotBoundary(X, clf) # 境界線の描画"
   ]
  },
  {
   "cell_type": "code",
   "execution_count": null,
   "metadata": {
    "ExecuteTime": {
     "end_time": "2017-06-22T08:27:20.432992Z",
     "start_time": "2017-06-22T08:27:20.368068Z"
    },
    "collapsed": true
   },
   "outputs": [],
   "source": [
    "from sklearn import linear_model\n",
    "\n",
    "clf = linear_model.LogisticRegression()"
   ]
  },
  {
   "cell_type": "code",
   "execution_count": null,
   "metadata": {
    "ExecuteTime": {
     "end_time": "2017-06-22T08:27:20.612289Z",
     "start_time": "2017-06-22T08:27:20.433960Z"
    }
   },
   "outputs": [],
   "source": [
    "clf.fit(X, y)\n",
    "\n",
    "plt.scatter(X[:, 0], X[:, 1], marker='o', s=50, c=y, edgecolors='k')\n",
    "\n",
    "plotBoundary(X, clf) # 境界線の描画"
   ]
  },
  {
   "cell_type": "code",
   "execution_count": null,
   "metadata": {
    "ExecuteTime": {
     "end_time": "2017-06-22T08:27:20.616010Z",
     "start_time": "2017-06-22T08:27:20.613418Z"
    },
    "collapsed": true
   },
   "outputs": [],
   "source": [
    "from sklearn import svm\n",
    "\n",
    "clf = svm.SVC(kernel='linear', C=10)"
   ]
  },
  {
   "cell_type": "code",
   "execution_count": null,
   "metadata": {
    "ExecuteTime": {
     "end_time": "2017-06-22T08:27:20.788669Z",
     "start_time": "2017-06-22T08:27:20.617458Z"
    }
   },
   "outputs": [],
   "source": [
    "clf.fit(X, y)\n",
    "\n",
    "plt.scatter(X[:, 0], X[:, 1], marker='o', s=50, c=y, edgecolors='k')\n",
    "\n",
    "plotBoundary(X, clf) # 境界線の描画"
   ]
  },
  {
   "cell_type": "code",
   "execution_count": null,
   "metadata": {
    "ExecuteTime": {
     "end_time": "2017-06-22T08:27:20.792500Z",
     "start_time": "2017-06-22T08:27:20.789899Z"
    },
    "collapsed": true
   },
   "outputs": [],
   "source": [
    "from sklearn import svm\n",
    "\n",
    "clf = svm.SVC(kernel='rbf', C=10)"
   ]
  },
  {
   "cell_type": "code",
   "execution_count": null,
   "metadata": {
    "ExecuteTime": {
     "end_time": "2017-06-22T08:27:20.989222Z",
     "start_time": "2017-06-22T08:27:20.794113Z"
    }
   },
   "outputs": [],
   "source": [
    "clf.fit(X, y)\n",
    "\n",
    "plt.scatter(X[:, 0], X[:, 1], marker='o', s=50, c=y, edgecolors='k')\n",
    "\n",
    "plotBoundary(X, clf) # 境界線の描画"
   ]
  },
  {
   "cell_type": "code",
   "execution_count": null,
   "metadata": {
    "collapsed": true
   },
   "outputs": [],
   "source": []
  },
  {
   "cell_type": "code",
   "execution_count": null,
   "metadata": {
    "collapsed": true
   },
   "outputs": [],
   "source": []
  },
  {
   "cell_type": "code",
   "execution_count": null,
   "metadata": {
    "collapsed": true
   },
   "outputs": [],
   "source": []
  },
  {
   "cell_type": "code",
   "execution_count": null,
   "metadata": {
    "collapsed": true
   },
   "outputs": [],
   "source": []
  },
  {
   "cell_type": "code",
   "execution_count": null,
   "metadata": {
    "collapsed": true
   },
   "outputs": [],
   "source": []
  },
  {
   "cell_type": "code",
   "execution_count": null,
   "metadata": {
    "ExecuteTime": {
     "end_time": "2017-06-22T08:27:21.016756Z",
     "start_time": "2017-06-22T08:27:20.990520Z"
    },
    "collapsed": true
   },
   "outputs": [],
   "source": [
    "# 境界線を引く関数の定義\n",
    "\n",
    "def plotBoundary2(X, clf, boundary=True):\n",
    "    colors = ['k'];\n",
    "    linestyles = ['-'];\n",
    "    levels = [0];\n",
    "\n",
    "    # plot range\n",
    "    x_min = min(X[:,0])\n",
    "    x_max = max(X[:,0])\n",
    "    y_min = min(X[:,1])\n",
    "    y_max = max(X[:,1])\n",
    "\n",
    "    # visualizing decision function\n",
    "    XX, YY = np.mgrid[x_min:x_max:200j, y_min:y_max:200j] # make a grid\n",
    "    \n",
    "    Z = clf.decision_function(np.c_[XX.ravel(), YY.ravel()]) # evaluate the value \n",
    "    \n",
    "    n_classes = Z.shape[1]\n",
    "    \n",
    "    for c in range(n_classes):\n",
    "        Zc = Z[:,c].reshape(XX.shape) # just reshape\n",
    "\n",
    "        if boundary:\n",
    "            plt.contour(XX, YY, Zc, \n",
    "                        colors=colors,\n",
    "                        linestyles=linestyles,\n",
    "                        levels=levels) # draw lines (level=0:boundary)\n",
    "\n",
    "    plt.xlim(x_min, x_max)\n",
    "    plt.ylim(y_min, y_max)"
   ]
  },
  {
   "cell_type": "code",
   "execution_count": null,
   "metadata": {
    "ExecuteTime": {
     "end_time": "2017-06-22T08:27:21.378744Z",
     "start_time": "2017-06-22T08:27:21.018112Z"
    }
   },
   "outputs": [],
   "source": [
    "clf = linear_model.LogisticRegression()\n",
    "\n",
    "clf.fit(X, y)\n",
    "\n",
    "plt.scatter(X[:, 0], X[:, 1], marker='o', s=50, c=y, edgecolors='k')\n",
    "plotBoundary(X, clf)\n",
    "plt.show()\n",
    "\n",
    "plt.scatter(X[:, 0], X[:, 1], marker='o', s=50, c=y, edgecolors='k')\n",
    "plotBoundary2(X, clf)"
   ]
  },
  {
   "cell_type": "code",
   "execution_count": null,
   "metadata": {
    "ExecuteTime": {
     "end_time": "2017-06-22T08:27:21.383854Z",
     "start_time": "2017-06-22T08:27:21.380132Z"
    }
   },
   "outputs": [],
   "source": [
    "clf"
   ]
  },
  {
   "cell_type": "code",
   "execution_count": null,
   "metadata": {
    "ExecuteTime": {
     "end_time": "2017-06-22T08:27:21.435081Z",
     "start_time": "2017-06-22T08:27:21.385292Z"
    },
    "collapsed": true
   },
   "outputs": [],
   "source": [
    "# 境界線を引く関数の定義\n",
    "\n",
    "def plotBoundary3(X, clf, mesh=True, boundary=True):\n",
    "    colors = ['k'];\n",
    "    linestyles = ['-.', '-', '--'];\n",
    "    levels = [-1,0,1];\n",
    "    cmaps = [plt.cm.Blues, plt.cm.Reds, plt.cm.Greens, plt.cm.Purples]\n",
    "    \n",
    "    # plot range\n",
    "    x_min = min(X[:,0])\n",
    "    x_max = max(X[:,0])\n",
    "    y_min = min(X[:,1])\n",
    "    y_max = max(X[:,1])\n",
    "\n",
    "    # visualizing decision function\n",
    "    XX, YY = np.mgrid[x_min:x_max:200j, y_min:y_max:200j] # make a grid\n",
    "    \n",
    "    Z = clf.decision_function(np.c_[XX.ravel(), YY.ravel()]) # evaluate the value \n",
    "    print(Z.shape)\n",
    "    n_classes = Z.shape[1]\n",
    "    \n",
    "    for c in range(n_classes):\n",
    "        Zc = Z[:,c].reshape(XX.shape) # just reshape\n",
    "        plt.show()\n",
    "        if mesh:\n",
    "            plt.pcolormesh(XX, YY, Zc, zorder=-10, cmap=cmaps[c])\n",
    "            plt.colorbar()\n",
    "            \n",
    "        if boundary:\n",
    "            plt.contour(XX, YY, Zc, \n",
    "                        colors=colors,\n",
    "                        linestyles=linestyles,\n",
    "                        levels=levels)\n",
    "\n",
    "    plt.xlim(x_min, x_max)\n",
    "    plt.ylim(y_min, y_max)"
   ]
  },
  {
   "cell_type": "code",
   "execution_count": null,
   "metadata": {
    "ExecuteTime": {
     "end_time": "2017-06-22T08:27:22.285152Z",
     "start_time": "2017-06-22T08:27:21.436570Z"
    },
    "scrolled": false
   },
   "outputs": [],
   "source": [
    "plt.scatter(X[:, 0], X[:, 1], marker='o', s=50, c=y, edgecolors='k')\n",
    "plotBoundary3(X, clf)"
   ]
  },
  {
   "cell_type": "code",
   "execution_count": null,
   "metadata": {
    "ExecuteTime": {
     "end_time": "2017-06-22T08:27:22.333723Z",
     "start_time": "2017-06-22T08:27:22.286559Z"
    },
    "collapsed": true
   },
   "outputs": [],
   "source": [
    "# 境界線を引く関数の定義\n",
    "\n",
    "import numpy.ma as ma # MaskedArray\n",
    "\n",
    "def plotBoundary4(X, clf, mesh=True, boundary=True):\n",
    "    colors = ['k'];\n",
    "    linestyles = ['-.', '-', '--'];\n",
    "    levels = [-1,0,1];\n",
    "    cmaps = [plt.cm.Blues, plt.cm.Reds, plt.cm.Greens, plt.cm.Purples]\n",
    "    \n",
    "    # plot range\n",
    "    x_min = min(X[:,0])\n",
    "    x_max = max(X[:,0])\n",
    "    y_min = min(X[:,1])\n",
    "    y_max = max(X[:,1])\n",
    "\n",
    "    # visualizing decision function\n",
    "    XX, YY = np.mgrid[x_min:x_max:200j, y_min:y_max:200j] # make a grid\n",
    "    \n",
    "    Z = clf.decision_function(np.c_[XX.ravel(), YY.ravel()]) # evaluate the value \n",
    "    \n",
    "    n_classes = Z.shape[1]\n",
    "    \n",
    "    Zmax = Z.argmax(axis=1).reshape(XX.shape)\n",
    "    \n",
    "    for c in range(n_classes):\n",
    "        Zc = ma.array(Z[:,c].reshape(XX.shape), mask=(Zmax != c))\n",
    "        \n",
    "        if mesh:\n",
    "            plt.pcolormesh(XX, YY, Zc, zorder=-10, cmap=cmaps[c])\n",
    "            \n",
    "        if boundary:\n",
    "            plt.contour(XX, YY, Zc, \n",
    "                        colors=colors,\n",
    "                        linestyles=linestyles,\n",
    "                        levels=levels)\n",
    "\n",
    "    plt.xlim(x_min, x_max)\n",
    "    plt.ylim(y_min, y_max)"
   ]
  },
  {
   "cell_type": "code",
   "execution_count": null,
   "metadata": {
    "ExecuteTime": {
     "end_time": "2017-06-22T08:27:22.644589Z",
     "start_time": "2017-06-22T08:27:22.335091Z"
    }
   },
   "outputs": [],
   "source": [
    "plt.scatter(X[:, 0], X[:, 1], marker='o', s=50, c=y, edgecolors='k')\n",
    "plotBoundary4(X, clf)"
   ]
  },
  {
   "cell_type": "code",
   "execution_count": null,
   "metadata": {
    "collapsed": true
   },
   "outputs": [],
   "source": []
  },
  {
   "cell_type": "code",
   "execution_count": null,
   "metadata": {
    "collapsed": true
   },
   "outputs": [],
   "source": []
  },
  {
   "cell_type": "code",
   "execution_count": null,
   "metadata": {
    "collapsed": true
   },
   "outputs": [],
   "source": []
  },
  {
   "cell_type": "code",
   "execution_count": null,
   "metadata": {
    "collapsed": true
   },
   "outputs": [],
   "source": []
  },
  {
   "cell_type": "code",
   "execution_count": null,
   "metadata": {
    "collapsed": true
   },
   "outputs": [],
   "source": []
  },
  {
   "cell_type": "code",
   "execution_count": null,
   "metadata": {
    "collapsed": true
   },
   "outputs": [],
   "source": []
  },
  {
   "cell_type": "code",
   "execution_count": null,
   "metadata": {
    "ExecuteTime": {
     "end_time": "2017-06-22T08:27:22.651497Z",
     "start_time": "2017-06-22T08:27:22.646135Z"
    }
   },
   "outputs": [],
   "source": [
    "clf = svm.SVC(kernel='linear', \n",
    "              decision_function_shape='ovr', C=10)\n",
    "clf.fit(X, y)"
   ]
  },
  {
   "cell_type": "code",
   "execution_count": null,
   "metadata": {
    "ExecuteTime": {
     "end_time": "2017-06-22T08:27:23.669317Z",
     "start_time": "2017-06-22T08:27:22.652715Z"
    },
    "scrolled": false
   },
   "outputs": [],
   "source": [
    "plt.scatter(X[:, 0], X[:, 1], marker='o', s=50, c=y, edgecolors='k')\n",
    "plotBoundary3(X, clf)\n",
    "plt.show()\n",
    "\n",
    "plotBoundary4(X, clf)"
   ]
  },
  {
   "cell_type": "code",
   "execution_count": null,
   "metadata": {
    "ExecuteTime": {
     "end_time": "2017-06-22T08:27:23.677714Z",
     "start_time": "2017-06-22T08:27:23.671013Z"
    }
   },
   "outputs": [],
   "source": [
    "clf = svm.SVC(kernel='rbf', \n",
    "              decision_function_shape='ovr', C=10)\n",
    "clf.fit(X, y)"
   ]
  },
  {
   "cell_type": "code",
   "execution_count": null,
   "metadata": {
    "ExecuteTime": {
     "end_time": "2017-06-22T08:27:24.675880Z",
     "start_time": "2017-06-22T08:27:23.679187Z"
    },
    "scrolled": false
   },
   "outputs": [],
   "source": [
    "plt.scatter(X[:, 0], X[:, 1], marker='o', s=50, c=y, edgecolors='k')\n",
    "plotBoundary3(X, clf)\n",
    "plt.show()\n",
    "plotBoundary4(X, clf)"
   ]
  },
  {
   "cell_type": "code",
   "execution_count": null,
   "metadata": {
    "collapsed": true
   },
   "outputs": [],
   "source": []
  },
  {
   "cell_type": "code",
   "execution_count": null,
   "metadata": {
    "collapsed": true
   },
   "outputs": [],
   "source": []
  },
  {
   "cell_type": "code",
   "execution_count": null,
   "metadata": {
    "collapsed": true
   },
   "outputs": [],
   "source": []
  },
  {
   "cell_type": "code",
   "execution_count": null,
   "metadata": {
    "collapsed": true
   },
   "outputs": [],
   "source": []
  },
  {
   "cell_type": "code",
   "execution_count": null,
   "metadata": {
    "collapsed": true
   },
   "outputs": [],
   "source": []
  },
  {
   "cell_type": "code",
   "execution_count": null,
   "metadata": {
    "collapsed": true
   },
   "outputs": [],
   "source": []
  },
  {
   "cell_type": "markdown",
   "metadata": {},
   "source": [
    "ovo or ovr"
   ]
  },
  {
   "cell_type": "code",
   "execution_count": null,
   "metadata": {
    "ExecuteTime": {
     "end_time": "2017-06-22T08:27:24.819057Z",
     "start_time": "2017-06-22T08:27:24.677046Z"
    }
   },
   "outputs": [],
   "source": [
    "X, y = make_classification(n_samples=20, # 20個生成\n",
    "                           n_features=2, # 2次元\n",
    "                           n_classes=4, # 4クラス\n",
    "                           n_clusters_per_class=1,\n",
    "                           n_informative=2,\n",
    "                           n_redundant=0,\n",
    "                           n_repeated=0,\n",
    "                           random_state=8   # 乱数種（再現用）\n",
    "                           )\n",
    "\n",
    "from matplotlib.colors import ListedColormap as lcmap\n",
    "brgp = lcmap(['blue','red','green','purple'])\n",
    "\n",
    "plt.scatter(X[:, 0], X[:, 1], c=y, s=50, cmap=brgp, edgecolors='k');"
   ]
  },
  {
   "cell_type": "code",
   "execution_count": null,
   "metadata": {
    "ExecuteTime": {
     "end_time": "2017-06-22T08:27:25.889811Z",
     "start_time": "2017-06-22T08:27:24.820224Z"
    },
    "scrolled": false
   },
   "outputs": [],
   "source": [
    "clf = svm.SVC(kernel='linear', \n",
    "              decision_function_shape='ovr') # one-vs-rest, one-vs-all\n",
    "clf.fit(X, y)\n",
    "\n",
    "plt.scatter(X[:, 0], X[:, 1], marker='o', s=50, c=y, cmap=brgp, edgecolors='k')\n",
    "plotBoundary(X, clf, cmap=brgp)\n",
    "plt.show()\n",
    "\n",
    "plt.scatter(X[:, 0], X[:, 1], marker='o', s=50, c=y, cmap=brgp, edgecolors='k')\n",
    "plotBoundary3(X, clf)"
   ]
  },
  {
   "cell_type": "code",
   "execution_count": null,
   "metadata": {
    "ExecuteTime": {
     "end_time": "2017-06-22T08:27:26.876857Z",
     "start_time": "2017-06-22T08:27:25.891084Z"
    },
    "scrolled": false
   },
   "outputs": [],
   "source": [
    "clf = svm.SVC(kernel='linear', \n",
    "              decision_function_shape='ovo') # one-vs-one\n",
    "clf.fit(X, y)\n",
    "\n",
    "plt.scatter(X[:, 0], X[:, 1], marker='o', s=50, c=y, cmap=brgp, edgecolors='k')\n",
    "plotBoundary(X, clf, cmap=brgp)\n",
    "plt.show()\n",
    "\n",
    "plt.scatter(X[:, 0], X[:, 1], marker='o', s=50, c=y, cmap=brgp, edgecolors='k')\n",
    "plotBoundary3(X, clf, mesh=False)"
   ]
  },
  {
   "cell_type": "code",
   "execution_count": null,
   "metadata": {
    "ExecuteTime": {
     "end_time": "2017-06-22T08:27:26.880278Z",
     "start_time": "2017-06-22T08:27:26.878126Z"
    },
    "collapsed": true
   },
   "outputs": [],
   "source": [
    "from itertools import combinations"
   ]
  },
  {
   "cell_type": "code",
   "execution_count": null,
   "metadata": {
    "ExecuteTime": {
     "end_time": "2017-06-22T08:27:26.885147Z",
     "start_time": "2017-06-22T08:27:26.881759Z"
    },
    "scrolled": true
   },
   "outputs": [],
   "source": [
    "list(combinations([0,1,2,3], 2))"
   ]
  },
  {
   "cell_type": "code",
   "execution_count": null,
   "metadata": {
    "ExecuteTime": {
     "end_time": "2017-06-22T08:27:26.889945Z",
     "start_time": "2017-06-22T08:27:26.886310Z"
    }
   },
   "outputs": [],
   "source": [
    "list(combinations(\"ABCD\", 2))"
   ]
  },
  {
   "cell_type": "code",
   "execution_count": null,
   "metadata": {
    "ExecuteTime": {
     "end_time": "2017-06-22T08:27:26.896241Z",
     "start_time": "2017-06-22T08:27:26.891464Z"
    }
   },
   "outputs": [],
   "source": [
    "list(combinations(\"ABCDEFG\", 2))"
   ]
  },
  {
   "cell_type": "code",
   "execution_count": null,
   "metadata": {
    "collapsed": true
   },
   "outputs": [],
   "source": []
  }
 ],
 "metadata": {
  "anaconda-cloud": {},
  "kernelspec": {
   "display_name": "Python 3",
   "language": "python",
   "name": "python3"
  },
  "language_info": {
   "codemirror_mode": {
    "name": "ipython",
    "version": 3
   },
   "file_extension": ".py",
   "mimetype": "text/x-python",
   "name": "python",
   "nbconvert_exporter": "python",
   "pygments_lexer": "ipython3",
   "version": "3.6.1"
  },
  "toc": {
   "colors": {
    "hover_highlight": "#DAA520",
    "running_highlight": "#FF0000",
    "selected_highlight": "#FFD700"
   },
   "moveMenuLeft": true,
   "nav_menu": {
    "height": "12px",
    "width": "252px"
   },
   "navigate_menu": true,
   "number_sections": true,
   "sideBar": true,
   "threshold": 4,
   "toc_cell": false,
   "toc_section_display": "block",
   "toc_window_display": false,
   "widenNotebook": false
  }
 },
 "nbformat": 4,
 "nbformat_minor": 1
}
