{
 "cells": [
  {
   "cell_type": "code",
   "execution_count": 1,
   "metadata": {
    "ExecuteTime": {
     "end_time": "2017-06-22T08:27:08.806294Z",
     "start_time": "2017-06-22T08:27:08.253929Z"
    }
   },
   "outputs": [],
   "source": [
    "import numpy as np\n",
    "\n",
    "from sklearn.datasets import load_breast_cancer\n",
    "\n",
    "data = load_breast_cancer()\n",
    "\n",
    "X = data.data\n",
    "y = data.target"
   ]
  },
  {
   "cell_type": "code",
   "execution_count": 2,
   "metadata": {
    "ExecuteTime": {
     "end_time": "2017-06-22T08:27:08.832281Z",
     "start_time": "2017-06-22T08:27:08.807269Z"
    }
   },
   "outputs": [],
   "source": [
    "from sklearn.model_selection import ShuffleSplit\n",
    "ss = ShuffleSplit(n_splits=1, \n",
    "                  train_size=0.8,\n",
    "                  test_size=0.2, \n",
    "                  random_state=0)\n",
    "\n",
    "train_index, test_index = next(ss.split(X, y))\n",
    "\n",
    "X_train, X_test = X[train_index], X[test_index]\n",
    "y_train, y_test = y[train_index], y[test_index]"
   ]
  },
  {
   "cell_type": "code",
   "execution_count": 3,
   "metadata": {
    "ExecuteTime": {
     "end_time": "2017-06-22T08:27:08.874847Z",
     "start_time": "2017-06-22T08:27:08.833292Z"
    }
   },
   "outputs": [],
   "source": [
    "from sklearn import linear_model\n",
    "clf = linear_model.LogisticRegression()"
   ]
  },
  {
   "cell_type": "code",
   "execution_count": 4,
   "metadata": {
    "ExecuteTime": {
     "end_time": "2017-06-22T08:27:08.910522Z",
     "start_time": "2017-06-22T08:27:08.876155Z"
    }
   },
   "outputs": [
    {
     "name": "stderr",
     "output_type": "stream",
     "text": [
      "C:\\ProgramData\\Anaconda3\\lib\\site-packages\\sklearn\\linear_model\\logistic.py:433: FutureWarning: Default solver will be changed to 'lbfgs' in 0.22. Specify a solver to silence this warning.\n",
      "  FutureWarning)\n"
     ]
    },
    {
     "data": {
      "text/plain": [
       "LogisticRegression(C=1.0, class_weight=None, dual=False, fit_intercept=True,\n",
       "          intercept_scaling=1, max_iter=100, multi_class='warn',\n",
       "          n_jobs=None, penalty='l2', random_state=None, solver='warn',\n",
       "          tol=0.0001, verbose=0, warm_start=False)"
      ]
     },
     "execution_count": 4,
     "metadata": {},
     "output_type": "execute_result"
    }
   ],
   "source": [
    "clf.fit(X_train, y_train)"
   ]
  },
  {
   "cell_type": "code",
   "execution_count": 5,
   "metadata": {
    "ExecuteTime": {
     "end_time": "2017-06-22T08:27:08.915860Z",
     "start_time": "2017-06-22T08:27:08.911666Z"
    },
    "scrolled": true
   },
   "outputs": [
    {
     "data": {
      "text/plain": [
       "0.956140350877193"
      ]
     },
     "execution_count": 5,
     "metadata": {},
     "output_type": "execute_result"
    }
   ],
   "source": [
    "clf.score(X_test, y_test)"
   ]
  },
  {
   "cell_type": "code",
   "execution_count": 6,
   "metadata": {
    "ExecuteTime": {
     "end_time": "2017-06-22T08:27:08.919297Z",
     "start_time": "2017-06-22T08:27:08.916951Z"
    }
   },
   "outputs": [],
   "source": [
    "y_pred = clf.predict(X_test)"
   ]
  },
  {
   "cell_type": "code",
   "execution_count": 7,
   "metadata": {
    "ExecuteTime": {
     "end_time": "2017-06-22T08:27:08.923047Z",
     "start_time": "2017-06-22T08:27:08.920650Z"
    }
   },
   "outputs": [],
   "source": [
    "from sklearn.metrics import accuracy_score\n",
    "from sklearn.metrics import confusion_matrix"
   ]
  },
  {
   "cell_type": "code",
   "execution_count": 8,
   "metadata": {
    "ExecuteTime": {
     "end_time": "2017-06-22T08:27:08.928672Z",
     "start_time": "2017-06-22T08:27:08.924822Z"
    }
   },
   "outputs": [
    {
     "data": {
      "text/plain": [
       "0.956140350877193"
      ]
     },
     "execution_count": 8,
     "metadata": {},
     "output_type": "execute_result"
    }
   ],
   "source": [
    "accuracy_score(y_test, y_pred)"
   ]
  },
  {
   "cell_type": "code",
   "execution_count": 9,
   "metadata": {
    "ExecuteTime": {
     "end_time": "2017-06-22T08:27:08.934602Z",
     "start_time": "2017-06-22T08:27:08.929949Z"
    }
   },
   "outputs": [
    {
     "data": {
      "text/plain": [
       "array([[46,  1],\n",
       "       [ 4, 63]], dtype=int64)"
      ]
     },
     "execution_count": 9,
     "metadata": {},
     "output_type": "execute_result"
    }
   ],
   "source": [
    "cmat = confusion_matrix(y_test, y_pred)\n",
    "cmat"
   ]
  },
  {
   "cell_type": "code",
   "execution_count": 10,
   "metadata": {
    "ExecuteTime": {
     "end_time": "2017-06-22T08:27:08.939527Z",
     "start_time": "2017-06-22T08:27:08.935746Z"
    }
   },
   "outputs": [
    {
     "data": {
      "text/plain": [
       "array([ 5.52248881, -1.16574602,  1.40582404])"
      ]
     },
     "execution_count": 10,
     "metadata": {},
     "output_type": "execute_result"
    }
   ],
   "source": [
    "clf.decision_function(X_test[12:15])"
   ]
  },
  {
   "cell_type": "code",
   "execution_count": 11,
   "metadata": {
    "ExecuteTime": {
     "end_time": "2017-06-22T08:27:08.944770Z",
     "start_time": "2017-06-22T08:27:08.940724Z"
    }
   },
   "outputs": [
    {
     "data": {
      "text/plain": [
       "array([1, 0, 1])"
      ]
     },
     "execution_count": 11,
     "metadata": {},
     "output_type": "execute_result"
    }
   ],
   "source": [
    "clf.predict(X_test[12:15])"
   ]
  },
  {
   "cell_type": "code",
   "execution_count": 12,
   "metadata": {
    "ExecuteTime": {
     "end_time": "2017-06-22T08:27:08.950156Z",
     "start_time": "2017-06-22T08:27:08.945897Z"
    }
   },
   "outputs": [
    {
     "data": {
      "text/plain": [
       "array([1, 0, 1])"
      ]
     },
     "execution_count": 12,
     "metadata": {},
     "output_type": "execute_result"
    }
   ],
   "source": [
    "(clf.decision_function(X_test[12:15]) > 0).astype(int)"
   ]
  },
  {
   "cell_type": "code",
   "execution_count": 13,
   "metadata": {
    "ExecuteTime": {
     "end_time": "2017-06-22T08:27:08.955488Z",
     "start_time": "2017-06-22T08:27:08.951447Z"
    }
   },
   "outputs": [
    {
     "data": {
      "text/plain": [
       "array([ 1, -1,  1])"
      ]
     },
     "execution_count": 13,
     "metadata": {},
     "output_type": "execute_result"
    }
   ],
   "source": [
    "(clf.decision_function(X_test[12:15]) > 0.5).astype(int) * 2 - 1"
   ]
  },
  {
   "cell_type": "code",
   "execution_count": 14,
   "metadata": {
    "ExecuteTime": {
     "end_time": "2017-06-22T08:27:08.960813Z",
     "start_time": "2017-06-22T08:27:08.956600Z"
    },
    "scrolled": true
   },
   "outputs": [
    {
     "data": {
      "text/plain": [
       "array([1, 1, 1])"
      ]
     },
     "execution_count": 14,
     "metadata": {},
     "output_type": "execute_result"
    }
   ],
   "source": [
    "y_test[12:15]"
   ]
  },
  {
   "cell_type": "code",
   "execution_count": 15,
   "metadata": {
    "ExecuteTime": {
     "end_time": "2017-06-22T08:27:08.965559Z",
     "start_time": "2017-06-22T08:27:08.961851Z"
    }
   },
   "outputs": [
    {
     "data": {
      "text/plain": [
       "array([1, 1, 1])"
      ]
     },
     "execution_count": 15,
     "metadata": {},
     "output_type": "execute_result"
    }
   ],
   "source": [
    "(clf.decision_function(X_test[12:15]) > -2).astype(int)"
   ]
  },
  {
   "cell_type": "code",
   "execution_count": 16,
   "metadata": {
    "ExecuteTime": {
     "end_time": "2017-06-22T08:27:08.970529Z",
     "start_time": "2017-06-22T08:27:08.966500Z"
    }
   },
   "outputs": [
    {
     "data": {
      "text/plain": [
       "array([1, 0, 0])"
      ]
     },
     "execution_count": 16,
     "metadata": {},
     "output_type": "execute_result"
    }
   ],
   "source": [
    "(clf.decision_function(X_test[12:15]) > 2).astype(int)"
   ]
  },
  {
   "cell_type": "code",
   "execution_count": 17,
   "metadata": {
    "ExecuteTime": {
     "end_time": "2017-06-22T08:27:08.979182Z",
     "start_time": "2017-06-22T08:27:08.971902Z"
    }
   },
   "outputs": [
    {
     "name": "stdout",
     "output_type": "stream",
     "text": [
      "-3 [1 1 1]\n",
      "-2 [1 1 1]\n",
      "-1 [1 0 1]\n",
      "0 [1 0 1]\n",
      "1 [1 0 1]\n",
      "2 [1 0 0]\n",
      "3 [1 0 0]\n",
      "4 [1 0 0]\n",
      "5 [1 0 0]\n",
      "6 [0 0 0]\n"
     ]
    }
   ],
   "source": [
    "for th in range(-3,7):\n",
    "    print(th, (clf.decision_function(X_test[12:15]) > th).astype(int))"
   ]
  },
  {
   "cell_type": "code",
   "execution_count": 18,
   "metadata": {
    "ExecuteTime": {
     "end_time": "2017-06-22T08:27:09.157847Z",
     "start_time": "2017-06-22T08:27:08.980427Z"
    }
   },
   "outputs": [],
   "source": [
    "from sklearn.metrics import roc_curve, auc, average_precision_score, precision_recall_curve\n",
    "\n",
    "import matplotlib.pyplot as plt\n",
    "%matplotlib inline"
   ]
  },
  {
   "cell_type": "code",
   "execution_count": 19,
   "metadata": {
    "ExecuteTime": {
     "end_time": "2017-06-22T08:27:09.279288Z",
     "start_time": "2017-06-22T08:27:09.159116Z"
    }
   },
   "outputs": [
    {
     "name": "stdout",
     "output_type": "stream",
     "text": [
      "AUC =  0.9942838996506828\n"
     ]
    },
    {
     "data": {
      "image/png": "[encoded data removed]",
      "text/plain": [
       "<Figure size 432x288 with 1 Axes>"
      ]
     },
     "metadata": {
      "needs_background": "light"
     },
     "output_type": "display_data"
    }
   ],
   "source": [
    "test_score = clf.decision_function(X_test)\n",
    "\n",
    "fpr, tpr, _ = roc_curve(y_test, test_score)\n",
    "\n",
    "plt.plot(fpr, tpr)\n",
    "print(\"AUC = \", auc(fpr, tpr))\n",
    "\n",
    "plt.plot([0, 1], [0, 1], linestyle='--')\n",
    "plt.xlim([-0.01, 1.01])\n",
    "plt.ylim([0.0, 1.01])\n",
    "plt.ylabel('True Positive Rate (recall)')\n",
    "plt.xlabel('False Positive Rate (1-specificity)');"
   ]
  },
  {
   "cell_type": "code",
   "execution_count": 20,
   "metadata": {
    "ExecuteTime": {
     "end_time": "2017-06-22T08:27:09.395965Z",
     "start_time": "2017-06-22T08:27:09.280558Z"
    }
   },
   "outputs": [
    {
     "data": {
      "text/plain": [
       "Text(0, 0.5, 'Precision')"
      ]
     },
     "execution_count": 20,
     "metadata": {},
     "output_type": "execute_result"
    },
    {
     "data": {
      "image/png": "[encoded data removed]",
      "text/plain": [
       "<Figure size 432x288 with 1 Axes>"
      ]
     },
     "metadata": {
      "needs_background": "light"
     },
     "output_type": "display_data"
    }
   ],
   "source": [
    "test_score = clf.decision_function(X_test)\n",
    "\n",
    "precision, recall, _ = precision_recall_curve(y_test, test_score)\n",
    "\n",
    "plt.plot(recall, precision)\n",
    "\n",
    "plt.xlim([-0.01, 1.01])\n",
    "plt.ylim([0.0, 1.01])\n",
    "plt.xlabel('Recall')\n",
    "plt.ylabel('Precision')"
   ]
  },
  {
   "cell_type": "code",
   "execution_count": null,
   "metadata": {},
   "outputs": [],
   "source": []
  },
  {
   "cell_type": "code",
   "execution_count": null,
   "metadata": {},
   "outputs": [],
   "source": []
  },
  {
   "cell_type": "code",
   "execution_count": 21,
   "metadata": {
    "ExecuteTime": {
     "end_time": "2017-06-22T08:27:09.581120Z",
     "start_time": "2017-06-22T08:27:09.397336Z"
    }
   },
   "outputs": [
    {
     "name": "stdout",
     "output_type": "stream",
     "text": [
      "result AUC =  0.9942838996506828\n",
      "chance AUC =  0.5122261035249285\n",
      "perfect AUC =  1.0\n"
     ]
    },
    {
     "data": {
      "image/png": "[encoded data removed]",
      "text/plain": [
       "<Figure size 432x288 with 1 Axes>"
      ]
     },
     "metadata": {
      "needs_background": "light"
     },
     "output_type": "display_data"
    }
   ],
   "source": [
    "test_score = clf.decision_function(X_test)\n",
    "fpr, tpr, _ = roc_curve(y_test, test_score)\n",
    "plt.plot(fpr, tpr, label=\"result\")\n",
    "print(\"result AUC = \", auc(fpr, tpr))\n",
    "\n",
    "test_score = np.random.uniform(size=y_test.size)# もしまったくランダムなら\n",
    "fpr, tpr, _ = roc_curve(y_test, test_score)\n",
    "plt.plot(fpr, tpr, label=\"random / chance\")\n",
    "print(\"chance AUC = \", auc(fpr, tpr))\n",
    "\n",
    "fpr, tpr, _ = roc_curve(y_test, y_test) # 完璧なら\n",
    "plt.plot(fpr, tpr, label=\"perfect\")\n",
    "print(\"perfect AUC = \", auc(fpr, tpr))\n",
    "\n",
    "plt.plot([0, 1], [0, 1], linestyle='--')\n",
    "plt.legend(loc=\"best\")\n",
    "plt.xlim([-0.01, 1.01])\n",
    "plt.ylim([0.0, 1.01])\n",
    "plt.ylabel('True Positive Rate (recall)')\n",
    "plt.xlabel('False Positive Rate (1-specificity)');"
   ]
  },
  {
   "cell_type": "code",
   "execution_count": 22,
   "metadata": {
    "ExecuteTime": {
     "end_time": "2017-06-22T08:27:09.724367Z",
     "start_time": "2017-06-22T08:27:09.582184Z"
    }
   },
   "outputs": [
    {
     "data": {
      "text/plain": [
       "Text(0, 0.5, 'Precision')"
      ]
     },
     "execution_count": 22,
     "metadata": {},
     "output_type": "execute_result"
    },
    {
     "data": {
      "image/png": "[encoded data removed]",
      "text/plain": [
       "<Figure size 432x288 with 1 Axes>"
      ]
     },
     "metadata": {
      "needs_background": "light"
     },
     "output_type": "display_data"
    }
   ],
   "source": [
    "test_score = clf.decision_function(X_test)\n",
    "precision, recall, _ = precision_recall_curve(y_test, test_score)\n",
    "plt.plot(recall, precision, label=\"result\")\n",
    "\n",
    "test_score = np.random.uniform(size=y_test.size) # もしまったくランダムなら\n",
    "precision, recall, _ = precision_recall_curve(y_test, test_score)\n",
    "plt.plot(recall, precision, label=\"random\")\n",
    "\n",
    "precision, recall, _ = precision_recall_curve(y_test, y_test) # 完璧なら\n",
    "plt.plot(recall, precision, label=\"perfect\")\n",
    "\n",
    "plt.legend(loc=\"best\")\n",
    "plt.xlim([-0.01, 1.01])\n",
    "plt.ylim([0.0, 1.01])\n",
    "plt.xlabel('Recall')\n",
    "plt.ylabel('Precision')"
   ]
  },
  {
   "cell_type": "markdown",
   "metadata": {},
   "source": [
    "http://homepages.inf.ed.ac.uk/ckiw/postscript/ijcv_voc09.pdf for average precision and interpolation"
   ]
  },
  {
   "cell_type": "code",
   "execution_count": 23,
   "metadata": {
    "ExecuteTime": {
     "end_time": "2017-06-22T08:27:09.729089Z",
     "start_time": "2017-06-22T08:27:09.725427Z"
    }
   },
   "outputs": [],
   "source": [
    "test_score = np.random.uniform(size=y_test.size) # もしまったくランダムなら\n",
    "precision, recall, _ = precision_recall_curve(y_test, test_score)\n",
    "\n",
    "precision_interp = np.maximum.accumulate(precision)"
   ]
  },
  {
   "cell_type": "code",
   "execution_count": 24,
   "metadata": {
    "ExecuteTime": {
     "end_time": "2017-06-22T08:27:09.862346Z",
     "start_time": "2017-06-22T08:27:09.730369Z"
    }
   },
   "outputs": [
    {
     "data": {
      "text/plain": [
       "Text(0, 0.5, 'Precision')"
      ]
     },
     "execution_count": 24,
     "metadata": {},
     "output_type": "execute_result"
    },
    {
     "data": {
      "image/png": "[encoded data removed]",
      "text/plain": [
       "<Figure size 432x288 with 1 Axes>"
      ]
     },
     "metadata": {
      "needs_background": "light"
     },
     "output_type": "display_data"
    }
   ],
   "source": [
    "plt.plot(recall, precision, marker=\".\", label=\"precision\")\n",
    "plt.plot(recall, precision_interp, marker=\".\", label=\"interpolated precision\")\n",
    "\n",
    "plt.legend(loc=\"best\")\n",
    "plt.xlim([-0.01, 1.01])\n",
    "plt.ylim([0.0, 1.01])\n",
    "plt.xlabel('Recall')\n",
    "plt.ylabel('Precision')"
   ]
  },
  {
   "cell_type": "code",
   "execution_count": 25,
   "metadata": {
    "ExecuteTime": {
     "end_time": "2017-06-22T08:27:09.868377Z",
     "start_time": "2017-06-22T08:27:09.863853Z"
    }
   },
   "outputs": [],
   "source": [
    "all_precision = np.interp(np.arange(0, 1.1, 0.1),\n",
    "                          recall[::-1], \n",
    "                          precision_interp[::-1])\n",
    "AP = all_precision.mean()"
   ]
  },
  {
   "cell_type": "code",
   "execution_count": 26,
   "metadata": {
    "ExecuteTime": {
     "end_time": "2017-06-22T08:27:09.873998Z",
     "start_time": "2017-06-22T08:27:09.869817Z"
    },
    "scrolled": true
   },
   "outputs": [
    {
     "name": "stdout",
     "output_type": "stream",
     "text": [
      "[1.         0.64583333 0.64583333 0.64583333 0.64583333 0.6025641\n",
      " 0.6025641  0.6025641  0.60194175 0.60194175 0.59292035]\n",
      "0.6534390445594156\n"
     ]
    }
   ],
   "source": [
    "print(all_precision)\n",
    "print(AP)"
   ]
  },
  {
   "cell_type": "code",
   "execution_count": null,
   "metadata": {},
   "outputs": [],
   "source": []
  },
  {
   "cell_type": "code",
   "execution_count": null,
   "metadata": {
    "ExecuteTime": {
     "end_time": "2017-06-22T08:27:09.880371Z",
     "start_time": "2017-06-22T08:27:09.875431Z"
    },
    "collapsed": true
   },
   "outputs": [],
   "source": [
    "def calc_AP(precision, recall):\n",
    "    precision_interp = np.maximum.accumulate(precision)\n",
    "    all_precision = np.interp(np.arange(0, 1.1, 0.1), recall[::-1], precision_interp[::-1])\n",
    "    AP = all_precision.mean()\n",
    "    return AP"
   ]
  },
  {
   "cell_type": "code",
   "execution_count": null,
   "metadata": {
    "ExecuteTime": {
     "end_time": "2017-06-22T08:27:09.888144Z",
     "start_time": "2017-06-22T08:27:09.882406Z"
    }
   },
   "outputs": [],
   "source": [
    "test_score = clf.decision_function(X_test)\n",
    "precision, recall, _ = precision_recall_curve(y_test, test_score)\n",
    "calc_AP(precision, recall)"
   ]
  },
  {
   "cell_type": "code",
   "execution_count": null,
   "metadata": {
    "collapsed": true
   },
   "outputs": [],
   "source": []
  },
  {
   "cell_type": "markdown",
   "metadata": {},
   "source": [
    "10 class problem"
   ]
  },
  {
   "cell_type": "code",
   "execution_count": null,
   "metadata": {
    "ExecuteTime": {
     "end_time": "2017-06-22T08:27:09.989979Z",
     "start_time": "2017-06-22T08:27:09.889545Z"
    },
    "collapsed": true
   },
   "outputs": [],
   "source": [
    "from sklearn.datasets import load_digits\n",
    "data = load_digits()\n",
    "\n",
    "X = data.data\n",
    "y = data.target"
   ]
  },
  {
   "cell_type": "code",
   "execution_count": null,
   "metadata": {
    "ExecuteTime": {
     "end_time": "2017-06-22T08:27:09.996668Z",
     "start_time": "2017-06-22T08:27:09.991255Z"
    },
    "collapsed": true
   },
   "outputs": [],
   "source": [
    "from sklearn.model_selection import ShuffleSplit\n",
    "ss = ShuffleSplit(n_splits=1, \n",
    "                  train_size=0.8, \n",
    "                  test_size=0.2, \n",
    "                  random_state=0)\n",
    "\n",
    "train_index, test_index = next(ss.split(X, y))\n",
    "\n",
    "X_train, X_test = X[train_index], X[test_index]\n",
    "y_train, y_test = y[train_index], y[test_index]"
   ]
  },
  {
   "cell_type": "code",
   "execution_count": null,
   "metadata": {
    "ExecuteTime": {
     "end_time": "2017-06-22T08:27:10.127465Z",
     "start_time": "2017-06-22T08:27:09.997968Z"
    }
   },
   "outputs": [],
   "source": [
    "clf.fit(X_train, y_train)"
   ]
  },
  {
   "cell_type": "code",
   "execution_count": null,
   "metadata": {
    "ExecuteTime": {
     "end_time": "2017-06-22T08:27:10.132279Z",
     "start_time": "2017-06-22T08:27:10.128524Z"
    },
    "collapsed": true
   },
   "outputs": [],
   "source": [
    "test_score = clf.decision_function(X_test)"
   ]
  },
  {
   "cell_type": "code",
   "execution_count": null,
   "metadata": {
    "ExecuteTime": {
     "end_time": "2017-06-22T08:27:10.368557Z",
     "start_time": "2017-06-22T08:27:10.133555Z"
    }
   },
   "outputs": [],
   "source": [
    "for i in range(10):\n",
    "    fpr, tpr, _ = roc_curve((y_test == i).astype(int), \n",
    "                            test_score[:,i])\n",
    "    plt.plot(fpr, tpr, label=\"{0}, {1:.2f}\".format(i, auc(fpr, tpr)))\n",
    "\n",
    "plt.plot([0, 1], [0, 1], linestyle='--')\n",
    "plt.legend(loc=\"best\", title=\"class, AUC\")\n",
    "plt.xlim([-0.01, 1.01])\n",
    "plt.ylim([0.0, 1.01])\n",
    "plt.ylabel('True Positive Rate (recall)')\n",
    "plt.xlabel('False Positive Rate (1-specificity)');"
   ]
  },
  {
   "cell_type": "code",
   "execution_count": null,
   "metadata": {
    "ExecuteTime": {
     "end_time": "2017-06-22T08:27:10.573754Z",
     "start_time": "2017-06-22T08:27:10.370436Z"
    }
   },
   "outputs": [],
   "source": [
    "for i in range(10):\n",
    "    fpr, tpr, _ = roc_curve((y_test == i).astype(int), \n",
    "                            test_score[:,i])\n",
    "    plt.plot(fpr, tpr, label=\"{0}, {1:.2f}\".format(i, auc(fpr, tpr)))\n",
    "\n",
    "plt.plot([0, 1], [0, 1], linestyle='--')\n",
    "plt.legend(loc=\"best\", title=\"class, AUC\")\n",
    "plt.xlim([-0.01, 0.2])\n",
    "plt.ylim([0.8, 1.01])\n",
    "plt.ylabel('True Positive Rate (recall)')\n",
    "plt.xlabel('False Positive Rate (1-specificity)');"
   ]
  },
  {
   "cell_type": "code",
   "execution_count": null,
   "metadata": {
    "collapsed": true
   },
   "outputs": [],
   "source": []
  },
  {
   "cell_type": "code",
   "execution_count": null,
   "metadata": {
    "ExecuteTime": {
     "end_time": "2017-06-22T08:27:10.740417Z",
     "start_time": "2017-06-22T08:27:10.575071Z"
    }
   },
   "outputs": [],
   "source": [
    "for i in range(10):\n",
    "    precision, recall, _ = precision_recall_curve((y_test == i).astype(int), \n",
    "                            test_score[:,i])\n",
    "    plt.plot(recall, precision, label=\"{0}\".format(i))\n",
    "             \n",
    "plt.legend(loc=\"best\")\n",
    "plt.xlim([-0.01, 1.01])\n",
    "plt.ylim([0.0, 1.01])\n",
    "plt.xlabel('Recall')\n",
    "plt.ylabel('Precision')"
   ]
  },
  {
   "cell_type": "code",
   "execution_count": null,
   "metadata": {
    "collapsed": true
   },
   "outputs": [],
   "source": []
  },
  {
   "cell_type": "code",
   "execution_count": null,
   "metadata": {
    "ExecuteTime": {
     "end_time": "2017-06-22T08:27:10.753224Z",
     "start_time": "2017-06-22T08:27:10.741639Z"
    }
   },
   "outputs": [],
   "source": [
    "# mAP of PASCAL VOC by http://homepages.inf.ed.ac.uk/ckiw/postscript/ijcv_voc09.pdf\n",
    "\n",
    "APs = []\n",
    "for i in range(10):\n",
    "\n",
    "    precision, recall, _ = precision_recall_curve((y_test == i).astype(int), test_score[:,i])\n",
    "    APs.append( calc_AP(precision, recall) )\n",
    "    \n",
    "APs = np.array(APs)\n",
    "mAP = APs.mean()\n",
    "\n",
    "print(APs)\n",
    "print(\"mAP = \", mAP)"
   ]
  },
  {
   "cell_type": "code",
   "execution_count": null,
   "metadata": {
    "collapsed": true
   },
   "outputs": [],
   "source": []
  }
 ],
 "metadata": {
  "anaconda-cloud": {},
  "kernelspec": {
   "display_name": "Python 3",
   "language": "python",
   "name": "python3"
  },
  "language_info": {
   "codemirror_mode": {
    "name": "ipython",
    "version": 3
   },
   "file_extension": ".py",
   "mimetype": "text/x-python",
   "name": "python",
   "nbconvert_exporter": "python",
   "pygments_lexer": "ipython3",
   "version": "3.6.9"
  },
  "toc": {
   "colors": {
    "hover_highlight": "#DAA520",
    "running_highlight": "#FF0000",
    "selected_highlight": "#FFD700"
   },
   "moveMenuLeft": true,
   "nav_menu": {
    "height": "12px",
    "width": "252px"
   },
   "navigate_menu": true,
   "number_sections": true,
   "sideBar": true,
   "threshold": 4,
   "toc_cell": false,
   "toc_section_display": "block",
   "toc_window_display": false,
   "widenNotebook": false
  }
 },
 "nbformat": 4,
 "nbformat_minor": 1
}
