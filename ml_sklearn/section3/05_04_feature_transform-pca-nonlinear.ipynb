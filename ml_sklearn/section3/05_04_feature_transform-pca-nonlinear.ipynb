{
 "cells": [
  {
   "cell_type": "code",
   "execution_count": null,
   "metadata": {
    "ExecuteTime": {
     "end_time": "2017-06-22T08:24:50.917503Z",
     "start_time": "2017-06-22T08:24:50.394053Z"
    },
    "collapsed": true
   },
   "outputs": [],
   "source": [
    "import numpy as np\n",
    "\n",
    "from sklearn.datasets import load_breast_cancer\n",
    "\n",
    "data = load_breast_cancer()\n"
   ]
  },
  {
   "cell_type": "code",
   "execution_count": null,
   "metadata": {
    "ExecuteTime": {
     "end_time": "2017-06-22T08:24:50.926038Z",
     "start_time": "2017-06-22T08:24:50.918605Z"
    }
   },
   "outputs": [],
   "source": [
    "data.feature_names"
   ]
  },
  {
   "cell_type": "code",
   "execution_count": null,
   "metadata": {
    "ExecuteTime": {
     "end_time": "2017-06-22T08:24:51.084653Z",
     "start_time": "2017-06-22T08:24:50.927212Z"
    },
    "collapsed": true
   },
   "outputs": [],
   "source": [
    "import matplotlib.pyplot as plt\n",
    "%matplotlib inline"
   ]
  },
  {
   "cell_type": "code",
   "execution_count": null,
   "metadata": {
    "ExecuteTime": {
     "end_time": "2017-06-22T08:24:51.384653Z",
     "start_time": "2017-06-22T08:24:51.085595Z"
    },
    "collapsed": true
   },
   "outputs": [],
   "source": [
    "import pandas as pd\n",
    "from pandas.tools.plotting import scatter_matrix"
   ]
  },
  {
   "cell_type": "code",
   "execution_count": null,
   "metadata": {
    "ExecuteTime": {
     "end_time": "2017-06-22T08:24:57.459162Z",
     "start_time": "2017-06-22T08:24:51.385811Z"
    }
   },
   "outputs": [],
   "source": [
    "df = pd.DataFrame(data.data[:, 0:10], \n",
    "                  columns=data.feature_names[0:10])\n",
    "scatter_matrix(df, figsize=(10,10));"
   ]
  },
  {
   "cell_type": "code",
   "execution_count": null,
   "metadata": {
    "ExecuteTime": {
     "end_time": "2017-06-22T08:24:57.911156Z",
     "start_time": "2017-06-22T08:24:57.460139Z"
    }
   },
   "outputs": [],
   "source": [
    "df = pd.DataFrame(data.data[:, 6:8],\n",
    "                  columns=data.feature_names[6:8])\n",
    "scatter_matrix(df, figsize=(3,3));"
   ]
  },
  {
   "cell_type": "code",
   "execution_count": null,
   "metadata": {
    "ExecuteTime": {
     "end_time": "2017-06-22T08:24:58.194708Z",
     "start_time": "2017-06-22T08:24:57.912417Z"
    }
   },
   "outputs": [],
   "source": [
    "df = pd.DataFrame(data.data[:, [0,2]],\n",
    "                  columns=data.feature_names[[0,2]])\n",
    "scatter_matrix(df, figsize=(3,3));"
   ]
  },
  {
   "cell_type": "code",
   "execution_count": null,
   "metadata": {
    "ExecuteTime": {
     "end_time": "2017-06-22T08:24:58.199832Z",
     "start_time": "2017-06-22T08:24:58.196226Z"
    },
    "collapsed": true
   },
   "outputs": [],
   "source": [
    "X = data.data[:, [0,2]]\n",
    "y = data.target\n",
    "names = data.feature_names[[0,2]]"
   ]
  },
  {
   "cell_type": "code",
   "execution_count": null,
   "metadata": {
    "ExecuteTime": {
     "end_time": "2017-06-22T08:24:58.204944Z",
     "start_time": "2017-06-22T08:24:58.201494Z"
    }
   },
   "outputs": [],
   "source": [
    "X.shape, y.shape"
   ]
  },
  {
   "cell_type": "code",
   "execution_count": null,
   "metadata": {
    "ExecuteTime": {
     "end_time": "2017-06-22T08:24:58.353702Z",
     "start_time": "2017-06-22T08:24:58.206367Z"
    },
    "scrolled": true
   },
   "outputs": [],
   "source": [
    "plt.scatter(X[:, 0], X[:, 1])\n",
    "plt.xlim(0, 180)\n",
    "plt.ylim(20, 200)\n",
    "plt.xlabel(names[0])\n",
    "plt.ylabel(names[1])"
   ]
  },
  {
   "cell_type": "code",
   "execution_count": null,
   "metadata": {
    "ExecuteTime": {
     "end_time": "2017-06-22T08:24:58.502162Z",
     "start_time": "2017-06-22T08:24:58.354702Z"
    },
    "collapsed": true
   },
   "outputs": [],
   "source": [
    "from sklearn.decomposition import PCA"
   ]
  },
  {
   "cell_type": "code",
   "execution_count": null,
   "metadata": {
    "ExecuteTime": {
     "end_time": "2017-06-22T08:24:58.505243Z",
     "start_time": "2017-06-22T08:24:58.503134Z"
    },
    "collapsed": true
   },
   "outputs": [],
   "source": [
    "pca = PCA()"
   ]
  },
  {
   "cell_type": "code",
   "execution_count": null,
   "metadata": {
    "ExecuteTime": {
     "end_time": "2017-06-22T08:24:58.593021Z",
     "start_time": "2017-06-22T08:24:58.506546Z"
    }
   },
   "outputs": [],
   "source": [
    "pca.fit(X)"
   ]
  },
  {
   "cell_type": "code",
   "execution_count": null,
   "metadata": {
    "ExecuteTime": {
     "end_time": "2017-06-22T08:24:58.597102Z",
     "start_time": "2017-06-22T08:24:58.594282Z"
    },
    "collapsed": true
   },
   "outputs": [],
   "source": [
    "X_new = pca.transform(X)"
   ]
  },
  {
   "cell_type": "code",
   "execution_count": null,
   "metadata": {
    "ExecuteTime": {
     "end_time": "2017-06-22T08:24:58.746938Z",
     "start_time": "2017-06-22T08:24:58.598545Z"
    }
   },
   "outputs": [],
   "source": [
    "plt.scatter(X_new[:, 0], X_new[:, 1])\n",
    "plt.ylim(-60, 120)"
   ]
  },
  {
   "cell_type": "code",
   "execution_count": null,
   "metadata": {
    "ExecuteTime": {
     "end_time": "2017-06-22T08:24:58.751792Z",
     "start_time": "2017-06-22T08:24:58.748237Z"
    }
   },
   "outputs": [],
   "source": [
    "pca.explained_variance_"
   ]
  },
  {
   "cell_type": "code",
   "execution_count": null,
   "metadata": {
    "ExecuteTime": {
     "end_time": "2017-06-22T08:24:58.756559Z",
     "start_time": "2017-06-22T08:24:58.752988Z"
    }
   },
   "outputs": [],
   "source": [
    "pca.explained_variance_ / pca.explained_variance_.sum()"
   ]
  },
  {
   "cell_type": "code",
   "execution_count": null,
   "metadata": {
    "ExecuteTime": {
     "end_time": "2017-06-22T08:24:58.761409Z",
     "start_time": "2017-06-22T08:24:58.757722Z"
    }
   },
   "outputs": [],
   "source": [
    "pca.explained_variance_ratio_"
   ]
  },
  {
   "cell_type": "code",
   "execution_count": null,
   "metadata": {
    "ExecuteTime": {
     "end_time": "2017-06-22T08:24:58.946956Z",
     "start_time": "2017-06-22T08:24:58.762819Z"
    },
    "scrolled": true
   },
   "outputs": [],
   "source": [
    "X = data.data[:, [6,7]]\n",
    "y = data.target\n",
    "names = data.feature_names[[6,7]]\n",
    "\n",
    "plt.scatter(X[:, 0], X[:, 1])\n",
    "plt.xlim(0, 0.5)\n",
    "plt.ylim(0, 0.5)\n",
    "plt.xlabel(names[0])\n",
    "plt.ylabel(names[1])"
   ]
  },
  {
   "cell_type": "code",
   "execution_count": null,
   "metadata": {
    "ExecuteTime": {
     "end_time": "2017-06-22T08:24:59.079968Z",
     "start_time": "2017-06-22T08:24:58.948068Z"
    }
   },
   "outputs": [],
   "source": [
    "pca.fit(X)\n",
    "X_new = pca.transform(X)\n",
    "plt.scatter(X_new[:, 0], X_new[:, 1])\n",
    "plt.xlim(-0.1, 0.4)\n",
    "plt.ylim(-0.25, 0.25)"
   ]
  },
  {
   "cell_type": "code",
   "execution_count": null,
   "metadata": {
    "ExecuteTime": {
     "end_time": "2017-06-22T08:24:59.084723Z",
     "start_time": "2017-06-22T08:24:59.081319Z"
    }
   },
   "outputs": [],
   "source": [
    "pca.explained_variance_"
   ]
  },
  {
   "cell_type": "code",
   "execution_count": null,
   "metadata": {
    "ExecuteTime": {
     "end_time": "2017-06-22T08:24:59.089342Z",
     "start_time": "2017-06-22T08:24:59.085838Z"
    }
   },
   "outputs": [],
   "source": [
    "pca.explained_variance_ratio_ # 寄与率"
   ]
  },
  {
   "cell_type": "code",
   "execution_count": null,
   "metadata": {
    "ExecuteTime": {
     "end_time": "2017-06-22T08:24:59.093013Z",
     "start_time": "2017-06-22T08:24:59.090647Z"
    },
    "collapsed": true
   },
   "outputs": [],
   "source": [
    "# eigで検算\n",
    "m = X.mean(axis=0)"
   ]
  },
  {
   "cell_type": "code",
   "execution_count": null,
   "metadata": {
    "ExecuteTime": {
     "end_time": "2017-06-22T08:24:59.096840Z",
     "start_time": "2017-06-22T08:24:59.094590Z"
    },
    "collapsed": true
   },
   "outputs": [],
   "source": [
    "Xp = (X - m)"
   ]
  },
  {
   "cell_type": "code",
   "execution_count": null,
   "metadata": {
    "ExecuteTime": {
     "end_time": "2017-06-22T08:24:59.261001Z",
     "start_time": "2017-06-22T08:24:59.098057Z"
    },
    "collapsed": true
   },
   "outputs": [],
   "source": [
    "C = Xp.transpose().dot(Xp)"
   ]
  },
  {
   "cell_type": "code",
   "execution_count": null,
   "metadata": {
    "ExecuteTime": {
     "end_time": "2017-06-22T08:24:59.305197Z",
     "start_time": "2017-06-22T08:24:59.262348Z"
    },
    "collapsed": true
   },
   "outputs": [],
   "source": [
    "w, _ = np.linalg.eig(C)"
   ]
  },
  {
   "cell_type": "code",
   "execution_count": null,
   "metadata": {
    "ExecuteTime": {
     "end_time": "2017-06-22T08:24:59.309984Z",
     "start_time": "2017-06-22T08:24:59.306397Z"
    }
   },
   "outputs": [],
   "source": [
    "w"
   ]
  },
  {
   "cell_type": "code",
   "execution_count": null,
   "metadata": {
    "ExecuteTime": {
     "end_time": "2017-06-22T08:24:59.315189Z",
     "start_time": "2017-06-22T08:24:59.311213Z"
    }
   },
   "outputs": [],
   "source": [
    "w / w.sum() # 寄与率"
   ]
  },
  {
   "cell_type": "code",
   "execution_count": null,
   "metadata": {
    "ExecuteTime": {
     "end_time": "2017-06-22T08:24:59.323942Z",
     "start_time": "2017-06-22T08:24:59.316466Z"
    },
    "collapsed": true
   },
   "outputs": [],
   "source": [
    "# data全体でやる\n",
    "\n",
    "X = data.data\n",
    "y = data.target\n",
    "\n",
    "from sklearn.model_selection import ShuffleSplit\n",
    "\n",
    "ss = ShuffleSplit(n_splits=1, \n",
    "                  train_size=0.8, \n",
    "                  test_size=0.2, \n",
    "                  random_state=0)\n",
    "\n",
    "train_index, test_index = next(ss.split(X, y))\n",
    "\n",
    "X_train, X_test = X[train_index], X[test_index]\n",
    "y_train, y_test = y[train_index], y[test_index]\n"
   ]
  },
  {
   "cell_type": "code",
   "execution_count": null,
   "metadata": {
    "ExecuteTime": {
     "end_time": "2017-06-22T08:24:59.361131Z",
     "start_time": "2017-06-22T08:24:59.325250Z"
    },
    "scrolled": true
   },
   "outputs": [],
   "source": [
    "pca.fit(X_train)"
   ]
  },
  {
   "cell_type": "code",
   "execution_count": null,
   "metadata": {
    "ExecuteTime": {
     "end_time": "2017-06-22T08:24:59.495512Z",
     "start_time": "2017-06-22T08:24:59.362530Z"
    }
   },
   "outputs": [],
   "source": [
    "plt.plot(pca.explained_variance_ratio_)"
   ]
  },
  {
   "cell_type": "code",
   "execution_count": null,
   "metadata": {
    "ExecuteTime": {
     "end_time": "2017-06-22T08:24:59.627414Z",
     "start_time": "2017-06-22T08:24:59.496747Z"
    }
   },
   "outputs": [],
   "source": [
    "plt.plot(np.add.accumulate(pca.explained_variance_ratio_))"
   ]
  },
  {
   "cell_type": "code",
   "execution_count": null,
   "metadata": {
    "ExecuteTime": {
     "end_time": "2017-06-22T08:24:59.633286Z",
     "start_time": "2017-06-22T08:24:59.628765Z"
    },
    "collapsed": true
   },
   "outputs": [],
   "source": [
    "X_train_pca = pca.transform(X_train)\n",
    "X_test_pca  = pca.transform(X_test)"
   ]
  },
  {
   "cell_type": "code",
   "execution_count": null,
   "metadata": {
    "ExecuteTime": {
     "end_time": "2017-06-22T08:24:59.638149Z",
     "start_time": "2017-06-22T08:24:59.634781Z"
    },
    "collapsed": true
   },
   "outputs": [],
   "source": [
    "from sklearn import linear_model\n",
    "clf = linear_model.LogisticRegression()"
   ]
  },
  {
   "cell_type": "code",
   "execution_count": null,
   "metadata": {
    "ExecuteTime": {
     "end_time": "2017-06-22T08:24:59.650156Z",
     "start_time": "2017-06-22T08:24:59.640209Z"
    }
   },
   "outputs": [],
   "source": [
    "clf.fit(X_train_pca, y_train)\n",
    "clf.score(X_test_pca, y_test)"
   ]
  },
  {
   "cell_type": "code",
   "execution_count": null,
   "metadata": {
    "ExecuteTime": {
     "end_time": "2017-06-22T08:24:59.657822Z",
     "start_time": "2017-06-22T08:24:59.651529Z"
    }
   },
   "outputs": [],
   "source": [
    "clf.fit(X_train_pca[:, 0:1], y_train)\n",
    "clf.score(X_test_pca[:, 0:1], y_test)"
   ]
  },
  {
   "cell_type": "code",
   "execution_count": null,
   "metadata": {
    "ExecuteTime": {
     "end_time": "2017-06-22T08:24:59.667186Z",
     "start_time": "2017-06-22T08:24:59.659397Z"
    }
   },
   "outputs": [],
   "source": [
    "clf.fit(X_train_pca[:, 0:3], y_train)\n",
    "clf.score(X_test_pca[:, 0:3], y_test)"
   ]
  },
  {
   "cell_type": "code",
   "execution_count": null,
   "metadata": {
    "ExecuteTime": {
     "end_time": "2017-06-22T08:24:59.765834Z",
     "start_time": "2017-06-22T08:24:59.668904Z"
    },
    "collapsed": true
   },
   "outputs": [],
   "source": [
    "scores = []\n",
    "i_range = range(1,31)\n",
    "\n",
    "for i in i_range:\n",
    "\n",
    "    clf.fit(X_train_pca[:, 0:i], y_train)\n",
    "    scores.append( clf.score(X_test_pca[:, 0:i],\n",
    "                             y_test) )\n",
    "    \n",
    "scores = np.array(scores)"
   ]
  },
  {
   "cell_type": "code",
   "execution_count": null,
   "metadata": {
    "ExecuteTime": {
     "end_time": "2017-06-22T08:24:59.907601Z",
     "start_time": "2017-06-22T08:24:59.767398Z"
    }
   },
   "outputs": [],
   "source": [
    "plt.plot(i_range, scores)\n",
    "plt.ylim(0.7,1);"
   ]
  },
  {
   "cell_type": "code",
   "execution_count": null,
   "metadata": {
    "ExecuteTime": {
     "end_time": "2017-06-22T08:24:59.914722Z",
     "start_time": "2017-06-22T08:24:59.908867Z"
    }
   },
   "outputs": [],
   "source": [
    "clf.fit(X_train_pca[:, 0:2], y_train)\n",
    "clf.score(X_test_pca[:, 0:2], y_test)"
   ]
  },
  {
   "cell_type": "code",
   "execution_count": null,
   "metadata": {
    "collapsed": true
   },
   "outputs": [],
   "source": []
  },
  {
   "cell_type": "code",
   "execution_count": null,
   "metadata": {
    "collapsed": true
   },
   "outputs": [],
   "source": []
  },
  {
   "cell_type": "code",
   "execution_count": null,
   "metadata": {
    "collapsed": true
   },
   "outputs": [],
   "source": []
  },
  {
   "cell_type": "code",
   "execution_count": null,
   "metadata": {
    "collapsed": true
   },
   "outputs": [],
   "source": []
  },
  {
   "cell_type": "code",
   "execution_count": null,
   "metadata": {
    "collapsed": true
   },
   "outputs": [],
   "source": []
  },
  {
   "cell_type": "code",
   "execution_count": null,
   "metadata": {
    "collapsed": true
   },
   "outputs": [],
   "source": []
  },
  {
   "cell_type": "code",
   "execution_count": null,
   "metadata": {
    "ExecuteTime": {
     "end_time": "2017-06-22T08:24:59.918227Z",
     "start_time": "2017-06-22T08:24:59.915997Z"
    },
    "collapsed": true
   },
   "outputs": [],
   "source": [
    "from sklearn.preprocessing import PolynomialFeatures"
   ]
  },
  {
   "cell_type": "markdown",
   "metadata": {},
   "source": [
    "degree 1: $x_1, x_2, x_3$\n",
    "\n",
    "degree 2: $x_1 x_2, x_1 x_3, x_2 x_3$\n",
    "\n",
    "degree 3: $x_1 x_2 x_3$"
   ]
  },
  {
   "cell_type": "markdown",
   "metadata": {},
   "source": [
    "degree 1: $x_1, x_2, x_3, x_4$\n",
    "\n",
    "degree 2: $x_1 x_2, x_1 x_3, x_1 x_4, x_2 x_3, x_2 x_4, x_3 x_4$\n",
    "\n",
    "degree 3: $x_1 x_2 x_3, x_1 x_2 x_4, x_1 x_3 x_4, x_2 x_3 x_4$\n",
    "\n",
    "degree 4: $x_1 x_2 x_3 x_4$"
   ]
  },
  {
   "cell_type": "code",
   "execution_count": null,
   "metadata": {
    "ExecuteTime": {
     "end_time": "2017-06-22T08:24:59.921928Z",
     "start_time": "2017-06-22T08:24:59.919725Z"
    },
    "collapsed": true
   },
   "outputs": [],
   "source": [
    "polf = PolynomialFeatures(degree=2)"
   ]
  },
  {
   "cell_type": "code",
   "execution_count": null,
   "metadata": {
    "ExecuteTime": {
     "end_time": "2017-06-22T08:24:59.927103Z",
     "start_time": "2017-06-22T08:24:59.923347Z"
    }
   },
   "outputs": [],
   "source": [
    "polf.fit(X_train)"
   ]
  },
  {
   "cell_type": "code",
   "execution_count": null,
   "metadata": {
    "ExecuteTime": {
     "end_time": "2017-06-22T08:24:59.943233Z",
     "start_time": "2017-06-22T08:24:59.928251Z"
    },
    "collapsed": true
   },
   "outputs": [],
   "source": [
    "X_train_poly = polf.transform(X_train)\n",
    "X_test_poly  = polf.transform(X_test)"
   ]
  },
  {
   "cell_type": "code",
   "execution_count": null,
   "metadata": {
    "ExecuteTime": {
     "end_time": "2017-06-22T08:24:59.948335Z",
     "start_time": "2017-06-22T08:24:59.944477Z"
    }
   },
   "outputs": [],
   "source": [
    "X_train.shape, X_train_poly.shape"
   ]
  },
  {
   "cell_type": "code",
   "execution_count": null,
   "metadata": {
    "ExecuteTime": {
     "end_time": "2017-06-22T08:24:59.955588Z",
     "start_time": "2017-06-22T08:24:59.949799Z"
    }
   },
   "outputs": [],
   "source": [
    "X_test.shape, X_test_poly.shape"
   ]
  },
  {
   "cell_type": "code",
   "execution_count": null,
   "metadata": {
    "ExecuteTime": {
     "end_time": "2017-06-22T08:25:00.057722Z",
     "start_time": "2017-06-22T08:24:59.957183Z"
    }
   },
   "outputs": [],
   "source": [
    "clf.fit(X_train_poly, y_train)\n",
    "clf.score(X_test_poly, y_test)"
   ]
  },
  {
   "cell_type": "code",
   "execution_count": null,
   "metadata": {
    "ExecuteTime": {
     "end_time": "2017-06-22T08:25:00.069208Z",
     "start_time": "2017-06-22T08:25:00.059189Z"
    }
   },
   "outputs": [],
   "source": [
    "clf.fit(X_train, y_train)\n",
    "clf.score(X_test, y_test)"
   ]
  },
  {
   "cell_type": "code",
   "execution_count": null,
   "metadata": {
    "collapsed": true
   },
   "outputs": [],
   "source": []
  },
  {
   "cell_type": "code",
   "execution_count": null,
   "metadata": {
    "collapsed": true
   },
   "outputs": [],
   "source": []
  },
  {
   "cell_type": "code",
   "execution_count": null,
   "metadata": {
    "ExecuteTime": {
     "end_time": "2017-06-22T08:25:00.113652Z",
     "start_time": "2017-06-22T08:25:00.070587Z"
    }
   },
   "outputs": [],
   "source": [
    "pca.fit(X_train_poly)"
   ]
  },
  {
   "cell_type": "code",
   "execution_count": null,
   "metadata": {
    "ExecuteTime": {
     "end_time": "2017-06-22T08:25:00.251318Z",
     "start_time": "2017-06-22T08:25:00.115055Z"
    }
   },
   "outputs": [],
   "source": [
    "plt.plot(np.add.accumulate(pca.explained_variance_ratio_))"
   ]
  },
  {
   "cell_type": "code",
   "execution_count": null,
   "metadata": {
    "ExecuteTime": {
     "end_time": "2017-06-22T08:25:04.889007Z",
     "start_time": "2017-06-22T08:25:00.252705Z"
    },
    "collapsed": true
   },
   "outputs": [],
   "source": [
    "scores = []\n",
    "\n",
    "n_features = X_train_poly.shape[1]\n",
    "i_range = range(1, n_features, 10)\n",
    "\n",
    "X_train_poly_pca = pca.transform(X_train_poly)\n",
    "X_test_poly_pca  = pca.transform(X_test_poly)\n",
    "\n",
    "for i in i_range:\n",
    "\n",
    "    clf.fit(X_train_poly_pca[:, 0:i], y_train)\n",
    "    \n",
    "    scores.append( clf.score(X_test_poly_pca[:, 0:i],\n",
    "                             y_test) )\n",
    "\n",
    "scores = np.array(scores)"
   ]
  },
  {
   "cell_type": "code",
   "execution_count": null,
   "metadata": {
    "ExecuteTime": {
     "end_time": "2017-06-22T08:25:05.010746Z",
     "start_time": "2017-06-22T08:25:04.890340Z"
    }
   },
   "outputs": [],
   "source": [
    "plt.plot(i_range, scores);\n",
    "plt.title(\"max {0:.4f} at {1}\".format(scores.max(), \n",
    "                                      i_range[np.argmax(scores)]))"
   ]
  },
  {
   "cell_type": "code",
   "execution_count": null,
   "metadata": {
    "ExecuteTime": {
     "end_time": "2017-06-22T08:25:23.812359Z",
     "start_time": "2017-06-22T08:25:05.012104Z"
    },
    "scrolled": false
   },
   "outputs": [],
   "source": [
    "for d in [2, 3, 4]:\n",
    "    print(\"d=\", d)\n",
    "    \n",
    "    polf = PolynomialFeatures(degree=d)\n",
    "    polf.fit(X_train)\n",
    "    X_train_poly = polf.transform(X_train)\n",
    "    X_test_poly  = polf.transform(X_test)\n",
    "\n",
    "    pca.fit(X_train_poly)\n",
    "    X_train_poly_pca = pca.transform(X_train_poly)\n",
    "    X_test_poly_pca  = pca.transform(X_test_poly)\n",
    "    \n",
    "    scores = []\n",
    "    n_features = min(500, X_train_poly.shape[1])\n",
    "    i_range = range(1, n_features, 10)\n",
    "    \n",
    "    print(\"max dimension: \", X_train_poly.shape[1])\n",
    "\n",
    "    print(\"i=\", end=\"\")\n",
    "    for i in i_range:\n",
    "        print(i, end=\",\")\n",
    "        clf.fit(X_train_poly_pca[:, 0:i], y_train)\n",
    "        scores.append( clf.score(X_test_poly_pca[:, 0:i], y_test) )\n",
    "    print(\"\")\n",
    "    \n",
    "    scores = np.array(scores)\n",
    "    plt.plot(i_range, scores, label=\"d={0}\".format(d))\n",
    "\n",
    "plt.legend();"
   ]
  },
  {
   "cell_type": "code",
   "execution_count": null,
   "metadata": {
    "collapsed": true
   },
   "outputs": [],
   "source": []
  }
 ],
 "metadata": {
  "anaconda-cloud": {},
  "kernelspec": {
   "display_name": "Python 3",
   "language": "python",
   "name": "python3"
  },
  "language_info": {
   "codemirror_mode": {
    "name": "ipython",
    "version": 3
   },
   "file_extension": ".py",
   "mimetype": "text/x-python",
   "name": "python",
   "nbconvert_exporter": "python",
   "pygments_lexer": "ipython3",
   "version": "3.6.1"
  },
  "toc": {
   "colors": {
    "hover_highlight": "#DAA520",
    "running_highlight": "#FF0000",
    "selected_highlight": "#FFD700"
   },
   "moveMenuLeft": true,
   "nav_menu": {
    "height": "12px",
    "width": "252px"
   },
   "navigate_menu": true,
   "number_sections": true,
   "sideBar": true,
   "threshold": 4,
   "toc_cell": false,
   "toc_section_display": "block",
   "toc_window_display": false,
   "widenNotebook": false
  }
 },
 "nbformat": 4,
 "nbformat_minor": 1
}
