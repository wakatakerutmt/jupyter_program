{
 "cells": [
  {
   "cell_type": "code",
   "execution_count": null,
   "metadata": {
    "ExecuteTime": {
     "end_time": "2017-06-22T08:32:50.910479Z",
     "start_time": "2017-06-22T08:32:50.436069Z"
    }
   },
   "outputs": [],
   "source": [
    "import numpy as np\n",
    "\n",
    "import matplotlib.pyplot as plt\n",
    "%matplotlib inline\n",
    "plt.set_cmap(plt.cm.Paired) # 色設定"
   ]
  },
  {
   "cell_type": "code",
   "execution_count": null,
   "metadata": {
    "ExecuteTime": {
     "end_time": "2017-06-22T08:32:50.954448Z",
     "start_time": "2017-06-22T08:32:50.911504Z"
    },
    "collapsed": true
   },
   "outputs": [],
   "source": [
    "# 境界線を引く関数の定義\n",
    "\n",
    "def plotBoundary(X, clf, mesh=True, boundary=True, type='predict'):\n",
    "\n",
    "    # plot range\n",
    "    x_min = min(X[:,0])\n",
    "    x_max = max(X[:,0])\n",
    "    y_min = min(X[:,1])\n",
    "    y_max = max(X[:,1])\n",
    "\n",
    "    # visualizing decision function\n",
    "    XX, YY = np.mgrid[x_min:x_max:200j, y_min:y_max:200j] # make a grid\n",
    "    \n",
    "    if type == 'predict':\n",
    "        Z = clf.predict(np.c_[XX.ravel(), YY.ravel()])\n",
    "    elif type == 'probability':\n",
    "        Z = np.exp(clf.predict_log_proba(np.c_[XX.ravel(), YY.ravel()]))[:, 1]\n",
    "    else:\n",
    "        Z = clf.decision_function(np.c_[XX.ravel(), YY.ravel()])\n",
    "    \n",
    "    Z = Z.reshape(XX.shape) # just reshape\n",
    "\n",
    "    if mesh:\n",
    "        if type == 'predict':\n",
    "            plt.pcolormesh(XX, YY, Z, zorder=-10) # paint in 2 colors, if Z > 0 or not\n",
    "        else:\n",
    "            plt.pcolormesh(XX, YY, Z, zorder=-10, cmap=plt.cm.bwr)\n",
    "            plt.colorbar()\n",
    "\n",
    "    if boundary:\n",
    "        level = [0]\n",
    "        if type == \"probability\":\n",
    "            level = [0.5]\n",
    "        plt.contour(XX, YY, Z, \n",
    "                    colors='k', linestyles='-', levels=level)\n",
    "\n",
    "    plt.xlim(x_min, x_max)\n",
    "    plt.ylim(y_min, y_max)"
   ]
  },
  {
   "cell_type": "code",
   "execution_count": null,
   "metadata": {
    "ExecuteTime": {
     "end_time": "2017-06-22T08:32:51.258440Z",
     "start_time": "2017-06-22T08:32:50.956097Z"
    }
   },
   "outputs": [],
   "source": [
    "from sklearn.neural_network import MLPClassifier\n",
    "\n",
    "clf = MLPClassifier(random_state=8)\n",
    "\n",
    "clf.alpha = 1\n",
    "clf.max_iter = 2000\n",
    "clf.hidden_layer_sizes=(10,)\n",
    "\n",
    "clf"
   ]
  },
  {
   "cell_type": "code",
   "execution_count": null,
   "metadata": {
    "ExecuteTime": {
     "end_time": "2017-06-22T08:32:51.397763Z",
     "start_time": "2017-06-22T08:32:51.259740Z"
    }
   },
   "outputs": [],
   "source": [
    "from sklearn.datasets import make_blobs\n",
    "X, y = make_blobs(n_samples=20, # 20個生成\n",
    "                  n_features=2, # 2次元\n",
    "                  centers=2,    # クラスタ中心2個\n",
    "                  cluster_std = 2, # クラスタの大きさ（標準偏差）\n",
    "                  random_state=3   # 乱数種（再現用）\n",
    "                 )\n",
    "\n",
    "plt.scatter(X[:, 0], X[:, 1], c=y, s=50, edgecolors='k'); # 2次元散布図でプロット"
   ]
  },
  {
   "cell_type": "code",
   "execution_count": null,
   "metadata": {
    "ExecuteTime": {
     "end_time": "2017-06-22T08:32:51.628916Z",
     "start_time": "2017-06-22T08:32:51.398728Z"
    }
   },
   "outputs": [],
   "source": [
    "clf.fit(X,y)\n",
    "\n",
    "plt.scatter(X[:, 0], X[:, 1], marker='o', s=50, c=y, edgecolors='k') # 2次元散布図でプロット\n",
    "\n",
    "plotBoundary(X, clf)"
   ]
  },
  {
   "cell_type": "code",
   "execution_count": null,
   "metadata": {
    "ExecuteTime": {
     "end_time": "2017-06-22T08:32:51.774668Z",
     "start_time": "2017-06-22T08:32:51.630101Z"
    }
   },
   "outputs": [],
   "source": [
    "X, y = make_blobs(n_samples=20, # 20個生成\n",
    "                  n_features=2, # 2次元\n",
    "                  centers=2,    # クラスタ中心2個\n",
    "                  cluster_std =1, # クラスタの大きさ（標準偏差）\n",
    "                  random_state=8   # 乱数種（再現用）\n",
    "                 )\n",
    "plt.scatter(X[:, 0], X[:, 1], c=y, s=50, edgecolors='k'); # 2次元散布図でプロット"
   ]
  },
  {
   "cell_type": "code",
   "execution_count": null,
   "metadata": {
    "ExecuteTime": {
     "end_time": "2017-06-22T08:32:52.016181Z",
     "start_time": "2017-06-22T08:32:51.775705Z"
    }
   },
   "outputs": [],
   "source": [
    "clf.fit(X,y)\n",
    "\n",
    "plotBoundary(X, clf)\n",
    "    \n",
    "plt.scatter(X[:, 0], X[:, 1], marker='o', s=50, c=y, edgecolors='k')"
   ]
  },
  {
   "cell_type": "code",
   "execution_count": null,
   "metadata": {
    "ExecuteTime": {
     "end_time": "2017-06-22T08:32:52.286662Z",
     "start_time": "2017-06-22T08:32:52.017566Z"
    }
   },
   "outputs": [],
   "source": [
    "X, y = make_blobs(n_samples=20, # 20個生成\n",
    "                  n_features=2, # 2次元\n",
    "                  centers=2,    # クラスタ中心2個\n",
    "                  cluster_std =1, # クラスタの大きさ（標準偏差）\n",
    "                  random_state=7   # 乱数種（再現用）\n",
    "                 )\n",
    "clf.fit(X,y)\n",
    "\n",
    "plotBoundary(X, clf)\n",
    "    \n",
    "plt.scatter(X[:, 0], X[:, 1], marker='o', s=50, c=y, edgecolors='k')"
   ]
  },
  {
   "cell_type": "code",
   "execution_count": null,
   "metadata": {
    "ExecuteTime": {
     "end_time": "2017-06-22T08:32:52.625819Z",
     "start_time": "2017-06-22T08:32:52.287895Z"
    }
   },
   "outputs": [],
   "source": [
    "X, y = make_blobs(n_samples=20, # 20個生成\n",
    "                  n_features=2, # 2次元\n",
    "                  centers=2,    # クラスタ中心2個\n",
    "                  cluster_std =1, # クラスタの大きさ（標準偏差）\n",
    "                  random_state=4   # 乱数種（再現用）\n",
    "                 )\n",
    "clf.fit(X,y)\n",
    "\n",
    "plotBoundary(X, clf)\n",
    "    \n",
    "plt.scatter(X[:, 0], X[:, 1], marker='o', s=50, c=y, edgecolors='k')"
   ]
  },
  {
   "cell_type": "code",
   "execution_count": null,
   "metadata": {
    "collapsed": true
   },
   "outputs": [],
   "source": []
  },
  {
   "cell_type": "code",
   "execution_count": null,
   "metadata": {
    "collapsed": true
   },
   "outputs": [],
   "source": []
  },
  {
   "cell_type": "code",
   "execution_count": null,
   "metadata": {
    "ExecuteTime": {
     "end_time": "2017-06-22T08:32:52.666322Z",
     "start_time": "2017-06-22T08:32:52.627183Z"
    },
    "collapsed": true
   },
   "outputs": [],
   "source": [
    "# modified from https://gist.github.com/craffel/2d727968c3aaebd10359\n",
    "\n",
    "def draw_neural_net(layer_sizes, left=.1, right=.9, bottom=.1, top=.9, size=5):\n",
    "    '''\n",
    "    Draw a neural network cartoon using matplotilb.\n",
    "    \n",
    "    :usage:\n",
    "        >>> fig = plt.figure(figsize=(12, 12))\n",
    "        >>> draw_neural_net(fig.gca(), .1, .9, .1, .9, [4, 7, 2])\n",
    "    \n",
    "    :parameters:\n",
    "        - ax : matplotlib.axes.AxesSubplot\n",
    "            The axes on which to plot the cartoon (get e.g. by plt.gca())\n",
    "        - left : float\n",
    "            The center of the leftmost node(s) will be placed here\n",
    "        - right : float\n",
    "            The center of the rightmost node(s) will be placed here\n",
    "        - bottom : float\n",
    "            The center of the bottommost node(s) will be placed here\n",
    "        - top : float\n",
    "            The center of the topmost node(s) will be placed here\n",
    "        - layer_sizes : list of int\n",
    "            List of layer sizes, including input and output dimensionality\n",
    "    '''\n",
    "    fig = plt.figure(figsize=(size, size))\n",
    "    ax = fig.gca()\n",
    "    ax.axis('off')\n",
    "\n",
    "    n_layers = len(layer_sizes)\n",
    "    v_spacing = (top - bottom)/float(max(layer_sizes))\n",
    "    h_spacing = (right - left)/float(len(layer_sizes) - 1)\n",
    "    # Nodes\n",
    "    for n, layer_size in enumerate(layer_sizes):\n",
    "        layer_top = v_spacing*(layer_size - 1)/2. + (top + bottom)/2.\n",
    "        for m in range(layer_size):\n",
    "            circle = plt.Circle((n*h_spacing + left, layer_top - m*v_spacing), v_spacing/4.,\n",
    "                                color='w', ec='k', zorder=4)\n",
    "            ax.add_artist(circle)\n",
    "    # Edges\n",
    "    for n, (layer_size_a, layer_size_b) in enumerate(zip(layer_sizes[:-1], layer_sizes[1:])):\n",
    "        layer_top_a = v_spacing*(layer_size_a - 1)/2. + (top + bottom)/2.\n",
    "        layer_top_b = v_spacing*(layer_size_b - 1)/2. + (top + bottom)/2.\n",
    "        for m in range(layer_size_a):\n",
    "            for o in range(layer_size_b):\n",
    "                line = plt.Line2D([n*h_spacing + left, (n + 1)*h_spacing + left],\n",
    "                                  [layer_top_a - m*v_spacing, layer_top_b - o*v_spacing], c='k')\n",
    "                ax.add_artist(line)\n",
    "\n"
   ]
  },
  {
   "cell_type": "code",
   "execution_count": null,
   "metadata": {
    "ExecuteTime": {
     "end_time": "2017-06-22T08:32:52.746290Z",
     "start_time": "2017-06-22T08:32:52.667631Z"
    }
   },
   "outputs": [],
   "source": [
    "draw_neural_net([2, 1])"
   ]
  },
  {
   "cell_type": "code",
   "execution_count": null,
   "metadata": {
    "ExecuteTime": {
     "end_time": "2017-06-22T08:32:52.874474Z",
     "start_time": "2017-06-22T08:32:52.747220Z"
    }
   },
   "outputs": [],
   "source": [
    "draw_neural_net([30, 1])"
   ]
  },
  {
   "cell_type": "code",
   "execution_count": null,
   "metadata": {
    "ExecuteTime": {
     "end_time": "2017-06-22T08:32:52.963031Z",
     "start_time": "2017-06-22T08:32:52.875534Z"
    }
   },
   "outputs": [],
   "source": [
    "draw_neural_net([5, 1])"
   ]
  },
  {
   "cell_type": "code",
   "execution_count": null,
   "metadata": {
    "ExecuteTime": {
     "end_time": "2017-06-22T08:32:53.056271Z",
     "start_time": "2017-06-22T08:32:52.964246Z"
    },
    "scrolled": false
   },
   "outputs": [],
   "source": [
    "draw_neural_net([5, 2])"
   ]
  },
  {
   "cell_type": "code",
   "execution_count": null,
   "metadata": {
    "ExecuteTime": {
     "end_time": "2017-06-22T08:32:53.178562Z",
     "start_time": "2017-06-22T08:32:53.057699Z"
    }
   },
   "outputs": [],
   "source": [
    "draw_neural_net([5, 2, 1])"
   ]
  },
  {
   "cell_type": "code",
   "execution_count": null,
   "metadata": {
    "ExecuteTime": {
     "end_time": "2017-06-22T08:32:53.367592Z",
     "start_time": "2017-06-22T08:32:53.179488Z"
    },
    "scrolled": false
   },
   "outputs": [],
   "source": [
    "draw_neural_net([5, 20, 1])"
   ]
  },
  {
   "cell_type": "code",
   "execution_count": null,
   "metadata": {
    "ExecuteTime": {
     "end_time": "2017-06-22T08:32:53.829025Z",
     "start_time": "2017-06-22T08:32:53.368641Z"
    }
   },
   "outputs": [],
   "source": [
    "draw_neural_net([5, 20, 10, 10, 2])"
   ]
  },
  {
   "cell_type": "code",
   "execution_count": null,
   "metadata": {
    "ExecuteTime": {
     "end_time": "2017-06-22T08:32:53.954885Z",
     "start_time": "2017-06-22T08:32:53.830015Z"
    }
   },
   "outputs": [],
   "source": [
    "X, y = make_blobs(n_samples=200, # 20個生成\n",
    "                  n_features=2, # 2次元\n",
    "                  centers=2,    # クラスタ中心2個\n",
    "                  cluster_std =2, # クラスタの大きさ（標準偏差）\n",
    "                  random_state=3   # 乱数種（再現用）\n",
    "                 )\n",
    "plt.scatter(X[:, 0], X[:, 1], c=y, s=50, edgecolors='k'); # 2次元散布図でプロット"
   ]
  },
  {
   "cell_type": "code",
   "execution_count": null,
   "metadata": {
    "ExecuteTime": {
     "end_time": "2017-06-22T08:32:54.849424Z",
     "start_time": "2017-06-22T08:32:53.956150Z"
    }
   },
   "outputs": [],
   "source": [
    "draw_neural_net([2, 10, 1], size=5)\n",
    "draw_neural_net([2, 10, 5, 1], size=5)\n",
    "draw_neural_net([2, 10, 10, 5, 1], size=5)\n",
    "draw_neural_net([2, 10, 10, 10, 5, 1], size=5)"
   ]
  },
  {
   "cell_type": "code",
   "execution_count": null,
   "metadata": {
    "ExecuteTime": {
     "end_time": "2017-06-22T08:32:56.631130Z",
     "start_time": "2017-06-22T08:32:54.850398Z"
    }
   },
   "outputs": [],
   "source": [
    "clf.random_state = 10\n",
    "\n",
    "for layers in [(10,),\n",
    "               (10, 5),\n",
    "               (10, 10, 5),\n",
    "               (10, 10, 10, 5),\n",
    "               (10, 10, 10, 10, 5)]:\n",
    "\n",
    "    clf.hidden_layer_sizes = layers\n",
    "    \n",
    "    clf.fit(X,y)\n",
    "    plt.scatter(X[:, 0], X[:, 1], marker='o', s=50, c=y, edgecolors='k')\n",
    "    plotBoundary(X, clf)\n",
    "    plt.title(\"{0} hidden layers {1}\".format(len(layers), layers))\n",
    "    plt.show()"
   ]
  },
  {
   "cell_type": "code",
   "execution_count": null,
   "metadata": {
    "ExecuteTime": {
     "end_time": "2017-06-22T08:32:57.044840Z",
     "start_time": "2017-06-22T08:32:56.632398Z"
    }
   },
   "outputs": [],
   "source": [
    "draw_neural_net([2, 10, 3, 10, 5, 1], size=5)\n",
    "draw_neural_net([2, 10, 3, 4, 5, 1], size=5)"
   ]
  },
  {
   "cell_type": "code",
   "execution_count": null,
   "metadata": {
    "ExecuteTime": {
     "end_time": "2017-06-22T08:32:58.170205Z",
     "start_time": "2017-06-22T08:32:57.045876Z"
    }
   },
   "outputs": [],
   "source": [
    "clf.random_state = 10\n",
    "\n",
    "for layers in [(10,3,10,5),\n",
    "               (10,3,4,5)]:\n",
    "    clf.hidden_layer_sizes = layers\n",
    "    \n",
    "    clf.fit(X,y)\n",
    "    plt.scatter(X[:, 0], X[:, 1], marker='o', s=50, c=y, edgecolors='k')\n",
    "    plotBoundary(X, clf)\n",
    "    plt.title(\"layers {0}\".format(layers))\n",
    "    plt.show()"
   ]
  },
  {
   "cell_type": "code",
   "execution_count": null,
   "metadata": {
    "ExecuteTime": {
     "end_time": "2017-06-22T08:33:03.291863Z",
     "start_time": "2017-06-22T08:32:58.171419Z"
    }
   },
   "outputs": [],
   "source": [
    "clf.random_state = 10\n",
    "\n",
    "for layers in [(100,),\n",
    "               (100,10),\n",
    "               (100,100,10),\n",
    "               (100,100,100,10),\n",
    "               (100,100,100,100,10)]:\n",
    "    clf.hidden_layer_sizes=layers\n",
    "    clf.fit(X,y)\n",
    "    plt.scatter(X[:, 0], X[:, 1], marker='o', s=50, c=y, edgecolors='k')\n",
    "    plotBoundary(X, clf)\n",
    "    plt.title(\"layers {0}\".format(layers))\n",
    "    plt.show()"
   ]
  },
  {
   "cell_type": "code",
   "execution_count": null,
   "metadata": {
    "ExecuteTime": {
     "end_time": "2017-06-22T08:33:03.296503Z",
     "start_time": "2017-06-22T08:33:03.293124Z"
    }
   },
   "outputs": [],
   "source": [
    "clf"
   ]
  },
  {
   "cell_type": "code",
   "execution_count": null,
   "metadata": {
    "collapsed": true
   },
   "outputs": [],
   "source": []
  },
  {
   "cell_type": "code",
   "execution_count": null,
   "metadata": {
    "collapsed": true
   },
   "outputs": [],
   "source": []
  },
  {
   "cell_type": "code",
   "execution_count": null,
   "metadata": {
    "collapsed": true
   },
   "outputs": [],
   "source": []
  },
  {
   "cell_type": "code",
   "execution_count": null,
   "metadata": {
    "ExecuteTime": {
     "end_time": "2017-06-22T08:33:03.312457Z",
     "start_time": "2017-06-22T08:33:03.297691Z"
    },
    "collapsed": true
   },
   "outputs": [],
   "source": [
    "from sklearn.datasets import load_breast_cancer\n",
    "data = load_breast_cancer()\n",
    "X = data.data\n",
    "y = data.target"
   ]
  },
  {
   "cell_type": "code",
   "execution_count": null,
   "metadata": {
    "ExecuteTime": {
     "end_time": "2017-06-22T08:33:03.320009Z",
     "start_time": "2017-06-22T08:33:03.313617Z"
    },
    "collapsed": true
   },
   "outputs": [],
   "source": [
    "from sklearn.model_selection import ShuffleSplit\n",
    "ss = ShuffleSplit(n_splits=1, \n",
    "                  train_size=0.8, \n",
    "                  test_size=0.2, \n",
    "                  random_state=0)\n",
    "\n",
    "train_index, test_index = next(ss.split(X, y))\n",
    "\n",
    "X_train, X_test = X[train_index], X[test_index]\n",
    "y_train, y_test = y[train_index], y[test_index]"
   ]
  },
  {
   "cell_type": "code",
   "execution_count": null,
   "metadata": {
    "ExecuteTime": {
     "end_time": "2017-06-22T08:33:03.323695Z",
     "start_time": "2017-06-22T08:33:03.321476Z"
    },
    "collapsed": true
   },
   "outputs": [],
   "source": [
    "clf = MLPClassifier()"
   ]
  },
  {
   "cell_type": "code",
   "execution_count": null,
   "metadata": {
    "ExecuteTime": {
     "end_time": "2017-06-22T08:33:03.357800Z",
     "start_time": "2017-06-22T08:33:03.324998Z"
    }
   },
   "outputs": [],
   "source": [
    "clf.fit(X_train, y_train)\n",
    "clf.score(X_test, y_test)"
   ]
  },
  {
   "cell_type": "code",
   "execution_count": null,
   "metadata": {
    "ExecuteTime": {
     "end_time": "2017-06-22T08:33:03.362765Z",
     "start_time": "2017-06-22T08:33:03.358977Z"
    }
   },
   "outputs": [],
   "source": [
    "clf"
   ]
  },
  {
   "cell_type": "code",
   "execution_count": null,
   "metadata": {
    "ExecuteTime": {
     "end_time": "2017-06-22T08:33:03.816960Z",
     "start_time": "2017-06-22T08:33:03.364014Z"
    }
   },
   "outputs": [],
   "source": [
    "\n",
    "for layers in [(100,),\n",
    "               (100,10),\n",
    "               (100,100,10),\n",
    "               (100,100,100,10),\n",
    "               (100,100,100,100,10),\n",
    "               (100,100,100,100,100,10)]:\n",
    "    \n",
    "    clf.hidden_layer_sizes = layers\n",
    "    clf.fit(X_train, y_train)\n",
    "    print(\"{0} hidden layers\".format(len(layers)), clf.score(X_test, y_test))"
   ]
  },
  {
   "cell_type": "code",
   "execution_count": null,
   "metadata": {
    "ExecuteTime": {
     "end_time": "2017-06-22T08:33:03.822825Z",
     "start_time": "2017-06-22T08:33:03.818422Z"
    },
    "collapsed": true
   },
   "outputs": [],
   "source": [
    "from sklearn.preprocessing import MinMaxScaler\n",
    "scaler = MinMaxScaler()\n",
    "scaler.fit(X_train)\n",
    "X_train_scale = scaler.transform(X_train)\n",
    "X_test_scale  = scaler.transform(X_test)"
   ]
  },
  {
   "cell_type": "code",
   "execution_count": null,
   "metadata": {
    "ExecuteTime": {
     "end_time": "2017-06-22T08:33:03.826421Z",
     "start_time": "2017-06-22T08:33:03.824255Z"
    },
    "collapsed": true
   },
   "outputs": [],
   "source": [
    "clf = MLPClassifier()"
   ]
  },
  {
   "cell_type": "code",
   "execution_count": null,
   "metadata": {
    "ExecuteTime": {
     "end_time": "2017-06-22T08:33:04.046644Z",
     "start_time": "2017-06-22T08:33:03.827816Z"
    },
    "scrolled": true
   },
   "outputs": [],
   "source": [
    "clf.fit(X_train_scale, y_train)\n",
    "clf.score(X_test_scale, y_test)"
   ]
  },
  {
   "cell_type": "code",
   "execution_count": null,
   "metadata": {
    "ExecuteTime": {
     "end_time": "2017-06-22T08:33:04.251806Z",
     "start_time": "2017-06-22T08:33:04.047849Z"
    }
   },
   "outputs": [],
   "source": [
    "clf.alpha = 1\n",
    "clf.fit(X_train_scale, y_train)\n",
    "clf.score(X_test_scale, y_test)"
   ]
  },
  {
   "cell_type": "code",
   "execution_count": null,
   "metadata": {
    "ExecuteTime": {
     "end_time": "2017-06-22T08:33:06.601673Z",
     "start_time": "2017-06-22T08:33:04.253101Z"
    }
   },
   "outputs": [],
   "source": [
    "for layers in [(100,),\n",
    "               (100,10),\n",
    "               (100,100,10),\n",
    "               (100,100,100,10),\n",
    "               (100,100,100,100,10),\n",
    "               (100,100,100,100,100,10)]:\n",
    "    clf.hidden_layer_sizes = layers\n",
    "    clf.fit(X_train_scale, y_train)\n",
    "    print(\"{0} hidden layers\".format(len(layers)), clf.score(X_test_scale, y_test))"
   ]
  },
  {
   "cell_type": "code",
   "execution_count": null,
   "metadata": {
    "ExecuteTime": {
     "end_time": "2017-06-22T08:33:09.245749Z",
     "start_time": "2017-06-22T08:33:06.603036Z"
    }
   },
   "outputs": [],
   "source": [
    "scores = []\n",
    "for nodes in range(1, 20):\n",
    "\n",
    "    clf.hidden_layer_sizes = (nodes,)\n",
    "    \n",
    "    clf.fit(X_train_scale, y_train)\n",
    "    score = clf.score(X_test_scale, y_test)\n",
    "    print(\"1 hidden layer with {0} nodes\".format(nodes), score)\n",
    "    scores.append( score )\n",
    "\n",
    "socres = np.array(scores)\n",
    "plt.plot(scores)"
   ]
  },
  {
   "cell_type": "code",
   "execution_count": null,
   "metadata": {
    "collapsed": true
   },
   "outputs": [],
   "source": []
  }
 ],
 "metadata": {
  "anaconda-cloud": {},
  "kernelspec": {
   "display_name": "Python 3",
   "language": "python",
   "name": "python3"
  },
  "language_info": {
   "codemirror_mode": {
    "name": "ipython",
    "version": 3
   },
   "file_extension": ".py",
   "mimetype": "text/x-python",
   "name": "python",
   "nbconvert_exporter": "python",
   "pygments_lexer": "ipython3",
   "version": "3.6.1"
  },
  "toc": {
   "colors": {
    "hover_highlight": "#DAA520",
    "running_highlight": "#FF0000",
    "selected_highlight": "#FFD700"
   },
   "moveMenuLeft": true,
   "nav_menu": {
    "height": "12px",
    "width": "252px"
   },
   "navigate_menu": true,
   "number_sections": true,
   "sideBar": true,
   "threshold": 4,
   "toc_cell": false,
   "toc_section_display": "block",
   "toc_window_display": false,
   "widenNotebook": false
  }
 },
 "nbformat": 4,
 "nbformat_minor": 1
}
