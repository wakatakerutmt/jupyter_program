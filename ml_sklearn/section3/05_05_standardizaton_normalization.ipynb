{
 "cells": [
  {
   "cell_type": "code",
   "execution_count": null,
   "metadata": {
    "ExecuteTime": {
     "end_time": "2017-06-22T08:26:03.622037Z",
     "start_time": "2017-06-22T08:26:03.048652Z"
    },
    "collapsed": true
   },
   "outputs": [],
   "source": [
    "import numpy as np\n",
    "\n",
    "from sklearn.datasets import load_breast_cancer\n",
    "\n",
    "data = load_breast_cancer()"
   ]
  },
  {
   "cell_type": "code",
   "execution_count": null,
   "metadata": {
    "ExecuteTime": {
     "end_time": "2017-06-22T08:26:03.631801Z",
     "start_time": "2017-06-22T08:26:03.623071Z"
    }
   },
   "outputs": [],
   "source": [
    "data.feature_names"
   ]
  },
  {
   "cell_type": "code",
   "execution_count": null,
   "metadata": {
    "ExecuteTime": {
     "end_time": "2017-06-22T08:26:03.636839Z",
     "start_time": "2017-06-22T08:26:03.633103Z"
    },
    "scrolled": false
   },
   "outputs": [],
   "source": [
    "print(data.DESCR)"
   ]
  },
  {
   "cell_type": "code",
   "execution_count": null,
   "metadata": {
    "ExecuteTime": {
     "end_time": "2017-06-22T08:26:03.806281Z",
     "start_time": "2017-06-22T08:26:03.638548Z"
    },
    "collapsed": true
   },
   "outputs": [],
   "source": [
    "import matplotlib.pyplot as plt\n",
    "%matplotlib inline"
   ]
  },
  {
   "cell_type": "code",
   "execution_count": null,
   "metadata": {
    "ExecuteTime": {
     "end_time": "2017-06-22T08:26:03.811105Z",
     "start_time": "2017-06-22T08:26:03.807354Z"
    }
   },
   "outputs": [],
   "source": [
    "data.feature_names[4], data.feature_names[3]"
   ]
  },
  {
   "cell_type": "code",
   "execution_count": null,
   "metadata": {
    "ExecuteTime": {
     "end_time": "2017-06-22T08:26:03.956812Z",
     "start_time": "2017-06-22T08:26:03.812400Z"
    }
   },
   "outputs": [],
   "source": [
    "plt.scatter(data.data[:,3], data.data[:,4])\n",
    "plt.xlabel(data.feature_names[3])\n",
    "plt.ylabel(data.feature_names[4])"
   ]
  },
  {
   "cell_type": "code",
   "execution_count": null,
   "metadata": {
    "ExecuteTime": {
     "end_time": "2017-06-22T08:26:04.068938Z",
     "start_time": "2017-06-22T08:26:03.957848Z"
    }
   },
   "outputs": [],
   "source": [
    "plt.scatter(data.data[:,3], data.data[:,4])\n",
    "plt.xlim(0, 3000)\n",
    "plt.ylim(0, 3000)\n",
    "plt.xlabel(data.feature_names[3])\n",
    "plt.ylabel(data.feature_names[4])"
   ]
  },
  {
   "cell_type": "code",
   "execution_count": null,
   "metadata": {
    "ExecuteTime": {
     "end_time": "2017-06-22T08:26:04.097460Z",
     "start_time": "2017-06-22T08:26:04.070060Z"
    },
    "collapsed": true
   },
   "outputs": [],
   "source": [
    "# data全体でやる\n",
    "\n",
    "X = data.data\n",
    "y = data.target\n",
    "\n",
    "from sklearn.model_selection import ShuffleSplit\n",
    "\n",
    "ss = ShuffleSplit(n_splits=1, \n",
    "                  train_size=0.8, \n",
    "                  test_size=0.2, \n",
    "                  random_state=0)\n",
    "\n",
    "train_index, test_index = next(ss.split(X, y))\n",
    "\n",
    "X_train, X_test = X[train_index], X[test_index]\n",
    "y_train, y_test = y[train_index], y[test_index]"
   ]
  },
  {
   "cell_type": "markdown",
   "metadata": {},
   "source": [
    "# Standardization"
   ]
  },
  {
   "cell_type": "code",
   "execution_count": null,
   "metadata": {
    "ExecuteTime": {
     "end_time": "2017-06-22T08:26:04.101247Z",
     "start_time": "2017-06-22T08:26:04.098579Z"
    },
    "collapsed": true
   },
   "outputs": [],
   "source": [
    "from sklearn.preprocessing import StandardScaler\n",
    "scaler = StandardScaler()"
   ]
  },
  {
   "cell_type": "code",
   "execution_count": null,
   "metadata": {
    "ExecuteTime": {
     "end_time": "2017-06-22T08:26:04.106280Z",
     "start_time": "2017-06-22T08:26:04.102639Z"
    }
   },
   "outputs": [],
   "source": [
    "scaler.fit(X_train)"
   ]
  },
  {
   "cell_type": "code",
   "execution_count": null,
   "metadata": {
    "ExecuteTime": {
     "end_time": "2017-06-22T08:26:04.110043Z",
     "start_time": "2017-06-22T08:26:04.107374Z"
    },
    "collapsed": true
   },
   "outputs": [],
   "source": [
    "X_train_scale = scaler.transform(X_train)"
   ]
  },
  {
   "cell_type": "code",
   "execution_count": null,
   "metadata": {
    "ExecuteTime": {
     "end_time": "2017-06-22T08:26:04.116551Z",
     "start_time": "2017-06-22T08:26:04.111090Z"
    }
   },
   "outputs": [],
   "source": [
    "X_train_scale.mean(axis=0), X_train_scale.std(axis=0)"
   ]
  },
  {
   "cell_type": "code",
   "execution_count": null,
   "metadata": {
    "ExecuteTime": {
     "end_time": "2017-06-22T08:26:04.122809Z",
     "start_time": "2017-06-22T08:26:04.117752Z"
    }
   },
   "outputs": [],
   "source": [
    "X_train.mean(axis=0), X_train.std(axis=0)"
   ]
  },
  {
   "cell_type": "code",
   "execution_count": null,
   "metadata": {
    "ExecuteTime": {
     "end_time": "2017-06-22T08:26:04.126572Z",
     "start_time": "2017-06-22T08:26:04.124273Z"
    },
    "collapsed": true
   },
   "outputs": [],
   "source": [
    "X_test_scale = scaler.transform(X_test)"
   ]
  },
  {
   "cell_type": "code",
   "execution_count": null,
   "metadata": {
    "ExecuteTime": {
     "end_time": "2017-06-22T08:26:04.133225Z",
     "start_time": "2017-06-22T08:26:04.127774Z"
    }
   },
   "outputs": [],
   "source": [
    "X_test_scale.mean(axis=0), X_test_scale.std(axis=0)"
   ]
  },
  {
   "cell_type": "code",
   "execution_count": null,
   "metadata": {
    "ExecuteTime": {
     "end_time": "2017-06-22T08:26:04.294713Z",
     "start_time": "2017-06-22T08:26:04.134449Z"
    }
   },
   "outputs": [],
   "source": [
    "plt.scatter(X_train_scale[:, 3], \n",
    "            X_train_scale[:, 4], c='blue', \n",
    "            label=\"train\")\n",
    "plt.scatter(X_test_scale[:, 3],  \n",
    "            X_test_scale[:, 4],  c='red',  \n",
    "            label=\"test\")\n",
    "plt.xlabel(data.feature_names[3] + \" (standardised)\")\n",
    "plt.ylabel(data.feature_names[4] + \" (standardised)\")\n",
    "plt.legend(loc=\"best\");"
   ]
  },
  {
   "cell_type": "code",
   "execution_count": null,
   "metadata": {
    "ExecuteTime": {
     "end_time": "2017-06-22T08:26:04.334657Z",
     "start_time": "2017-06-22T08:26:04.295807Z"
    },
    "collapsed": true
   },
   "outputs": [],
   "source": [
    "from sklearn import linear_model\n",
    "clf = linear_model.LogisticRegression()"
   ]
  },
  {
   "cell_type": "code",
   "execution_count": null,
   "metadata": {
    "ExecuteTime": {
     "end_time": "2017-06-22T08:26:04.342445Z",
     "start_time": "2017-06-22T08:26:04.335803Z"
    }
   },
   "outputs": [],
   "source": [
    "clf.fit(X_train_scale, y_train)\n",
    "print(clf.score(X_test_scale, y_test))"
   ]
  },
  {
   "cell_type": "code",
   "execution_count": null,
   "metadata": {
    "ExecuteTime": {
     "end_time": "2017-06-22T08:26:04.351152Z",
     "start_time": "2017-06-22T08:26:04.344092Z"
    }
   },
   "outputs": [],
   "source": [
    "clf.fit(X_train, y_train)\n",
    "print(clf.score(X_test, y_test))"
   ]
  },
  {
   "cell_type": "markdown",
   "metadata": {},
   "source": [
    "# range scaling"
   ]
  },
  {
   "cell_type": "code",
   "execution_count": null,
   "metadata": {
    "ExecuteTime": {
     "end_time": "2017-06-22T08:26:04.354999Z",
     "start_time": "2017-06-22T08:26:04.352663Z"
    },
    "collapsed": true
   },
   "outputs": [],
   "source": [
    "from sklearn.preprocessing import MinMaxScaler\n",
    "mmscaler = MinMaxScaler([-1,1])"
   ]
  },
  {
   "cell_type": "code",
   "execution_count": null,
   "metadata": {
    "ExecuteTime": {
     "end_time": "2017-06-22T08:26:04.359624Z",
     "start_time": "2017-06-22T08:26:04.356164Z"
    },
    "collapsed": true
   },
   "outputs": [],
   "source": [
    "mmscaler.fit(X_train)\n",
    "X_train_mms = mmscaler.transform(X_train)\n",
    "X_test_mms  = mmscaler.transform(X_test)"
   ]
  },
  {
   "cell_type": "code",
   "execution_count": null,
   "metadata": {
    "ExecuteTime": {
     "end_time": "2017-06-22T08:26:04.365710Z",
     "start_time": "2017-06-22T08:26:04.360721Z"
    },
    "scrolled": true
   },
   "outputs": [],
   "source": [
    "X_train_mms.max(axis=0), X_train_mms.min(axis=0)"
   ]
  },
  {
   "cell_type": "code",
   "execution_count": null,
   "metadata": {
    "ExecuteTime": {
     "end_time": "2017-06-22T08:26:04.372229Z",
     "start_time": "2017-06-22T08:26:04.367039Z"
    }
   },
   "outputs": [],
   "source": [
    "X_train.max(axis=0), X_train.min(axis=0)"
   ]
  },
  {
   "cell_type": "code",
   "execution_count": null,
   "metadata": {
    "ExecuteTime": {
     "end_time": "2017-06-22T08:26:04.510299Z",
     "start_time": "2017-06-22T08:26:04.373102Z"
    },
    "scrolled": true
   },
   "outputs": [],
   "source": [
    "plt.scatter(X_train_mms[:, 3], \n",
    "            X_train_mms[:, 4], c='blue', \n",
    "            label=\"train\")\n",
    "plt.scatter(X_test_mms[:, 3],  \n",
    "            X_test_mms[:, 4],  c='red',  \n",
    "            label=\"test\")\n",
    "plt.xlabel(data.feature_names[3] + \" (scaled)\")\n",
    "plt.ylabel(data.feature_names[4] + \" (scaled)\")\n",
    "plt.legend(loc=\"best\");"
   ]
  },
  {
   "cell_type": "code",
   "execution_count": null,
   "metadata": {
    "ExecuteTime": {
     "end_time": "2017-06-22T08:26:04.515811Z",
     "start_time": "2017-06-22T08:26:04.511448Z"
    },
    "scrolled": true
   },
   "outputs": [],
   "source": [
    "clf.fit(X_train_mms, y_train)\n",
    "print(clf.score(X_test_mms, y_test))"
   ]
  },
  {
   "cell_type": "markdown",
   "metadata": {},
   "source": [
    "# Normalization"
   ]
  },
  {
   "cell_type": "code",
   "execution_count": null,
   "metadata": {
    "ExecuteTime": {
     "end_time": "2017-06-22T08:26:04.519020Z",
     "start_time": "2017-06-22T08:26:04.516846Z"
    },
    "collapsed": true
   },
   "outputs": [],
   "source": [
    "from sklearn.preprocessing import Normalizer\n",
    "normalizer = Normalizer()"
   ]
  },
  {
   "cell_type": "code",
   "execution_count": null,
   "metadata": {
    "ExecuteTime": {
     "end_time": "2017-06-22T08:26:04.522012Z",
     "start_time": "2017-06-22T08:26:04.519923Z"
    },
    "collapsed": true
   },
   "outputs": [],
   "source": [
    "# normalizer.fit(X_train)"
   ]
  },
  {
   "cell_type": "code",
   "execution_count": null,
   "metadata": {
    "ExecuteTime": {
     "end_time": "2017-06-22T08:26:04.526911Z",
     "start_time": "2017-06-22T08:26:04.523172Z"
    },
    "collapsed": true
   },
   "outputs": [],
   "source": [
    "X_train_norm = normalizer.transform(X_train)\n",
    "X_test_norm  = normalizer.transform(X_test)"
   ]
  },
  {
   "cell_type": "code",
   "execution_count": null,
   "metadata": {
    "ExecuteTime": {
     "end_time": "2017-06-22T08:26:04.531923Z",
     "start_time": "2017-06-22T08:26:04.528010Z"
    },
    "scrolled": false
   },
   "outputs": [],
   "source": [
    "np.linalg.norm(X_train, axis=1)[:20]"
   ]
  },
  {
   "cell_type": "code",
   "execution_count": null,
   "metadata": {
    "ExecuteTime": {
     "end_time": "2017-06-22T08:26:04.538516Z",
     "start_time": "2017-06-22T08:26:04.533616Z"
    }
   },
   "outputs": [],
   "source": [
    "np.linalg.norm(X_train_norm, axis=1)[:20]"
   ]
  },
  {
   "cell_type": "code",
   "execution_count": null,
   "metadata": {
    "ExecuteTime": {
     "end_time": "2017-06-22T08:26:04.544123Z",
     "start_time": "2017-06-22T08:26:04.539889Z"
    }
   },
   "outputs": [],
   "source": [
    "clf.fit(X_train_norm, y_train)\n",
    "print(clf.score(X_test_norm, y_test))"
   ]
  },
  {
   "cell_type": "code",
   "execution_count": null,
   "metadata": {
    "ExecuteTime": {
     "end_time": "2017-06-22T08:26:04.688092Z",
     "start_time": "2017-06-22T08:26:04.545615Z"
    }
   },
   "outputs": [],
   "source": [
    "plt.scatter(X_train_norm[:, 3], \n",
    "            X_train_norm[:, 4], c='blue', \n",
    "            label=\"train\")\n",
    "plt.scatter(X_test_norm[:, 3], \n",
    "            X_test_norm[:, 4],  c='red',  \n",
    "            label=\"test\")\n",
    "plt.xlabel(data.feature_names[3] + \" (normalized)\")\n",
    "plt.ylabel(data.feature_names[4] + \" (normalized)\")\n",
    "plt.legend(loc=\"best\");"
   ]
  },
  {
   "cell_type": "code",
   "execution_count": null,
   "metadata": {
    "ExecuteTime": {
     "end_time": "2017-06-22T08:26:04.699617Z",
     "start_time": "2017-06-22T08:26:04.689419Z"
    }
   },
   "outputs": [],
   "source": [
    "for norm in ['l2', 'l1', 'max']:\n",
    "    normalizer = Normalizer(norm=norm)\n",
    "    normalizer.fit(X_train)\n",
    "    X_train_norm = normalizer.transform(X_train)\n",
    "    X_test_norm  = normalizer.transform(X_test)\n",
    "    clf.fit(X_train_norm, y_train)\n",
    "    print(norm, clf.score(X_test_norm, y_test))"
   ]
  },
  {
   "cell_type": "markdown",
   "metadata": {
    "collapsed": true
   },
   "source": [
    "# PCA Whitening"
   ]
  },
  {
   "cell_type": "code",
   "execution_count": null,
   "metadata": {
    "ExecuteTime": {
     "end_time": "2017-06-22T08:26:04.806625Z",
     "start_time": "2017-06-22T08:26:04.700862Z"
    }
   },
   "outputs": [],
   "source": [
    "plt.scatter(data.data[:, 6], data.data[:, 7])"
   ]
  },
  {
   "cell_type": "code",
   "execution_count": null,
   "metadata": {
    "ExecuteTime": {
     "end_time": "2017-06-22T08:26:04.914476Z",
     "start_time": "2017-06-22T08:26:04.807868Z"
    }
   },
   "outputs": [],
   "source": [
    "X = data.data[:, [6,7]]\n",
    "y = data.target\n",
    "plt.scatter(X[:, 0], X[:, 1])\n",
    "plt.xlim(0, 0.5)\n",
    "plt.ylim(0, 0.5)"
   ]
  },
  {
   "cell_type": "code",
   "execution_count": null,
   "metadata": {
    "ExecuteTime": {
     "end_time": "2017-06-22T08:26:05.057113Z",
     "start_time": "2017-06-22T08:26:04.915576Z"
    },
    "scrolled": true
   },
   "outputs": [],
   "source": [
    "from sklearn.decomposition import PCA\n",
    "pca = PCA()\n",
    "pca.fit(X)\n",
    "X_new = pca.transform(X)\n",
    "plt.scatter(X_new[:, 0], X_new[:, 1])\n",
    "plt.xlim(-0.1, 0.4)\n",
    "plt.ylim(-0.25, 0.25)"
   ]
  },
  {
   "cell_type": "code",
   "execution_count": null,
   "metadata": {
    "ExecuteTime": {
     "end_time": "2017-06-22T08:26:05.062568Z",
     "start_time": "2017-06-22T08:26:05.058461Z"
    }
   },
   "outputs": [],
   "source": [
    "X_new.mean(axis=0), X_new.std(axis=0)"
   ]
  },
  {
   "cell_type": "code",
   "execution_count": null,
   "metadata": {
    "ExecuteTime": {
     "end_time": "2017-06-22T08:26:05.205483Z",
     "start_time": "2017-06-22T08:26:05.063872Z"
    }
   },
   "outputs": [],
   "source": [
    "pca = PCA(whiten=True)\n",
    "pca.fit(X)\n",
    "X_new = pca.transform(X)\n",
    "plt.scatter(X_new[:, 0], X_new[:, 1])\n",
    "plt.xlim(-4, 10)\n",
    "plt.ylim(-4, 10)"
   ]
  },
  {
   "cell_type": "code",
   "execution_count": null,
   "metadata": {
    "ExecuteTime": {
     "end_time": "2017-06-22T08:26:05.211388Z",
     "start_time": "2017-06-22T08:26:05.206755Z"
    },
    "scrolled": false
   },
   "outputs": [],
   "source": [
    "X_new.mean(axis=0), X_new.std(axis=0)"
   ]
  },
  {
   "cell_type": "markdown",
   "metadata": {},
   "source": [
    "# ZCA Whitening"
   ]
  },
  {
   "cell_type": "code",
   "execution_count": null,
   "metadata": {
    "ExecuteTime": {
     "end_time": "2017-06-22T08:26:05.376299Z",
     "start_time": "2017-06-22T08:26:05.212711Z"
    }
   },
   "outputs": [],
   "source": [
    "X = np.random.uniform(low=-1, high=1, size=(1000,2)) * (2,1)\n",
    "y = 2 * X[:,0] + X[:,1]\n",
    "plt.scatter(X[:, 0], X[:, 1], c=y)\n",
    "plt.xlim(-3,3)\n",
    "plt.ylim(-3,3)"
   ]
  },
  {
   "cell_type": "code",
   "execution_count": null,
   "metadata": {
    "ExecuteTime": {
     "end_time": "2017-06-22T08:26:05.379438Z",
     "start_time": "2017-06-22T08:26:05.377457Z"
    },
    "collapsed": true
   },
   "outputs": [],
   "source": [
    "angle = np.pi/4"
   ]
  },
  {
   "cell_type": "code",
   "execution_count": null,
   "metadata": {
    "ExecuteTime": {
     "end_time": "2017-06-22T08:26:05.385131Z",
     "start_time": "2017-06-22T08:26:05.380530Z"
    },
    "scrolled": true
   },
   "outputs": [],
   "source": [
    "R = np.array([[np.sin(angle), -np.cos(angle)],\n",
    "              [np.cos(angle), np.sin(angle)]])\n",
    "R"
   ]
  },
  {
   "cell_type": "code",
   "execution_count": null,
   "metadata": {
    "ExecuteTime": {
     "end_time": "2017-06-22T08:26:05.533817Z",
     "start_time": "2017-06-22T08:26:05.386229Z"
    }
   },
   "outputs": [],
   "source": [
    "X_rot = X.dot(R)\n",
    "plt.scatter(X_rot[:, 0], X_rot[:, 1], c=y)\n",
    "plt.xlim(-3,3)\n",
    "plt.ylim(-3,3)"
   ]
  },
  {
   "cell_type": "code",
   "execution_count": null,
   "metadata": {
    "ExecuteTime": {
     "end_time": "2017-06-22T08:26:05.537316Z",
     "start_time": "2017-06-22T08:26:05.535006Z"
    },
    "collapsed": true
   },
   "outputs": [],
   "source": [
    "X = X_rot"
   ]
  },
  {
   "cell_type": "code",
   "execution_count": null,
   "metadata": {
    "ExecuteTime": {
     "end_time": "2017-06-22T08:26:05.761442Z",
     "start_time": "2017-06-22T08:26:05.538797Z"
    }
   },
   "outputs": [],
   "source": [
    "pca = PCA(whiten=False)\n",
    "pca.fit(X)\n",
    "X_new = pca.transform(X)\n",
    "plt.scatter(X_new[:, 0], X_new[:, 1], c=y)\n",
    "plt.xlim(-3,3)\n",
    "plt.ylim(-3,3)\n",
    "plt.title(\"PCA\")"
   ]
  },
  {
   "cell_type": "code",
   "execution_count": null,
   "metadata": {
    "ExecuteTime": {
     "end_time": "2017-06-22T08:26:05.962483Z",
     "start_time": "2017-06-22T08:26:05.762489Z"
    }
   },
   "outputs": [],
   "source": [
    "pca = PCA(whiten=True)\n",
    "pca.fit(X)\n",
    "X_new = pca.transform(X)\n",
    "plt.scatter(X_new[:, 0], X_new[:, 1], c=y)\n",
    "plt.xlim(-3,3)\n",
    "plt.ylim(-3,3)\n",
    "plt.title(\"PCA Whitening\")"
   ]
  },
  {
   "cell_type": "code",
   "execution_count": null,
   "metadata": {
    "ExecuteTime": {
     "end_time": "2017-06-22T08:26:06.122913Z",
     "start_time": "2017-06-22T08:26:05.963473Z"
    }
   },
   "outputs": [],
   "source": [
    "X_new2 = X_new.dot(pca.components_)\n",
    "plt.scatter(X_new2[:, 0], X_new2[:, 1], c=y)\n",
    "plt.xlim(-3,3)\n",
    "plt.ylim(-3,3)\n",
    "plt.title(\"ZCA Whitening\")"
   ]
  },
  {
   "cell_type": "code",
   "execution_count": null,
   "metadata": {
    "ExecuteTime": {
     "end_time": "2017-06-22T08:26:06.127728Z",
     "start_time": "2017-06-22T08:26:06.124133Z"
    },
    "scrolled": true
   },
   "outputs": [],
   "source": [
    "pca.components_"
   ]
  },
  {
   "cell_type": "code",
   "execution_count": null,
   "metadata": {
    "collapsed": true
   },
   "outputs": [],
   "source": []
  }
 ],
 "metadata": {
  "anaconda-cloud": {},
  "kernelspec": {
   "display_name": "Python 3",
   "language": "python",
   "name": "python3"
  },
  "language_info": {
   "codemirror_mode": {
    "name": "ipython",
    "version": 3
   },
   "file_extension": ".py",
   "mimetype": "text/x-python",
   "name": "python",
   "nbconvert_exporter": "python",
   "pygments_lexer": "ipython3",
   "version": "3.6.1"
  },
  "toc": {
   "colors": {
    "hover_highlight": "#DAA520",
    "running_highlight": "#FF0000",
    "selected_highlight": "#FFD700"
   },
   "moveMenuLeft": true,
   "nav_menu": {
    "height": "102px",
    "width": "252px"
   },
   "navigate_menu": true,
   "number_sections": true,
   "sideBar": true,
   "threshold": 4,
   "toc_cell": false,
   "toc_section_display": "block",
   "toc_window_display": false,
   "widenNotebook": false
  }
 },
 "nbformat": 4,
 "nbformat_minor": 1
}
