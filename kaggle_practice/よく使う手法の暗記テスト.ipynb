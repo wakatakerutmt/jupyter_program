{
 "cells": [
  {
   "cell_type": "markdown",
   "metadata": {},
   "source": [
    "# データの読み込み時\n"
   ]
  },
  {
   "cell_type": "code",
   "execution_count": 1,
   "metadata": {},
   "outputs": [],
   "source": [
    "import numpy as np\n",
    "import pandas as pd\n",
    "from pandas import Series,DataFrame\n",
    "import numpy as np\n",
    "import matplotlib.pyplot as plt\n",
    "import seaborn as sns\n",
    "%matplotlib inline\n",
    "\n",
    "\n",
    "dfS = pd.read_csv(\"train.csv\")\n",
    "dfT = pd.read_csv(\"test.csv\")\n",
    "\n",
    "dfS = pd.read_csv('train.csv')\n",
    "dfT = pd.read_csv('test.csv')\n",
    "df = pd.concat([dfS, dfT], sort=True) \n",
    "\n",
    "print(dfS.shape) #これで学習データの数を見る\n",
    "print(dfT.shape) #これでテストデータの数を見る\n",
    "print(df.shape) #これで合体させたデータの数を見る\n",
    "\n",
    "print(df.info()) # 全体像を見る　どれがカテゴリ変数か、nullがあるのかなど\n",
    "\n",
    "# sortはdefaultでTrueになっているがあえて書いてる。カラム名をソートする。データの順は変わらない"
   ]
  },
  {
   "cell_type": "code",
   "execution_count": null,
   "metadata": {},
   "outputs": [],
   "source": [
    "# concatで統合したやつを元に戻す\n",
    "\n",
    "dfS = df[:len(dfS)]\n",
    "dfT = df[len(dfS):]"
   ]
  },
  {
   "cell_type": "code",
   "execution_count": null,
   "metadata": {},
   "outputs": [],
   "source": [
    "# 予測値を分ける　予測するカラム名をtargetとする\n",
    "\n",
    "y_train = dfS['target']\n",
    "# y_testはない　予測したいやつなので\n",
    "\n",
    "X_train = dfS.drop('Survived', axis = 1) # axis = 1 で列方向\n",
    "X_test = dfT.drop('Survived', axis = 1) # axis = 1 で列方向"
   ]
  },
  {
   "cell_type": "markdown",
   "metadata": {},
   "source": [
    "学習用のデータフレームをdfS    \n",
    "テスト用のデータフレームをdfT     \n",
    "として以下扱う "
   ]
  },
  {
   "cell_type": "markdown",
   "metadata": {},
   "source": [
    "# 前処理系の扱い\n",
    "・欠損値   \n",
    "・外れ値   \n",
    "・文字列カテゴリ変数を整数へ変換"
   ]
  },
  {
   "cell_type": "markdown",
   "metadata": {},
   "source": [
    "#### Q1 欠損値個数（NaN個数）チェック\n",
    "全カラムに対して各カラムそれぞれNaNの数が何個あるか調べる方法は？  \n",
    "またAgeというカラムに絞っても行え"
   ]
  },
  {
   "cell_type": "code",
   "execution_count": 3,
   "metadata": {},
   "outputs": [],
   "source": [
    "dfS.isnull().sum() # 全カラムに対して \n",
    "\n",
    "# Ageカラムに対して\n",
    "dfS['Age'].isnull().values.sum() \n",
    "# または\n",
    "np.count_nonzero(dfS['Age'].isnull().values)"
   ]
  },
  {
   "cell_type": "markdown",
   "metadata": {},
   "source": [
    "#### Q2 欠損値割合（NaNの割合）チェック  \n",
    "Ageというカラムで、NaNがデータの数に対してどれくらいの割合を占めているのかを調べる方法は？"
   ]
  },
  {
   "cell_type": "code",
   "execution_count": 4,
   "metadata": {},
   "outputs": [],
   "source": [
    "dfS['Age'].isnull().values.sum() / len(dfS['Age']) * 100\n",
    "# len(df[column])で長さを取得できる"
   ]
  },
  {
   "cell_type": "markdown",
   "metadata": {},
   "source": [
    "#### Q3 外れ値を視覚的にチェック   \n",
    "外れ値のチェックをしたい。     \n",
    "今ヒストグラムで視覚的に見ることを考える。棒の数（階級の数？）を20本にして表示せよ"
   ]
  },
  {
   "cell_type": "code",
   "execution_count": null,
   "metadata": {},
   "outputs": [],
   "source": [
    "plt.hist(dfS['Age'].dropna(),bins=20)\n",
    "# ヒストグラムの作り方\n",
    "# 　plt.hist(対象データ, bins=表示したい棒の数)\n",
    "# ヒストグラムで十分確認できる dropna()でNaNを省いていないとエラーが出る\n",
    "# bins\tビン (表示する棒) の数。階級数。(デフォルト値: 10) つまり20本棒を表示させている"
   ]
  },
  {
   "cell_type": "markdown",
   "metadata": {},
   "source": [
    "#### Q4 欠損値を平均値で埋める\n",
    "Ageというカラムで欠損値を平均で埋めて、欠損値がなくなっていることまで確認せよ  "
   ]
  },
  {
   "cell_type": "code",
   "execution_count": null,
   "metadata": {},
   "outputs": [],
   "source": [
    "# 平均の出し方\n",
    "# ①dfS['Age'].mean()\n",
    "# ②np.mean(dfS['Age'])\n",
    "\n",
    "mean_age = np.mean(dfS['Age'])\n",
    "dfS['Age'] = dfS['Age'].fillna(mean_age)\n",
    "\n",
    "# または\n",
    "\n",
    "dfS['Age'].fillna(dfS['Age'].mean()), inplace=True)"
   ]
  },
  {
   "cell_type": "markdown",
   "metadata": {},
   "source": [
    "#### Q 欠損値を平均値±標準誤差内のランダム値で埋める\n",
    "Ageというカラムで行え"
   ]
  },
  {
   "cell_type": "code",
   "execution_count": null,
   "metadata": {},
   "outputs": [],
   "source": [
    "age_avg = data['Age'].mean()\n",
    "age_std = data['Age'].std()\n",
    "\n",
    "data['Age'].fillna(np.random.randint(age_avg - age_std, age_avg + age_std), inplace=True)\n",
    "\n",
    "# np.random.randint(引数１、引数２) で 引数１～引数２の範囲で任意の整数を生成"
   ]
  },
  {
   "cell_type": "markdown",
   "metadata": {},
   "source": [
    "#### Q5 カテゴリ変数を整数に変換する\n",
    "Sexというカラムには'female'と'male'という文字列が格納されている。これらをそれぞれ1,2という「整数」の番号に置き換えよ（文字列の1,2ではなく）"
   ]
  },
  {
   "cell_type": "code",
   "execution_count": null,
   "metadata": {},
   "outputs": [],
   "source": [
    "dfS['Sex'].replace(['male', 'female'], [0, 1], inplace=True)\n",
    "# または\n",
    "dfS['Sex'] = dfS['Sex'].map( {'female': 1, 'male': 2} ).astype(int)\n",
    "# または\n",
    "dfS['Sex'] = dfS['Sex'].str.replace('female','1')\n",
    "dfS['Sex'] = dfS['Sex'].str.replace('male','2')\n",
    "dfS_sex = dfS['Sex'].astype(int) #　このままでは文字列の1,2なので整数にする\n",
    "\n",
    "# 文字列は扱いのが面倒なので数値に置き換えする\n",
    "# .strで文字列に対するプロパティが使えるので続けて.replace(置き換える文字列, 変更後文字列)で置換する"
   ]
  },
  {
   "cell_type": "markdown",
   "metadata": {},
   "source": [
    "#### Q5 カテゴリ変数を整数に変換した際、漏れがないか確認せよ\n",
    "Sexというカラムには'female'と'male'という文字列が格納されているが、もしかしたらそれ以外の文字列もあるかもしれない。これを確認せよ"
   ]
  },
  {
   "cell_type": "code",
   "execution_count": null,
   "metadata": {},
   "outputs": [],
   "source": [
    "dfS['Sex'].unique() # これで 漏れがないか確認できる"
   ]
  },
  {
   "cell_type": "markdown",
   "metadata": {},
   "source": [
    "#### Q6 欠損値が分かる形でユニーク値をカウントをせよ\n",
    "Sexというカラムで確認せよ"
   ]
  },
  {
   "cell_type": "code",
   "execution_count": null,
   "metadata": {},
   "outputs": [],
   "source": [
    "dfS['Sex'].value_counts(dropna=False)\n",
    "\n",
    "# または\n",
    "\n",
    "dfS_sex[(dfS_sex != 1) & (dfS_sex != 2)]\n",
    "\n",
    "# デフォルトではNaNは除外されるが、引数dropna=FalseとするとNaNもカウントされる\n",
    "# 引数normalize=Trueとすると、合計が1になるように規格化した値が返される。　（発展）"
   ]
  },
  {
   "cell_type": "markdown",
   "metadata": {},
   "source": [
    "#### Q7 使わない特徴量のカラムを消去せよ\n",
    "Name, PassengerId, SibSp, Parch, Ticket, Cabinのカラムを削除せよ"
   ]
  },
  {
   "cell_type": "code",
   "execution_count": null,
   "metadata": {},
   "outputs": [],
   "source": [
    "# 使わない特徴量の削除\n",
    "delete_columns = ['Name', 'PassengerId', 'SibSp', 'Parch', 'Ticket', 'Cabin']\n",
    "data.drop(delete_columns, axis = 1, inplace = True) # axis = 1 で列方向"
   ]
  }
 ],
 "metadata": {
  "kernelspec": {
   "display_name": "Python 3",
   "language": "python",
   "name": "python3"
  },
  "language_info": {
   "codemirror_mode": {
    "name": "ipython",
    "version": 3
   },
   "file_extension": ".py",
   "mimetype": "text/x-python",
   "name": "python",
   "nbconvert_exporter": "python",
   "pygments_lexer": "ipython3",
   "version": "3.6.9"
  }
 },
 "nbformat": 4,
 "nbformat_minor": 2
}
