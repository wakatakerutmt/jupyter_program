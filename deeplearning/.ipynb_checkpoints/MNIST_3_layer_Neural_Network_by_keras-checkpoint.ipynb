{
 "cells": [
  {
   "cell_type": "markdown",
   "metadata": {},
   "source": [
    "# NNによる学習フロー\n",
    "\n",
    "##  1.データを集める (今回はload_data()でダウンロード)  \n",
    "##  2.データを正規化  \n",
    "##  3.モデル（レイヤー構成）を定義  \n",
    "##   1.Sequentialモデルを仕様（3層のニューラルネットワーク）  \n",
    "##  4.最適化手法や損失関数などを定義（compile）  \n",
    "##  5.トレーニング（機械学習を実行）(fit)  \n",
    "##  6.制度を評価する（テストデータをevaluate） ⇒3に戻る、または1を工夫する（前処理）  "
   ]
  },
  {
   "cell_type": "code",
   "execution_count": 1,
   "metadata": {},
   "outputs": [],
   "source": [
    "import tensorflow\n",
    "from tensorflow import keras"
   ]
  },
  {
   "cell_type": "code",
   "execution_count": 2,
   "metadata": {},
   "outputs": [],
   "source": [
    "%matplotlib inline"
   ]
  },
  {
   "cell_type": "code",
   "execution_count": 3,
   "metadata": {},
   "outputs": [],
   "source": [
    "import matplotlib.pyplot as plt"
   ]
  },
  {
   "cell_type": "code",
   "execution_count": 4,
   "metadata": {},
   "outputs": [],
   "source": [
    "batch_size = 128 # バッチサイズ\n",
    "num_class = 10 # 識別クラス数（出力層のノードの数）\n",
    "epochs = 10 # 学習回数"
   ]
  },
  {
   "cell_type": "code",
   "execution_count": 5,
   "metadata": {},
   "outputs": [
    {
     "name": "stdout",
     "output_type": "stream",
     "text": [
      "Downloading data from https://storage.googleapis.com/tensorflow/tf-keras-datasets/mnist.npz\n",
      "11493376/11490434 [==============================] - 1s 0us/step\n"
     ]
    }
   ],
   "source": [
    "# keras内蔵のMNISTデータセットを利用する\n",
    "(x_train, y_train), (x_test, y_test) = keras.datasets.mnist.load_data()"
   ]
  },
  {
   "cell_type": "code",
   "execution_count": 6,
   "metadata": {},
   "outputs": [
    {
     "data": {
      "text/plain": [
       "(60000, 28, 28)"
      ]
     },
     "execution_count": 6,
     "metadata": {},
     "output_type": "execute_result"
    }
   ],
   "source": [
    "x_train.shape"
   ]
  },
  {
   "cell_type": "code",
   "execution_count": 7,
   "metadata": {},
   "outputs": [
    {
     "data": {
      "image/png": "[encoded data removed]",
      "text/plain": [
       "<Figure size 432x288 with 10 Axes>"
      ]
     },
     "metadata": {
      "needs_background": "light"
     },
     "output_type": "display_data"
    }
   ],
   "source": [
    "# とりあえず最初の10個を表示してみる\n",
    "# (28*28)画像として表示するが、元々(28,28)なのでreshapeは不要\n",
    "for i in range(10):\n",
    "    plt.subplot(2, 5, i +1) # 2行5列\n",
    "    plt.title(\"Label: \" + str(i))\n",
    "    plt.imshow(x_train[i], cmap=None)"
   ]
  },
  {
   "cell_type": "code",
   "execution_count": 8,
   "metadata": {},
   "outputs": [
    {
     "data": {
      "text/plain": [
       "array([5, 0, 4, 1, 9, 2, 1, 3, 1, 4], dtype=uint8)"
      ]
     },
     "execution_count": 8,
     "metadata": {},
     "output_type": "execute_result"
    }
   ],
   "source": [
    "# 上の画像の出力と教師データがあってるかみてみよう\n",
    "y_train[:10]"
   ]
  },
  {
   "cell_type": "code",
   "execution_count": 9,
   "metadata": {},
   "outputs": [],
   "source": [
    "# 以上でデータの確認\n",
    "\n",
    "# 最適化手法を定義して学習する"
   ]
  },
  {
   "cell_type": "code",
   "execution_count": 10,
   "metadata": {},
   "outputs": [],
   "source": [
    "# 正規化\n",
    "x_train, x_test = x_train / 255.0, x_test / 255.0"
   ]
  },
  {
   "cell_type": "code",
   "execution_count": 11,
   "metadata": {},
   "outputs": [
    {
     "data": {
      "text/plain": [
       "array([[0.        , 0.        , 0.        , 0.        , 0.        ,\n",
       "        0.        , 0.        , 0.        , 0.        , 0.        ,\n",
       "        0.        , 0.        , 0.        , 0.        , 0.        ,\n",
       "        0.        , 0.        , 0.        , 0.        , 0.        ,\n",
       "        0.        , 0.        , 0.        , 0.        , 0.        ,\n",
       "        0.        , 0.        , 0.        ],\n",
       "       [0.        , 0.        , 0.        , 0.        , 0.        ,\n",
       "        0.        , 0.        , 0.        , 0.        , 0.        ,\n",
       "        0.        , 0.        , 0.        , 0.        , 0.        ,\n",
       "        0.        , 0.        , 0.        , 0.        , 0.        ,\n",
       "        0.        , 0.        , 0.        , 0.        , 0.        ,\n",
       "        0.        , 0.        , 0.        ],\n",
       "       [0.        , 0.        , 0.        , 0.        , 0.        ,\n",
       "        0.        , 0.        , 0.        , 0.        , 0.        ,\n",
       "        0.        , 0.        , 0.        , 0.        , 0.        ,\n",
       "        0.        , 0.        , 0.        , 0.        , 0.        ,\n",
       "        0.        , 0.        , 0.        , 0.        , 0.        ,\n",
       "        0.        , 0.        , 0.        ],\n",
       "       [0.        , 0.        , 0.        , 0.        , 0.        ,\n",
       "        0.        , 0.        , 0.        , 0.        , 0.        ,\n",
       "        0.        , 0.        , 0.        , 0.        , 0.        ,\n",
       "        0.        , 0.        , 0.        , 0.        , 0.        ,\n",
       "        0.        , 0.        , 0.        , 0.        , 0.        ,\n",
       "        0.        , 0.        , 0.        ],\n",
       "       [0.        , 0.        , 0.        , 0.        , 0.        ,\n",
       "        0.        , 0.        , 0.        , 0.        , 0.        ,\n",
       "        0.        , 0.        , 0.        , 0.        , 0.        ,\n",
       "        0.        , 0.        , 0.        , 0.        , 0.        ,\n",
       "        0.        , 0.        , 0.        , 0.        , 0.        ,\n",
       "        0.        , 0.        , 0.        ],\n",
       "       [0.        , 0.        , 0.        , 0.        , 0.        ,\n",
       "        0.        , 0.        , 0.        , 0.        , 0.        ,\n",
       "        0.        , 0.        , 0.01176471, 0.07058824, 0.07058824,\n",
       "        0.07058824, 0.49411765, 0.53333333, 0.68627451, 0.10196078,\n",
       "        0.65098039, 1.        , 0.96862745, 0.49803922, 0.        ,\n",
       "        0.        , 0.        , 0.        ],\n",
       "       [0.        , 0.        , 0.        , 0.        , 0.        ,\n",
       "        0.        , 0.        , 0.        , 0.11764706, 0.14117647,\n",
       "        0.36862745, 0.60392157, 0.66666667, 0.99215686, 0.99215686,\n",
       "        0.99215686, 0.99215686, 0.99215686, 0.88235294, 0.6745098 ,\n",
       "        0.99215686, 0.94901961, 0.76470588, 0.25098039, 0.        ,\n",
       "        0.        , 0.        , 0.        ],\n",
       "       [0.        , 0.        , 0.        , 0.        , 0.        ,\n",
       "        0.        , 0.        , 0.19215686, 0.93333333, 0.99215686,\n",
       "        0.99215686, 0.99215686, 0.99215686, 0.99215686, 0.99215686,\n",
       "        0.99215686, 0.99215686, 0.98431373, 0.36470588, 0.32156863,\n",
       "        0.32156863, 0.21960784, 0.15294118, 0.        , 0.        ,\n",
       "        0.        , 0.        , 0.        ],\n",
       "       [0.        , 0.        , 0.        , 0.        , 0.        ,\n",
       "        0.        , 0.        , 0.07058824, 0.85882353, 0.99215686,\n",
       "        0.99215686, 0.99215686, 0.99215686, 0.99215686, 0.77647059,\n",
       "        0.71372549, 0.96862745, 0.94509804, 0.        , 0.        ,\n",
       "        0.        , 0.        , 0.        , 0.        , 0.        ,\n",
       "        0.        , 0.        , 0.        ],\n",
       "       [0.        , 0.        , 0.        , 0.        , 0.        ,\n",
       "        0.        , 0.        , 0.        , 0.31372549, 0.61176471,\n",
       "        0.41960784, 0.99215686, 0.99215686, 0.80392157, 0.04313725,\n",
       "        0.        , 0.16862745, 0.60392157, 0.        , 0.        ,\n",
       "        0.        , 0.        , 0.        , 0.        , 0.        ,\n",
       "        0.        , 0.        , 0.        ],\n",
       "       [0.        , 0.        , 0.        , 0.        , 0.        ,\n",
       "        0.        , 0.        , 0.        , 0.        , 0.05490196,\n",
       "        0.00392157, 0.60392157, 0.99215686, 0.35294118, 0.        ,\n",
       "        0.        , 0.        , 0.        , 0.        , 0.        ,\n",
       "        0.        , 0.        , 0.        , 0.        , 0.        ,\n",
       "        0.        , 0.        , 0.        ],\n",
       "       [0.        , 0.        , 0.        , 0.        , 0.        ,\n",
       "        0.        , 0.        , 0.        , 0.        , 0.        ,\n",
       "        0.        , 0.54509804, 0.99215686, 0.74509804, 0.00784314,\n",
       "        0.        , 0.        , 0.        , 0.        , 0.        ,\n",
       "        0.        , 0.        , 0.        , 0.        , 0.        ,\n",
       "        0.        , 0.        , 0.        ],\n",
       "       [0.        , 0.        , 0.        , 0.        , 0.        ,\n",
       "        0.        , 0.        , 0.        , 0.        , 0.        ,\n",
       "        0.        , 0.04313725, 0.74509804, 0.99215686, 0.2745098 ,\n",
       "        0.        , 0.        , 0.        , 0.        , 0.        ,\n",
       "        0.        , 0.        , 0.        , 0.        , 0.        ,\n",
       "        0.        , 0.        , 0.        ],\n",
       "       [0.        , 0.        , 0.        , 0.        , 0.        ,\n",
       "        0.        , 0.        , 0.        , 0.        , 0.        ,\n",
       "        0.        , 0.        , 0.1372549 , 0.94509804, 0.88235294,\n",
       "        0.62745098, 0.42352941, 0.00392157, 0.        , 0.        ,\n",
       "        0.        , 0.        , 0.        , 0.        , 0.        ,\n",
       "        0.        , 0.        , 0.        ],\n",
       "       [0.        , 0.        , 0.        , 0.        , 0.        ,\n",
       "        0.        , 0.        , 0.        , 0.        , 0.        ,\n",
       "        0.        , 0.        , 0.        , 0.31764706, 0.94117647,\n",
       "        0.99215686, 0.99215686, 0.46666667, 0.09803922, 0.        ,\n",
       "        0.        , 0.        , 0.        , 0.        , 0.        ,\n",
       "        0.        , 0.        , 0.        ],\n",
       "       [0.        , 0.        , 0.        , 0.        , 0.        ,\n",
       "        0.        , 0.        , 0.        , 0.        , 0.        ,\n",
       "        0.        , 0.        , 0.        , 0.        , 0.17647059,\n",
       "        0.72941176, 0.99215686, 0.99215686, 0.58823529, 0.10588235,\n",
       "        0.        , 0.        , 0.        , 0.        , 0.        ,\n",
       "        0.        , 0.        , 0.        ],\n",
       "       [0.        , 0.        , 0.        , 0.        , 0.        ,\n",
       "        0.        , 0.        , 0.        , 0.        , 0.        ,\n",
       "        0.        , 0.        , 0.        , 0.        , 0.        ,\n",
       "        0.0627451 , 0.36470588, 0.98823529, 0.99215686, 0.73333333,\n",
       "        0.        , 0.        , 0.        , 0.        , 0.        ,\n",
       "        0.        , 0.        , 0.        ],\n",
       "       [0.        , 0.        , 0.        , 0.        , 0.        ,\n",
       "        0.        , 0.        , 0.        , 0.        , 0.        ,\n",
       "        0.        , 0.        , 0.        , 0.        , 0.        ,\n",
       "        0.        , 0.        , 0.97647059, 0.99215686, 0.97647059,\n",
       "        0.25098039, 0.        , 0.        , 0.        , 0.        ,\n",
       "        0.        , 0.        , 0.        ],\n",
       "       [0.        , 0.        , 0.        , 0.        , 0.        ,\n",
       "        0.        , 0.        , 0.        , 0.        , 0.        ,\n",
       "        0.        , 0.        , 0.        , 0.        , 0.18039216,\n",
       "        0.50980392, 0.71764706, 0.99215686, 0.99215686, 0.81176471,\n",
       "        0.00784314, 0.        , 0.        , 0.        , 0.        ,\n",
       "        0.        , 0.        , 0.        ],\n",
       "       [0.        , 0.        , 0.        , 0.        , 0.        ,\n",
       "        0.        , 0.        , 0.        , 0.        , 0.        ,\n",
       "        0.        , 0.        , 0.15294118, 0.58039216, 0.89803922,\n",
       "        0.99215686, 0.99215686, 0.99215686, 0.98039216, 0.71372549,\n",
       "        0.        , 0.        , 0.        , 0.        , 0.        ,\n",
       "        0.        , 0.        , 0.        ],\n",
       "       [0.        , 0.        , 0.        , 0.        , 0.        ,\n",
       "        0.        , 0.        , 0.        , 0.        , 0.        ,\n",
       "        0.09411765, 0.44705882, 0.86666667, 0.99215686, 0.99215686,\n",
       "        0.99215686, 0.99215686, 0.78823529, 0.30588235, 0.        ,\n",
       "        0.        , 0.        , 0.        , 0.        , 0.        ,\n",
       "        0.        , 0.        , 0.        ],\n",
       "       [0.        , 0.        , 0.        , 0.        , 0.        ,\n",
       "        0.        , 0.        , 0.        , 0.09019608, 0.25882353,\n",
       "        0.83529412, 0.99215686, 0.99215686, 0.99215686, 0.99215686,\n",
       "        0.77647059, 0.31764706, 0.00784314, 0.        , 0.        ,\n",
       "        0.        , 0.        , 0.        , 0.        , 0.        ,\n",
       "        0.        , 0.        , 0.        ],\n",
       "       [0.        , 0.        , 0.        , 0.        , 0.        ,\n",
       "        0.        , 0.07058824, 0.67058824, 0.85882353, 0.99215686,\n",
       "        0.99215686, 0.99215686, 0.99215686, 0.76470588, 0.31372549,\n",
       "        0.03529412, 0.        , 0.        , 0.        , 0.        ,\n",
       "        0.        , 0.        , 0.        , 0.        , 0.        ,\n",
       "        0.        , 0.        , 0.        ],\n",
       "       [0.        , 0.        , 0.        , 0.        , 0.21568627,\n",
       "        0.6745098 , 0.88627451, 0.99215686, 0.99215686, 0.99215686,\n",
       "        0.99215686, 0.95686275, 0.52156863, 0.04313725, 0.        ,\n",
       "        0.        , 0.        , 0.        , 0.        , 0.        ,\n",
       "        0.        , 0.        , 0.        , 0.        , 0.        ,\n",
       "        0.        , 0.        , 0.        ],\n",
       "       [0.        , 0.        , 0.        , 0.        , 0.53333333,\n",
       "        0.99215686, 0.99215686, 0.99215686, 0.83137255, 0.52941176,\n",
       "        0.51764706, 0.0627451 , 0.        , 0.        , 0.        ,\n",
       "        0.        , 0.        , 0.        , 0.        , 0.        ,\n",
       "        0.        , 0.        , 0.        , 0.        , 0.        ,\n",
       "        0.        , 0.        , 0.        ],\n",
       "       [0.        , 0.        , 0.        , 0.        , 0.        ,\n",
       "        0.        , 0.        , 0.        , 0.        , 0.        ,\n",
       "        0.        , 0.        , 0.        , 0.        , 0.        ,\n",
       "        0.        , 0.        , 0.        , 0.        , 0.        ,\n",
       "        0.        , 0.        , 0.        , 0.        , 0.        ,\n",
       "        0.        , 0.        , 0.        ],\n",
       "       [0.        , 0.        , 0.        , 0.        , 0.        ,\n",
       "        0.        , 0.        , 0.        , 0.        , 0.        ,\n",
       "        0.        , 0.        , 0.        , 0.        , 0.        ,\n",
       "        0.        , 0.        , 0.        , 0.        , 0.        ,\n",
       "        0.        , 0.        , 0.        , 0.        , 0.        ,\n",
       "        0.        , 0.        , 0.        ],\n",
       "       [0.        , 0.        , 0.        , 0.        , 0.        ,\n",
       "        0.        , 0.        , 0.        , 0.        , 0.        ,\n",
       "        0.        , 0.        , 0.        , 0.        , 0.        ,\n",
       "        0.        , 0.        , 0.        , 0.        , 0.        ,\n",
       "        0.        , 0.        , 0.        , 0.        , 0.        ,\n",
       "        0.        , 0.        , 0.        ]])"
      ]
     },
     "execution_count": 11,
     "metadata": {},
     "output_type": "execute_result"
    }
   ],
   "source": [
    "x_train[0]"
   ]
  },
  {
   "cell_type": "code",
   "execution_count": 12,
   "metadata": {},
   "outputs": [
    {
     "name": "stdout",
     "output_type": "stream",
     "text": [
      "WARNING:tensorflow:From C:\\Users\\b6122\\Anaconda3\\lib\\site-packages\\tensorflow\\python\\ops\\init_ops.py:1251: calling VarianceScaling.__init__ (from tensorflow.python.ops.init_ops) with dtype is deprecated and will be removed in a future version.\n",
      "Instructions for updating:\n",
      "Call initializer instance with the dtype argument instead of passing it to the constructor\n"
     ]
    }
   ],
   "source": [
    "# モデルを決める\n",
    "model = keras.models.Sequential([\n",
    "    keras.layers.Flatten(), \n",
    "    # 入力を平滑化する．\n",
    "    keras.layers.Dense(512, activation='relu'),\n",
    "    # Dense:通常の全結合ニューラルネットワークレイヤー．activation:活性化関数 活性化関数\n",
    "    keras.layers.Dropout(0.2), \n",
    "    # 20% 訓練時の更新においてランダムに入力ユニットを0とする割合であり，過学習の防止に役立つ\n",
    "    keras.layers.Dense(10, activation='softmax') \n",
    "    # 出力前のノード数はクラス分類数の10, 活性化関数はsoftmaxにする\n",
    "])"
   ]
  },
  {
   "cell_type": "code",
   "execution_count": 13,
   "metadata": {},
   "outputs": [
    {
     "name": "stdout",
     "output_type": "stream",
     "text": [
      "Epoch 1/20\n",
      "60000/60000 [==============================] - 9s 149us/sample - loss: 9833.7067 - acc: 0.0063\n",
      "Epoch 2/20\n",
      "60000/60000 [==============================] - 9s 156us/sample - loss: 24152.2230 - acc: 0.0157\n",
      "Epoch 3/20\n",
      "60000/60000 [==============================] - 9s 154us/sample - loss: 35058.1383 - acc: 0.0216\n",
      "Epoch 4/20\n",
      "60000/60000 [==============================] - 9s 155us/sample - loss: 44821.2906 - acc: 0.0258\n",
      "Epoch 5/20\n",
      "60000/60000 [==============================] - 9s 155us/sample - loss: 54017.7366 - acc: 0.0298\n",
      "Epoch 6/20\n",
      "60000/60000 [==============================] - 9s 155us/sample - loss: 63052.9305 - acc: 0.0335\n",
      "Epoch 7/20\n",
      "60000/60000 [==============================] - 9s 152us/sample - loss: 71796.3898 - acc: 0.0362\n",
      "Epoch 8/20\n",
      "60000/60000 [==============================] - 9s 157us/sample - loss: 79999.7723 - acc: 0.0389\n",
      "Epoch 9/20\n",
      "60000/60000 [==============================] - 11s 180us/sample - loss: 88274.7151 - acc: 0.0414\n",
      "Epoch 10/20\n",
      "60000/60000 [==============================] - 10s 168us/sample - loss: 96148.3126 - acc: 0.0444\n",
      "Epoch 11/20\n",
      "60000/60000 [==============================] - 10s 161us/sample - loss: 104186.3758 - acc: 0.0468\n",
      "Epoch 12/20\n",
      "60000/60000 [==============================] - 10s 158us/sample - loss: 112129.2972 - acc: 0.0498\n",
      "Epoch 13/20\n",
      "60000/60000 [==============================] - 9s 157us/sample - loss: 119748.9580 - acc: 0.0521\n",
      "Epoch 14/20\n",
      "60000/60000 [==============================] - 10s 159us/sample - loss: 127434.8067 - acc: 0.0530\n",
      "Epoch 15/20\n",
      "60000/60000 [==============================] - 9s 157us/sample - loss: 134957.0690 - acc: 0.0551\n",
      "Epoch 16/20\n",
      "60000/60000 [==============================] - 10s 159us/sample - loss: 142473.4951 - acc: 0.0573\n",
      "Epoch 17/20\n",
      "60000/60000 [==============================] - 9s 153us/sample - loss: 149989.3213 - acc: 0.0586\n",
      "Epoch 18/20\n",
      "60000/60000 [==============================] - 9s 155us/sample - loss: 157112.5796 - acc: 0.0607\n",
      "Epoch 19/20\n",
      "60000/60000 [==============================] - 10s 162us/sample - loss: 164736.9221 - acc: 0.0619\n",
      "Epoch 20/20\n",
      "60000/60000 [==============================] - 11s 183us/sample - loss: 172021.0029 - acc: 0.0640\n"
     ]
    },
    {
     "data": {
      "text/plain": [
       "<tensorflow.python.keras.callbacks.History at 0x1fdfb18b400>"
      ]
     },
     "execution_count": 13,
     "metadata": {},
     "output_type": "execute_result"
    }
   ],
   "source": [
    "# 最適化手法を決める(compile)\n",
    "\n",
    "model.compile(optimizer='adam', loss='categorical_crossentropy', metrics=['accuracy'])\n",
    "# optimizer:最適化手法\n",
    "# loss: 損失関数、正解との誤差をどう計算するか\n",
    "# metrics: 評価指標\n",
    "\n",
    "# optimizer...\n",
    "#   勾配法の中でも実際に深層学習で主に用いられている手法(SGD, Momentum SGD, AdaGrad, RMSprop, AdaDelta, Adam)\n",
    "# https://qiita.com/tokkuman/items/1944c00415d129ca0ee9\n",
    "\n",
    "# 学習(fit)\n",
    "model.fit(x_train, y_train, epochs=20)"
   ]
  },
  {
   "cell_type": "code",
   "execution_count": 14,
   "metadata": {},
   "outputs": [
    {
     "name": "stdout",
     "output_type": "stream",
     "text": [
      "Epoch 1/5\n",
      "60000/60000 [==============================] - 11s 177us/sample - loss: 0.2190 - acc: 0.9360\n",
      "Epoch 2/5\n",
      "60000/60000 [==============================] - 10s 171us/sample - loss: 0.0963 - acc: 0.9699\n",
      "Epoch 3/5\n",
      "60000/60000 [==============================] - 10s 171us/sample - loss: 0.0691 - acc: 0.9784\n",
      "Epoch 4/5\n",
      "60000/60000 [==============================] - 10s 166us/sample - loss: 0.0532 - acc: 0.9830\n",
      "Epoch 5/5\n",
      "60000/60000 [==============================] - 10s 159us/sample - loss: 0.0426 - acc: 0.9865\n"
     ]
    },
    {
     "data": {
      "text/plain": [
       "<tensorflow.python.keras.callbacks.History at 0x1fdff84d748>"
      ]
     },
     "execution_count": 14,
     "metadata": {},
     "output_type": "execute_result"
    }
   ],
   "source": [
    "# 結果見たらacc:0.07と７％しか正解できてない\n",
    "\n",
    "# 損失関数を変えてみる sparse_categorical_crossentropy\n",
    "model = keras.models.Sequential([\n",
    "    keras.layers.Flatten(),\n",
    "    keras.layers.Dense(512, activation='relu'),\n",
    "    keras.layers.Dropout(0.2),\n",
    "    keras.layers.Dense(10, activation='softmax')\n",
    "])\n",
    "model.compile(optimizer='adam', loss='sparse_categorical_crossentropy', metrics=['accuracy'])\n",
    "model.fit(x_train, y_train, epochs=5)"
   ]
  },
  {
   "cell_type": "code",
   "execution_count": 19,
   "metadata": {},
   "outputs": [
    {
     "name": "stdout",
     "output_type": "stream",
     "text": [
      "10000/10000 [==============================] - 1s 69us/sample - loss: 0.2424 - acc: 0.9315\n"
     ]
    },
    {
     "data": {
      "text/plain": [
       "[0.2423651490420103, 0.9315]"
      ]
     },
     "execution_count": 19,
     "metadata": {},
     "output_type": "execute_result"
    }
   ],
   "source": [
    "# 98.5%と良い精度なのでこれでテストする\n",
    "\n",
    "# evaluateで未知データのテスト\n",
    "model.evaluate(x_test, y_test)"
   ]
  },
  {
   "cell_type": "code",
   "execution_count": 15,
   "metadata": {},
   "outputs": [
    {
     "data": {
      "text/plain": [
       "array([7, 2, 1, 0, 4, 1, 4, 9, 5, 9], dtype=uint8)"
      ]
     },
     "execution_count": 15,
     "metadata": {},
     "output_type": "execute_result"
    }
   ],
   "source": [
    "# 93%正解した\n",
    "\n",
    "# 実際に正解しているかデータを見てみる\n",
    "y_test[0:10]"
   ]
  },
  {
   "cell_type": "code",
   "execution_count": 16,
   "metadata": {},
   "outputs": [
    {
     "data": {
      "image/png": "[encoded data removed]",
      "text/plain": [
       "<Figure size 432x288 with 10 Axes>"
      ]
     },
     "metadata": {
      "needs_background": "light"
     },
     "output_type": "display_data"
    }
   ],
   "source": [
    "for i in range(10):\n",
    "    plt.subplot(2, 5, i +1) # 2行5列\n",
    "    plt.title(\"Label: \" + str(i))\n",
    "    plt.imshow(x_test[i], cmap=None)"
   ]
  },
  {
   "cell_type": "code",
   "execution_count": 18,
   "metadata": {},
   "outputs": [],
   "source": [
    "# 8以外あってる"
   ]
  },
  {
   "cell_type": "code",
   "execution_count": 19,
   "metadata": {},
   "outputs": [
    {
     "data": {
      "text/plain": [
       "array([[6.24073737e-10, 1.55500535e-09, 5.90278262e-08, 7.75491208e-06,\n",
       "        4.42856445e-13, 6.05331230e-10, 1.17903789e-15, 9.99991536e-01,\n",
       "        7.12919515e-11, 6.22319646e-07],\n",
       "       [5.82287829e-10, 4.64630602e-06, 9.99995232e-01, 1.11967488e-07,\n",
       "        9.31685632e-16, 2.84823415e-10, 4.99661423e-10, 1.25925080e-16,\n",
       "        1.23081980e-08, 1.00427398e-13],\n",
       "       [1.20984875e-08, 9.99537706e-01, 1.28748448e-04, 4.67280216e-07,\n",
       "        6.95748968e-05, 3.58889861e-06, 1.89565503e-06, 1.80946270e-04,\n",
       "        7.65337827e-05, 4.44854891e-07],\n",
       "       [9.99835849e-01, 6.20845197e-09, 3.53148316e-05, 1.04253047e-07,\n",
       "        1.69449194e-07, 6.80709888e-07, 3.61941625e-06, 1.26223576e-05,\n",
       "        3.18030828e-08, 1.11733825e-04],\n",
       "       [1.37338396e-09, 5.59805891e-12, 1.68686114e-08, 6.83175808e-11,\n",
       "        9.99579132e-01, 3.26268873e-10, 2.39168951e-08, 2.90100616e-07,\n",
       "        6.54003351e-10, 4.20594122e-04],\n",
       "       [2.35244851e-10, 9.99932051e-01, 1.09827994e-07, 9.60565405e-09,\n",
       "        2.35658845e-05, 6.56503385e-09, 4.21182778e-09, 4.30423970e-05,\n",
       "        1.17778859e-06, 4.61153640e-08],\n",
       "       [1.81428726e-11, 1.35028602e-08, 4.01662703e-08, 5.91932903e-09,\n",
       "        9.99930263e-01, 1.59678066e-08, 6.33251540e-09, 5.29034367e-07,\n",
       "        1.81992561e-06, 6.73445684e-05],\n",
       "       [5.34743361e-10, 1.03113074e-08, 1.55917496e-06, 1.74918838e-04,\n",
       "        1.47250576e-05, 7.32345597e-08, 8.85429290e-14, 1.88976571e-06,\n",
       "        3.81868404e-08, 9.99806821e-01],\n",
       "       [3.47956074e-11, 9.72225564e-11, 3.01351133e-06, 3.64947450e-09,\n",
       "        1.67762266e-07, 9.85147893e-01, 1.48189841e-02, 5.92762547e-13,\n",
       "        2.69001484e-05, 3.00893953e-06],\n",
       "       [1.28977758e-14, 4.14503284e-13, 1.17199138e-13, 3.87810758e-07,\n",
       "        5.70331526e-04, 1.27724845e-10, 1.67181953e-15, 3.20340632e-07,\n",
       "        5.52784797e-07, 9.99428332e-01]], dtype=float32)"
      ]
     },
     "execution_count": 19,
     "metadata": {},
     "output_type": "execute_result"
    }
   ],
   "source": [
    "# テストデータから予測して、予測が合っているかは　　　　model.evaluate(x_test, y_test)\n",
    "# テストデータから予測したときの、ラベルの推定値を出す　model.predict(x_test[0:10])\n",
    "\n",
    "model.predict(x_test[0:10])\n",
    "# 確率を見てみよう"
   ]
  },
  {
   "cell_type": "code",
   "execution_count": null,
   "metadata": {},
   "outputs": [],
   "source": []
  },
  {
   "cell_type": "markdown",
   "metadata": {},
   "source": [
    "# MNIST3層ニューラルネットのディープラーニング終わり\n",
    "\n",
    "# 補足\n",
    "sparse_categorical_crossentropyとcategorical_crossentropy  \n",
    "誤差関数に使用するsparse_categorical_crossentropyとcategorical_crossentropyの違いについて補足しておきます。  \n",
    "  \n",
    "categorical_crossentropyは、ターゲットがOne-Hot-Encoding（配列の1要素だけが値を持つ）で  \n",
    "  \n",
    "[1,0,0]  \n",
    "  \n",
    "[0,1,0]  \n",
    "  \n",
    "[0,0,1]  \n",
    "  \n",
    "のようなフォーマットになります。  \n",
    "  \n",
    "  \n",
    "sparse_categorical_crossentropyは、ターゲットが整数のラベルになる場合（MNISTだと0から９）に使用します。  \n",
    "  \n",
    "1  \n",
    "  \n",
    "2  \n",
    "  \n",
    "3  \n",
    "    \n",
    "のような値を指しています。  \n",
    "   \n",
    "categorical_crossentropyを使用したい場合は、正解ラベルを番号ではなく、One-Hot-Encodingフォーマットにする  \n",
    "  \n",
    "to_categorical  \n",
    "  \n",
    "関数を使ってベクトルへの変形を行います。  "
   ]
  },
  {
   "cell_type": "code",
   "execution_count": 20,
   "metadata": {},
   "outputs": [],
   "source": [
    "# fashionMNISTで行ってみよう"
   ]
  },
  {
   "cell_type": "code",
   "execution_count": 21,
   "metadata": {},
   "outputs": [],
   "source": [
    "\n",
    "\n",
    "import tensorflow\n",
    "from tensorflow import keras\n",
    "\n",
    "%matplotlib inline\n",
    "\n",
    "import matplotlib.pyplot as plt\n",
    "\n",
    "batch_size = 128\n",
    "num_class = 10\n",
    "epochs = 10\n",
    "\n",
    "# keras内蔵のFashionMNISTデータセットを利用する\n",
    "(x_train, y_train), (x_test, y_test) = keras.datasets.fashion_mnist.load_data()"
   ]
  },
  {
   "cell_type": "code",
   "execution_count": 22,
   "metadata": {},
   "outputs": [
    {
     "data": {
      "text/plain": [
       "(60000, 28, 28)"
      ]
     },
     "execution_count": 22,
     "metadata": {},
     "output_type": "execute_result"
    }
   ],
   "source": [
    "x_train.shape # MNISTと同じ構成"
   ]
  },
  {
   "cell_type": "code",
   "execution_count": 23,
   "metadata": {},
   "outputs": [
    {
     "data": {
      "image/png": "[encoded data removed]",
      "text/plain": [
       "<Figure size 432x288 with 10 Axes>"
      ]
     },
     "metadata": {
      "needs_background": "light"
     },
     "output_type": "display_data"
    }
   ],
   "source": [
    "for i in range(10):\n",
    "    plt.subplot(2,5, i+1)\n",
    "    plt.title('Label: ' + str(i))\n",
    "    plt.imshow(x_train[i].reshape(28,28), cmap=None)"
   ]
  },
  {
   "cell_type": "code",
   "execution_count": 24,
   "metadata": {},
   "outputs": [
    {
     "data": {
      "text/plain": [
       "array([9, 0, 0, 3, 0, 2, 7, 2, 5, 5], dtype=uint8)"
      ]
     },
     "execution_count": 24,
     "metadata": {},
     "output_type": "execute_result"
    }
   ],
   "source": [
    "y_train[:10]"
   ]
  },
  {
   "cell_type": "code",
   "execution_count": 25,
   "metadata": {},
   "outputs": [],
   "source": [
    "# カテゴリの番号と内容の対応\n",
    "# 0:T-shirt/top\n",
    "# 1: Trouser\n",
    "# 2: Pullover\n",
    "# 3: Dress\n",
    "# 4: Coat\n",
    "# 5: Sandal\n",
    "# 6: Shirt\n",
    "# 7: Sneaker\n",
    "# 8: Bag\n",
    "# 9: Ankel boot"
   ]
  },
  {
   "cell_type": "code",
   "execution_count": 26,
   "metadata": {},
   "outputs": [],
   "source": [
    "x_train, x_test = x_train / 255.0, x_test / 255.0"
   ]
  },
  {
   "cell_type": "code",
   "execution_count": 27,
   "metadata": {},
   "outputs": [
    {
     "name": "stdout",
     "output_type": "stream",
     "text": [
      "Epoch 1/10\n",
      "60000/60000 [==============================] - 3s 50us/sample - loss: 0.4983 - acc: 0.8211\n",
      "Epoch 2/10\n",
      "60000/60000 [==============================] - 3s 50us/sample - loss: 0.3812 - acc: 0.8600\n",
      "Epoch 3/10\n",
      "60000/60000 [==============================] - 3s 49us/sample - loss: 0.3497 - acc: 0.8707\n",
      "Epoch 4/10\n",
      "60000/60000 [==============================] - 3s 52us/sample - loss: 0.3295 - acc: 0.8789\n",
      "Epoch 5/10\n",
      "60000/60000 [==============================] - 3s 52us/sample - loss: 0.3135 - acc: 0.8844\n",
      "Epoch 6/10\n",
      "60000/60000 [==============================] - 3s 51us/sample - loss: 0.3014 - acc: 0.8875\n",
      "Epoch 7/10\n",
      "60000/60000 [==============================] - 3s 52us/sample - loss: 0.2895 - acc: 0.8925\n",
      "Epoch 8/10\n",
      "60000/60000 [==============================] - 3s 51us/sample - loss: 0.2791 - acc: 0.8953\n",
      "Epoch 9/10\n",
      "60000/60000 [==============================] - 3s 51us/sample - loss: 0.2729 - acc: 0.8980\n",
      "Epoch 10/10\n",
      "60000/60000 [==============================] - 3s 51us/sample - loss: 0.2636 - acc: 0.9003\n"
     ]
    },
    {
     "data": {
      "text/plain": [
       "<tensorflow.python.keras.callbacks.History at 0x1fd9d2874a8>"
      ]
     },
     "execution_count": 27,
     "metadata": {},
     "output_type": "execute_result"
    }
   ],
   "source": [
    "model = keras.models.Sequential([\n",
    "    keras.layers.Flatten(), \n",
    "    keras.layers.Dense(512, activation='relu'),\n",
    "    keras.layers.Dropout(0.2), \n",
    "    keras.layers.Dense(10, activation='softmax') \n",
    "])\n",
    "model.compile(optimizer='adam', loss='sparse_categorical_crossentropy', metrics=['accuracy'])\n",
    "model.fit(x_train, y_train, epochs=10)"
   ]
  },
  {
   "cell_type": "code",
   "execution_count": 28,
   "metadata": {},
   "outputs": [
    {
     "name": "stdout",
     "output_type": "stream",
     "text": [
      "10000/10000 [==============================] - 0s 21us/sample - loss: 0.3379 - acc: 0.8827\n"
     ]
    },
    {
     "data": {
      "text/plain": [
       "[0.33791856489777566, 0.8827]"
      ]
     },
     "execution_count": 28,
     "metadata": {},
     "output_type": "execute_result"
    }
   ],
   "source": [
    "model.evaluate(x_test, y_test)"
   ]
  },
  {
   "cell_type": "code",
   "execution_count": null,
   "metadata": {},
   "outputs": [],
   "source": []
  }
 ],
 "metadata": {
  "kernelspec": {
   "display_name": "Python 3",
   "language": "python",
   "name": "python3"
  },
  "language_info": {
   "codemirror_mode": {
    "name": "ipython",
    "version": 3
   },
   "file_extension": ".py",
   "mimetype": "text/x-python",
   "name": "python",
   "nbconvert_exporter": "python",
   "pygments_lexer": "ipython3",
   "version": "3.6.6"
  }
 },
 "nbformat": 4,
 "nbformat_minor": 2
}
