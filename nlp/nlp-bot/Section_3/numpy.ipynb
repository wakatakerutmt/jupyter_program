{
 "cells": [
  {
   "cell_type": "markdown",
   "metadata": {},
   "source": [
    "# NumPyの基礎\n",
    "NumPyはPythonの拡張モジュールで、シンプルな表記で効率的なデータの操作を可能にします。  \n",
    "多次元配列を強力にサポートし、内部はC言語で実装されているため高速に動作します。   \n",
    "NumPyには様々な機能があるのですが、今回は本コースで使用する範囲のみ解説します。"
   ]
  },
  {
   "cell_type": "markdown",
   "metadata": {},
   "source": [
    "## ●Numpyの導入"
   ]
  },
  {
   "cell_type": "markdown",
   "metadata": {},
   "source": [
    "Pythonでは、importの記述によりモジュールを導入することができます。  \n",
    "NumPyはモジュールなので、NumPyを使用するためには、コードの先頭に例えば以下のように記述します。  "
   ]
  },
  {
   "cell_type": "code",
   "execution_count": null,
   "metadata": {
    "collapsed": true
   },
   "outputs": [],
   "source": [
    "import numpy as np"
   ]
  },
  {
   "cell_type": "markdown",
   "metadata": {},
   "source": [
    "asを使うことでモジュールに別の名前をつけることができます。  \n",
    "このように記述すると、これ以降npという名前でNumPyのモジュールを扱うことができます。  "
   ]
  },
  {
   "cell_type": "markdown",
   "metadata": {},
   "source": [
    "## ●Numpyの配列\n",
    "\n",
    "人工知能の計算にはベクトルや行列を多用しますが、これらを表現するのにNumPyの配列を用います。  \n",
    "ベクトルや行列についてはのちのセクションで改めて解説しますが、ここではとりあえずNumPyの配列とは数値が折り重なって並んだもの、と考えていただければ十分です。  \n",
    "以降、単に配列と呼ぶ場合はNumPyの配列を指すことにします。  \n",
    "\n",
    "NumPyの配列は、NumPyのarray関数を使うことでPythonのリストから簡単に作ることができます。 "
   ]
  },
  {
   "cell_type": "code",
   "execution_count": 1,
   "metadata": {},
   "outputs": [
    {
     "name": "stdout",
     "output_type": "stream",
     "text": [
      "[0 1 2 3 4 5]\n"
     ]
    }
   ],
   "source": [
    "import numpy as np\n",
    "\n",
    "a = np.array([0, 1, 2, 3, 4, 5])  # PythonのリストからNumPyの配列を作る\n",
    "print(a) "
   ]
  },
  {
   "cell_type": "markdown",
   "metadata": {},
   "source": [
    "このような配列が折り重なった、2次元の配列を作ることもできます。  \n",
    "2次元配列は、要素がリストであるリスト（2重のリスト）から作ります。"
   ]
  },
  {
   "cell_type": "code",
   "execution_count": 2,
   "metadata": {},
   "outputs": [
    {
     "name": "stdout",
     "output_type": "stream",
     "text": [
      "[[0 1 2]\n",
      " [3 4 5]]\n"
     ]
    }
   ],
   "source": [
    "import numpy as np\n",
    "\n",
    "b = np.array([[0, 1, 2], [3, 4, 5]])  # 2重のリストからNumPyの2次元配列を作る\n",
    "print(b)"
   ]
  },
  {
   "cell_type": "markdown",
   "metadata": {},
   "source": [
    "同様に、3次元の配列も作ることができます。  \n",
    "3次元配列は2次元の配列がさらに折り重なったもので、3重のリストから作ります。"
   ]
  },
  {
   "cell_type": "code",
   "execution_count": 3,
   "metadata": {},
   "outputs": [
    {
     "name": "stdout",
     "output_type": "stream",
     "text": [
      "[[[0 1 2]\n",
      "  [3 4 5]]\n",
      "\n",
      " [[5 4 3]\n",
      "  [2 1 0]]]\n"
     ]
    }
   ],
   "source": [
    "import numpy as np\n",
    "\n",
    "c = np.array([[[0, 1, 2], [3, 4, 5]], [[5, 4, 3], [2, 1, 0]]])  # 3重のリストからNumPyの3次元配列を作る\n",
    "print(c)"
   ]
  },
  {
   "cell_type": "markdown",
   "metadata": {},
   "source": [
    "## ●配列の演算\n",
    "\n",
    "以下の例では、配列と数値の間で演算を行なっています。  \n",
    "この場合、配列の各要素と数値の間で演算が行われます。"
   ]
  },
  {
   "cell_type": "code",
   "execution_count": 4,
   "metadata": {},
   "outputs": [
    {
     "name": "stdout",
     "output_type": "stream",
     "text": [
      "[[0 1 2]\n",
      " [3 4 5]]\n",
      "\n",
      "[[3 4 5]\n",
      " [6 7 8]]\n",
      "\n",
      "[[ 0  3  6]\n",
      " [ 9 12 15]]\n"
     ]
    }
   ],
   "source": [
    "import numpy as np\n",
    "\n",
    "a = np.array([[0, 1, 2], [3, 4, 5]])  # 2次元配列\n",
    "\n",
    "print(a) \n",
    "print()\n",
    "print(a + 3)  # 各要素に3を足す\n",
    "print()\n",
    "print(a * 3)  # 各要素に3をかける"
   ]
  },
  {
   "cell_type": "markdown",
   "metadata": {},
   "source": [
    "また、以下は配列同士の演算の例です。  \n",
    "この場合は同じ位置の各要素同士で演算が行われます。 "
   ]
  },
  {
   "cell_type": "code",
   "execution_count": 5,
   "metadata": {},
   "outputs": [
    {
     "name": "stdout",
     "output_type": "stream",
     "text": [
      "[[0 1 2]\n",
      " [3 4 5]]\n",
      "\n",
      "[[2 0 1]\n",
      " [5 3 4]]\n",
      "\n",
      "[[2 1 3]\n",
      " [8 7 9]]\n",
      "\n",
      "[[ 0  0  2]\n",
      " [15 12 20]]\n"
     ]
    }
   ],
   "source": [
    "b = np.array([[0, 1, 2], [3, 4, 5]])  # 2次元配列\n",
    "c = np.array([[2, 0, 1], [5, 3, 4]])  # 2次元配列\n",
    "\n",
    "print(b)\n",
    "print()\n",
    "print(c)\n",
    "print()\n",
    "print(b + c)\n",
    "print()\n",
    "print(b * c)"
   ]
  },
  {
   "cell_type": "markdown",
   "metadata": {},
   "source": [
    "ブロードキャストという機能により、特定の条件を満たしていれば形状の異なる配列同士でも演算が可能です。"
   ]
  },
  {
   "cell_type": "code",
   "execution_count": 6,
   "metadata": {},
   "outputs": [
    {
     "name": "stdout",
     "output_type": "stream",
     "text": [
      "[[2 3]\n",
      " [2 3]]\n"
     ]
    }
   ],
   "source": [
    "d = np.array([[1, 1],\n",
    "              [1, 1]])  # 2次元配列\n",
    "e = np.array([1, 2])  # 1次元配列\n",
    "\n",
    "print(d + e)"
   ]
  },
  {
   "cell_type": "markdown",
   "metadata": {},
   "source": [
    "ブロードキャストの厳密なルールは少々複雑で、全て記述すると長くなってしまうので、今回は本コースで必要な範囲のみ解説しました。"
   ]
  },
  {
   "cell_type": "markdown",
   "metadata": {},
   "source": [
    "## ●形状の変換\n",
    "NumPyのshapeメソッドにより、配列の形状を得ることができます。  "
   ]
  },
  {
   "cell_type": "code",
   "execution_count": 7,
   "metadata": {},
   "outputs": [
    {
     "name": "stdout",
     "output_type": "stream",
     "text": [
      "(2, 3)\n"
     ]
    }
   ],
   "source": [
    "import numpy as np\n",
    "\n",
    "a = np.array([[0, 1, 2],\n",
    "            [3, 4, 5]])\n",
    "\n",
    "print(a.shape)"
   ]
  },
  {
   "cell_type": "markdown",
   "metadata": {},
   "source": [
    "reshapeメソッドを使うと、配列の形状を変換することができます。  \n",
    "以下の例では、要素数が8の1次元配列を 形状が(2, 4)の2次元配列に変換しています。  "
   ]
  },
  {
   "cell_type": "code",
   "execution_count": 8,
   "metadata": {},
   "outputs": [
    {
     "name": "stdout",
     "output_type": "stream",
     "text": [
      "[[0 1 2 3]\n",
      " [4 5 6 7]]\n"
     ]
    }
   ],
   "source": [
    "b = np.array([0, 1, 2, 3, 4, 5, 6, 7])    # 配列の作成\n",
    "c = b.reshape(2, 4)                       # (2, 4)の2次元配列に変換\n",
    "print(c)"
   ]
  },
  {
   "cell_type": "markdown",
   "metadata": {},
   "source": [
    "reshapeの引数を-1にすることで、どのような形状の配列でも1次元配列に変換することができます。"
   ]
  },
  {
   "cell_type": "code",
   "execution_count": 9,
   "metadata": {},
   "outputs": [
    {
     "name": "stdout",
     "output_type": "stream",
     "text": [
      "[0 1 2 3 4 5 5 4 3 2 1 0]\n"
     ]
    }
   ],
   "source": [
    "d = np.array([[[0, 1, 2],\n",
    "                   [3, 4, 5]],\n",
    "                  \n",
    "                  [[5, 4, 3],\n",
    "                   [2, 1, 0]]])  # 3重のリストからNumPyの3次元配列を作る\n",
    "\n",
    "\n",
    "e = d.reshape(-1)\n",
    "print(e)"
   ]
  },
  {
   "cell_type": "markdown",
   "metadata": {},
   "source": [
    "## ●要素へのアクセス"
   ]
  },
  {
   "cell_type": "markdown",
   "metadata": {},
   "source": [
    "配列の各要素へのアクセスは、リストの場合と同様にインデックスを利用します。  \n",
    "一次元配列の場合、以下のように`[ ]`内にインデックスを指定することで、要素を取り出すことができます。"
   ]
  },
  {
   "cell_type": "code",
   "execution_count": 10,
   "metadata": {},
   "outputs": [
    {
     "name": "stdout",
     "output_type": "stream",
     "text": [
      "2\n"
     ]
    }
   ],
   "source": [
    "import numpy as np\n",
    "\n",
    "a = np.array([0, 1, 2, 3, 4, 5])\n",
    "print(a[2])"
   ]
  },
  {
   "cell_type": "markdown",
   "metadata": {},
   "source": [
    "この場合は、先頭から0,1,2...とインデックスをつけた場合の、インデックスが2要素を取り出しています。  \n",
    "また、リストの場合と同様に、インデックスを指定して要素を入れ替えることができます。"
   ]
  },
  {
   "cell_type": "code",
   "execution_count": 11,
   "metadata": {},
   "outputs": [
    {
     "name": "stdout",
     "output_type": "stream",
     "text": [
      "[0 1 9 3 4 5]\n"
     ]
    }
   ],
   "source": [
    "a[2] = 9\n",
    "print(a)"
   ]
  },
  {
   "cell_type": "markdown",
   "metadata": {},
   "source": [
    "この場合は、インデックスが2の要素を9に置き換えています。  \n",
    "\n",
    "2次元配列の場合、要素を取り出す際にはインデックスを縦横で2つ指定します。  \n",
    "`,`（カンマ）区切りでインデックスを並べることも、インデックスを入れた`[ ]`を2つ並べることもできます。  "
   ]
  },
  {
   "cell_type": "code",
   "execution_count": 12,
   "metadata": {},
   "outputs": [
    {
     "name": "stdout",
     "output_type": "stream",
     "text": [
      "5\n"
     ]
    }
   ],
   "source": [
    "b = np.array([[0, 1, 2],\n",
    "              [3, 4, 5]])\n",
    "\n",
    "print(b[1, 2])  # b[1][2]と同じ"
   ]
  },
  {
   "cell_type": "markdown",
   "metadata": {},
   "source": [
    "縦のインデックスが1、横のインデックスが2の要素を取り出すことができました。  \n",
    "要素を入れ替える際も、同様にインデックスを2つ指定します。"
   ]
  },
  {
   "cell_type": "code",
   "execution_count": 13,
   "metadata": {},
   "outputs": [
    {
     "name": "stdout",
     "output_type": "stream",
     "text": [
      "[[0 1 2]\n",
      " [3 4 9]]\n"
     ]
    }
   ],
   "source": [
    "b[1, 2] = 9\n",
    "\n",
    "print(b)"
   ]
  },
  {
   "cell_type": "markdown",
   "metadata": {},
   "source": [
    "2つのインデックスで指定した要素が入れ替わりました。  \n",
    "3次元以上の配列の場合も同様に、インデックスを複数指定することで要素にアクセスすることができます。"
   ]
  },
  {
   "cell_type": "markdown",
   "metadata": {},
   "source": [
    "## ●関数と配列\n",
    "\n",
    "関数の引数や返り値としてNumPyの配列を使うことができます。  \n",
    "以下の関数`my_func`は、引数として配列を受け取り、返り値として配列を返しています。"
   ]
  },
  {
   "cell_type": "code",
   "execution_count": 14,
   "metadata": {},
   "outputs": [
    {
     "name": "stdout",
     "output_type": "stream",
     "text": [
      "[[ 1  3  5]\n",
      " [ 7  9 11]]\n"
     ]
    }
   ],
   "source": [
    "import numpy as np\n",
    "\n",
    "def my_func(x):\n",
    "    y = x * 2 + 1\n",
    "    return y\n",
    "\n",
    "a = np.array([[0, 1, 2],\n",
    "              [3, 4, 5]])  # 2次元配列\n",
    "b = my_func(a)  # 引数として配列を渡す\n",
    "\n",
    "print(b)"
   ]
  },
  {
   "cell_type": "markdown",
   "metadata": {},
   "source": [
    "## ●NumPyの様々な機能\n",
    "\n",
    "sumにより合計、averageにより平均、maxにより最大値、minにより最小値を得ることができます。"
   ]
  },
  {
   "cell_type": "code",
   "execution_count": 15,
   "metadata": {},
   "outputs": [
    {
     "name": "stdout",
     "output_type": "stream",
     "text": [
      "15\n",
      "2.5\n",
      "5\n",
      "0\n"
     ]
    }
   ],
   "source": [
    "import numpy as np\n",
    "\n",
    "a = np.array([[0, 1, 2],\n",
    "              [3, 4, 5]])  # 2次元配列\n",
    "\n",
    "print(np.sum(a))\n",
    "print(np.average(a))\n",
    "print(np.max(a))\n",
    "print(np.min(a))"
   ]
  },
  {
   "cell_type": "markdown",
   "metadata": {},
   "source": [
    "引数にaxisを指定すると、特定の方向で演算を行うことができます。"
   ]
  },
  {
   "cell_type": "code",
   "execution_count": 16,
   "metadata": {},
   "outputs": [
    {
     "name": "stdout",
     "output_type": "stream",
     "text": [
      "[3 5 7]\n",
      "[ 3 12]\n"
     ]
    }
   ],
   "source": [
    "import numpy as np\n",
    "\n",
    "b = np.array([[0, 1, 2],\n",
    "              [3, 4, 5]])  # 2次元配列\n",
    "\n",
    "print(np.sum(b, axis=0))  # 縦方向で合計\n",
    "print(np.sum(b, axis=1))  # 横方向で合計"
   ]
  }
 ],
 "metadata": {
  "kernelspec": {
   "display_name": "Python 3",
   "language": "python",
   "name": "python3"
  },
  "language_info": {
   "codemirror_mode": {
    "name": "ipython",
    "version": 3
   },
   "file_extension": ".py",
   "mimetype": "text/x-python",
   "name": "python",
   "nbconvert_exporter": "python",
   "pygments_lexer": "ipython3",
   "version": "3.5.4"
  }
 },
 "nbformat": 4,
 "nbformat_minor": 2
}
