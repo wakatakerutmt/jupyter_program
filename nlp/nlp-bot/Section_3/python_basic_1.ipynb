{
 "cells": [
  {
   "cell_type": "markdown",
   "metadata": {},
   "source": [
    "# Pythonの基礎1\n",
    "本セクションでは、Pythonの文法について解説します。  \n",
    "ただし、何らかのオブジェクト指向言語の経験が前提となっていますので、プログラミングの基礎知識にあたる内容は省略しています。   \n",
    "プログラミングが全くの初心者の方は、他のコースなどで基礎を習得した上で先に進みましょう。  \n",
    "\n",
    "また、本コースにおけるPythonの解説は、本コースにおけるディープラーニングのコードを読み解くために必要な範囲に絞っています。"
   ]
  },
  {
   "cell_type": "markdown",
   "metadata": {},
   "source": [
    "## ●変数と型\n",
    "Pythonでは、変数を使用する前に何らかの記述をする必要ありません。  \n",
    "以下のように、値を代入するところから記述を始めることができます。  "
   ]
  },
  {
   "cell_type": "code",
   "execution_count": null,
   "metadata": {
    "collapsed": true
   },
   "outputs": [],
   "source": [
    "a = 123"
   ]
  },
  {
   "cell_type": "markdown",
   "metadata": {},
   "source": [
    "Pythonは、変数に対して型の明示は不要です。  \n",
    "例えば、整数型の変数に文字列を代入すれば、それは文字列型の変数になります。  \n",
    "Pythonの主な型を以下に示します。"
   ]
  },
  {
   "cell_type": "code",
   "execution_count": null,
   "metadata": {
    "collapsed": true
   },
   "outputs": [],
   "source": [
    "a = 123             # 整数型（int）\n",
    "b = 123.456         # 浮動小数点型（float）\n",
    "c = \"Hello World!\"  # 文字列型（str）\n",
    "d = True            # 論理型（bool）\n",
    "e = [1, 2, 3]       # リスト型（list）"
   ]
  },
  {
   "cell_type": "markdown",
   "metadata": {},
   "source": [
    "\\#はコメントを表し、同じ行のそれ以降はコードとして認識されることはありません。\n",
    "\n",
    "また、bool型の値は数値として扱うことができます。  \n",
    "`True`は1で`False`は0として扱われます。  \n",
    "以下の例では、`True`と`False`を足していますが、結果は0と1の和の1になります。"
   ]
  },
  {
   "cell_type": "code",
   "execution_count": null,
   "metadata": {},
   "outputs": [],
   "source": [
    "a = True; b = False\n",
    "print(a+b)"
   ]
  },
  {
   "cell_type": "markdown",
   "metadata": {},
   "source": [
    "Pythonでは、上記のように`;`（セミコロン）で区切ることで、一行内に複数の処理を書くことができます。 \n",
    "\n",
    "また、浮動小数点型の値は指数表記が可能です。以下のように`e`を用いて小数を表記することができます。"
   ]
  },
  {
   "cell_type": "code",
   "execution_count": null,
   "metadata": {
    "collapsed": true
   },
   "outputs": [],
   "source": [
    "1.2e5   # 1.2x10の5乗 120000\n",
    "1.2e-5  # 1.2x10の-5乗 0.000012"
   ]
  },
  {
   "cell_type": "markdown",
   "metadata": {},
   "source": [
    "## ●演算子\n",
    "Pythonの演算子を紹介します。"
   ]
  },
  {
   "cell_type": "code",
   "execution_count": null,
   "metadata": {},
   "outputs": [],
   "source": [
    "a = 3; b = 4\n",
    "\n",
    "c = a + b               # 足し算\n",
    "print(c) \n",
    "\n",
    "d = a < b               # 比較（小さいかどうか）\n",
    "print(d)\n",
    "\n",
    "e = 3 < 4 and 4 < 5     # 論理和\n",
    "print(e)"
   ]
  },
  {
   "cell_type": "markdown",
   "metadata": {},
   "source": [
    "主な演算子をまとめると以下の通りです。\n",
    "\n",
    "||||\n",
    "|:-:|:-:|:--|\n",
    "|算術演算子| \\+ | 足し算 |\n",
    "||- | 引き算 |\n",
    "|| * | かける |\n",
    "|| / | 割る（小数） |\n",
    "|| // | 割る（整数） |\n",
    "|| % | 余り |\n",
    "|| ** | べき乗 |\n",
    "|比較演算子| < | 小さい |\n",
    "|| > | 大きい |\n",
    "|| <= | 以上 |\n",
    "|| >= | 以下 |\n",
    "|| == | 等しい |\n",
    "|| != | 等しくない |\n",
    "|論理演算子| and | 両者を満たす |\n",
    "|| or | どちらか片方を満たす |\n",
    "|| not | 満たさない |\n",
    "||||"
   ]
  },
  {
   "cell_type": "markdown",
   "metadata": {},
   "source": [
    "## ●リスト\n",
    "リストは、複数の値をまとめて扱う場合に使用します。  \n",
    "リストは全体を`[]`で囲み、各要素は`,`で区切ります。  \n",
    "Pythonのリストはどのような型の値でも格納することができ、リストの中にリストを格納することもできます。  \n",
    "リストの各要素へのアクセスはインデックスを使い、要素の追加や入れ替えなどが可能です。  "
   ]
  },
  {
   "cell_type": "code",
   "execution_count": null,
   "metadata": {},
   "outputs": [],
   "source": [
    "a = [1, 2, 3, 4, 5]     # リストの作成\n",
    "\n",
    "b = a[2]                # 3番目の要素を取得\n",
    "print(b)\n",
    "\n",
    "a.append(6)             # 末尾に要素を追加する\n",
    "print(a)\n",
    "\n",
    "a[2] = 7                # 要素の入れ替え\n",
    "print(a)"
   ]
  },
  {
   "cell_type": "markdown",
   "metadata": {},
   "source": [
    "## ●タプル\n",
    "タプルはリストと同じく複数の値をまとめて扱いたいときに利用しますが、要素の追加や削除、入れ替えなどはできません。  \n",
    "タプルは全体を`()`で囲み、各要素は`,`で区切ります。  \n",
    "要素を変更する予定が無い場合は、リストよりもタプルを使用する方がベターです。  "
   ]
  },
  {
   "cell_type": "code",
   "execution_count": null,
   "metadata": {},
   "outputs": [],
   "source": [
    "a = (1, 2, 3, 4, 5)     # タプルの作成\n",
    "\n",
    "b = a[2]                # 3番目の要素を取得\n",
    "print(b)"
   ]
  },
  {
   "cell_type": "markdown",
   "metadata": {},
   "source": [
    "要素が1つだけのタプルは、以下のように要素の直後に`,`が必要です。"
   ]
  },
  {
   "cell_type": "code",
   "execution_count": null,
   "metadata": {
    "collapsed": true
   },
   "outputs": [],
   "source": [
    "(3,)"
   ]
  },
  {
   "cell_type": "markdown",
   "metadata": {},
   "source": [
    "リストやタプルの要素は、以下のようにしてまとめて変数に代入することが可能です。"
   ]
  },
  {
   "cell_type": "code",
   "execution_count": null,
   "metadata": {},
   "outputs": [],
   "source": [
    "a = [1, 2, 3]\n",
    "a1, a2, a3 = a\n",
    "print(a1, a2, a3)\n",
    "\n",
    "b = (4, 5, 6)\n",
    "b1, b2, b3 = b\n",
    "print(b1, b2, b3) "
   ]
  },
  {
   "cell_type": "markdown",
   "metadata": {},
   "source": [
    "## ●if文\n",
    "分岐にはif文を用います。  \n",
    "ifの条件が満たされていなければ、elifの条件が上から順番に判定されます。  \n",
    "これらの条件がすべて満たされていなければ、else内の処理が実行されます。  \n",
    "\n",
    "多くのプログラミング言語では分岐や関数のブロックを表すために{ }を使用しますが、Pythonではブロックの範囲を行頭のインデントで表します。  \n",
    "すなわち、インデントしていない行が出現したら、その直前にブロックは終了していることになります。  \n",
    "インデントには、半角スペース4つを用いることが多いです。"
   ]
  },
  {
   "cell_type": "code",
   "execution_count": null,
   "metadata": {},
   "outputs": [],
   "source": [
    "a = 7\n",
    "if a < 12:\n",
    "    print(\"Good morning!\")\n",
    "elif a < 17:\n",
    "    print(\"Good afternoon!\")\n",
    "elif a < 21:\n",
    "    print(\"Good evening!\")\n",
    "else:\n",
    "    print(\"Good night!\")"
   ]
  },
  {
   "cell_type": "markdown",
   "metadata": {},
   "source": [
    "## ●for文\n",
    "指定した回数ループするためにはfor文を用います。  \n",
    "ループする範囲を指定するためには、リストやrangeをin演算子とともに用います。  \n",
    "\n",
    "rangeの使い方は次のとおりです。[ ]で囲まれた引数は省略可能です。\n",
    "\n",
    "```\n",
    "range([開始番号,] 終了番号［, ステップ数])\n",
    "```\n",
    "\n",
    "例えばrange(3)は、0から2までの範囲になります。"
   ]
  },
  {
   "cell_type": "code",
   "execution_count": null,
   "metadata": {},
   "outputs": [],
   "source": [
    "for a in [4, 7, 10]:    # リストを使ったループ\n",
    "    print(a)\n",
    "    \n",
    "for a in range(3):      # rangeを使ったループ\n",
    "    print(a)"
   ]
  }
 ],
 "metadata": {
  "kernelspec": {
   "display_name": "Python 3",
   "language": "python",
   "name": "python3"
  },
  "language_info": {
   "codemirror_mode": {
    "name": "ipython",
    "version": 3
   },
   "file_extension": ".py",
   "mimetype": "text/x-python",
   "name": "python",
   "nbconvert_exporter": "python",
   "pygments_lexer": "ipython3",
   "version": "3.5.4"
  }
 },
 "nbformat": 4,
 "nbformat_minor": 2
}
