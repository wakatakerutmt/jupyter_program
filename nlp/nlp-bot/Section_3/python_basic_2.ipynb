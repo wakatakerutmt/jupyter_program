{
 "cells": [
  {
   "cell_type": "markdown",
   "metadata": {},
   "source": [
    "# Pythonの基礎2\n",
    "Pythonの基礎の続きです。"
   ]
  },
  {
   "cell_type": "markdown",
   "metadata": {},
   "source": [
    "## ●関数\n",
    "関数を用いることで、複数行の処理をまとめることができます。  \n",
    "関数はdefのあとに関数名を記述し、()の中に引数を記述します。  \n",
    "returnのあとの値が返り値になります。  "
   ]
  },
  {
   "cell_type": "code",
   "execution_count": null,
   "metadata": {},
   "outputs": [],
   "source": [
    "def add(a, b):          # 関数の定義\n",
    "    c = a + b\n",
    "    return c\n",
    "\n",
    "print(add(3, 4))        # 関数の実行"
   ]
  },
  {
   "cell_type": "markdown",
   "metadata": {},
   "source": [
    "引数にはデフォルト値を設定できます。  \n",
    "デフォルト値を設定すると、関数を呼び出す際にその引数を省略できます。  \n",
    "以下の例では、第2引数にデフォルト値が設定されています。  "
   ]
  },
  {
   "cell_type": "code",
   "execution_count": null,
   "metadata": {},
   "outputs": [],
   "source": [
    "def add(a, b=4):        # 第2引数にデフォルト値を設定\n",
    "    c = a + b\n",
    "    return c\n",
    "\n",
    "print(add(3))           # 第2引数は指定しない"
   ]
  },
  {
   "cell_type": "markdown",
   "metadata": {},
   "source": [
    "また、`*`（アスタリスク）を付けたタプルを用いて、複数の引数を一度に渡すことができます。"
   ]
  },
  {
   "cell_type": "code",
   "execution_count": null,
   "metadata": {},
   "outputs": [],
   "source": [
    "def add(a, b ,c):\n",
    "    d = a + b + c\n",
    "    print(d)\n",
    "\n",
    "e = (1, 2, 3)\n",
    "add(*e)           # 複数の引数を一度に渡す"
   ]
  },
  {
   "cell_type": "markdown",
   "metadata": {},
   "source": [
    "## ●変数のスコープ\n",
    "関数内で定義された変数がローカル変数、関数外で定義された変数がグローバル変数です。  \n",
    "ローカル変数は同じ関数内からのみ参照できますが、グローバル変数はどこからでも参照できます。  "
   ]
  },
  {
   "cell_type": "code",
   "execution_count": null,
   "metadata": {},
   "outputs": [],
   "source": [
    "a = 123         # グローバル変数\n",
    "\n",
    "def showNum():\n",
    "    b = 456     # ローカル変数\n",
    "    print(a, b)\n",
    "    \n",
    "showNum()"
   ]
  },
  {
   "cell_type": "markdown",
   "metadata": {},
   "source": [
    "Pythonでは、関数内でグローバル変数に値を代入しようとすると、新しいローカル変数とみなされます。  \n",
    "以下の例では、関数内でグローバル変数aに値を代入しても、グローバル変数aの値は変わっていません。"
   ]
  },
  {
   "cell_type": "code",
   "execution_count": null,
   "metadata": {},
   "outputs": [],
   "source": [
    "a = 123\n",
    "\n",
    "def setLocal():\n",
    "    a = 456         # aはローカル変数とみなされる\n",
    "    print(\"Local:\", a)\n",
    "    \n",
    "setLocal()\n",
    "print(\"Global:\", a)"
   ]
  },
  {
   "cell_type": "markdown",
   "metadata": {},
   "source": [
    "グローバル変数の値を変更するためには、`global`もしくは`nonlocal`を用いて、変数がローカルではないことを明記する必要があります。  "
   ]
  },
  {
   "cell_type": "code",
   "execution_count": null,
   "metadata": {},
   "outputs": [],
   "source": [
    "a = 123\n",
    "\n",
    "def setGlobal():\n",
    "    global a            # nonlocalでも可\n",
    "    a = 456\n",
    "    print(\"Global:\", a)\n",
    "    \n",
    "setGlobal()\n",
    "print(\"Global:\", a)"
   ]
  },
  {
   "cell_type": "markdown",
   "metadata": {},
   "source": [
    "## ●クラス\n",
    "Pythonでは、オブジェクト指向プログラミングが可能です。  \n",
    "オブジェクト指向は、オブジェクト同士の相互作用として、システムの振る舞いをとらえる考え方です。  \n",
    "\n",
    "オブジェクト指向には、クラスとインスタンスという概念があります。  \n",
    "クラスは設計図のようなもので、インスタンスは実体です。  \n",
    "クラスから複数のインスタンスを生成することができます。  \n",
    "クラスとインスタンスを総称して、オブジェクトといいます。  \n",
    "\n",
    "Pythonでクラスを定義するためには、`class`の表記を用います。  \n",
    "クラスを用いると、複数のメソッドをまとめることができます。  \n",
    "メソッドは関数に似ており、defで記述を開始します。  \n",
    "\n",
    "以下の例では、`Calc`クラス内に`__init__`メソッド、`add`メソッド、`multiply`メソッドが実装されています。"
   ]
  },
  {
   "cell_type": "code",
   "execution_count": null,
   "metadata": {
    "collapsed": true
   },
   "outputs": [],
   "source": [
    "class Calc:\n",
    "    def __init__(self, a):\n",
    "        self.a = a\n",
    "   \n",
    "    def add(self, b):\n",
    "        print(self.a + b)\n",
    "        \n",
    "    def multiply(self, b):\n",
    "        print(self.a * b)"
   ]
  },
  {
   "cell_type": "markdown",
   "metadata": {},
   "source": [
    "Pythonのメソッドは引数として`self`を受け取るという特徴があります。  \n",
    "このselfを用いて、インスタンス変数にアクセスすることができます。  \n",
    "インスタンス変数は、クラスからインスタンスを生成し、そちらの方でアクセスする変数です。  \n",
    "\n",
    "　`__init__`は特殊なメソッドで、コンストラクタと呼ばれています。  \n",
    " このメソッドで、インスタンスの初期設定を行います。  \n",
    " 上記のクラスでは、`self.a = a`で引数として受け取った値をインスタンス変数`a`に代入します。\n",
    "\n",
    "`add`メソッドと`multiply`メソッドでは、引数として受け取った値をインスタンス変数`a`と演算しています。  \n",
    "このように、一度メソッドで値が代入されたインスタンス変数は、同じインスタンスのどのメソッドからでも`self`を用いてアクセスすることができます。 \n",
    "\n",
    "上記のクラスCalcから、以下のようにインスタンスを生成しメソッドを呼び出すことができます。  \n",
    "この場合、`Calc(3)`でインスタンスを生成し、変数`calc`に代入しています。  "
   ]
  },
  {
   "cell_type": "code",
   "execution_count": null,
   "metadata": {},
   "outputs": [],
   "source": [
    "calc = Calc(3)\n",
    "calc.add(4)\n",
    "calc.multiply(4)"
   ]
  },
  {
   "cell_type": "markdown",
   "metadata": {},
   "source": [
    "初期化時に3という値をインスタンスに渡し、addメソッドとmultiplyメソッドを呼び出します。  \n",
    "実行すると、4+3と4x3、それぞれの計算結果を得ることができます。  \n",
    "\n",
    "また、クラスには継承という概念があります。  \n",
    "クラスを継承することで、既存のクラスを引き継いで新たなクラスを定義することができます。  \n",
    "以下の例では、`Calc`クラスを継承して`CalcPlus`クラスを定義しています。  "
   ]
  },
  {
   "cell_type": "code",
   "execution_count": null,
   "metadata": {
    "collapsed": true
   },
   "outputs": [],
   "source": [
    "class CalcPlus(Calc):     # Calcを継承\n",
    "    def subtract(self, b):\n",
    "        print(self.a - b)\n",
    "        \n",
    "    def divide(self, b):\n",
    "        print(self.a / b)"
   ]
  },
  {
   "cell_type": "markdown",
   "metadata": {},
   "source": [
    "`subtract`メソッドと、`divide`メソッドが新たに追加されています。  \n",
    "それでは、CalcPlusメソッドからインスタンスを生成し、メソッドを呼び出してみましょう。  "
   ]
  },
  {
   "cell_type": "code",
   "execution_count": null,
   "metadata": {},
   "outputs": [],
   "source": [
    "calc_plus = CalcPlus(3)\n",
    "calc_plus.add(4)\n",
    "calc_plus.multiply(4)\n",
    "calc_plus.subtract(4)\n",
    "calc_plus.divide(4)"
   ]
  },
  {
   "cell_type": "markdown",
   "metadata": {},
   "source": [
    "継承元の`Calc`クラスで定義されたメソッドも、これを継承した`CalcPlus`クラスで定義されたメソッドも、同じように呼び出すことができます。  \n",
    "このようなクラスの継承を利用すれば、複数のクラスの共通部分を継承元のクラスにまとめることができます。  "
   ]
  }
 ],
 "metadata": {
  "kernelspec": {
   "display_name": "Python 3",
   "language": "python",
   "name": "python3"
  },
  "language_info": {
   "codemirror_mode": {
    "name": "ipython",
    "version": 3
   },
   "file_extension": ".py",
   "mimetype": "text/x-python",
   "name": "python",
   "nbconvert_exporter": "python",
   "pygments_lexer": "ipython3",
   "version": "3.5.4"
  }
 },
 "nbformat": 4,
 "nbformat_minor": 2
}
