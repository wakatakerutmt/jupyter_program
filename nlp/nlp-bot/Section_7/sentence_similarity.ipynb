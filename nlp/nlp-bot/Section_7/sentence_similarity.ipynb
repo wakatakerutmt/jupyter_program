{
 "cells": [
  {
   "cell_type": "markdown",
   "metadata": {},
   "source": [
    "# 文章の類似度\n",
    "Doc2Vecは、任意の長さの文書をベクトル化する技術です。  \n",
    "この技術を使って、文書やテキストの分散表現を獲得し、類似度を計算します。"
   ]
  },
  {
   "cell_type": "markdown",
   "metadata": {},
   "source": [
    "## データの読み込み\n",
    "以前に作成したデータの読み込みを行います。"
   ]
  },
  {
   "cell_type": "code",
   "execution_count": null,
   "metadata": {},
   "outputs": [],
   "source": [
    "import pickle\n",
    "\n",
    "with open('wagahai_words.pickle', mode='rb') as f:\n",
    "    wagahai_words = pickle.load(f)\n",
    "\n",
    "print(wagahai_words)"
   ]
  },
  {
   "cell_type": "markdown",
   "metadata": {},
   "source": [
    "## doc2vecによる学習\n",
    "doc2vecを使って学習を行い、モデルを作成します。"
   ]
  },
  {
   "cell_type": "code",
   "execution_count": null,
   "metadata": {},
   "outputs": [],
   "source": [
    "from gensim.models.doc2vec import Doc2Vec\n",
    "from gensim.models.doc2vec import TaggedDocument\n",
    "\n",
    "tagged_documents = []\n",
    "for i, sentence in enumerate(wagahai_words):\n",
    "    tagged_documents.append(TaggedDocument(sentence, [i]))  # TaggedDocument型のオブジェクトをリストに格納\n",
    "\n",
    "# size：分散表現の次元数\n",
    "# window：対象単語を中心とした前後の単語数\n",
    "# min_count：学習に使う単語の最低出現回数\n",
    "# epochs:epochs数\n",
    "# dm：学習モデル=DBOW（デフォルトはdm=1で、学習モデルはDM）\n",
    "model = Doc2Vec(documents=tagged_documents,\n",
    "                vector_size=100,\n",
    "                min_count=5,\n",
    "                window=5,\n",
    "                epochs=20,\n",
    "                dm=0)"
   ]
  },
  {
   "cell_type": "markdown",
   "metadata": {},
   "source": [
    "## 文章のベクトル\n",
    "最初の文章のベクトルを表示します。"
   ]
  },
  {
   "cell_type": "code",
   "execution_count": null,
   "metadata": {},
   "outputs": [],
   "source": [
    "print(wagahai_words[0])  # 最初の文章を表示\n",
    "print(model.docvecs[0])  # 最初の文章のベクトル"
   ]
  },
  {
   "cell_type": "markdown",
   "metadata": {},
   "source": [
    "## 文章の類似度\n",
    "最も類似度の高い文章のIDと類似度を表示します。"
   ]
  },
  {
   "cell_type": "code",
   "execution_count": null,
   "metadata": {},
   "outputs": [],
   "source": [
    "print(model.docvecs.most_similar(0))"
   ]
  },
  {
   "cell_type": "code",
   "execution_count": null,
   "metadata": {},
   "outputs": [],
   "source": [
    "for p in model.docvecs.most_similar(0):\n",
    "    print(wagahai_words[p[0]])"
   ]
  },
  {
   "cell_type": "markdown",
   "metadata": {},
   "source": [
    "類似度の高い文章が表示されました。  \n",
    "doc2vecにより、文書全体の類似度を計算することも可能です。"
   ]
  },
  {
   "cell_type": "markdown",
   "metadata": {},
   "source": [
    "## 課題:\n",
    "wagahai_wordsの中の適当な文章と、類似度の高い文章を表示してみましょう。"
   ]
  },
  {
   "cell_type": "code",
   "execution_count": null,
   "metadata": {},
   "outputs": [],
   "source": []
  }
 ],
 "metadata": {
  "kernelspec": {
   "display_name": "Python 3",
   "language": "python",
   "name": "python3"
  },
  "language_info": {
   "codemirror_mode": {
    "name": "ipython",
    "version": 3
   },
   "file_extension": ".py",
   "mimetype": "text/x-python",
   "name": "python",
   "nbconvert_exporter": "python",
   "pygments_lexer": "ipython3",
   "version": "3.6.7"
  }
 },
 "nbformat": 4,
 "nbformat_minor": 2
}
