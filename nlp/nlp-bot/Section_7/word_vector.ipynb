{
 "cells": [
  {
   "cell_type": "markdown",
   "metadata": {},
   "source": [
    "# 単語間の演算\n",
    "単語ベクトルを使って、単語間の演算を行います。"
   ]
  },
  {
   "cell_type": "markdown",
   "metadata": {},
   "source": [
    "## データの読み込み、及びword2vecによる学習\n",
    "これまでと同様に、データの読み込み及びword2vecによる学習を行います。"
   ]
  },
  {
   "cell_type": "code",
   "execution_count": null,
   "metadata": {},
   "outputs": [],
   "source": [
    "import pickle\n",
    "from gensim.models import word2vec\n",
    "\n",
    "with open('wagahai_words.pickle', mode='rb') as f:\n",
    "    wagahai_words = pickle.load(f)\n",
    "\n",
    "print(wagahai_words)\n",
    "\n",
    "# size : 中間層のニューロン数\n",
    "# min_count : この値以下の出現回数の単語を無視\n",
    "# window : 対象単語を中心とした前後の単語数\n",
    "# iter : epochs数\n",
    "# sg : CBOWを使うかskip-gramを使うか 0:CBOW 1:skip-gram\n",
    "model = word2vec.Word2Vec(wagahai_words,\n",
    "                          size=100,\n",
    "                          min_count=5,\n",
    "                          window=5,\n",
    "                          iter=20,\n",
    "                          sg = 0)"
   ]
  },
  {
   "cell_type": "markdown",
   "metadata": {},
   "source": [
    "## 単語同士の演算\n",
    "word2vecにより、単語同士の足し算、引き算が可能になります。  \n",
    "以下は単語同士の演算の例ですが、単語のベクトル同士で演算が行われ、結果に最も近い単語が表示されます。"
   ]
  },
  {
   "cell_type": "code",
   "execution_count": null,
   "metadata": {},
   "outputs": [],
   "source": [
    "model.wv.most_similar(positive=[\"猫\", \"人間\"])"
   ]
  },
  {
   "cell_type": "markdown",
   "metadata": {},
   "source": [
    "positiveは足し合わせる単語のリストです。  \n",
    "従って、上記は\n",
    "**猫 + 人間**\n",
    "を計算しています。\n",
    "\n",
    "以下では、  \n",
    "**人間 + 猫 - 夢**  \n",
    "を演算しています。  "
   ]
  },
  {
   "cell_type": "code",
   "execution_count": null,
   "metadata": {},
   "outputs": [],
   "source": [
    "model.wv.most_similar(positive=[\"人間\", \"猫\"], negative=[\"夢\"])"
   ]
  },
  {
   "cell_type": "markdown",
   "metadata": {},
   "source": [
    "negativeは引く単語のリストです。"
   ]
  },
  {
   "cell_type": "markdown",
   "metadata": {},
   "source": [
    "## 課題:\n",
    "以下に示す単語同士の演算を行い、結果に最も近い単語を表示しましょう。  \n",
    "**教師 - 夢**"
   ]
  },
  {
   "cell_type": "code",
   "execution_count": null,
   "metadata": {},
   "outputs": [],
   "source": []
  }
 ],
 "metadata": {
  "kernelspec": {
   "display_name": "Python 3",
   "language": "python",
   "name": "python3"
  },
  "language_info": {
   "codemirror_mode": {
    "name": "ipython",
    "version": 3
   },
   "file_extension": ".py",
   "mimetype": "text/x-python",
   "name": "python",
   "nbconvert_exporter": "python",
   "pygments_lexer": "ipython3",
   "version": "3.6.8"
  }
 },
 "nbformat": 4,
 "nbformat_minor": 2
}
