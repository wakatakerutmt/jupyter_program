{
 "cells": [
  {
   "cell_type": "markdown",
   "metadata": {},
   "source": [
    "# 勾配クリッピング\n",
    "勾配クリッピングにより勾配の必要以上の増加を抑制し、勾配爆発を防ぐことができます。"
   ]
  },
  {
   "cell_type": "markdown",
   "metadata": {},
   "source": [
    "## 勾配クリッピングのコード\n",
    "勾配クリッピングのコードは、以下のように関数で記述することが可能です。"
   ]
  },
  {
   "cell_type": "code",
   "execution_count": null,
   "metadata": {},
   "outputs": [],
   "source": [
    "import numpy as np\n",
    "\n",
    "def grad_clip(grads, max_norm):  # grads: 層の勾配  max_norm: ノルムの最大値\n",
    "    norm = np.sqrt(np.sum(grads*grads))  # 二乗和の平方根でL2ノルムを計算\n",
    "    r = max_norm / norm\n",
    "    if r < 1:\n",
    "        clipped_grads = grads * r  # ノルムが最大値を超えた場合、勾配が小さくなるように調整\n",
    "    return clipped_grads\n",
    "\n",
    "a = np.array([[3, 4]])\n",
    "max_norm = 4\n",
    "print(grad_clip(a, 4))"
   ]
  },
  {
   "cell_type": "markdown",
   "metadata": {},
   "source": [
    "## RNNの各設定\n",
    "Kerasを用いて、RNNに勾配クリッピングを導入します。  \n",
    "まずは、RNNの各設定です。"
   ]
  },
  {
   "cell_type": "code",
   "execution_count": null,
   "metadata": {},
   "outputs": [],
   "source": [
    "n_rnn = 10  # 時系列の数\n",
    "batch_size = 8\n",
    "epochs = 20\n",
    "n_in = 1  # 入力層のニューロン数\n",
    "n_mid = 20  # 中間層のニューロン数\n",
    "n_out = 1  # 出力層のニューロン数"
   ]
  },
  {
   "cell_type": "markdown",
   "metadata": {},
   "source": [
    "## 訓練用データの作成\n",
    "RNNに用いる訓練用のデータを作成します。  \n",
    "サイン関数に乱数でノイズを加えたデータを作成し、過去の時系列データから未来の値を予測できるようにします。"
   ]
  },
  {
   "cell_type": "code",
   "execution_count": null,
   "metadata": {},
   "outputs": [],
   "source": [
    "%matplotlib inline\n",
    "\n",
    "import matplotlib.pyplot as plt\n",
    "\n",
    "x_data = np.linspace(-2*np.pi, 2*np.pi)  # -2πから2πまで\n",
    "sin_data = np.sin(x_data)  + 0.3*np.random.randn(len(x_data))  # sin関数に乱数でノイズを加える\n",
    "\n",
    "plt.plot(x_data, sin_data)\n",
    "plt.show()\n",
    "\n",
    "n_sample = len(x_data)-n_rnn\n",
    "x = np.zeros((n_sample, n_rnn))\n",
    "t = np.zeros((n_sample, n_rnn))\n",
    "for i in range(0, n_sample):\n",
    "    x[i] = sin_data[i:i+n_rnn]\n",
    "    t[i] = sin_data[i+1:i+n_rnn+1]\n",
    "\n",
    "x = x.reshape(n_sample, n_rnn, 1)\n",
    "print(x.shape)\n",
    "t = t.reshape(n_sample, n_rnn, 1)\n",
    "print(t.shape)"
   ]
  },
  {
   "cell_type": "markdown",
   "metadata": {},
   "source": [
    "## 勾配クリッピングの実装\n",
    "Kerasでは、optimizerに勾配クリッピングの設定をします。  \n",
    "ノルムの最大値を様々な値に設定し、勾配クリッピングの効果を確認します。"
   ]
  },
  {
   "cell_type": "code",
   "execution_count": null,
   "metadata": {},
   "outputs": [],
   "source": [
    "from keras.models import Sequential\n",
    "from keras.layers import Dense, SimpleRNN\n",
    "from keras import optimizers\n",
    "\n",
    "for max_norm in [0.01, 0.05, 0.1, 0.5, 1.0]:   # 様々なノルムの最大値で学習を行う\n",
    "    model = Sequential()\n",
    "    model.add(SimpleRNN(n_mid, input_shape=(n_rnn, n_in), return_sequences=True))\n",
    "    model.add(Dense(n_out, activation=\"linear\"))\n",
    "    # optimizerで勾配クリッピングの設定を行う。clipnormにノルムの最大値を設定。\n",
    "    model.compile(loss=\"mean_squared_error\", optimizer=optimizers.SGD(clipnorm=max_norm)) \n",
    "    history = model.fit(x, t, epochs=epochs, batch_size=batch_size, verbose=0)  #verbose=0で経過の表示を行わない\n",
    "    \n",
    "    predicted = x[0].reshape(-1)\n",
    "    for i in range(0, n_sample):\n",
    "        y = model.predict(predicted[-n_rnn:].reshape(1, -1, 1))\n",
    "        predicted = np.append(predicted, y[0][n_rnn-1][0])\n",
    "\n",
    "    plt.plot(np.arange(len(predicted)), predicted)\n",
    "    plt.title(\"Max norm = \" + str(max_norm))\n",
    "    plt.show()"
   ]
  },
  {
   "cell_type": "markdown",
   "metadata": {},
   "source": [
    "ノルムの最大値が小さすぎると、勾配が小さすぎて学習がうまく進みません。  \n",
    "ノルムがの最大値がある程度大きければ、問題なく学習できるようになります。  \n",
    "\n",
    "このように、勾配クリッピングには勾配を抑制する効果があります。  \n",
    "勾配を抑制することにより勾配爆発を防ぐ効果がありますが、学習を妨げないようにノルムの最大値を適切に設定する必要があります。"
   ]
  },
  {
   "cell_type": "markdown",
   "metadata": {},
   "source": [
    "## 課題\n",
    "エポック数を変化させて、勾配クリッピングの効果がどのように変わるか確かめてみましょう。"
   ]
  },
  {
   "cell_type": "code",
   "execution_count": null,
   "metadata": {},
   "outputs": [],
   "source": []
  }
 ],
 "metadata": {
  "kernelspec": {
   "display_name": "Python 3",
   "language": "python",
   "name": "python3"
  },
  "language_info": {
   "codemirror_mode": {
    "name": "ipython",
    "version": 3
   },
   "file_extension": ".py",
   "mimetype": "text/x-python",
   "name": "python",
   "nbconvert_exporter": "python",
   "pygments_lexer": "ipython3",
   "version": "3.6.8"
  }
 },
 "nbformat": 4,
 "nbformat_minor": 2
}
