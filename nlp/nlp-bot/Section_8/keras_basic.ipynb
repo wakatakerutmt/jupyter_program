{
 "cells": [
  {
   "cell_type": "markdown",
   "metadata": {},
   "source": [
    "# Kerasの基礎\n",
    "RNNのコードを学ぶ前に、Kerasの基礎をおさえておきましょう。"
   ]
  },
  {
   "cell_type": "markdown",
   "metadata": {},
   "source": [
    "## 学習用のデータを用意\n",
    "今回は、Kerasに慣れるためにシンプルな学習用のデータを用意します。  \n",
    "正解を、サイン関数の値とします。"
   ]
  },
  {
   "cell_type": "code",
   "execution_count": null,
   "metadata": {},
   "outputs": [],
   "source": [
    "%matplotlib inline\n",
    "\n",
    "import numpy as np\n",
    "import matplotlib.pyplot as plt\n",
    "\n",
    "# reshapeは配列の形状を変更できる。引数に-1を指定すると、自動で行や列の数が決まる。\n",
    "x = np.linspace(-np.pi, np.pi).reshape(-1, 1)  # -πからπまで \n",
    "t = np.sin(x)  # sin関数\n",
    "\n",
    "print(x)\n",
    "\n",
    "plt.plot(x, t)\n",
    "plt.show()"
   ]
  },
  {
   "cell_type": "markdown",
   "metadata": {},
   "source": [
    "## ニューラルネットワークの構築\n",
    "Kerasを使ってニューラルネットワークを構築します。  \n",
    "Sequential()によりモデルを作成し、addメソッドにより層を追加します。  \n",
    "Dense()により、通常の層を作ることができます。  "
   ]
  },
  {
   "cell_type": "code",
   "execution_count": null,
   "metadata": {},
   "outputs": [],
   "source": [
    "from keras.models import Sequential\n",
    "from keras.layers import Dense\n",
    "\n",
    "batch_size = 8  # バッチサイズ\n",
    "n_in = 1  # 入力層のニューロン数\n",
    "n_mid = 20  # 中間層のニューロン数\n",
    "n_out = 1  # 出力層のニューロン数\n",
    "\n",
    "# 入力層、中間層、出力層の３層のニューラルネットワークを構築\n",
    "model = Sequential()\n",
    "model.add(Dense(n_mid, input_shape=(n_in,), activation=\"sigmoid\"))  # 活性化関数にシグモイド関数\n",
    "model.add(Dense(n_out, activation=\"linear\"))  # 活性化関数に恒等関数\n",
    "model.compile(loss=\"mean_squared_error\", optimizer=\"sgd\")  # 損失関数に二乗誤差、最適化アルゴリズムにSGDを使用してコンパイル\n",
    "print(model.summary())"
   ]
  },
  {
   "cell_type": "markdown",
   "metadata": {},
   "source": [
    "## 学習\n",
    "構築したモデルを使って、学習を行います。  \n",
    "学習にはモデルオブジェクトのfit()メソッドを使います。"
   ]
  },
  {
   "cell_type": "code",
   "execution_count": null,
   "metadata": {},
   "outputs": [],
   "source": [
    "history = model.fit(x, t, batch_size=batch_size, epochs=2000, validation_split=0.1)  # 10%のデータを検証用に使う"
   ]
  },
  {
   "cell_type": "markdown",
   "metadata": {},
   "source": [
    "## 学習の推移\n",
    "fit()メソッドが返すオブジェクトを使って、学習の記録を後から確認することができます。"
   ]
  },
  {
   "cell_type": "code",
   "execution_count": null,
   "metadata": {},
   "outputs": [],
   "source": [
    "loss = history.history['loss']  # 訓練用データの誤差\n",
    "vloss = history.history['val_loss']  # 検証用データの誤差\n",
    "\n",
    "plt.plot(np.arange(len(loss)), loss)\n",
    "plt.plot(np.arange(len(vloss)), vloss)\n",
    "plt.show()"
   ]
  },
  {
   "cell_type": "markdown",
   "metadata": {},
   "source": [
    "## 学習済みモデルの使用\n",
    "predict()メソッドにより、学習済みモデルを使用し予測を行うことができます。"
   ]
  },
  {
   "cell_type": "code",
   "execution_count": null,
   "metadata": {},
   "outputs": [],
   "source": [
    "plt.plot(x, model.predict(x))  # モデルを使用し予測を行う\n",
    "plt.plot(x, t)\n",
    "plt.show()"
   ]
  },
  {
   "cell_type": "markdown",
   "metadata": {},
   "source": [
    "モデルがサイン関数を学習していることが確認できました。  \n",
    "\n",
    "Kerasについて、さらに詳しく知りたい方はこちらの公式ドキュメントを参考にしてください。  \n",
    "https://keras.io/ja/  "
   ]
  },
  {
   "cell_type": "markdown",
   "metadata": {},
   "source": [
    "## 課題\n",
    "Kerasでニューラルネットワークを構築し、モデルにコサイン関数を学習させてみましょう。"
   ]
  },
  {
   "cell_type": "code",
   "execution_count": null,
   "metadata": {},
   "outputs": [],
   "source": []
  }
 ],
 "metadata": {
  "kernelspec": {
   "display_name": "Python 3",
   "language": "python",
   "name": "python3"
  },
  "language_info": {
   "codemirror_mode": {
    "name": "ipython",
    "version": 3
   },
   "file_extension": ".py",
   "mimetype": "text/x-python",
   "name": "python",
   "nbconvert_exporter": "python",
   "pygments_lexer": "ipython3",
   "version": "3.6.8"
  }
 },
 "nbformat": 4,
 "nbformat_minor": 2
}
