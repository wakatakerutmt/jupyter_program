{
 "cells": [
  {
   "cell_type": "code",
   "execution_count": null,
   "metadata": {},
   "outputs": [],
   "source": []
  },
  {
   "cell_type": "code",
   "execution_count": null,
   "metadata": {},
   "outputs": [],
   "source": [
    "# 10\n",
    "# 行数をカウントせよ．確認にはwcコマンドを用いよ．"
   ]
  },
  {
   "cell_type": "code",
   "execution_count": null,
   "metadata": {},
   "outputs": [],
   "source": [
    "$wc -l hightemp.txt"
   ]
  },
  {
   "cell_type": "code",
   "execution_count": 1,
   "metadata": {},
   "outputs": [],
   "source": [
    "# pythonでも書いてみると\n",
    "def count_lines(filename):\n",
    "    \"\"\"\n",
    "    指定ファイルの行数を返します\n",
    "\n",
    "    >>> count_lines('hightemp.txt')\n",
    "    24\n",
    "    \"\"\"\n",
    "    with open(filename, 'r' ,encoding=\"utf-8\") as f:\n",
    "        return len(list(f))\n",
    "    # 文字列を一行ずつ読み込んでリストにする\n",
    "    "
   ]
  },
  {
   "cell_type": "code",
   "execution_count": 2,
   "metadata": {},
   "outputs": [],
   "source": [
    "def count_lines(filename):\n",
    "    \"\"\"\n",
    "    指定ファイルの行数を返します\n",
    "\n",
    "    >>> count_lines('hightemp.txt')\n",
    "    24\n",
    "    \"\"\"\n",
    "    count = 0\n",
    "    with open(filename, 'r' ,encoding=\"utf-8\") as f:\n",
    "        for _ in f:\n",
    "            count += 1\n",
    "    return count\n",
    "# 単に行数をカウントする"
   ]
  },
  {
   "cell_type": "code",
   "execution_count": null,
   "metadata": {},
   "outputs": [],
   "source": [
    "# 11\n",
    "# タブ1文字につきスペース1文字に置換せよ．確認にはsedコマンド，trコマンド，もしくはexpandコマンドを用いよ．\n"
   ]
  },
  {
   "cell_type": "code",
   "execution_count": null,
   "metadata": {},
   "outputs": [],
   "source": [
    "$sed s/$'\\t'/$' '/g hightemp.txt \n",
    "# sedはStream EDitorの略で、ファイルや標準入力に対してあれやこれや編集を加えられるコマンドです。\n",
    "# ただ、今回のお題だと「タブ」「スペース」をターミナル上で入力するのがちょっと面倒。\n",
    "\n",
    "$ tr '\\t' ' ' < hightemp.txt \n",
    "# 次にtr。こちらは、標準入力の内容を「置換/削除する」のが主眼のコマンドです。\n",
    "# trはコマンドレベルで¥t, ¥n といった表記を受け付けてくれるのでスッキリ書けますね。\n",
    "\n",
    "$ expand -t 1 hightemp.txt \n",
    "# expand。こちらはタブ区切りのファイルのタブをいい感じに半角スペースに置き換えて、見た目を揃えてくれるコマンドです。\n",
    "# 徐々にコマンドの用途が限定的になってきてます。"
   ]
  },
  {
   "cell_type": "code",
   "execution_count": 3,
   "metadata": {},
   "outputs": [],
   "source": [
    "# pythonで書くと...\n",
    "\n",
    "# タブ1文字につきスペース1文字に置換\n",
    "with open('hightemp.txt', 'r' ,encoding=\"utf-8_sig\") as f_read:\n",
    "    with open('nlp11.txt', 'w' ,encoding=\"utf-8_sig\") as f_write:\n",
    "        for line in f_read:\n",
    "            f_write.write(line.replace('/t', ''))\n",
    "\n",
    "# windowsでutf-8のファイルをあれこれするときは,encoding=\"utf-8_sig\"をつけて文字コードを変更しないといけない"
   ]
  },
  {
   "cell_type": "code",
   "execution_count": null,
   "metadata": {},
   "outputs": [],
   "source": [
    "# 12\n",
    "# 各行の1列目だけを抜き出したものをcol1.txtに，2列目だけを抜き出したものをcol2.txtとしてファイルに保存せよ．確認にはcutコマンドを用いよ．\n",
    "\n"
   ]
  },
  {
   "cell_type": "code",
   "execution_count": 5,
   "metadata": {},
   "outputs": [],
   "source": [
    "cut コマンドは、-f オプションを付けるとタブ区切りのファイルの好きなフィールドだけを取り出すことができます。こんな感じで。\n",
    "\n",
    "$ cut -f 1 hightemp.txt > col1.txt\n",
    "$ cat col1.txt \n",
    "高知県\n",
    "埼玉県\n",
    "...\n",
    "山形県\n",
    "愛知県\n",
    "\n",
    "$ cut -f 1 -d 県 hightemp.txt \n",
    "高知\n",
    "埼玉\n",
    "...\n",
    "大阪府   豊中  39.9    1994-08-08\n",
    "山梨\n",
    "山形\n",
    "愛知"
   ]
  },
  {
   "cell_type": "code",
   "execution_count": 17,
   "metadata": {},
   "outputs": [],
   "source": [
    "# pythonで書くと...\n",
    "\n",
    "# 1列目をcol1.txtに，2列目をcol2.txtに保存\n",
    "# doctestが書きづらいので、上記の出力結果とdiffを取ることにします。\n",
    "\n",
    "def write_all(filename: str, lines: []):\n",
    "    \"\"\"\n",
    "    指定されたファイルに渡されたイテラブルオブジェクトを出力\n",
    "    各行、末尾に\\nを入れます\n",
    "    \"\"\"\n",
    "    with open(filename, 'w' ,encoding=\"utf-8_sig\") as f:\n",
    "        for line in lines:\n",
    "            f.write(line + '\\n')\n",
    "\n",
    "\n",
    "# 読み込んでタブ区切り。行末の改行は・・・使わないから放置。\n",
    "with open('hightemp.txt', 'r' ,encoding=\"utf-8_sig\") as f:\n",
    "    # リスト内包表記でファイルオブジェクトの各行をタブで区切る。\n",
    "    data = list(l.split('\\t') for l in f)\n",
    "\n",
    "# リスト内包表記で1列目・2列目だけを取り出し、指定したファイル名に書き込み\n",
    "write_all('col1.txt', [l[0] for l in data])\n",
    "write_all('col2.txt', [l[1] for l in data])"
   ]
  },
  {
   "cell_type": "code",
   "execution_count": 7,
   "metadata": {},
   "outputs": [
    {
     "data": {
      "text/plain": [
       "[['高知県', '江川崎', '41', '2013-08-12\\n'],\n",
       " ['埼玉県', '熊谷', '40.9', '2007-08-16\\n'],\n",
       " ['岐阜県', '多治見', '40.9', '2007-08-16\\n'],\n",
       " ['山形県', '山形', '40.8', '1933-07-25\\n'],\n",
       " ['山梨県', '甲府', '40.7', '2013-08-10\\n'],\n",
       " ['和歌山県', 'かつらぎ', '40.6', '1994-08-08\\n'],\n",
       " ['静岡県', '天竜', '40.6', '1994-08-04\\n'],\n",
       " ['山梨県', '勝沼', '40.5', '2013-08-10\\n'],\n",
       " ['埼玉県', '越谷', '40.4', '2007-08-16\\n'],\n",
       " ['群馬県', '館林', '40.3', '2007-08-16\\n'],\n",
       " ['群馬県', '上里見', '40.3', '1998-07-04\\n'],\n",
       " ['愛知県', '愛西', '40.3', '1994-08-05\\n'],\n",
       " ['千葉県', '牛久', '40.2', '2004-07-20\\n'],\n",
       " ['静岡県', '佐久間', '40.2', '2001-07-24\\n'],\n",
       " ['愛媛県', '宇和島', '40.2', '1927-07-22\\n'],\n",
       " ['山形県', '酒田', '40.1', '1978-08-03\\n'],\n",
       " ['岐阜県', '美濃', '40', '2007-08-16\\n'],\n",
       " ['群馬県', '前橋', '40', '2001-07-24\\n'],\n",
       " ['千葉県', '茂原', '39.9', '2013-08-11\\n'],\n",
       " ['埼玉県', '鳩山', '39.9', '1997-07-05\\n'],\n",
       " ['大阪府', '豊中', '39.9', '1994-08-08\\n'],\n",
       " ['山梨県', '大月', '39.9', '1990-07-19\\n'],\n",
       " ['山形県', '鶴岡', '39.9', '1978-08-03\\n'],\n",
       " ['愛知県', '名古屋', '39.9', '1942-08-02\\n']]"
      ]
     },
     "execution_count": 7,
     "metadata": {},
     "output_type": "execute_result"
    }
   ],
   "source": [
    "data"
   ]
  },
  {
   "cell_type": "code",
   "execution_count": null,
   "metadata": {},
   "outputs": [],
   "source": [
    "$ python nlp11.py\n",
    "$ expand -t 1 hightemp.txt > nlp11expected.txt \n",
    "$ diff nlp11.txt nlp11expected.txt # 差分なし"
   ]
  },
  {
   "cell_type": "code",
   "execution_count": 8,
   "metadata": {},
   "outputs": [],
   "source": [
    "# 13 \n",
    "# 12で作ったcol1.txtとcol2.txtを結合し，元のファイルの1列目と2列目をタブ区切りで並べたテキストファイルを作成せよ．\n",
    "# 確認にはpasteコマンドを用いよ．"
   ]
  },
  {
   "cell_type": "code",
   "execution_count": null,
   "metadata": {},
   "outputs": [],
   "source": [
    "# paste コマンドは、指定した各ファイルを1行ずつ読んで、タブ区切りの1行に変換してくれるコマンドです。\n",
    "\n",
    "$ paste col1.txt col2.txt\n",
    "高知県   江川崎\n",
    "埼玉県   熊谷\n",
    "...\n",
    "山形県   鶴岡\n",
    "愛知県   名古屋"
   ]
  },
  {
   "cell_type": "code",
   "execution_count": 9,
   "metadata": {},
   "outputs": [],
   "source": [
    "# pythonで書くと....\n",
    "# 12で作ったcol1.txtとcol2.txtを結合し，元のファイルの1列目と2列目をタブ区切りで並べたテキストファイルを作成\n",
    "\n",
    "with open('col1.txt', 'r' ,encoding=\"utf-8_sig\") as f:\n",
    "    # 各行、読み込みながら行末の改行を取り除きます。\n",
    "    col1 = list(l.strip() for l in f)\n",
    "\n",
    "with open('col2.txt', 'r' ,encoding=\"utf-8_sig\") as f:\n",
    "    col2 = list(l.strip() for l in f)\n",
    "\n",
    "with open('col1and2.txt', 'w' ,encoding=\"utf-8_sig\") as f:\n",
    "    for elem1, elem2 in zip(col1, col2):\n",
    "        f.write('{}\\t{}\\n'.format(elem1, elem2))"
   ]
  },
  {
   "cell_type": "code",
   "execution_count": null,
   "metadata": {},
   "outputs": [],
   "source": [
    "# 確認\n",
    "\n",
    "$ paste col1.txt col2.txt > col1and2expected.txt\n",
    "$ python nlp13.py \n",
    "$ diff col1and2.txt col1and2expected.txt "
   ]
  },
  {
   "cell_type": "code",
   "execution_count": 10,
   "metadata": {},
   "outputs": [],
   "source": [
    "# 14\n",
    "# 自然数Nをコマンドライン引数などの手段で受け取り，入力のうち先頭のN行だけを表示せよ．確認にはheadコマンドを用いよ．\n"
   ]
  },
  {
   "cell_type": "code",
   "execution_count": null,
   "metadata": {},
   "outputs": [],
   "source": [
    "$ head -n 5 col1.txt\n",
    "高知県\n",
    "埼玉県\n",
    "岐阜県\n",
    "山形県\n",
    "山梨県"
   ]
  },
  {
   "cell_type": "code",
   "execution_count": 11,
   "metadata": {},
   "outputs": [
    {
     "ename": "ValueError",
     "evalue": "invalid literal for int() with base 10: '-f'",
     "output_type": "error",
     "traceback": [
      "\u001b[1;31m---------------------------------------------------------------------------\u001b[0m",
      "\u001b[1;31mValueError\u001b[0m                                Traceback (most recent call last)",
      "\u001b[1;32m<ipython-input-11-337a8c072469>\u001b[0m in \u001b[0;36m<module>\u001b[1;34m\u001b[0m\n\u001b[0;32m      6\u001b[0m \u001b[1;32mimport\u001b[0m \u001b[0msys\u001b[0m\u001b[1;33m\u001b[0m\u001b[0m\n\u001b[0;32m      7\u001b[0m \u001b[1;33m\u001b[0m\u001b[0m\n\u001b[1;32m----> 8\u001b[1;33m \u001b[0mn\u001b[0m \u001b[1;33m=\u001b[0m \u001b[0mint\u001b[0m\u001b[1;33m(\u001b[0m\u001b[0msys\u001b[0m\u001b[1;33m.\u001b[0m\u001b[0margv\u001b[0m\u001b[1;33m[\u001b[0m\u001b[1;36m1\u001b[0m\u001b[1;33m]\u001b[0m\u001b[1;33m)\u001b[0m\u001b[1;33m\u001b[0m\u001b[0m\n\u001b[0m\u001b[0;32m      9\u001b[0m \u001b[1;33m\u001b[0m\u001b[0m\n\u001b[0;32m     10\u001b[0m \u001b[1;32mfor\u001b[0m \u001b[0m_\u001b[0m \u001b[1;32min\u001b[0m \u001b[0mrange\u001b[0m\u001b[1;33m(\u001b[0m\u001b[0mn\u001b[0m\u001b[1;33m)\u001b[0m\u001b[1;33m:\u001b[0m\u001b[1;33m\u001b[0m\u001b[0m\n",
      "\u001b[1;31mValueError\u001b[0m: invalid literal for int() with base 10: '-f'"
     ]
    }
   ],
   "source": [
    "# pythonでかくと...\n",
    "# 標準入力の先頭からN行を出力\n",
    "\n",
    "# python これ N \n",
    "# で実行するとNがsys.argv[1]に入る ※sys.argv[0]は実行ファイル名「これ」にあたるものが入るので注意\n",
    "import sys\n",
    "\n",
    "n = int(sys.argv[1])\n",
    "\n",
    "for _ in range(n):\n",
    "    print(input())"
   ]
  },
  {
   "cell_type": "code",
   "execution_count": 13,
   "metadata": {},
   "outputs": [
    {
     "name": "stdout",
     "output_type": "stream",
     "text": [
      "3\n",
      "高知県\n",
      "\n",
      "埼玉県\n",
      "\n",
      "岐阜県\n",
      "\n"
     ]
    }
   ],
   "source": [
    "#　しかし↑はファイルではなくここで実行するので\n",
    "n = int(input())\n",
    "\n",
    "\n",
    "with open('col1.txt', 'r' ,encoding=\"utf-8_sig\") as f:\n",
    "    for i, line in enumerate(f):\n",
    "        if i < n:\n",
    "            print(line)\n",
    "        else:\n",
    "            break"
   ]
  },
  {
   "cell_type": "code",
   "execution_count": null,
   "metadata": {},
   "outputs": [],
   "source": []
  },
  {
   "cell_type": "code",
   "execution_count": 14,
   "metadata": {},
   "outputs": [],
   "source": [
    "# 15\n",
    "# 自然数Nをコマンドライン引数などの手段で受け取り，入力のうち末尾のN行だけを表示せよ．確認にはtailコマンドを用いよ．"
   ]
  },
  {
   "cell_type": "code",
   "execution_count": null,
   "metadata": {},
   "outputs": [],
   "source": [
    "$ tail -n 5 col2.txt \n",
    "鳩山\n",
    "豊中\n",
    "大月\n",
    "鶴岡\n",
    "名古屋"
   ]
  },
  {
   "cell_type": "code",
   "execution_count": null,
   "metadata": {},
   "outputs": [],
   "source": [
    "#pythonで書くと\n",
    "# 標準入力の末尾からN行を出力\n",
    "import sys\n",
    "\n",
    "\n",
    "n = int(sys.argv[1])\n",
    "# まず、実はさっきの 14 でも同じだったんですが、手っ取り早いのは一旦リストにファイル全体を突っ込んでしまうやり方。\n",
    "# 全行読むなら、sys.stdin をリスト化してしまうのが楽ちん。\n",
    "lines = list(sys.stdin)\n",
    "\n",
    "for line in lines[-n:]:\n",
    "    print(line, end='')"
   ]
  },
  {
   "cell_type": "code",
   "execution_count": null,
   "metadata": {},
   "outputs": [],
   "source": [
    "input() と違って、sys.stdin から読み込む時は行末の改行がコードが取り除かれません。\n",
    "なので表示時に end='' を指定して、二重改行しないようにしています。\n",
    "これで実行してみると、最後の5行を出力することが出来ます。\n",
    "\n",
    "確認\n",
    "$ python nlp15.py 5 < col2.txt\n",
    "鳩山\n",
    "豊中\n",
    "大月\n",
    "鶴岡\n",
    "名古屋"
   ]
  },
  {
   "cell_type": "code",
   "execution_count": null,
   "metadata": {},
   "outputs": [],
   "source": []
  },
  {
   "cell_type": "code",
   "execution_count": null,
   "metadata": {},
   "outputs": [],
   "source": []
  },
  {
   "cell_type": "code",
   "execution_count": 15,
   "metadata": {},
   "outputs": [],
   "source": [
    "# 16\n",
    "# 自然数Nをコマンドライン引数などの手段で受け取り，入力のファイルを行単位でN分割せよ．同様の処理をsplitコマンドで実現せよ．"
   ]
  },
  {
   "cell_type": "code",
   "execution_count": null,
   "metadata": {},
   "outputs": [],
   "source": [
    "splitコマンドが出力するファイルのファイル名は、コマンドラインの最後の引数に指定したファイル名の後に「aa」〜「zz」までの\n",
    "26*26 = 676ファイルに分けることが出来ます。\n",
    "-l オプションで何行ごとに分割するかを指定します。"
   ]
  },
  {
   "cell_type": "code",
   "execution_count": null,
   "metadata": {},
   "outputs": [],
   "source": [
    "$ split -l 15 col1.txt col1_split.\n",
    "$ ls col1_split.* # .aaと.abの2ファイルが出力されます\n",
    "col1_split.aa   col1_split.ab\n",
    "$ cat col1_split.aa # .aaを見てみる。オプションの通り15行出力。\n",
    "高知県\n",
    "埼玉県\n",
    "...\n",
    "静岡県\n",
    "愛媛県\n",
    "$ cat col1_split.ab # .abを見てみる。残りの行が入っている。\n",
    "山形県\n",
    "岐阜県\n",
    "群馬県\n",
    "千葉県\n",
    "埼玉県\n",
    "大阪府\n",
    "山梨県\n",
    "山形県\n",
    "愛知県"
   ]
  },
  {
   "cell_type": "code",
   "execution_count": null,
   "metadata": {},
   "outputs": [],
   "source": [
    "N個のファイルに分割したいのであれば、(-nオプションがないとすれば) wc -l の出力を awk でパースして行数を取り出し、\n",
    "expr コマンドで分割したいファイル数分に割って、split -l に指定する感じでしょうか。\n",
    "\n",
    "$ split -l $(expr $(wc -l col1.txt | awk '{print $1}') / 5) col1.txt col1_split."
   ]
  },
  {
   "cell_type": "code",
   "execution_count": null,
   "metadata": {},
   "outputs": [],
   "source": [
    "#pythonでかくと\n",
    "# 標準入力から読み込んだファイルをN分割\n",
    "# 出力ファイル名は nlp16.00, nlp16.01 ...\n",
    "import math\n",
    "import sys\n",
    "\n",
    "n = int(sys.argv[1])\n",
    "\n",
    "lines = list(sys.stdin)\n",
    "size = math.ceil(len(lines) / n)  # math.ceil は小数点以下を切り上げてくれます\n",
    "\n",
    "for i in range(n):\n",
    "    filename = 'nlp16.{0:02}'.format(i)\n",
    "    with open(filename, 'w') as f:\n",
    "        for l in lines[i * size: (i + 1) * size]:\n",
    "            f.write(l)"
   ]
  },
  {
   "cell_type": "code",
   "execution_count": null,
   "metadata": {},
   "outputs": [],
   "source": [
    "$ python nlp16.py 3 < col1.txt  # 3つに分割\n",
    "$ ls nlp16.*  # 3ファイルできてる\n",
    "nlp16.00        nlp16.01        nlp16.02        nlp16.py\n",
    "$ cat nlp16.02  # 8行入っている。元ファイルが24行なので正しい。他の2ファイルも8行ずつ。\n",
    "岐阜県\n",
    "群馬県\n",
    "千葉県\n",
    "埼玉県\n",
    "大阪府\n",
    "山梨県\n",
    "山形県\n",
    "愛知県\n",
    "$ python nlp16.py 5 < col1.txt  # 今度は5つに分割\n",
    "$ ls nlp16.*  # ファイルは00~04の5つ出来ている。\n",
    "nlp16.00        nlp16.01        nlp16.02        nlp16.03        nlp16.04        nlp16.py\n",
    "$ cat nlp16.04  # 最後のファイルは4行。ほかは5行ずつになっています。\n",
    "大阪府\n",
    "山梨県\n",
    "山形県\n",
    "愛知県"
   ]
  },
  {
   "cell_type": "code",
   "execution_count": null,
   "metadata": {},
   "outputs": [],
   "source": []
  },
  {
   "cell_type": "code",
   "execution_count": null,
   "metadata": {},
   "outputs": [],
   "source": [
    "# 17\n",
    "# 1列目の文字列の種類（異なる文字列の集合）を求めよ．確認にはsort, uniqコマンドを用いよ．"
   ]
  },
  {
   "cell_type": "code",
   "execution_count": null,
   "metadata": {},
   "outputs": [],
   "source": [
    "sort, uniqを組み合わせれば簡単に重複を許さない一覧が作れます。\n",
    "uniq は入力に同じ内容の行が連続した場合に1行しか出力しないというコマンドで、\n",
    "ソートされたテキストを入力にすれば「重複を取り除く」ことができるのです。"
   ]
  },
  {
   "cell_type": "code",
   "execution_count": null,
   "metadata": {},
   "outputs": [],
   "source": [
    "$ cat col1.txt | sort | uniq\n",
    "愛媛県\n",
    "愛知県\n",
    "大阪府\n",
    "千葉県\n",
    "静岡県\n",
    "山形県\n",
    "山梨県\n",
    "和歌山県\n",
    "岐阜県\n",
    "群馬県\n",
    "高知県\n",
    "埼玉県"
   ]
  },
  {
   "cell_type": "code",
   "execution_count": 16,
   "metadata": {},
   "outputs": [],
   "source": [
    "# pythonでかくと...\n",
    "# １列目の文字列の異なり\n",
    "import sys\n",
    "\n",
    "for elem in set(sys.stdin):\n",
    "    print(elem, end='')"
   ]
  },
  {
   "cell_type": "code",
   "execution_count": null,
   "metadata": {},
   "outputs": [],
   "source": [
    "$ python nlp17.py < col1.txt | sort\n",
    "愛媛県\n",
    "愛知県\n",
    "大阪府\n",
    "千葉県\n",
    "静岡県\n",
    "山形県\n",
    "山梨県\n",
    "和歌山県\n",
    "岐阜県\n",
    "群馬県\n",
    "高知県\n",
    "埼玉県"
   ]
  },
  {
   "cell_type": "code",
   "execution_count": null,
   "metadata": {},
   "outputs": [],
   "source": []
  },
  {
   "cell_type": "code",
   "execution_count": 18,
   "metadata": {},
   "outputs": [],
   "source": [
    "# 18\n",
    "# 各行を3コラム目の数値の逆順で整列せよ（注意: 各行の内容は変更せずに並び替えよ）\n",
    "# 確認にはsortコマンドを用いよ（この問題はコマンドで実行した時の結果と合わなくてもよい）"
   ]
  },
  {
   "cell_type": "code",
   "execution_count": null,
   "metadata": {},
   "outputs": [],
   "source": [
    "$ sort -k 3 -r < hightemp.txt \n",
    "高知県  江川崎  41      2013-08-12\n",
    "岐阜県  多治見  40.9    2007-08-16\n",
    "...\n",
    "山形県  鶴岡    39.9    1978-08-03\n",
    "愛知県  名古屋  39.9    1942-08-02"
   ]
  },
  {
   "cell_type": "code",
   "execution_count": null,
   "metadata": {},
   "outputs": [],
   "source": [
    "-k オプションで何カラム目をキーにするかを指定し、-r で逆順でのソートを指定しています。"
   ]
  },
  {
   "cell_type": "code",
   "execution_count": 19,
   "metadata": {},
   "outputs": [],
   "source": [
    "#pythonでかくと\n",
    "# nカラム目の逆順でソート\n",
    "import sys\n",
    "\n",
    "\n",
    "def key_selector(s: str):\n",
    "    \"\"\"\n",
    "    タブ区切りの3列目を返します\n",
    "    \"\"\"\n",
    "    return s.split('\\t')[2]\n",
    "\n",
    "\n",
    "for line in sorted(sys.stdin, key=key_selector, reverse=True):\n",
    "    print(line, end='')"
   ]
  },
  {
   "cell_type": "code",
   "execution_count": null,
   "metadata": {},
   "outputs": [],
   "source": [
    "keyにはラムダ関数を渡すことも出来ます。\n",
    "\n",
    "nlp18.py\n",
    "# nカラム目の逆順でソート\n",
    "import sys\n",
    "\n",
    "for line in sorted(sys.stdin, key=lambda l: l.split('\\t')[2], reverse=True):\n",
    "    print(line, end='')"
   ]
  },
  {
   "cell_type": "code",
   "execution_count": null,
   "metadata": {},
   "outputs": [],
   "source": []
  },
  {
   "cell_type": "code",
   "execution_count": null,
   "metadata": {},
   "outputs": [],
   "source": []
  },
  {
   "cell_type": "code",
   "execution_count": 20,
   "metadata": {},
   "outputs": [],
   "source": [
    "# 19\n",
    "# 各行の1列目の文字列の出現頻度を求め，その高い順に並べて表示せよ．確認にはcut, uniq, sortコマンドを用いよ．"
   ]
  },
  {
   "cell_type": "code",
   "execution_count": null,
   "metadata": {},
   "outputs": [],
   "source": [
    "uniq コマンドは -c オプションを付けると重複した件数をカウントしてくれます。これと、ここまでの内容を使えば簡単。\n",
    "\n",
    "$ sort < col1.txt | uniq -c | sort -k 1 -r\n",
    "   3 群馬県\n",
    "   3 山梨県\n",
    "   3 山形県\n",
    "   3 埼玉県\n",
    "   2 静岡県\n",
    "   2 愛知県\n",
    "   2 岐阜県\n",
    "   2 千葉県\n",
    "   1 高知県\n",
    "   1 愛媛県\n",
    "   1 大阪府\n",
    "   1 和歌山県"
   ]
  },
  {
   "cell_type": "code",
   "execution_count": null,
   "metadata": {},
   "outputs": [],
   "source": [
    "# pythonでも書いてみましょう。今度は、辞書型(dict)を使います。\n",
    "\n",
    "# 1コラム目の出現頻度\n",
    "import sys\n",
    "\n",
    "\n",
    "data = {}\n",
    "\n",
    "for line in sys.stdin:\n",
    "    key = line.split('\\t')[0]\n",
    "    data[key] = data.get(key, 0) + 1\n",
    "\n",
    "for key, value in sorted(data.items(), key=lambda kv: kv[1], reverse=True):\n",
    "    print('{}\\t{}'.format(value, key))"
   ]
  },
  {
   "cell_type": "code",
   "execution_count": null,
   "metadata": {},
   "outputs": [],
   "source": []
  },
  {
   "cell_type": "code",
   "execution_count": null,
   "metadata": {},
   "outputs": [],
   "source": []
  },
  {
   "cell_type": "code",
   "execution_count": null,
   "metadata": {},
   "outputs": [],
   "source": []
  },
  {
   "cell_type": "code",
   "execution_count": null,
   "metadata": {},
   "outputs": [],
   "source": []
  },
  {
   "cell_type": "code",
   "execution_count": null,
   "metadata": {},
   "outputs": [],
   "source": []
  },
  {
   "cell_type": "code",
   "execution_count": null,
   "metadata": {},
   "outputs": [],
   "source": []
  }
 ],
 "metadata": {
  "kernelspec": {
   "display_name": "Python 3",
   "language": "python",
   "name": "python3"
  },
  "language_info": {
   "codemirror_mode": {
    "name": "ipython",
    "version": 3
   },
   "file_extension": ".py",
   "mimetype": "text/x-python",
   "name": "python",
   "nbconvert_exporter": "python",
   "pygments_lexer": "ipython3",
   "version": "3.6.6"
  }
 },
 "nbformat": 4,
 "nbformat_minor": 2
}
