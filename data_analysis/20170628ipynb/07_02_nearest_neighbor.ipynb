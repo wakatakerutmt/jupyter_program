{
 "cells": [
  {
   "cell_type": "code",
   "execution_count": null,
   "metadata": {
    "ExecuteTime": {
     "end_time": "2017-06-22T08:27:45.789561Z",
     "start_time": "2017-06-22T08:27:45.221464Z"
    },
    "collapsed": true
   },
   "outputs": [],
   "source": [
    "import numpy as np\n",
    "from sklearn.datasets import make_blobs\n",
    "\n",
    "X, y = make_blobs(n_samples=50, # 20個生成\n",
    "                  n_features=2, # 2次元\n",
    "                  centers=5,    # クラスタ中心2個\n",
    "                  cluster_std = .8, # クラスタの大きさ（標準偏差）\n",
    "                  random_state=3   # 乱数種（再現用）\n",
    "                 )"
   ]
  },
  {
   "cell_type": "code",
   "execution_count": null,
   "metadata": {
    "ExecuteTime": {
     "end_time": "2017-06-22T08:27:46.059053Z",
     "start_time": "2017-06-22T08:27:45.790456Z"
    }
   },
   "outputs": [],
   "source": [
    "import matplotlib.pyplot as plt\n",
    "%matplotlib inline\n",
    "\n",
    "plt.set_cmap(plt.cm.gist_ncar)"
   ]
  },
  {
   "cell_type": "code",
   "execution_count": null,
   "metadata": {
    "ExecuteTime": {
     "end_time": "2017-06-22T08:27:46.180942Z",
     "start_time": "2017-06-22T08:27:46.060279Z"
    },
    "scrolled": true
   },
   "outputs": [],
   "source": [
    "plt.scatter(X[:, 0], X[:, 1], c=y, s=50, edgecolors='k');"
   ]
  },
  {
   "cell_type": "code",
   "execution_count": null,
   "metadata": {
    "ExecuteTime": {
     "end_time": "2017-06-22T08:27:46.199484Z",
     "start_time": "2017-06-22T08:27:46.182207Z"
    },
    "collapsed": true
   },
   "outputs": [],
   "source": [
    "# 境界線を引く関数の定義\n",
    "\n",
    "def plotBoundary(X, clf, mesh=True, cmap=plt.get_cmap()):\n",
    "\n",
    "    # plot range\n",
    "    x_min = min(X[:,0])\n",
    "    x_max = max(X[:,0])\n",
    "    y_min = min(X[:,1])\n",
    "    y_max = max(X[:,1])\n",
    "\n",
    "    # visualizing decision function\n",
    "    XX, YY = np.mgrid[x_min:x_max:200j, y_min:y_max:200j] # make a grid\n",
    "    \n",
    "    Z = clf.predict(np.c_[XX.ravel(), YY.ravel()]) # evaluate the value \n",
    "    \n",
    "    Z = Z.reshape(XX.shape) # just reshape\n",
    "\n",
    "    if mesh:\n",
    "        plt.pcolormesh(XX, YY, Z, zorder=-10, cmap=cmap)\n",
    "\n",
    "    plt.xlim(x_min, x_max)\n",
    "    plt.ylim(y_min, y_max)"
   ]
  },
  {
   "cell_type": "code",
   "execution_count": null,
   "metadata": {
    "ExecuteTime": {
     "end_time": "2017-06-22T08:27:46.234980Z",
     "start_time": "2017-06-22T08:27:46.200992Z"
    },
    "collapsed": true
   },
   "outputs": [],
   "source": [
    "from sklearn import neighbors\n",
    "\n",
    "clf = neighbors.KNeighborsClassifier(n_neighbors=1)"
   ]
  },
  {
   "cell_type": "code",
   "execution_count": null,
   "metadata": {
    "ExecuteTime": {
     "end_time": "2017-06-22T08:27:46.430237Z",
     "start_time": "2017-06-22T08:27:46.236588Z"
    },
    "scrolled": true
   },
   "outputs": [],
   "source": [
    "clf.fit(X, y)\n",
    "\n",
    "plt.scatter(X[:, 0], X[:, 1], marker='o', s=50, c=y, edgecolors='k')\n",
    "\n",
    "plotBoundary(X, clf) # 境界線の描画"
   ]
  },
  {
   "cell_type": "code",
   "execution_count": null,
   "metadata": {
    "ExecuteTime": {
     "end_time": "2017-06-22T08:27:46.544706Z",
     "start_time": "2017-06-22T08:27:46.431536Z"
    }
   },
   "outputs": [],
   "source": [
    "X, y = make_blobs(n_samples=50, # 20個生成\n",
    "                  n_features=2, # 2次元\n",
    "                  centers=5,    # クラスタ中心2個\n",
    "                  cluster_std =2, # クラスタの大きさ（標準偏差）\n",
    "                  random_state=3   # 乱数種（再現用）\n",
    "                 )\n",
    "plt.scatter(X[:, 0], X[:, 1], c=y, s=50, edgecolors='k');"
   ]
  },
  {
   "cell_type": "code",
   "execution_count": null,
   "metadata": {
    "ExecuteTime": {
     "end_time": "2017-06-22T08:27:46.713533Z",
     "start_time": "2017-06-22T08:27:46.546134Z"
    }
   },
   "outputs": [],
   "source": [
    "clf = neighbors.KNeighborsClassifier(n_neighbors=1)\n",
    "clf.fit(X, y)\n",
    "\n",
    "plt.scatter(X[:, 0], X[:, 1], marker='o', s=50, c=y, edgecolors='k')\n",
    "\n",
    "plotBoundary(X, clf) # 境界線の描画"
   ]
  },
  {
   "cell_type": "code",
   "execution_count": null,
   "metadata": {
    "ExecuteTime": {
     "end_time": "2017-06-22T08:27:47.430814Z",
     "start_time": "2017-06-22T08:27:46.715143Z"
    },
    "scrolled": false
   },
   "outputs": [],
   "source": [
    "for n in [1, 5, 10, 15]:\n",
    "    clf.n_neighbors = n\n",
    "    plt.scatter(X[:, 0], X[:, 1], marker='o', s=50, c=y, edgecolors='k')\n",
    "    plotBoundary(X, clf)\n",
    "    plt.title(\"{0}-NN\".format(n))\n",
    "    plt.show()"
   ]
  },
  {
   "cell_type": "code",
   "execution_count": null,
   "metadata": {
    "collapsed": true
   },
   "outputs": [],
   "source": []
  },
  {
   "cell_type": "code",
   "execution_count": null,
   "metadata": {
    "collapsed": true
   },
   "outputs": [],
   "source": []
  },
  {
   "cell_type": "code",
   "execution_count": null,
   "metadata": {
    "ExecuteTime": {
     "end_time": "2017-06-22T08:27:47.448141Z",
     "start_time": "2017-06-22T08:27:47.432407Z"
    },
    "collapsed": true
   },
   "outputs": [],
   "source": [
    "from sklearn.datasets import load_breast_cancer\n",
    "data = load_breast_cancer()\n",
    "X = data.data\n",
    "y = data.target"
   ]
  },
  {
   "cell_type": "code",
   "execution_count": null,
   "metadata": {
    "ExecuteTime": {
     "end_time": "2017-06-22T08:27:47.471725Z",
     "start_time": "2017-06-22T08:27:47.449700Z"
    },
    "collapsed": true
   },
   "outputs": [],
   "source": [
    "from sklearn.model_selection import ShuffleSplit\n",
    "ss = ShuffleSplit(n_splits=1, \n",
    "                  train_size=0.8, \n",
    "                  test_size=0.2, \n",
    "                  random_state=0)\n",
    "\n",
    "train_index, test_index = next(ss.split(X, y))\n",
    "\n",
    "X_train, X_test = X[train_index], X[test_index]\n",
    "y_train, y_test = y[train_index], y[test_index]"
   ]
  },
  {
   "cell_type": "code",
   "execution_count": null,
   "metadata": {
    "ExecuteTime": {
     "end_time": "2017-06-22T08:27:47.478895Z",
     "start_time": "2017-06-22T08:27:47.473247Z"
    }
   },
   "outputs": [],
   "source": [
    "from sklearn import neighbors\n",
    "\n",
    "clf = neighbors.KNeighborsClassifier(n_neighbors=1)\n",
    "clf.fit(X_train, y_train)"
   ]
  },
  {
   "cell_type": "code",
   "execution_count": null,
   "metadata": {
    "ExecuteTime": {
     "end_time": "2017-06-22T08:27:47.486296Z",
     "start_time": "2017-06-22T08:27:47.479913Z"
    }
   },
   "outputs": [],
   "source": [
    "clf.score(X_train, y_train)"
   ]
  },
  {
   "cell_type": "code",
   "execution_count": null,
   "metadata": {
    "ExecuteTime": {
     "end_time": "2017-06-22T08:27:47.492813Z",
     "start_time": "2017-06-22T08:27:47.487649Z"
    }
   },
   "outputs": [],
   "source": [
    "clf.score(X_test, y_test)"
   ]
  },
  {
   "cell_type": "code",
   "execution_count": null,
   "metadata": {
    "ExecuteTime": {
     "end_time": "2017-06-22T08:27:47.527135Z",
     "start_time": "2017-06-22T08:27:47.494021Z"
    }
   },
   "outputs": [],
   "source": [
    "n_range = range(1,20)\n",
    "scores = []\n",
    "for n in n_range:\n",
    "    clf.n_neighbors = n\n",
    "    score = clf.score(X_test, y_test)\n",
    "    print(n, score) \n",
    "    scores.append(score)\n",
    "scores = np.array(scores)"
   ]
  },
  {
   "cell_type": "code",
   "execution_count": null,
   "metadata": {
    "ExecuteTime": {
     "end_time": "2017-06-22T08:27:47.657042Z",
     "start_time": "2017-06-22T08:27:47.528519Z"
    }
   },
   "outputs": [],
   "source": [
    "plt.plot(n_range, scores)\n",
    "plt.ylim(0.8, 1)"
   ]
  },
  {
   "cell_type": "code",
   "execution_count": null,
   "metadata": {
    "collapsed": true
   },
   "outputs": [],
   "source": []
  },
  {
   "cell_type": "code",
   "execution_count": null,
   "metadata": {
    "collapsed": true
   },
   "outputs": [],
   "source": []
  },
  {
   "cell_type": "code",
   "execution_count": null,
   "metadata": {
    "ExecuteTime": {
     "end_time": "2017-06-22T08:27:47.663317Z",
     "start_time": "2017-06-22T08:27:47.658402Z"
    }
   },
   "outputs": [],
   "source": [
    "clf = neighbors.RadiusNeighborsClassifier()\n",
    "clf.fit(X_train, y_train)"
   ]
  },
  {
   "cell_type": "code",
   "execution_count": null,
   "metadata": {
    "ExecuteTime": {
     "end_time": "2017-06-22T08:27:47.720316Z",
     "start_time": "2017-06-22T08:27:47.664894Z"
    }
   },
   "outputs": [],
   "source": [
    "n_range = [2000, 4000, 8000]\n",
    "for n in n_range:\n",
    "    clf.radius = n\n",
    "    score = clf.score(X_test, y_test)\n",
    "    print(n, score) "
   ]
  },
  {
   "cell_type": "code",
   "execution_count": null,
   "metadata": {
    "ExecuteTime": {
     "end_time": "2017-06-22T08:27:47.728765Z",
     "start_time": "2017-06-22T08:27:47.721944Z"
    }
   },
   "outputs": [],
   "source": [
    "from sklearn.preprocessing import MinMaxScaler\n",
    "scaler = MinMaxScaler()\n",
    "scaler.fit(X_train)\n",
    "X_train_scale = scaler.transform(X_train)\n",
    "clf.fit(X_train_scale, y_train)"
   ]
  },
  {
   "cell_type": "code",
   "execution_count": null,
   "metadata": {
    "ExecuteTime": {
     "end_time": "2017-06-22T08:27:47.732544Z",
     "start_time": "2017-06-22T08:27:47.729987Z"
    },
    "collapsed": true
   },
   "outputs": [],
   "source": [
    "X_test_scale = scaler.transform(X_test)"
   ]
  },
  {
   "cell_type": "code",
   "execution_count": null,
   "metadata": {
    "ExecuteTime": {
     "end_time": "2017-06-22T08:27:47.843910Z",
     "start_time": "2017-06-22T08:27:47.734068Z"
    }
   },
   "outputs": [],
   "source": [
    "n_range = [3,4,5,6,7]\n",
    "for n in n_range:\n",
    "    clf.radius = n\n",
    "    score = clf.score(X_test_scale, y_test)\n",
    "    print(n, score) \n"
   ]
  },
  {
   "cell_type": "code",
   "execution_count": null,
   "metadata": {
    "collapsed": true
   },
   "outputs": [],
   "source": []
  },
  {
   "cell_type": "code",
   "execution_count": null,
   "metadata": {
    "collapsed": true
   },
   "outputs": [],
   "source": []
  },
  {
   "cell_type": "code",
   "execution_count": null,
   "metadata": {
    "ExecuteTime": {
     "end_time": "2017-06-22T08:27:47.851210Z",
     "start_time": "2017-06-22T08:27:47.845419Z"
    }
   },
   "outputs": [],
   "source": [
    "clf = neighbors.KNeighborsClassifier(n_neighbors=1)\n",
    "clf.fit(X_train_scale, y_train)"
   ]
  },
  {
   "cell_type": "code",
   "execution_count": null,
   "metadata": {
    "ExecuteTime": {
     "end_time": "2017-06-22T08:27:47.911281Z",
     "start_time": "2017-06-22T08:27:47.852697Z"
    }
   },
   "outputs": [],
   "source": [
    "n_range = range(1,20)\n",
    "scores2 = []\n",
    "for n in n_range:\n",
    "    clf.n_neighbors = n\n",
    "    score = clf.score(X_test_scale, y_test)\n",
    "    print(n, score) \n",
    "    scores2.append(score)\n",
    "scores2 = np.array(scores2)"
   ]
  },
  {
   "cell_type": "code",
   "execution_count": null,
   "metadata": {
    "ExecuteTime": {
     "end_time": "2017-06-22T08:27:48.048427Z",
     "start_time": "2017-06-22T08:27:47.912807Z"
    }
   },
   "outputs": [],
   "source": [
    "plt.plot(n_range, scores2, label=\"scaling\")\n",
    "plt.plot(n_range, scores, label=\"no scaling\")\n",
    "plt.legend(loc='best')\n",
    "plt.ylim(0.8, 1)"
   ]
  },
  {
   "cell_type": "code",
   "execution_count": null,
   "metadata": {
    "collapsed": true
   },
   "outputs": [],
   "source": []
  }
 ],
 "metadata": {
  "anaconda-cloud": {},
  "kernelspec": {
   "display_name": "Python 3",
   "language": "python",
   "name": "python3"
  },
  "language_info": {
   "codemirror_mode": {
    "name": "ipython",
    "version": 3
   },
   "file_extension": ".py",
   "mimetype": "text/x-python",
   "name": "python",
   "nbconvert_exporter": "python",
   "pygments_lexer": "ipython3",
   "version": "3.6.1"
  },
  "toc": {
   "colors": {
    "hover_highlight": "#DAA520",
    "running_highlight": "#FF0000",
    "selected_highlight": "#FFD700"
   },
   "moveMenuLeft": true,
   "nav_menu": {
    "height": "12px",
    "width": "252px"
   },
   "navigate_menu": true,
   "number_sections": true,
   "sideBar": true,
   "threshold": 4,
   "toc_cell": false,
   "toc_section_display": "block",
   "toc_window_display": false,
   "widenNotebook": false
  }
 },
 "nbformat": 4,
 "nbformat_minor": 1
}
