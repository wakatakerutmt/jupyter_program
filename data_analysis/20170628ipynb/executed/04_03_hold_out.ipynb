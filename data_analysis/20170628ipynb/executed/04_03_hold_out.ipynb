{
 "cells": [
  {
   "cell_type": "code",
   "execution_count": 1,
   "metadata": {
    "ExecuteTime": {
     "end_time": "2017-06-22T08:22:02.795746Z",
     "start_time": "2017-06-22T08:22:02.237697Z"
    },
    "collapsed": true
   },
   "outputs": [],
   "source": [
    "import numpy as np\n",
    "\n",
    "from sklearn.datasets import load_breast_cancer\n",
    "data = load_breast_cancer()\n",
    "\n",
    "X = data.data\n",
    "y = data.target\n",
    "\n",
    "from sklearn import linear_model\n",
    "clf = linear_model.LogisticRegression()\n",
    "\n",
    "from sklearn.model_selection import ShuffleSplit\n",
    "ss = ShuffleSplit(n_splits=1, \n",
    "                  train_size=0.5, \n",
    "                  test_size=0.5)\n",
    "\n",
    "# trainとtestを分割：hold-out\n",
    "train_index, test_index = next(ss.split(X, y))\n",
    "\n",
    "X_train, X_test = X[train_index], X[test_index]\n",
    "y_train, y_test = y[train_index], y[test_index]"
   ]
  },
  {
   "cell_type": "code",
   "execution_count": 2,
   "metadata": {
    "ExecuteTime": {
     "end_time": "2017-06-22T08:22:02.824053Z",
     "start_time": "2017-06-22T08:22:02.796659Z"
    }
   },
   "outputs": [],
   "source": [
    "clf.fit(X_train, y_train);"
   ]
  },
  {
   "cell_type": "code",
   "execution_count": 3,
   "metadata": {
    "ExecuteTime": {
     "end_time": "2017-06-22T08:22:02.835258Z",
     "start_time": "2017-06-22T08:22:02.825134Z"
    }
   },
   "outputs": [
    {
     "data": {
      "text/plain": [
       "0.95438596491228067"
      ]
     },
     "execution_count": 3,
     "metadata": {},
     "output_type": "execute_result"
    }
   ],
   "source": [
    "clf.score(X_test, y_test)"
   ]
  },
  {
   "cell_type": "code",
   "execution_count": 4,
   "metadata": {
    "ExecuteTime": {
     "end_time": "2017-06-22T08:22:02.873742Z",
     "start_time": "2017-06-22T08:22:02.836304Z"
    }
   },
   "outputs": [
    {
     "name": "stdout",
     "output_type": "stream",
     "text": [
      "0.964912280702\n",
      "0.940350877193\n",
      "0.947368421053\n",
      "0.936842105263\n",
      "0.964912280702\n",
      "0.957894736842\n",
      "0.947368421053\n",
      "0.947368421053\n",
      "0.943859649123\n",
      "0.954385964912\n"
     ]
    }
   ],
   "source": [
    "ss = ShuffleSplit(n_splits=10, \n",
    "                  train_size=0.5, \n",
    "                  test_size=0.5)\n",
    "\n",
    "for train_index, test_index in ss.split(X, y):\n",
    "\n",
    "    X_train, X_test = X[train_index], X[test_index]\n",
    "    y_train, y_test = y[train_index], y[test_index]\n",
    "\n",
    "    clf.fit(X_train, y_train)\n",
    "    print(clf.score(X_test, y_test))"
   ]
  },
  {
   "cell_type": "code",
   "execution_count": null,
   "metadata": {
    "collapsed": true
   },
   "outputs": [],
   "source": []
  },
  {
   "cell_type": "code",
   "execution_count": null,
   "metadata": {
    "collapsed": true
   },
   "outputs": [],
   "source": []
  },
  {
   "cell_type": "code",
   "execution_count": 5,
   "metadata": {
    "ExecuteTime": {
     "end_time": "2017-06-22T08:22:02.881202Z",
     "start_time": "2017-06-22T08:22:02.875445Z"
    }
   },
   "outputs": [],
   "source": [
    "ss = ShuffleSplit(n_splits=1, \n",
    "                  train_size=0.95, \n",
    "                  test_size=0.05, \n",
    "                  random_state=3)\n",
    "\n",
    "train_index, test_index = next(ss.split(X, y))\n",
    "\n",
    "X_train, X_test = X[train_index], X[test_index]\n",
    "y_train, y_test = y[train_index], y[test_index]"
   ]
  },
  {
   "cell_type": "code",
   "execution_count": 6,
   "metadata": {
    "ExecuteTime": {
     "end_time": "2017-06-22T08:22:02.888450Z",
     "start_time": "2017-06-22T08:22:02.882355Z"
    }
   },
   "outputs": [
    {
     "name": "stdout",
     "output_type": "stream",
     "text": [
      "(array([0, 1]), array([212, 357]))\n",
      "[ 0.37258348  0.62741652]\n",
      "[ 0.38333333  0.61666667]\n",
      "[ 0.17241379  0.82758621]\n"
     ]
    }
   ],
   "source": [
    "print(np.unique(y,       return_counts=True))\n",
    "print(np.unique(y,       return_counts=True)[1] / y.size)\n",
    "print(np.unique(y_train, return_counts=True)[1] / y_train.size)\n",
    "print(np.unique(y_test,  return_counts=True)[1] / y_test.size)"
   ]
  },
  {
   "cell_type": "code",
   "execution_count": 7,
   "metadata": {
    "ExecuteTime": {
     "end_time": "2017-06-22T08:22:02.891524Z",
     "start_time": "2017-06-22T08:22:02.889436Z"
    },
    "collapsed": true
   },
   "outputs": [],
   "source": [
    "from sklearn.model_selection import StratifiedShuffleSplit"
   ]
  },
  {
   "cell_type": "code",
   "execution_count": 8,
   "metadata": {
    "ExecuteTime": {
     "end_time": "2017-06-22T08:22:02.898887Z",
     "start_time": "2017-06-22T08:22:02.892676Z"
    },
    "collapsed": true
   },
   "outputs": [],
   "source": [
    "ss = StratifiedShuffleSplit(n_splits=1, \n",
    "                            train_size=0.95, \n",
    "                            test_size=0.05, \n",
    "                            random_state=0)\n",
    "\n",
    "train_index, test_index = next(ss.split(X, y))\n",
    "\n",
    "X_train, X_test = X[train_index], X[test_index]\n",
    "y_train, y_test = y[train_index], y[test_index]"
   ]
  },
  {
   "cell_type": "code",
   "execution_count": 9,
   "metadata": {
    "ExecuteTime": {
     "end_time": "2017-06-22T08:22:02.907870Z",
     "start_time": "2017-06-22T08:22:02.900131Z"
    }
   },
   "outputs": [
    {
     "name": "stdout",
     "output_type": "stream",
     "text": [
      "(array([0, 1]), array([212, 357]))\n",
      "[ 0.37258348  0.62741652]\n",
      "[ 0.37222222  0.62777778]\n",
      "[ 0.37931034  0.62068966]\n"
     ]
    }
   ],
   "source": [
    "print(np.unique(y,       return_counts=True))\n",
    "print(np.unique(y,       return_counts=True)[1] / y.size)\n",
    "print(np.unique(y_train, return_counts=True)[1] / y_train.size)\n",
    "print(np.unique(y_test,  return_counts=True)[1] / y_test.size)"
   ]
  },
  {
   "cell_type": "code",
   "execution_count": null,
   "metadata": {
    "collapsed": true
   },
   "outputs": [],
   "source": []
  }
 ],
 "metadata": {
  "anaconda-cloud": {},
  "kernelspec": {
   "display_name": "Python 3",
   "language": "python",
   "name": "python3"
  },
  "language_info": {
   "codemirror_mode": {
    "name": "ipython",
    "version": 3
   },
   "file_extension": ".py",
   "mimetype": "text/x-python",
   "name": "python",
   "nbconvert_exporter": "python",
   "pygments_lexer": "ipython3",
   "version": "3.6.1"
  },
  "toc": {
   "colors": {
    "hover_highlight": "#DAA520",
    "running_highlight": "#FF0000",
    "selected_highlight": "#FFD700"
   },
   "moveMenuLeft": true,
   "nav_menu": {
    "height": "12px",
    "width": "252px"
   },
   "navigate_menu": true,
   "number_sections": true,
   "sideBar": true,
   "threshold": 4,
   "toc_cell": false,
   "toc_section_display": "block",
   "toc_window_display": false,
   "widenNotebook": false
  }
 },
 "nbformat": 4,
 "nbformat_minor": 1
}
