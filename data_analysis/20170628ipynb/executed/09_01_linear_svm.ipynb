{
 "cells": [
  {
   "cell_type": "code",
   "execution_count": 1,
   "metadata": {
    "ExecuteTime": {
     "end_time": "2017-06-22T08:35:01.663565Z",
     "start_time": "2017-06-22T08:35:01.245471Z"
    },
    "collapsed": true
   },
   "outputs": [],
   "source": [
    "import numpy as np\n",
    "\n",
    "import matplotlib.pyplot as plt\n",
    "%matplotlib inline"
   ]
  },
  {
   "cell_type": "code",
   "execution_count": 2,
   "metadata": {
    "ExecuteTime": {
     "end_time": "2017-06-22T08:35:01.955691Z",
     "start_time": "2017-06-22T08:35:01.665001Z"
    },
    "collapsed": true
   },
   "outputs": [],
   "source": [
    "from sklearn.datasets import load_breast_cancer\n",
    "data = load_breast_cancer()\n",
    "X = data.data\n",
    "y = data.target"
   ]
  },
  {
   "cell_type": "code",
   "execution_count": 3,
   "metadata": {
    "ExecuteTime": {
     "end_time": "2017-06-22T08:35:01.986452Z",
     "start_time": "2017-06-22T08:35:01.956745Z"
    },
    "collapsed": true
   },
   "outputs": [],
   "source": [
    "from sklearn.model_selection import ShuffleSplit\n",
    "ss = ShuffleSplit(n_splits=1, \n",
    "                  train_size=0.8, \n",
    "                  test_size=0.2, \n",
    "                  random_state=0)\n",
    "\n",
    "train_index, test_index = next(ss.split(X, y))\n",
    "\n",
    "X_train, X_test = X[train_index], X[test_index]\n",
    "y_train, y_test = y[train_index], y[test_index]"
   ]
  },
  {
   "cell_type": "code",
   "execution_count": 4,
   "metadata": {
    "ExecuteTime": {
     "end_time": "2017-06-22T08:35:01.992369Z",
     "start_time": "2017-06-22T08:35:01.987936Z"
    },
    "collapsed": true
   },
   "outputs": [],
   "source": [
    "from sklearn.preprocessing import MinMaxScaler\n",
    "scaler = MinMaxScaler()\n",
    "scaler.fit(X_train)\n",
    "X_train = scaler.transform(X_train)\n",
    "X_test  = scaler.transform(X_test)"
   ]
  },
  {
   "cell_type": "code",
   "execution_count": 5,
   "metadata": {
    "ExecuteTime": {
     "end_time": "2017-06-22T08:35:01.996123Z",
     "start_time": "2017-06-22T08:35:01.994127Z"
    },
    "collapsed": true
   },
   "outputs": [],
   "source": [
    "import time"
   ]
  },
  {
   "cell_type": "code",
   "execution_count": 6,
   "metadata": {
    "ExecuteTime": {
     "end_time": "2017-06-22T08:35:02.039730Z",
     "start_time": "2017-06-22T08:35:01.997479Z"
    }
   },
   "outputs": [],
   "source": [
    "from sklearn.svm import SVC\n",
    "\n",
    "clf = SVC(kernel='linear')"
   ]
  },
  {
   "cell_type": "code",
   "execution_count": 7,
   "metadata": {
    "ExecuteTime": {
     "end_time": "2017-06-22T08:35:02.050684Z",
     "start_time": "2017-06-22T08:35:02.040918Z"
    }
   },
   "outputs": [
    {
     "name": "stdout",
     "output_type": "stream",
     "text": [
      "2.635955810546875 [ms]\n"
     ]
    },
    {
     "data": {
      "text/plain": [
       "0.96491228070175439"
      ]
     },
     "execution_count": 7,
     "metadata": {},
     "output_type": "execute_result"
    }
   ],
   "source": [
    "clf.C = 1\n",
    "\n",
    "st = time.time()\n",
    "clf.fit(X_train, y_train)\n",
    "print(1000 * (time.time() - st), \"[ms]\")\n",
    "\n",
    "clf.score(X_test, y_test)"
   ]
  },
  {
   "cell_type": "code",
   "execution_count": 8,
   "metadata": {
    "ExecuteTime": {
     "end_time": "2017-06-22T08:35:02.245921Z",
     "start_time": "2017-06-22T08:35:02.051591Z"
    }
   },
   "outputs": [
    {
     "name": "stdout",
     "output_type": "stream",
     "text": [
      "189.20016288757324 [ms]\n"
     ]
    },
    {
     "data": {
      "text/plain": [
       "0.95614035087719296"
      ]
     },
     "execution_count": 8,
     "metadata": {},
     "output_type": "execute_result"
    }
   ],
   "source": [
    "clf.C = 1e20\n",
    "\n",
    "st = time.time()\n",
    "clf.fit(X_train, y_train)\n",
    "print(1000 * (time.time() - st), \"[ms]\")\n",
    "\n",
    "clf.score(X_test, y_test)"
   ]
  },
  {
   "cell_type": "code",
   "execution_count": 9,
   "metadata": {
    "ExecuteTime": {
     "end_time": "2017-06-22T08:35:03.877603Z",
     "start_time": "2017-06-22T08:35:02.247067Z"
    }
   },
   "outputs": [
    {
     "name": "stdout",
     "output_type": "stream",
     "text": [
      "Fitting 3 folds for each of 36 candidates, totalling 108 fits\n"
     ]
    },
    {
     "name": "stderr",
     "output_type": "stream",
     "text": [
      "[Parallel(n_jobs=1)]: Done 108 out of 108 | elapsed:    1.6s finished\n"
     ]
    },
    {
     "data": {
      "text/plain": [
       "GridSearchCV(cv=None, error_score='raise',\n",
       "       estimator=SVC(C=1e+20, cache_size=200, class_weight=None, coef0=0.0,\n",
       "  decision_function_shape=None, degree=3, gamma='auto', kernel='linear',\n",
       "  max_iter=-1, probability=False, random_state=None, shrinking=True,\n",
       "  tol=0.001, verbose=False),\n",
       "       fit_params={}, iid=True, n_jobs=1,\n",
       "       param_grid={'C': array([  1.00000e-15,   1.00000e-14,   1.00000e-13,   1.00000e-12,\n",
       "         1.00000e-11,   1.00000e-10,   1.00000e-09,   1.00000e-08,\n",
       "         1.00000e-07,   1.00000e-06,   1.00000e-05,   1.00000e-04,\n",
       "         1.00000e-03,   1.00000e-02,   1.00000e-01,   1.00000e+00,\n",
       "         1.0000...,   1.00000e+15,   1.00000e+16,\n",
       "         1.00000e+17,   1.00000e+18,   1.00000e+19,   1.00000e+20])},\n",
       "       pre_dispatch='2*n_jobs', refit=True, return_train_score=True,\n",
       "       scoring=None, verbose=1)"
      ]
     },
     "execution_count": 9,
     "metadata": {},
     "output_type": "execute_result"
    }
   ],
   "source": [
    "from sklearn.model_selection import GridSearchCV\n",
    "\n",
    "param = {'C': 10**np.arange(-15.0,21.0)}\n",
    "\n",
    "gs = GridSearchCV(clf, param, verbose=1)\n",
    "gs.fit(X_train, y_train)"
   ]
  },
  {
   "cell_type": "code",
   "execution_count": 10,
   "metadata": {
    "ExecuteTime": {
     "end_time": "2017-06-22T08:35:04.389471Z",
     "start_time": "2017-06-22T08:35:03.878671Z"
    }
   },
   "outputs": [
    {
     "data": {
      "image/png": "[encoded data removed]",
      "text/plain": [
       "<matplotlib.figure.Figure at 0x116a94780>"
      ]
     },
     "metadata": {},
     "output_type": "display_data"
    }
   ],
   "source": [
    "plt.plot(gs.cv_results_['param_C'].data, \n",
    "         gs.cv_results_['mean_fit_time'], \n",
    "         label=\"training\")\n",
    "\n",
    "plt.plot(gs.cv_results_['param_C'].data,\n",
    "         gs.cv_results_['mean_score_time'], \n",
    "         label=\"test(val)\")\n",
    "\n",
    "plt.ylim(0,)\n",
    "plt.xscale(\"log\")\n",
    "plt.xlabel(\"C\")\n",
    "plt.ylabel(\"computation time [sec]\")\n",
    "plt.legend(loc=\"best\");\n",
    "plt.title(\"SVM with linear kernel\");"
   ]
  },
  {
   "cell_type": "code",
   "execution_count": null,
   "metadata": {
    "collapsed": true
   },
   "outputs": [],
   "source": []
  },
  {
   "cell_type": "code",
   "execution_count": null,
   "metadata": {
    "collapsed": true
   },
   "outputs": [],
   "source": []
  },
  {
   "cell_type": "code",
   "execution_count": null,
   "metadata": {
    "collapsed": true
   },
   "outputs": [],
   "source": []
  },
  {
   "cell_type": "code",
   "execution_count": 11,
   "metadata": {
    "ExecuteTime": {
     "end_time": "2017-06-22T08:35:04.393238Z",
     "start_time": "2017-06-22T08:35:04.390693Z"
    },
    "collapsed": true
   },
   "outputs": [],
   "source": [
    "from sklearn.svm import LinearSVC\n",
    "\n",
    "clf = LinearSVC()"
   ]
  },
  {
   "cell_type": "code",
   "execution_count": 12,
   "metadata": {
    "ExecuteTime": {
     "end_time": "2017-06-22T08:35:04.403106Z",
     "start_time": "2017-06-22T08:35:04.394849Z"
    }
   },
   "outputs": [
    {
     "name": "stdout",
     "output_type": "stream",
     "text": [
      "3.0050277709960938 [ms]\n"
     ]
    },
    {
     "data": {
      "text/plain": [
       "0.96491228070175439"
      ]
     },
     "execution_count": 12,
     "metadata": {},
     "output_type": "execute_result"
    }
   ],
   "source": [
    "clf.C = 1\n",
    "\n",
    "st = time.time()\n",
    "clf.fit(X_train, y_train)\n",
    "print(1000 * (time.time() - st), \"[ms]\")\n",
    "\n",
    "clf.score(X_test, y_test)"
   ]
  },
  {
   "cell_type": "code",
   "execution_count": 13,
   "metadata": {
    "ExecuteTime": {
     "end_time": "2017-06-22T08:35:04.417084Z",
     "start_time": "2017-06-22T08:35:04.404465Z"
    }
   },
   "outputs": [
    {
     "name": "stdout",
     "output_type": "stream",
     "text": [
      "6.763935089111328 [ms]\n"
     ]
    },
    {
     "data": {
      "text/plain": [
       "0.94736842105263153"
      ]
     },
     "execution_count": 13,
     "metadata": {},
     "output_type": "execute_result"
    }
   ],
   "source": [
    "clf.C = 1e20\n",
    "\n",
    "st = time.time()\n",
    "clf.fit(X_train, y_train)\n",
    "print(1000 * (time.time() - st), \"[ms]\")\n",
    "\n",
    "clf.score(X_test, y_test)"
   ]
  },
  {
   "cell_type": "code",
   "execution_count": 14,
   "metadata": {
    "ExecuteTime": {
     "end_time": "2017-06-22T08:35:04.781187Z",
     "start_time": "2017-06-22T08:35:04.418397Z"
    },
    "scrolled": false
   },
   "outputs": [
    {
     "name": "stdout",
     "output_type": "stream",
     "text": [
      "Fitting 3 folds for each of 36 candidates, totalling 108 fits\n"
     ]
    },
    {
     "name": "stderr",
     "output_type": "stream",
     "text": [
      "[Parallel(n_jobs=1)]: Done 108 out of 108 | elapsed:    0.4s finished\n"
     ]
    },
    {
     "data": {
      "text/plain": [
       "GridSearchCV(cv=None, error_score='raise',\n",
       "       estimator=LinearSVC(C=1e+20, class_weight=None, dual=True, fit_intercept=True,\n",
       "     intercept_scaling=1, loss='squared_hinge', max_iter=1000,\n",
       "     multi_class='ovr', penalty='l2', random_state=None, tol=0.0001,\n",
       "     verbose=0),\n",
       "       fit_params={}, iid=True, n_jobs=1,\n",
       "       param_grid={'C': array([  1.00000e-15,   1.00000e-14,   1.00000e-13,   1.00000e-12,\n",
       "         1.00000e-11,   1.00000e-10,   1.00000e-09,   1.00000e-08,\n",
       "         1.00000e-07,   1.00000e-06,   1.00000e-05,   1.00000e-04,\n",
       "         1.00000e-03,   1.00000e-02,   1.00000e-01,   1.00000e+00,\n",
       "         1.0000...,   1.00000e+15,   1.00000e+16,\n",
       "         1.00000e+17,   1.00000e+18,   1.00000e+19,   1.00000e+20])},\n",
       "       pre_dispatch='2*n_jobs', refit=True, return_train_score=True,\n",
       "       scoring=None, verbose=1)"
      ]
     },
     "execution_count": 14,
     "metadata": {},
     "output_type": "execute_result"
    }
   ],
   "source": [
    "from sklearn.model_selection import GridSearchCV\n",
    "\n",
    "param = {'C': 10**np.arange(-15.0,21.0)}\n",
    "\n",
    "gs2 = GridSearchCV(clf, param, verbose=1)\n",
    "gs2.fit(X_train, y_train)"
   ]
  },
  {
   "cell_type": "code",
   "execution_count": 15,
   "metadata": {
    "ExecuteTime": {
     "end_time": "2017-06-22T08:35:05.136684Z",
     "start_time": "2017-06-22T08:35:04.782313Z"
    }
   },
   "outputs": [
    {
     "data": {
      "image/png": "[encoded data removed]",
      "text/plain": [
       "<matplotlib.figure.Figure at 0x1172597b8>"
      ]
     },
     "metadata": {},
     "output_type": "display_data"
    }
   ],
   "source": [
    "plt.plot(gs2.cv_results_['param_C'].data, \n",
    "         gs2.cv_results_['mean_fit_time'], \n",
    "         label=\"training\")\n",
    "\n",
    "plt.plot(gs2.cv_results_['param_C'].data,\n",
    "         gs2.cv_results_['mean_score_time'], \n",
    "         label=\"test(val)\")\n",
    "\n",
    "plt.ylim(0,)\n",
    "plt.xscale(\"log\")\n",
    "plt.xlabel(\"C\")\n",
    "plt.ylabel(\"computation time [sec]\")\n",
    "plt.legend(loc=\"best\")\n",
    "plt.title(\"LinearSVM\");"
   ]
  },
  {
   "cell_type": "code",
   "execution_count": null,
   "metadata": {
    "collapsed": true
   },
   "outputs": [],
   "source": []
  },
  {
   "cell_type": "code",
   "execution_count": 16,
   "metadata": {
    "ExecuteTime": {
     "end_time": "2017-06-22T08:35:05.429331Z",
     "start_time": "2017-06-22T08:35:05.137748Z"
    }
   },
   "outputs": [
    {
     "data": {
      "image/png": "[encoded data removed]",
      "text/plain": [
       "<matplotlib.figure.Figure at 0x11718f828>"
      ]
     },
     "metadata": {},
     "output_type": "display_data"
    }
   ],
   "source": [
    "plt.plot(gs.cv_results_['param_C'].data, \n",
    "         gs.cv_results_['mean_fit_time'], \n",
    "         label=\"training SVM (linear kernel)\")\n",
    "\n",
    "plt.plot(gs2.cv_results_['param_C'].data, \n",
    "         gs2.cv_results_['mean_fit_time'], \n",
    "         label=\"training LinearSVM\")\n",
    "\n",
    "plt.ylim(0,)\n",
    "plt.xscale(\"log\")\n",
    "plt.xlabel(\"C\")\n",
    "plt.ylabel(\"computation time [sec]\")\n",
    "plt.legend(loc=\"best\");"
   ]
  },
  {
   "cell_type": "code",
   "execution_count": null,
   "metadata": {
    "collapsed": true
   },
   "outputs": [],
   "source": []
  },
  {
   "cell_type": "code",
   "execution_count": null,
   "metadata": {
    "collapsed": true
   },
   "outputs": [],
   "source": []
  },
  {
   "cell_type": "code",
   "execution_count": 17,
   "metadata": {
    "ExecuteTime": {
     "end_time": "2017-06-22T08:35:05.436120Z",
     "start_time": "2017-06-22T08:35:05.430374Z"
    },
    "collapsed": true
   },
   "outputs": [],
   "source": [
    "from sklearn.preprocessing import MinMaxScaler\n",
    "from sklearn.pipeline import Pipeline\n",
    "\n",
    "estimators = [('scaler', MinMaxScaler()), \n",
    "              ('clf', LinearSVC())]\n",
    "\n",
    "pipe = Pipeline(estimators)"
   ]
  },
  {
   "cell_type": "code",
   "execution_count": 18,
   "metadata": {
    "ExecuteTime": {
     "end_time": "2017-06-22T08:35:05.833356Z",
     "start_time": "2017-06-22T08:35:05.437206Z"
    }
   },
   "outputs": [
    {
     "name": "stdout",
     "output_type": "stream",
     "text": [
      "Fitting 3 folds for each of 36 candidates, totalling 108 fits\n"
     ]
    },
    {
     "name": "stderr",
     "output_type": "stream",
     "text": [
      "[Parallel(n_jobs=1)]: Done 108 out of 108 | elapsed:    0.4s finished\n"
     ]
    },
    {
     "data": {
      "text/plain": [
       "GridSearchCV(cv=None, error_score='raise',\n",
       "       estimator=Pipeline(steps=[('scaler', MinMaxScaler(copy=True, feature_range=(0, 1))), ('clf', LinearSVC(C=1.0, class_weight=None, dual=True, fit_intercept=True,\n",
       "     intercept_scaling=1, loss='squared_hinge', max_iter=1000,\n",
       "     multi_class='ovr', penalty='l2', random_state=None, tol=0.0001,\n",
       "     verbose=0))]),\n",
       "       fit_params={}, iid=True, n_jobs=1,\n",
       "       param_grid={'clf__C': array([  1.00000e-15,   1.00000e-14,   1.00000e-13,   1.00000e-12,\n",
       "         1.00000e-11,   1.00000e-10,   1.00000e-09,   1.00000e-08,\n",
       "         1.00000e-07,   1.00000e-06,   1.00000e-05,   1.00000e-04,\n",
       "         1.00000e-03,   1.00000e-02,   1.00000e-01,   1.00000e+00,\n",
       "         1...,   1.00000e+15,   1.00000e+16,\n",
       "         1.00000e+17,   1.00000e+18,   1.00000e+19,   1.00000e+20])},\n",
       "       pre_dispatch='2*n_jobs', refit=True, return_train_score=True,\n",
       "       scoring=None, verbose=1)"
      ]
     },
     "execution_count": 18,
     "metadata": {},
     "output_type": "execute_result"
    }
   ],
   "source": [
    "from sklearn.model_selection import GridSearchCV\n",
    "\n",
    "param = {'clf__C': 10**np.arange(-15.0,21.0)}\n",
    "\n",
    "gs = GridSearchCV(pipe, param, verbose=1)\n",
    "gs.fit(X_train, y_train)"
   ]
  },
  {
   "cell_type": "code",
   "execution_count": 19,
   "metadata": {
    "ExecuteTime": {
     "end_time": "2017-06-22T08:35:06.248121Z",
     "start_time": "2017-06-22T08:35:05.834579Z"
    }
   },
   "outputs": [
    {
     "data": {
      "text/plain": [
       "<matplotlib.text.Text at 0x1175454a8>"
      ]
     },
     "execution_count": 19,
     "metadata": {},
     "output_type": "execute_result"
    },
    {
     "data": {
      "image/png": "[encoded data removed]",
      "text/plain": [
       "<matplotlib.figure.Figure at 0x11743db38>"
      ]
     },
     "metadata": {},
     "output_type": "display_data"
    }
   ],
   "source": [
    "plt.plot(gs.cv_results_['param_clf__C'].data, \n",
    "         gs.cv_results_['mean_fit_time'], \n",
    "         label=\"training\")\n",
    "\n",
    "plt.plot(gs.cv_results_['param_clf__C'].data,\n",
    "         gs.cv_results_['mean_score_time'], \n",
    "         label=\"test(val)\")\n",
    "plt.ylabel(\"computation time [sec]\")\n",
    "plt.ylim(0,)\n",
    "plt.xscale(\"log\")\n",
    "plt.xlabel(\"C\")\n",
    "plt.legend(loc=\"upper left\");\n",
    "\n",
    "plt.twinx()\n",
    "\n",
    "plt.plot(gs.cv_results_['param_clf__C'].data, \n",
    "         gs.cv_results_['mean_train_score'], \n",
    "         linestyle=\"--\",\n",
    "         label=\"training\")\n",
    "\n",
    "plt.plot(gs.cv_results_['param_clf__C'].data,\n",
    "         gs.cv_results_['mean_test_score'], \n",
    "         linestyle=\"--\",\n",
    "         label=\"test(val)\")\n",
    "plt.ylabel(\"accuracy\")\n",
    "plt.legend(loc=\"lower right\");\n",
    "\n",
    "plt.title(\"LinearSVM\")"
   ]
  },
  {
   "cell_type": "code",
   "execution_count": null,
   "metadata": {
    "collapsed": true
   },
   "outputs": [],
   "source": []
  },
  {
   "cell_type": "code",
   "execution_count": null,
   "metadata": {
    "collapsed": true
   },
   "outputs": [],
   "source": []
  },
  {
   "cell_type": "code",
   "execution_count": null,
   "metadata": {
    "collapsed": true
   },
   "outputs": [],
   "source": []
  },
  {
   "cell_type": "code",
   "execution_count": 20,
   "metadata": {
    "ExecuteTime": {
     "end_time": "2017-06-22T08:35:06.253549Z",
     "start_time": "2017-06-22T08:35:06.249500Z"
    },
    "collapsed": true
   },
   "outputs": [],
   "source": [
    "from sklearn.preprocessing import MaxAbsScaler\n",
    "\n",
    "estimators = [('scaler', MinMaxScaler()), \n",
    "              ('clf', SVC(kernel='linear'))]\n",
    "\n",
    "pipe = Pipeline(estimators)"
   ]
  },
  {
   "cell_type": "code",
   "execution_count": 21,
   "metadata": {
    "ExecuteTime": {
     "end_time": "2017-06-22T08:35:08.177143Z",
     "start_time": "2017-06-22T08:35:06.255150Z"
    }
   },
   "outputs": [
    {
     "name": "stdout",
     "output_type": "stream",
     "text": [
      "Fitting 3 folds for each of 36 candidates, totalling 108 fits\n"
     ]
    },
    {
     "name": "stderr",
     "output_type": "stream",
     "text": [
      "[Parallel(n_jobs=1)]: Done 108 out of 108 | elapsed:    1.9s finished\n"
     ]
    },
    {
     "data": {
      "text/plain": [
       "GridSearchCV(cv=None, error_score='raise',\n",
       "       estimator=Pipeline(steps=[('scaler', MinMaxScaler(copy=True, feature_range=(0, 1))), ('clf', SVC(C=1.0, cache_size=200, class_weight=None, coef0=0.0,\n",
       "  decision_function_shape=None, degree=3, gamma='auto', kernel='linear',\n",
       "  max_iter=-1, probability=False, random_state=None, shrinking=True,\n",
       "  tol=0.001, verbose=False))]),\n",
       "       fit_params={}, iid=True, n_jobs=1,\n",
       "       param_grid={'clf__C': array([  1.00000e-15,   1.00000e-14,   1.00000e-13,   1.00000e-12,\n",
       "         1.00000e-11,   1.00000e-10,   1.00000e-09,   1.00000e-08,\n",
       "         1.00000e-07,   1.00000e-06,   1.00000e-05,   1.00000e-04,\n",
       "         1.00000e-03,   1.00000e-02,   1.00000e-01,   1.00000e+00,\n",
       "         1...,   1.00000e+15,   1.00000e+16,\n",
       "         1.00000e+17,   1.00000e+18,   1.00000e+19,   1.00000e+20])},\n",
       "       pre_dispatch='2*n_jobs', refit=True, return_train_score=True,\n",
       "       scoring=None, verbose=1)"
      ]
     },
     "execution_count": 21,
     "metadata": {},
     "output_type": "execute_result"
    }
   ],
   "source": [
    "from sklearn.model_selection import GridSearchCV\n",
    "\n",
    "param = {'clf__C': 10**np.arange(-15.0,21.0)}\n",
    "\n",
    "gs = GridSearchCV(pipe, param, verbose=1)\n",
    "gs.fit(X_train, y_train)"
   ]
  },
  {
   "cell_type": "code",
   "execution_count": 22,
   "metadata": {
    "ExecuteTime": {
     "end_time": "2017-06-22T08:35:08.591170Z",
     "start_time": "2017-06-22T08:35:08.178354Z"
    }
   },
   "outputs": [
    {
     "data": {
      "image/png": "[encoded data removed]",
      "text/plain": [
       "<matplotlib.figure.Figure at 0x1170a88d0>"
      ]
     },
     "metadata": {},
     "output_type": "display_data"
    }
   ],
   "source": [
    "plt.plot(gs.cv_results_['param_clf__C'].data, \n",
    "         gs.cv_results_['mean_fit_time'], \n",
    "         label=\"training\")\n",
    "\n",
    "plt.plot(gs.cv_results_['param_clf__C'].data,\n",
    "         gs.cv_results_['mean_score_time'], \n",
    "         label=\"test(val)\")\n",
    "plt.ylabel(\"computation time [sec]\")\n",
    "plt.ylim(0,)\n",
    "plt.xscale(\"log\")\n",
    "plt.xlabel(\"C\")\n",
    "plt.legend(loc=\"upper left\");\n",
    "\n",
    "plt.twinx()\n",
    "\n",
    "plt.plot(gs.cv_results_['param_clf__C'].data, \n",
    "         gs.cv_results_['mean_train_score'], \n",
    "         linestyle=\"--\",\n",
    "         label=\"training\")\n",
    "\n",
    "plt.plot(gs.cv_results_['param_clf__C'].data,\n",
    "         gs.cv_results_['mean_test_score'], \n",
    "         linestyle=\"--\",\n",
    "         label=\"test(val)\")\n",
    "plt.ylabel(\"accuracy\")\n",
    "plt.legend(loc=\"lower right\");\n",
    "\n",
    "plt.title(\"SVM with linear kernel\");"
   ]
  },
  {
   "cell_type": "code",
   "execution_count": null,
   "metadata": {
    "collapsed": true
   },
   "outputs": [],
   "source": []
  },
  {
   "cell_type": "code",
   "execution_count": null,
   "metadata": {
    "collapsed": true
   },
   "outputs": [],
   "source": []
  },
  {
   "cell_type": "code",
   "execution_count": null,
   "metadata": {
    "collapsed": true
   },
   "outputs": [],
   "source": []
  },
  {
   "cell_type": "code",
   "execution_count": null,
   "metadata": {
    "collapsed": true
   },
   "outputs": [],
   "source": []
  },
  {
   "cell_type": "code",
   "execution_count": 23,
   "metadata": {
    "ExecuteTime": {
     "end_time": "2017-06-22T08:35:08.953576Z",
     "start_time": "2017-06-22T08:35:08.592262Z"
    }
   },
   "outputs": [],
   "source": [
    "from sklearn.datasets import fetch_mldata\n",
    "mnist = fetch_mldata('MNIST original')\n",
    "\n",
    "# MNISTの場合，60000が学習，10000がテスト，と決まっている\n",
    "# http://yann.lecun.com/exdb/mnist/\n",
    "\n",
    "X_train, X_test = mnist.data[:60000]/255., mnist.data[60000:]/255.\n",
    "y_train, y_test = mnist.target[:60000], mnist.target[60000:]\n"
   ]
  },
  {
   "cell_type": "code",
   "execution_count": 24,
   "metadata": {
    "ExecuteTime": {
     "end_time": "2017-06-22T08:35:08.958086Z",
     "start_time": "2017-06-22T08:35:08.954634Z"
    }
   },
   "outputs": [
    {
     "data": {
      "text/plain": [
       "((60000, 784), (10000, 784))"
      ]
     },
     "execution_count": 24,
     "metadata": {},
     "output_type": "execute_result"
    }
   ],
   "source": [
    "X_train.shape, X_test.shape"
   ]
  },
  {
   "cell_type": "code",
   "execution_count": 25,
   "metadata": {
    "ExecuteTime": {
     "end_time": "2017-06-22T08:35:08.961820Z",
     "start_time": "2017-06-22T08:35:08.959451Z"
    },
    "collapsed": true
   },
   "outputs": [],
   "source": [
    "clf = SVC(kernel='linear')"
   ]
  },
  {
   "cell_type": "code",
   "execution_count": 26,
   "metadata": {
    "ExecuteTime": {
     "end_time": "2017-06-22T08:35:09.142663Z",
     "start_time": "2017-06-22T08:35:08.963253Z"
    }
   },
   "outputs": [
    {
     "name": "stdout",
     "output_type": "stream",
     "text": [
      "175.8120059967041 [ms]\n"
     ]
    }
   ],
   "source": [
    "st = time.time()\n",
    "clf.fit(X_train[::100], y_train[::100])\n",
    "print(1000 * (time.time() - st), \"[ms]\")"
   ]
  },
  {
   "cell_type": "code",
   "execution_count": 27,
   "metadata": {
    "ExecuteTime": {
     "end_time": "2017-06-22T08:36:12.584523Z",
     "start_time": "2017-06-22T08:35:09.143738Z"
    }
   },
   "outputs": [
    {
     "name": "stdout",
     "output_type": "stream",
     "text": [
      "0.17 sec, size 600, accuracy 0.89\n",
      "0.48 sec, size 1200, accuracy 0.9\n",
      "5.46 sec, size 6000, accuracy 0.905\n",
      "17.54 sec, size 12000, accuracy 0.917\n",
      "25.21 sec, size 15000, accuracy 0.9164\n"
     ]
    }
   ],
   "source": [
    "for thin in [100, 50, 10, 5, 4]: # > 1 min...\n",
    "    st = time.time()\n",
    "    clf.fit(X_train[::thin], y_train[::thin])\n",
    "    et = time.time() - st\n",
    "    score = clf.score(X_test[::thin], y_test[::thin])\n",
    "    print(\"{0:.2f} sec, size {1}, accuracy {2}\".format(et, \n",
    "                                                       y_train[::thin].size,\n",
    "                                                       score))"
   ]
  },
  {
   "cell_type": "code",
   "execution_count": 28,
   "metadata": {
    "ExecuteTime": {
     "end_time": "2017-06-22T08:36:12.592541Z",
     "start_time": "2017-06-22T08:36:12.586128Z"
    }
   },
   "outputs": [],
   "source": [
    "clf = LinearSVC() # dual"
   ]
  },
  {
   "cell_type": "code",
   "execution_count": 29,
   "metadata": {
    "ExecuteTime": {
     "end_time": "2017-06-22T08:36:35.684962Z",
     "start_time": "2017-06-22T08:36:12.593985Z"
    }
   },
   "outputs": [
    {
     "name": "stdout",
     "output_type": "stream",
     "text": [
      "0.11 sec, size 600, accuracy 0.91\n",
      "0.39 sec, size 1200, accuracy 0.865\n",
      "2.44 sec, size 6000, accuracy 0.865\n",
      "7.78 sec, size 12000, accuracy 0.894\n",
      "12.34 sec, size 15000, accuracy 0.8952\n"
     ]
    }
   ],
   "source": [
    "for thin in [100, 50, 10, 5, 4]:\n",
    "    st = time.time()\n",
    "    clf.fit(X_train[::thin], y_train[::thin])\n",
    "    et = time.time() - st\n",
    "    score = clf.score(X_test[::thin], y_test[::thin])\n",
    "    print(\"{0:.2f} sec, size {1}, accuracy {2}\".format(et, \n",
    "                                                       y_train[::thin].size,\n",
    "                                                       score))"
   ]
  },
  {
   "cell_type": "code",
   "execution_count": 30,
   "metadata": {
    "ExecuteTime": {
     "end_time": "2017-06-22T08:36:35.689233Z",
     "start_time": "2017-06-22T08:36:35.686506Z"
    }
   },
   "outputs": [],
   "source": [
    "clf = LinearSVC(dual=False) # primal"
   ]
  },
  {
   "cell_type": "code",
   "execution_count": 31,
   "metadata": {
    "ExecuteTime": {
     "end_time": "2017-06-22T08:36:45.802903Z",
     "start_time": "2017-06-22T08:36:35.691074Z"
    }
   },
   "outputs": [
    {
     "name": "stdout",
     "output_type": "stream",
     "text": [
      "0.16 sec, size 600, accuracy 0.91\n",
      "0.22 sec, size 1200, accuracy 0.87\n",
      "1.15 sec, size 6000, accuracy 0.865\n",
      "3.45 sec, size 12000, accuracy 0.894\n",
      "5.10 sec, size 15000, accuracy 0.8956\n"
     ]
    }
   ],
   "source": [
    "for thin in [100, 50, 10, 5, 4]:\n",
    "    st = time.time()\n",
    "    clf.fit(X_train[::thin], y_train[::thin])\n",
    "    et = time.time() - st\n",
    "    score = clf.score(X_test[::thin], y_test[::thin])\n",
    "    print(\"{0:.2f} sec, size {1}, accuracy {2}\".format(et, \n",
    "                                                       y_train[::thin].size,\n",
    "                                                       score))"
   ]
  },
  {
   "cell_type": "code",
   "execution_count": null,
   "metadata": {
    "collapsed": true
   },
   "outputs": [],
   "source": []
  },
  {
   "cell_type": "code",
   "execution_count": null,
   "metadata": {
    "collapsed": true
   },
   "outputs": [],
   "source": []
  },
  {
   "cell_type": "code",
   "execution_count": null,
   "metadata": {
    "collapsed": true
   },
   "outputs": [],
   "source": []
  },
  {
   "cell_type": "code",
   "execution_count": 32,
   "metadata": {
    "ExecuteTime": {
     "end_time": "2017-06-22T08:38:04.803113Z",
     "start_time": "2017-06-22T08:36:45.804653Z"
    }
   },
   "outputs": [
    {
     "data": {
      "image/png": "[encoded data removed]",
      "text/plain": [
       "<matplotlib.figure.Figure at 0x117629780>"
      ]
     },
     "metadata": {},
     "output_type": "display_data"
    }
   ],
   "source": [
    "for clf in [SVC(kernel='linear'), \n",
    "            LinearSVC(), \n",
    "            LinearSVC(dual=False)]:\n",
    "    times = []\n",
    "    sizes = []\n",
    "    for thin in [100, 50, 10, 5, 4]:\n",
    "        st = time.time()\n",
    "        clf.fit(X_train[::thin], y_train[::thin])\n",
    "        times.append(time.time() - st)\n",
    "        sizes.append(y_train[::thin].size)\n",
    "    plt.plot(sizes, times, label=clf.__class__.__name__)\n",
    "\n",
    "plt.legend(loc=\"best\")\n",
    "plt.show()"
   ]
  },
  {
   "cell_type": "code",
   "execution_count": null,
   "metadata": {
    "collapsed": true
   },
   "outputs": [],
   "source": []
  },
  {
   "cell_type": "code",
   "execution_count": null,
   "metadata": {
    "collapsed": true
   },
   "outputs": [],
   "source": []
  },
  {
   "cell_type": "code",
   "execution_count": 33,
   "metadata": {
    "ExecuteTime": {
     "end_time": "2017-06-22T09:00:37.978808Z",
     "start_time": "2017-06-22T08:38:04.804494Z"
    },
    "scrolled": false
   },
   "outputs": [
    {
     "name": "stdout",
     "output_type": "stream",
     "text": [
      "Fitting 3 folds for each of 15 candidates, totalling 45 fits\n",
      "[CV] clf__C=1e-05 ....................................................\n",
      "[CV] clf__C=1e-05 ....................................................\n",
      "[CV] clf__C=1e-05 ....................................................\n",
      "[CV] clf__C=0.0001 ...................................................\n",
      "[CV] clf__C=0.0001 ...................................................\n",
      "[CV] clf__C=0.0001 ...................................................\n",
      "[CV] clf__C=0.001 ....................................................\n",
      "[CV] clf__C=0.001 ....................................................\n",
      "[CV] ..................................... clf__C=1e-05, total=  16.8s\n",
      "[CV] clf__C=0.001 ....................................................\n",
      "[CV] ..................................... clf__C=1e-05, total=  18.1s\n",
      "[CV] clf__C=0.01 .....................................................\n",
      "[CV] ..................................... clf__C=1e-05, total=  18.9s\n",
      "[CV] clf__C=0.01 .....................................................\n",
      "[CV] .................................... clf__C=0.0001, total=  20.8s\n",
      "[CV] .................................... clf__C=0.0001, total=  21.4s\n",
      "[CV] clf__C=0.01 .....................................................\n",
      "[CV] .................................... clf__C=0.0001, total=  20.8s\n",
      "[CV] clf__C=0.1 ......................................................\n",
      "[CV] clf__C=0.1 ......................................................\n",
      "[CV] ..................................... clf__C=0.001, total=  24.4s\n",
      "[CV] clf__C=0.1 ......................................................\n",
      "[CV] ..................................... clf__C=0.001, total=  24.3s\n",
      "[CV] clf__C=1.0 ......................................................\n",
      "[CV] ..................................... clf__C=0.001, total=  23.6s\n",
      "[CV] clf__C=1.0 ......................................................\n",
      "[CV] ...................................... clf__C=0.01, total=  30.1s\n",
      "[CV] clf__C=1.0 ......................................................\n",
      "[CV] ...................................... clf__C=0.01, total=  30.2s\n",
      "[CV] clf__C=10.0 .....................................................\n",
      "[CV] ...................................... clf__C=0.01, total=  30.3s\n",
      "[CV] clf__C=10.0 .....................................................\n",
      "[CV] ....................................... clf__C=0.1, total=  42.1s\n",
      "[CV] clf__C=10.0 .....................................................\n",
      "[CV] ....................................... clf__C=0.1, total=  41.7s\n",
      "[CV] clf__C=100.0 ....................................................\n",
      "[CV] ....................................... clf__C=0.1, total=  44.2s\n",
      "[CV] clf__C=100.0 ....................................................\n",
      "[CV] ....................................... clf__C=1.0, total= 1.5min\n",
      "[CV] clf__C=100.0 ....................................................\n",
      "[CV] ....................................... clf__C=1.0, total= 1.5min\n",
      "[CV] clf__C=1000.0 ...................................................\n",
      "[CV] ....................................... clf__C=1.0, total= 1.7min\n",
      "[CV] clf__C=1000.0 ...................................................\n",
      "[CV] ...................................... clf__C=10.0, total= 3.6min\n",
      "[CV] clf__C=1000.0 ...................................................\n",
      "[CV] ...................................... clf__C=10.0, total= 3.6min\n",
      "[CV] clf__C=10000.0 ..................................................\n",
      "[CV] ...................................... clf__C=10.0, total= 3.5min\n",
      "[CV] clf__C=10000.0 ..................................................\n",
      "[CV] ..................................... clf__C=100.0, total= 5.8min\n",
      "[CV] clf__C=10000.0 ..................................................\n",
      "[CV] ..................................... clf__C=100.0, total= 7.4min\n",
      "[CV] clf__C=100000.0 .................................................\n",
      "[CV] .................................... clf__C=1000.0, total= 7.1min\n",
      "[CV] clf__C=100000.0 .................................................\n",
      "[CV] ..................................... clf__C=100.0, total= 7.4min\n",
      "[CV] clf__C=100000.0 .................................................\n"
     ]
    },
    {
     "name": "stderr",
     "output_type": "stream",
     "text": [
      "[Parallel(n_jobs=-1)]: Done  25 tasks      | elapsed:  9.5min\n"
     ]
    },
    {
     "name": "stdout",
     "output_type": "stream",
     "text": [
      "[CV] .................................... clf__C=1000.0, total= 9.8min\n",
      "[CV] clf__C=1000000.0 ................................................\n",
      "[CV] ................................... clf__C=10000.0, total= 8.0min\n",
      "[CV] clf__C=1000000.0 ................................................\n",
      "[CV] .................................... clf__C=1000.0, total= 8.8min\n",
      "[CV] clf__C=1000000.0 ................................................\n",
      "[CV] ................................... clf__C=10000.0, total= 9.1min\n",
      "[CV] clf__C=10000000.0 ...............................................\n",
      "[CV] ................................... clf__C=10000.0, total= 7.7min\n",
      "[CV] clf__C=10000000.0 ...............................................\n",
      "[CV] .................................. clf__C=100000.0, total= 6.4min\n",
      "[CV] clf__C=10000000.0 ...............................................\n",
      "[CV] .................................. clf__C=100000.0, total= 6.2min\n",
      "[CV] clf__C=100000000.0 ..............................................\n",
      "[CV] .................................. clf__C=100000.0, total= 7.5min\n",
      "[CV] clf__C=100000000.0 ..............................................\n",
      "[CV] ................................. clf__C=1000000.0, total= 5.5min\n",
      "[CV] clf__C=100000000.0 ..............................................\n",
      "[CV] ................................. clf__C=1000000.0, total= 5.3min\n",
      "[CV] clf__C=1000000000.0 .............................................\n",
      "[CV] ................................. clf__C=1000000.0, total= 5.1min\n",
      "[CV] clf__C=1000000000.0 .............................................\n",
      "[CV] ................................ clf__C=10000000.0, total= 4.8min\n",
      "[CV] clf__C=1000000000.0 .............................................\n",
      "[CV] ................................ clf__C=10000000.0, total= 4.9min\n",
      "[CV] ................................ clf__C=10000000.0, total= 5.6min\n",
      "[CV] ............................... clf__C=100000000.0, total= 4.8min\n",
      "[CV] ............................... clf__C=100000000.0, total= 4.6min\n",
      "[CV] .............................. clf__C=1000000000.0, total= 3.9min\n",
      "[CV] ............................... clf__C=100000000.0, total= 4.2min\n",
      "[CV] .............................. clf__C=1000000000.0, total= 3.6min\n",
      "[CV] .............................. clf__C=1000000000.0, total= 3.8min\n"
     ]
    },
    {
     "name": "stderr",
     "output_type": "stream",
     "text": [
      "[Parallel(n_jobs=-1)]: Done  45 out of  45 | elapsed: 22.3min finished\n"
     ]
    },
    {
     "data": {
      "text/plain": [
       "GridSearchCV(cv=None, error_score='raise',\n",
       "       estimator=Pipeline(steps=[('scaler', MinMaxScaler(copy=True, feature_range=(0, 1))), ('clf', LinearSVC(C=1.0, class_weight=None, dual=False, fit_intercept=True,\n",
       "     intercept_scaling=1, loss='squared_hinge', max_iter=1000,\n",
       "     multi_class='ovr', penalty='l2', random_state=None, tol=0.0001,\n",
       "     verbose=0))]),\n",
       "       fit_params={}, iid=True, n_jobs=-1,\n",
       "       param_grid={'clf__C': array([  1.00000e-05,   1.00000e-04,   1.00000e-03,   1.00000e-02,\n",
       "         1.00000e-01,   1.00000e+00,   1.00000e+01,   1.00000e+02,\n",
       "         1.00000e+03,   1.00000e+04,   1.00000e+05,   1.00000e+06,\n",
       "         1.00000e+07,   1.00000e+08,   1.00000e+09])},\n",
       "       pre_dispatch='2*n_jobs', refit=True, return_train_score=True,\n",
       "       scoring=None, verbose=2)"
      ]
     },
     "execution_count": 33,
     "metadata": {},
     "output_type": "execute_result"
    }
   ],
   "source": [
    "estimators = [('scaler', MinMaxScaler()), \n",
    "              ('clf', LinearSVC(dual=False))]\n",
    "\n",
    "pipe = Pipeline(estimators)\n",
    "\n",
    "param = {'clf__C': 10**np.arange(-5.0,10.0)}\n",
    "\n",
    "gs = GridSearchCV(pipe, param, n_jobs=-1, verbose=2)\n",
    "gs.fit(X_train, y_train) # about 30min..."
   ]
  },
  {
   "cell_type": "code",
   "execution_count": null,
   "metadata": {
    "ExecuteTime": {
     "start_time": "2017-06-22T08:35:01.334Z"
    },
    "scrolled": false
   },
   "outputs": [
    {
     "name": "stdout",
     "output_type": "stream",
     "text": [
      "Fitting 3 folds for each of 15 candidates, totalling 45 fits\n",
      "[CV] clf__C=1e-05 ....................................................\n",
      "[CV] clf__C=1e-05 ....................................................\n",
      "[CV] clf__C=1e-05 ....................................................\n",
      "[CV] clf__C=0.0001 ...................................................\n",
      "[CV] clf__C=0.0001 ...................................................\n",
      "[CV] clf__C=0.0001 ...................................................\n",
      "[CV] clf__C=0.001 ....................................................\n",
      "[CV] clf__C=0.001 ....................................................\n",
      "[CV] ..................................... clf__C=1e-05, total=   6.5s\n",
      "[CV] clf__C=0.001 ....................................................\n",
      "[CV] ..................................... clf__C=1e-05, total=   7.3s\n",
      "[CV] clf__C=0.01 .....................................................\n",
      "[CV] .................................... clf__C=0.0001, total=   7.0s\n",
      "[CV] clf__C=0.01 .....................................................\n",
      "[CV] .................................... clf__C=0.0001, total=   7.4s\n",
      "[CV] ..................................... clf__C=1e-05, total=   8.2s\n",
      "[CV] clf__C=0.01 .....................................................\n",
      "[CV] ..................................... clf__C=0.001, total=   7.1s\n",
      "[CV] clf__C=0.1 ......................................................\n",
      "[CV] .................................... clf__C=0.0001, total=   7.9s\n",
      "[CV] ..................................... clf__C=0.001, total=   7.2s\n",
      "[CV] clf__C=0.1 ......................................................\n",
      "[CV] clf__C=0.1 ......................................................\n",
      "[CV] clf__C=1.0 ......................................................\n",
      "[CV] ..................................... clf__C=0.001, total=   7.6s\n",
      "[CV] clf__C=1.0 ......................................................\n",
      "[CV] ...................................... clf__C=0.01, total=  11.7s\n",
      "[CV] clf__C=1.0 ......................................................\n",
      "[CV] ...................................... clf__C=0.01, total=  11.8s\n",
      "[CV] clf__C=10.0 .....................................................\n",
      "[CV] ...................................... clf__C=0.01, total=  11.5s\n",
      "[CV] clf__C=10.0 .....................................................\n",
      "[CV] ....................................... clf__C=0.1, total=  45.8s\n",
      "[CV] ....................................... clf__C=0.1, total=  45.2s\n",
      "[CV] clf__C=10.0 .....................................................\n",
      "[CV] clf__C=100.0 ....................................................\n",
      "[CV] ....................................... clf__C=0.1, total=  47.6s\n",
      "[CV] clf__C=100.0 ....................................................\n",
      "[CV] ....................................... clf__C=1.0, total= 2.0min\n",
      "[CV] clf__C=100.0 ....................................................\n",
      "[CV] ....................................... clf__C=1.0, total= 1.9min\n",
      "[CV] clf__C=1000.0 ...................................................\n",
      "[CV] ....................................... clf__C=1.0, total= 2.0min\n",
      "[CV] clf__C=1000.0 ...................................................\n",
      "[CV] ...................................... clf__C=10.0, total= 3.0min\n",
      "[CV] clf__C=1000.0 ...................................................\n",
      "[CV] ...................................... clf__C=10.0, total= 3.0min\n",
      "[CV] clf__C=10000.0 ..................................................\n",
      "[CV] ...................................... clf__C=10.0, total= 3.1min\n",
      "[CV] clf__C=10000.0 ..................................................\n",
      "[CV] ..................................... clf__C=100.0, total= 3.2min\n",
      "[CV] clf__C=10000.0 ..................................................\n",
      "[CV] ..................................... clf__C=100.0, total= 3.3min\n",
      "[CV] clf__C=100000.0 .................................................\n",
      "[CV] ..................................... clf__C=100.0, total= 3.2min\n",
      "[CV] clf__C=100000.0 .................................................\n",
      "[CV] .................................... clf__C=1000.0, total= 3.3min\n",
      "[CV] clf__C=100000.0 .................................................\n"
     ]
    },
    {
     "name": "stderr",
     "output_type": "stream",
     "text": [
      "[Parallel(n_jobs=-1)]: Done  25 tasks      | elapsed:  5.5min\n"
     ]
    },
    {
     "name": "stdout",
     "output_type": "stream",
     "text": [
      "[CV] .................................... clf__C=1000.0, total= 3.2min\n",
      "[CV] clf__C=1000000.0 ................................................\n",
      "[CV] ................................... clf__C=10000.0, total= 3.2min\n",
      "[CV] .................................... clf__C=1000.0, total= 3.2min\n",
      "[CV] clf__C=1000000.0 ................................................\n",
      "[CV] clf__C=1000000.0 ................................................\n",
      "[CV] ................................... clf__C=10000.0, total= 3.1min\n",
      "[CV] clf__C=10000000.0 ...............................................\n",
      "[CV] ................................... clf__C=10000.0, total= 3.2min\n",
      "[CV] clf__C=10000000.0 ...............................................\n",
      "[CV] .................................. clf__C=100000.0, total= 3.2min\n",
      "[CV] clf__C=10000000.0 ...............................................\n",
      "[CV] .................................. clf__C=100000.0, total= 3.1min\n",
      "[CV] clf__C=100000000.0 ..............................................\n",
      "[CV] ................................. clf__C=1000000.0, total= 3.2min\n",
      "[CV] clf__C=100000000.0 ..............................................\n",
      "[CV] .................................. clf__C=100000.0, total= 3.2min\n",
      "[CV] clf__C=100000000.0 ..............................................\n",
      "[CV] ................................. clf__C=1000000.0, total= 3.1min\n",
      "[CV] clf__C=1000000000.0 .............................................\n",
      "[CV] ................................. clf__C=1000000.0, total= 3.2min\n",
      "[CV] clf__C=1000000000.0 .............................................\n",
      "[CV] ................................ clf__C=10000000.0, total= 3.2min\n",
      "[CV] clf__C=1000000000.0 .............................................\n",
      "[CV] ................................ clf__C=10000000.0, total= 3.1min\n",
      "[CV] ................................ clf__C=10000000.0, total= 3.2min\n",
      "[CV] ............................... clf__C=100000000.0, total= 2.9min\n",
      "[CV] ............................... clf__C=100000000.0, total= 2.8min\n",
      "[CV] ............................... clf__C=100000000.0, total= 2.9min\n",
      "[CV] .............................. clf__C=1000000000.0, total= 2.3min\n",
      "[CV] .............................. clf__C=1000000000.0, total= 2.2min\n",
      "[CV] .............................. clf__C=1000000000.0, total= 1.9min\n"
     ]
    },
    {
     "name": "stderr",
     "output_type": "stream",
     "text": [
      "[Parallel(n_jobs=-1)]: Done  45 out of  45 | elapsed: 12.3min finished\n"
     ]
    },
    {
     "data": {
      "text/plain": [
       "GridSearchCV(cv=None, error_score='raise',\n",
       "       estimator=Pipeline(steps=[('scaler', MinMaxScaler(copy=True, feature_range=(0, 1))), ('clf', LinearSVC(C=1.0, class_weight=None, dual=True, fit_intercept=True,\n",
       "     intercept_scaling=1, loss='squared_hinge', max_iter=1000,\n",
       "     multi_class='ovr', penalty='l2', random_state=None, tol=0.0001,\n",
       "     verbose=0))]),\n",
       "       fit_params={}, iid=True, n_jobs=-1,\n",
       "       param_grid={'clf__C': array([  1.00000e-05,   1.00000e-04,   1.00000e-03,   1.00000e-02,\n",
       "         1.00000e-01,   1.00000e+00,   1.00000e+01,   1.00000e+02,\n",
       "         1.00000e+03,   1.00000e+04,   1.00000e+05,   1.00000e+06,\n",
       "         1.00000e+07,   1.00000e+08,   1.00000e+09])},\n",
       "       pre_dispatch='2*n_jobs', refit=True, return_train_score=True,\n",
       "       scoring=None, verbose=2)"
      ]
     },
     "execution_count": 34,
     "metadata": {},
     "output_type": "execute_result"
    }
   ],
   "source": [
    "estimators = [('scaler', MinMaxScaler()), \n",
    "              ('clf', LinearSVC(dual=True))]\n",
    "\n",
    "pipe = Pipeline(estimators)\n",
    "\n",
    "param = {'clf__C': 10**np.arange(-5.0,10.0)}\n",
    "\n",
    "gs = GridSearchCV(pipe, param, n_jobs=-1, verbose=2)\n",
    "gs.fit(X_train, y_train) # 1 hour ?"
   ]
  },
  {
   "cell_type": "code",
   "execution_count": null,
   "metadata": {
    "ExecuteTime": {
     "start_time": "2017-06-22T08:35:01.337Z"
    }
   },
   "outputs": [
    {
     "name": "stdout",
     "output_type": "stream",
     "text": [
      "Fitting 3 folds for each of 15 candidates, totalling 45 fits\n",
      "[CV] clf__C=1e-05 ....................................................\n",
      "[CV] clf__C=1e-05 ....................................................\n",
      "[CV] clf__C=1e-05 ....................................................\n",
      "[CV] clf__C=0.0001 ...................................................\n",
      "[CV] clf__C=0.0001 ...................................................\n",
      "[CV] clf__C=0.0001 ...................................................\n",
      "[CV] clf__C=0.001 ....................................................\n",
      "[CV] clf__C=0.001 ....................................................\n",
      "[CV] ..................................... clf__C=0.001, total=27.8min\n",
      "[CV] clf__C=0.001 ....................................................\n",
      "[CV] ..................................... clf__C=0.001, total=28.0min\n",
      "[CV] clf__C=0.01 .....................................................\n",
      "[CV] ...................................... clf__C=0.01, total=14.6min\n",
      "[CV] clf__C=0.01 .....................................................\n",
      "[CV] ..................................... clf__C=0.001, total=28.1min\n",
      "[CV] clf__C=0.01 .....................................................\n",
      "[CV] .................................... clf__C=0.0001, total=63.8min\n",
      "[CV] clf__C=0.1 ......................................................\n",
      "[CV] .................................... clf__C=0.0001, total=64.0min\n",
      "[CV] clf__C=0.1 ......................................................\n",
      "[CV] .................................... clf__C=0.0001, total=64.4min\n",
      "[CV] clf__C=0.1 ......................................................\n",
      "[CV] ...................................... clf__C=0.01, total=14.4min\n",
      "[CV] clf__C=1.0 ......................................................\n",
      "[CV] ....................................... clf__C=0.1, total=10.6min\n",
      "[CV] clf__C=1.0 ......................................................\n",
      "[CV] ....................................... clf__C=0.1, total=10.8min\n",
      "[CV] clf__C=1.0 ......................................................\n",
      "[CV] ....................................... clf__C=0.1, total=10.8min\n",
      "[CV] clf__C=10.0 .....................................................\n",
      "[CV] ....................................... clf__C=1.0, total=11.3min\n",
      "[CV] clf__C=10.0 .....................................................\n",
      "[CV] ...................................... clf__C=0.01, total=14.7min\n",
      "[CV] clf__C=10.0 .....................................................\n",
      "[CV] ....................................... clf__C=1.0, total=10.7min\n",
      "[CV] clf__C=100.0 ....................................................\n",
      "[CV] ....................................... clf__C=1.0, total=10.9min\n",
      "[CV] clf__C=100.0 ....................................................\n",
      "[CV] ...................................... clf__C=10.0, total=12.5min\n",
      "[CV] clf__C=100.0 ....................................................\n",
      "[CV] ...................................... clf__C=10.0, total=12.3min\n",
      "[CV] clf__C=1000.0 ...................................................\n",
      "[CV] ...................................... clf__C=10.0, total=12.3min\n",
      "[CV] clf__C=1000.0 ...................................................\n",
      "[CV] .................................... clf__C=1e-05, total=123.9min\n",
      "[CV] clf__C=1000.0 ...................................................\n",
      "[CV] .................................... clf__C=1e-05, total=123.9min\n",
      "[CV] clf__C=10000.0 ..................................................\n",
      "[CV] .................................... clf__C=1e-05, total=124.0min\n",
      "[CV] clf__C=10000.0 ..................................................\n",
      "[CV] ..................................... clf__C=100.0, total=15.4min\n",
      "[CV] clf__C=10000.0 ..................................................\n",
      "[CV] ..................................... clf__C=100.0, total=18.9min\n",
      "[CV] clf__C=100000.0 .................................................\n",
      "[CV] ..................................... clf__C=100.0, total=18.6min\n",
      "[CV] clf__C=100000.0 .................................................\n",
      "[CV] .................................... clf__C=1000.0, total=60.7min\n",
      "[CV] clf__C=100000.0 .................................................\n"
     ]
    },
    {
     "name": "stderr",
     "output_type": "stream",
     "text": [
      "[Parallel(n_jobs=-1)]: Done  25 tasks      | elapsed: 234.0min\n"
     ]
    },
    {
     "name": "stdout",
     "output_type": "stream",
     "text": [
      "[CV] ................................... clf__C=1000.0, total=104.9min\n",
      "[CV] clf__C=1000000.0 ................................................\n",
      "[CV] ................................... clf__C=1000.0, total=104.1min\n",
      "[CV] clf__C=1000000.0 ................................................\n",
      "[CV] .................................. clf__C=10000.0, total=583.9min\n",
      "[CV] clf__C=1000000.0 ................................................\n",
      "[CV] ................................. clf__C=10000.0, total=1257.4min\n",
      "[CV] clf__C=10000000.0 ...............................................\n",
      "[CV] ................................. clf__C=10000.0, total=1411.0min\n",
      "[CV] clf__C=10000000.0 ...............................................\n",
      "[CV] ................................ clf__C=100000.0, total=5317.3min\n",
      "[CV] clf__C=10000000.0 ...............................................\n"
     ]
    }
   ],
   "source": [
    "estimators = [('scaler', MinMaxScaler()), \n",
    "              ('clf', SVC(kernel='linear'))]\n",
    "\n",
    "pipe = Pipeline(estimators)\n",
    "\n",
    "param = {'clf__C': 10**np.arange(-5.0,10.0)}\n",
    "\n",
    "gs = GridSearchCV(pipe, param, n_jobs=-1, verbose=2)\n",
    "gs.fit(X_train, y_train) # 2 hours ?"
   ]
  },
  {
   "cell_type": "code",
   "execution_count": null,
   "metadata": {
    "collapsed": true
   },
   "outputs": [],
   "source": []
  }
 ],
 "metadata": {
  "anaconda-cloud": {},
  "kernelspec": {
   "display_name": "Python 3",
   "language": "python",
   "name": "python3"
  },
  "language_info": {
   "codemirror_mode": {
    "name": "ipython",
    "version": 3
   },
   "file_extension": ".py",
   "mimetype": "text/x-python",
   "name": "python",
   "nbconvert_exporter": "python",
   "pygments_lexer": "ipython3",
   "version": "3.6.1"
  },
  "toc": {
   "colors": {
    "hover_highlight": "#DAA520",
    "running_highlight": "#FF0000",
    "selected_highlight": "#FFD700"
   },
   "moveMenuLeft": true,
   "nav_menu": {
    "height": "12px",
    "width": "252px"
   },
   "navigate_menu": true,
   "number_sections": true,
   "sideBar": true,
   "threshold": 4,
   "toc_cell": false,
   "toc_section_display": "block",
   "toc_window_display": false,
   "widenNotebook": false
  }
 },
 "nbformat": 4,
 "nbformat_minor": 1
}
