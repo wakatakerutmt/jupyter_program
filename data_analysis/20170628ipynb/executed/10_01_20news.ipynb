{
 "cells": [
  {
   "cell_type": "code",
   "execution_count": 1,
   "metadata": {
    "ExecuteTime": {
     "end_time": "2017-06-22T08:41:49.336153Z",
     "start_time": "2017-06-22T08:41:47.784910Z"
    },
    "collapsed": true
   },
   "outputs": [],
   "source": [
    "import numpy as np\n",
    "from sklearn.datasets import fetch_20newsgroups"
   ]
  },
  {
   "cell_type": "code",
   "execution_count": 2,
   "metadata": {
    "ExecuteTime": {
     "end_time": "2017-06-22T08:42:31.109770Z",
     "start_time": "2017-06-22T08:41:49.337807Z"
    }
   },
   "outputs": [
    {
     "name": "stderr",
     "output_type": "stream",
     "text": [
      "Downloading dataset from http://people.csail.mit.edu/jrennie/20Newsgroups/20news-bydate.tar.gz (14 MB)\n"
     ]
    }
   ],
   "source": [
    "newsgroups_train = fetch_20newsgroups(subset='train')\n",
    "newsgroups_test  = fetch_20newsgroups(subset='test')"
   ]
  },
  {
   "cell_type": "code",
   "execution_count": 3,
   "metadata": {
    "ExecuteTime": {
     "end_time": "2017-06-22T08:42:31.124091Z",
     "start_time": "2017-06-22T08:42:31.111371Z"
    }
   },
   "outputs": [
    {
     "data": {
      "text/plain": [
       "['alt.atheism',\n",
       " 'comp.graphics',\n",
       " 'comp.os.ms-windows.misc',\n",
       " 'comp.sys.ibm.pc.hardware',\n",
       " 'comp.sys.mac.hardware',\n",
       " 'comp.windows.x',\n",
       " 'misc.forsale',\n",
       " 'rec.autos',\n",
       " 'rec.motorcycles',\n",
       " 'rec.sport.baseball',\n",
       " 'rec.sport.hockey',\n",
       " 'sci.crypt',\n",
       " 'sci.electronics',\n",
       " 'sci.med',\n",
       " 'sci.space',\n",
       " 'soc.religion.christian',\n",
       " 'talk.politics.guns',\n",
       " 'talk.politics.mideast',\n",
       " 'talk.politics.misc',\n",
       " 'talk.religion.misc']"
      ]
     },
     "execution_count": 3,
     "metadata": {},
     "output_type": "execute_result"
    }
   ],
   "source": [
    "newsgroups_train.target_names"
   ]
  },
  {
   "cell_type": "code",
   "execution_count": 4,
   "metadata": {
    "ExecuteTime": {
     "end_time": "2017-06-22T08:42:31.130242Z",
     "start_time": "2017-06-22T08:42:31.125717Z"
    }
   },
   "outputs": [
    {
     "data": {
      "text/plain": [
       "(11314, 7532)"
      ]
     },
     "execution_count": 4,
     "metadata": {},
     "output_type": "execute_result"
    }
   ],
   "source": [
    "newsgroups_train.target.size, newsgroups_test.target.size"
   ]
  },
  {
   "cell_type": "code",
   "execution_count": 5,
   "metadata": {
    "ExecuteTime": {
     "end_time": "2017-06-22T08:42:31.135207Z",
     "start_time": "2017-06-22T08:42:31.131860Z"
    }
   },
   "outputs": [
    {
     "name": "stdout",
     "output_type": "stream",
     "text": [
      "From: jgreen@amber (Joe Green)\n",
      "Subject: Re: Weitek P9000 ?\n",
      "Organization: Harris Computer Systems Division\n",
      "Lines: 14\n",
      "Distribution: world\n",
      "NNTP-Posting-Host: amber.ssd.csd.harris.com\n",
      "X-Newsreader: TIN [version 1.1 PL9]\n",
      "\n",
      "Robert J.C. Kyanko (rob@rjck.UUCP) wrote:\n",
      "> abraxis@iastate.edu writes in article <abraxis.734340159@class1.iastate.edu>:\n",
      "> > Anyone know about the Weitek P9000 graphics chip?\n",
      "> As far as the low-level stuff goes, it looks pretty nice.  It's got this\n",
      "> quadrilateral fill command that requires just the four points.\n",
      "\n",
      "Do you have Weitek's address/phone number?  I'd like to get some information\n",
      "about this chip.\n",
      "\n",
      "--\n",
      "Joe Green\t\t\t\tHarris Corporation\n",
      "jgreen@csd.harris.com\t\t\tComputer Systems Division\n",
      "\"The only thing that really scares me is a person with no sense of humor.\"\n",
      "\t\t\t\t\t\t-- Jonathan Winters\n",
      "\n"
     ]
    }
   ],
   "source": [
    "print(newsgroups_train.data[3])"
   ]
  },
  {
   "cell_type": "code",
   "execution_count": 6,
   "metadata": {
    "ExecuteTime": {
     "end_time": "2017-06-22T08:42:31.140039Z",
     "start_time": "2017-06-22T08:42:31.136785Z"
    },
    "collapsed": true
   },
   "outputs": [],
   "source": [
    "from sklearn.feature_extraction.text import TfidfVectorizer\n",
    "vectorizer = TfidfVectorizer()"
   ]
  },
  {
   "cell_type": "code",
   "execution_count": 7,
   "metadata": {
    "ExecuteTime": {
     "end_time": "2017-06-22T08:42:40.922967Z",
     "start_time": "2017-06-22T08:42:31.141782Z"
    },
    "collapsed": true
   },
   "outputs": [],
   "source": [
    "X_train = vectorizer.fit_transform(newsgroups_train.data)\n",
    "X_test  = vectorizer.transform(newsgroups_test.data)"
   ]
  },
  {
   "cell_type": "code",
   "execution_count": 8,
   "metadata": {
    "ExecuteTime": {
     "end_time": "2017-06-22T08:42:40.929105Z",
     "start_time": "2017-06-22T08:42:40.924680Z"
    }
   },
   "outputs": [],
   "source": [
    "y_train = newsgroups_train.target\n",
    "y_test  = newsgroups_test.target"
   ]
  },
  {
   "cell_type": "code",
   "execution_count": 9,
   "metadata": {
    "ExecuteTime": {
     "end_time": "2017-06-22T08:42:40.936205Z",
     "start_time": "2017-06-22T08:42:40.931257Z"
    }
   },
   "outputs": [
    {
     "data": {
      "text/plain": [
       "((11314, 130107), (11314,))"
      ]
     },
     "execution_count": 9,
     "metadata": {},
     "output_type": "execute_result"
    }
   ],
   "source": [
    "X_train.shape, y_train.shape"
   ]
  },
  {
   "cell_type": "code",
   "execution_count": 10,
   "metadata": {
    "ExecuteTime": {
     "end_time": "2017-06-22T08:42:40.943193Z",
     "start_time": "2017-06-22T08:42:40.937884Z"
    },
    "scrolled": true
   },
   "outputs": [
    {
     "data": {
      "text/plain": [
       "((7532, 130107), (7532,))"
      ]
     },
     "execution_count": 10,
     "metadata": {},
     "output_type": "execute_result"
    }
   ],
   "source": [
    "X_test.shape, y_test.shape"
   ]
  },
  {
   "cell_type": "code",
   "execution_count": 11,
   "metadata": {
    "ExecuteTime": {
     "end_time": "2017-06-22T08:42:41.088041Z",
     "start_time": "2017-06-22T08:42:40.945182Z"
    },
    "collapsed": true
   },
   "outputs": [],
   "source": [
    "from sklearn.linear_model import LogisticRegression\n",
    "clf = LogisticRegression()"
   ]
  },
  {
   "cell_type": "code",
   "execution_count": 12,
   "metadata": {
    "ExecuteTime": {
     "end_time": "2017-06-22T08:43:11.721406Z",
     "start_time": "2017-06-22T08:42:41.089703Z"
    }
   },
   "outputs": [
    {
     "data": {
      "text/plain": [
       "LogisticRegression(C=1.0, class_weight=None, dual=False, fit_intercept=True,\n",
       "          intercept_scaling=1, max_iter=100, multi_class='ovr', n_jobs=1,\n",
       "          penalty='l2', random_state=None, solver='liblinear', tol=0.0001,\n",
       "          verbose=0, warm_start=False)"
      ]
     },
     "execution_count": 12,
     "metadata": {},
     "output_type": "execute_result"
    }
   ],
   "source": [
    "clf.fit(X_train, y_train)"
   ]
  },
  {
   "cell_type": "code",
   "execution_count": 13,
   "metadata": {
    "ExecuteTime": {
     "end_time": "2017-06-22T08:43:11.792742Z",
     "start_time": "2017-06-22T08:43:11.722948Z"
    }
   },
   "outputs": [
    {
     "data": {
      "text/plain": [
       "0.82793414763674988"
      ]
     },
     "execution_count": 13,
     "metadata": {},
     "output_type": "execute_result"
    }
   ],
   "source": [
    "clf.score(X_test, y_test)"
   ]
  },
  {
   "cell_type": "code",
   "execution_count": null,
   "metadata": {
    "collapsed": true
   },
   "outputs": [],
   "source": []
  },
  {
   "cell_type": "code",
   "execution_count": 14,
   "metadata": {
    "ExecuteTime": {
     "end_time": "2017-06-22T08:43:11.862288Z",
     "start_time": "2017-06-22T08:43:11.794299Z"
    }
   },
   "outputs": [
    {
     "data": {
      "text/plain": [
       "<1x130107 sparse matrix of type '<class 'numpy.float64'>'\n",
       "\twith 89 stored elements in Compressed Sparse Row format>"
      ]
     },
     "execution_count": 14,
     "metadata": {},
     "output_type": "execute_result"
    }
   ],
   "source": [
    "X_train[0]"
   ]
  },
  {
   "cell_type": "code",
   "execution_count": 15,
   "metadata": {
    "ExecuteTime": {
     "end_time": "2017-06-22T08:43:11.869960Z",
     "start_time": "2017-06-22T08:43:11.863816Z"
    }
   },
   "outputs": [
    {
     "data": {
      "text/plain": [
       "array([[ 0.,  0.,  0., ...,  0.,  0.,  0.]])"
      ]
     },
     "execution_count": 15,
     "metadata": {},
     "output_type": "execute_result"
    }
   ],
   "source": [
    "X_train_0 = X_train[0].toarray()\n",
    "X_train_0"
   ]
  },
  {
   "cell_type": "code",
   "execution_count": 16,
   "metadata": {
    "ExecuteTime": {
     "end_time": "2017-06-22T08:43:11.877110Z",
     "start_time": "2017-06-22T08:43:11.871608Z"
    }
   },
   "outputs": [
    {
     "data": {
      "text/plain": [
       "(89, 130107)"
      ]
     },
     "execution_count": 16,
     "metadata": {},
     "output_type": "execute_result"
    }
   ],
   "source": [
    "np.count_nonzero(X_train_0), X_train_0.shape[1]"
   ]
  },
  {
   "cell_type": "code",
   "execution_count": 17,
   "metadata": {
    "ExecuteTime": {
     "end_time": "2017-06-22T08:43:11.887409Z",
     "start_time": "2017-06-22T08:43:11.878877Z"
    }
   },
   "outputs": [
    {
     "data": {
      "text/plain": [
       "array([ 0.06332604,  0.14155753,  0.13874908,  0.0953487 ,  0.03709893,\n",
       "        0.10278592,  0.02991186,  0.0871642 ,  0.16713176,  0.09353931,\n",
       "        0.13280753,  0.03770449,  0.0690878 ,  0.0343176 ,  0.38133891,\n",
       "        0.07801368,  0.04951999,  0.06621689,  0.10015015,  0.11603643,\n",
       "        0.0845253 ,  0.05461429,  0.09714744,  0.13412921,  0.05747015,\n",
       "        0.08646963,  0.1558717 ,  0.02921528,  0.08342748,  0.03542092,\n",
       "        0.06363421,  0.09785516,  0.02245166,  0.07313444,  0.07325812,\n",
       "        0.05097865,  0.04280825,  0.09219024,  0.35383501,  0.01921946,\n",
       "        0.09036441,  0.0690878 ,  0.06339409,  0.05989857,  0.10936401,\n",
       "        0.03955173,  0.08844382,  0.03696979,  0.07000411,  0.13157119,\n",
       "        0.03567186,  0.06521174,  0.05715821,  0.03188937,  0.01992886,\n",
       "        0.0454964 ,  0.04114286,  0.09913274,  0.05545703,  0.03447138,\n",
       "        0.10826904,  0.16068606,  0.05666562,  0.08171219,  0.0846283 ,\n",
       "        0.09869735,  0.07526016,  0.10844725,  0.10809248,  0.01915672,\n",
       "        0.17691751,  0.05511105,  0.12287763,  0.03671831,  0.06214071,\n",
       "        0.14447276,  0.04247263,  0.21186807,  0.03708598,  0.25970902,\n",
       "        0.14534719,  0.04943756,  0.03685429,  0.08207027,  0.10798795,\n",
       "        0.0888257 ,  0.0606221 ,  0.05922294,  0.04278499])"
      ]
     },
     "execution_count": 17,
     "metadata": {},
     "output_type": "execute_result"
    }
   ],
   "source": [
    "X_train_0[np.nonzero(X_train_0)]"
   ]
  },
  {
   "cell_type": "code",
   "execution_count": 18,
   "metadata": {
    "ExecuteTime": {
     "end_time": "2017-06-22T08:43:12.488949Z",
     "start_time": "2017-06-22T08:43:11.888933Z"
    }
   },
   "outputs": [
    {
     "data": {
      "text/plain": [
       "[<matplotlib.lines.Line2D at 0x110ee9198>]"
      ]
     },
     "execution_count": 18,
     "metadata": {},
     "output_type": "execute_result"
    },
    {
     "data": {
      "image/png": "[encoded data removed]",
      "text/plain": [
       "<matplotlib.figure.Figure at 0x10f5e6908>"
      ]
     },
     "metadata": {},
     "output_type": "display_data"
    }
   ],
   "source": [
    "import numpy as np\n",
    "import matplotlib.pyplot as plt\n",
    "%matplotlib inline\n",
    "\n",
    "plt.plot(np.sort(X_train_0[np.nonzero(X_train_0)]))"
   ]
  },
  {
   "cell_type": "code",
   "execution_count": null,
   "metadata": {
    "collapsed": true
   },
   "outputs": [],
   "source": []
  },
  {
   "cell_type": "code",
   "execution_count": null,
   "metadata": {
    "collapsed": true
   },
   "outputs": [],
   "source": []
  },
  {
   "cell_type": "code",
   "execution_count": 19,
   "metadata": {
    "ExecuteTime": {
     "end_time": "2017-06-22T08:43:12.498783Z",
     "start_time": "2017-06-22T08:43:12.490670Z"
    },
    "collapsed": true
   },
   "outputs": [],
   "source": [
    "from sklearn.pipeline import Pipeline\n",
    "from sklearn.preprocessing import Binarizer\n",
    "\n",
    "pipe = Pipeline([('bin', Binarizer()), \n",
    "                 ('clf', LogisticRegression())])"
   ]
  },
  {
   "cell_type": "code",
   "execution_count": 20,
   "metadata": {
    "ExecuteTime": {
     "end_time": "2017-06-22T08:44:55.468983Z",
     "start_time": "2017-06-22T08:43:12.500342Z"
    }
   },
   "outputs": [
    {
     "name": "stdout",
     "output_type": "stream",
     "text": [
      "Fitting 3 folds for each of 7 candidates, totalling 21 fits\n",
      "[CV] bin__threshold=0.001 ............................................\n",
      "[CV] bin__threshold=0.001 ............................................\n",
      "[CV] bin__threshold=0.001 ............................................\n",
      "[CV] bin__threshold=0.01 .............................................\n",
      "[CV] bin__threshold=0.01 .............................................\n",
      "[CV] bin__threshold=0.01 .............................................\n",
      "[CV] bin__threshold=0.05 .............................................\n",
      "[CV] bin__threshold=0.05 .............................................\n",
      "[CV] .............................. bin__threshold=0.05, total=  30.1s\n",
      "[CV] bin__threshold=0.05 .............................................\n",
      "[CV] .............................. bin__threshold=0.05, total=  30.3s\n",
      "[CV] bin__threshold=0.1 ..............................................\n",
      "[CV] .............................. bin__threshold=0.01, total=  52.6s\n",
      "[CV] bin__threshold=0.1 ..............................................\n",
      "[CV] ............................... bin__threshold=0.1, total=  22.2s\n",
      "[CV] bin__threshold=0.1 ..............................................\n",
      "[CV] .............................. bin__threshold=0.01, total=  53.1s\n",
      "[CV] bin__threshold=0.2 ..............................................\n",
      "[CV] .............................. bin__threshold=0.01, total=  54.2s\n",
      "[CV] bin__threshold=0.2 ..............................................\n",
      "[CV] ............................. bin__threshold=0.001, total=  59.5s\n",
      "[CV] bin__threshold=0.2 ..............................................\n",
      "[CV] .............................. bin__threshold=0.05, total=  30.6s\n",
      "[CV] bin__threshold=0.3 ..............................................\n",
      "[CV] ............................. bin__threshold=0.001, total= 1.0min\n",
      "[CV] bin__threshold=0.3 ..............................................\n",
      "[CV] ............................. bin__threshold=0.001, total= 1.1min\n",
      "[CV] bin__threshold=0.3 ..............................................\n",
      "[CV] ............................... bin__threshold=0.2, total=  13.9s\n",
      "[CV] bin__threshold=0.4 ..............................................\n",
      "[CV] ............................... bin__threshold=0.2, total=  14.3s\n",
      "[CV] bin__threshold=0.4 ..............................................\n",
      "[CV] ............................... bin__threshold=0.3, total=  10.2s\n",
      "[CV] bin__threshold=0.4 ..............................................\n",
      "[CV] ............................... bin__threshold=0.3, total=  10.0s\n",
      "[CV] ............................... bin__threshold=0.1, total=  18.9s\n",
      "[CV] ............................... bin__threshold=0.2, total=  12.4s\n",
      "[CV] ............................... bin__threshold=0.1, total=  19.3s\n"
     ]
    },
    {
     "name": "stderr",
     "output_type": "stream",
     "text": [
      "[Parallel(n_jobs=-1)]: Done  17 out of  21 | elapsed:  1.2min remaining:   17.1s\n"
     ]
    },
    {
     "name": "stdout",
     "output_type": "stream",
     "text": [
      "[CV] ............................... bin__threshold=0.3, total=   8.9s\n",
      "[CV] ............................... bin__threshold=0.4, total=   6.3s\n",
      "[CV] ............................... bin__threshold=0.4, total=   5.1s\n",
      "[CV] ............................... bin__threshold=0.4, total=   3.3s\n"
     ]
    },
    {
     "name": "stderr",
     "output_type": "stream",
     "text": [
      "[Parallel(n_jobs=-1)]: Done  21 out of  21 | elapsed:  1.3min finished\n"
     ]
    },
    {
     "data": {
      "text/plain": [
       "GridSearchCV(cv=None, error_score='raise',\n",
       "       estimator=Pipeline(steps=[('bin', Binarizer(copy=True, threshold=0.0)), ('clf', LogisticRegression(C=1.0, class_weight=None, dual=False, fit_intercept=True,\n",
       "          intercept_scaling=1, max_iter=100, multi_class='ovr', n_jobs=1,\n",
       "          penalty='l2', random_state=None, solver='liblinear', tol=0.0001,\n",
       "          verbose=0, warm_start=False))]),\n",
       "       fit_params={}, iid=True, n_jobs=-1,\n",
       "       param_grid={'bin__threshold': [0.001, 0.01, 0.05, 0.1, 0.2, 0.3, 0.4]},\n",
       "       pre_dispatch='2*n_jobs', refit=True, return_train_score=True,\n",
       "       scoring=None, verbose=2)"
      ]
     },
     "execution_count": 20,
     "metadata": {},
     "output_type": "execute_result"
    }
   ],
   "source": [
    "from sklearn.model_selection import GridSearchCV\n",
    "\n",
    "param = {'bin__threshold': [0.001, 0.01, 0.05, 0.1, 0.2, 0.3, 0.4]}\n",
    "\n",
    "gs1 = GridSearchCV(pipe, param, n_jobs=-1, verbose=2)\n",
    "gs1.fit(X_train, y_train)"
   ]
  },
  {
   "cell_type": "code",
   "execution_count": 21,
   "metadata": {
    "ExecuteTime": {
     "end_time": "2017-06-22T08:44:55.477572Z",
     "start_time": "2017-06-22T08:44:55.471103Z"
    },
    "scrolled": true
   },
   "outputs": [
    {
     "data": {
      "text/plain": [
       "({'bin__threshold': 0.05},\n",
       " 0.89137351953332156,\n",
       " Pipeline(steps=[('bin', Binarizer(copy=True, threshold=0.05)), ('clf', LogisticRegression(C=1.0, class_weight=None, dual=False, fit_intercept=True,\n",
       "           intercept_scaling=1, max_iter=100, multi_class='ovr', n_jobs=1,\n",
       "           penalty='l2', random_state=None, solver='liblinear', tol=0.0001,\n",
       "           verbose=0, warm_start=False))]))"
      ]
     },
     "execution_count": 21,
     "metadata": {},
     "output_type": "execute_result"
    }
   ],
   "source": [
    "gs1.best_params_, gs1.best_score_, gs1.best_estimator_"
   ]
  },
  {
   "cell_type": "code",
   "execution_count": 22,
   "metadata": {
    "ExecuteTime": {
     "end_time": "2017-06-22T08:44:55.547907Z",
     "start_time": "2017-06-22T08:44:55.479200Z"
    }
   },
   "outputs": [
    {
     "data": {
      "text/plain": [
       "0.82222517259691985"
      ]
     },
     "execution_count": 22,
     "metadata": {},
     "output_type": "execute_result"
    }
   ],
   "source": [
    "gs1.score(X_test, y_test)"
   ]
  },
  {
   "cell_type": "code",
   "execution_count": 23,
   "metadata": {
    "ExecuteTime": {
     "end_time": "2017-06-22T08:44:55.788867Z",
     "start_time": "2017-06-22T08:44:55.549515Z"
    }
   },
   "outputs": [
    {
     "data": {
      "image/png": "[encoded data removed]",
      "text/plain": [
       "<matplotlib.figure.Figure at 0x110ea17b8>"
      ]
     },
     "metadata": {},
     "output_type": "display_data"
    }
   ],
   "source": [
    "plt.errorbar(gs1.cv_results_['param_bin__threshold'].data, \n",
    "             gs1.cv_results_['mean_train_score'], \n",
    "             yerr=gs1.cv_results_['std_train_score'],\n",
    "             label=\"training\")\n",
    "\n",
    "plt.errorbar(gs1.cv_results_['param_bin__threshold'].data,\n",
    "             gs1.cv_results_['mean_test_score'], \n",
    "             yerr=gs1.cv_results_['std_test_score'],\n",
    "             label=\"test(val)\")\n",
    "\n",
    "plt.ylim(0, 1.01)\n",
    "plt.xlabel(\"threshold\")\n",
    "plt.ylabel(\"accuracy\")\n",
    "plt.legend(loc=\"best\");"
   ]
  },
  {
   "cell_type": "code",
   "execution_count": null,
   "metadata": {
    "collapsed": true
   },
   "outputs": [],
   "source": []
  },
  {
   "cell_type": "code",
   "execution_count": 24,
   "metadata": {
    "ExecuteTime": {
     "end_time": "2017-06-22T08:49:32.286313Z",
     "start_time": "2017-06-22T08:44:55.790506Z"
    }
   },
   "outputs": [
    {
     "name": "stdout",
     "output_type": "stream",
     "text": [
      "Fitting 3 folds for each of 10 candidates, totalling 30 fits\n",
      "[CV] clf__C=10000000.0, bin__threshold=0.05 ..........................\n",
      "[CV] clf__C=10000000.0, bin__threshold=0.05 ..........................\n",
      "[CV] clf__C=10000000.0, bin__threshold=0.05 ..........................\n",
      "[CV] clf__C=10.0, bin__threshold=0.01 ................................\n",
      "[CV] clf__C=10.0, bin__threshold=0.01 ................................\n",
      "[CV] clf__C=10.0, bin__threshold=0.01 ................................\n",
      "[CV] clf__C=10000000.0, bin__threshold=0.01 ..........................\n",
      "[CV] clf__C=10000000.0, bin__threshold=0.01 ..........................\n",
      "[CV] ........... clf__C=10000000.0, bin__threshold=0.05, total=  41.3s\n",
      "[CV] ........... clf__C=10000000.0, bin__threshold=0.05, total=  41.2s\n",
      "[CV] clf__C=10000000.0, bin__threshold=0.01 ..........................\n",
      "[CV] clf__C=1000000000.0, bin__threshold=0.05 ........................\n",
      "[CV] ........... clf__C=10000000.0, bin__threshold=0.05, total=  42.9s\n",
      "[CV] clf__C=1000000000.0, bin__threshold=0.05 ........................\n",
      "[CV] ................. clf__C=10.0, bin__threshold=0.01, total= 1.0min\n",
      "[CV] clf__C=1000000000.0, bin__threshold=0.05 ........................\n",
      "[CV] ................. clf__C=10.0, bin__threshold=0.01, total= 1.1min\n",
      "[CV] clf__C=1000000.0, bin__threshold=0.001 ..........................\n",
      "[CV] ................. clf__C=10.0, bin__threshold=0.01, total= 1.1min\n",
      "[CV] clf__C=1000000.0, bin__threshold=0.001 ..........................\n",
      "[CV] ........... clf__C=10000000.0, bin__threshold=0.01, total= 1.2min\n",
      "[CV] clf__C=1000000.0, bin__threshold=0.001 ..........................\n",
      "[CV] ........... clf__C=10000000.0, bin__threshold=0.01, total= 1.2min\n",
      "[CV] clf__C=10.0, bin__threshold=0.05 ................................\n",
      "[CV] ......... clf__C=1000000000.0, bin__threshold=0.05, total=  42.9s\n",
      "[CV] clf__C=10.0, bin__threshold=0.05 ................................\n",
      "[CV] ......... clf__C=1000000000.0, bin__threshold=0.05, total=  44.2s\n",
      "[CV] clf__C=10.0, bin__threshold=0.05 ................................\n",
      "[CV] ......... clf__C=1000000000.0, bin__threshold=0.05, total=  42.3s\n",
      "[CV] clf__C=100000000.0, bin__threshold=0.001 ........................\n",
      "[CV] ................. clf__C=10.0, bin__threshold=0.05, total=  35.6s\n",
      "[CV] clf__C=100000000.0, bin__threshold=0.001 ........................\n",
      "[CV] ........... clf__C=10000000.0, bin__threshold=0.01, total= 1.2min\n",
      "[CV] clf__C=100000000.0, bin__threshold=0.001 ........................\n",
      "[CV] ................. clf__C=10.0, bin__threshold=0.05, total=  34.9s\n",
      "[CV] clf__C=100.0, bin__threshold=0.001 ..............................\n",
      "[CV] ................. clf__C=10.0, bin__threshold=0.05, total=  36.4s\n",
      "[CV] clf__C=100.0, bin__threshold=0.001 ..............................\n",
      "[CV] ........... clf__C=1000000.0, bin__threshold=0.001, total= 1.3min\n",
      "[CV] clf__C=100.0, bin__threshold=0.001 ..............................\n",
      "[CV] ........... clf__C=1000000.0, bin__threshold=0.001, total= 1.3min\n",
      "[CV] clf__C=100000000.0, bin__threshold=0.05 .........................\n",
      "[CV] ........... clf__C=1000000.0, bin__threshold=0.001, total= 1.4min\n",
      "[CV] clf__C=100000000.0, bin__threshold=0.05 .........................\n",
      "[CV] ......... clf__C=100000000.0, bin__threshold=0.001, total= 1.3min\n",
      "[CV] clf__C=100000000.0, bin__threshold=0.05 .........................\n",
      "[CV] ......... clf__C=100000000.0, bin__threshold=0.001, total= 1.3min\n",
      "[CV] clf__C=10000.0, bin__threshold=0.01 .............................\n",
      "[CV] .......... clf__C=100000000.0, bin__threshold=0.05, total=  44.1s\n",
      "[CV] clf__C=10000.0, bin__threshold=0.01 .............................\n",
      "[CV] ............... clf__C=100.0, bin__threshold=0.001, total= 1.3min\n",
      "[CV] clf__C=10000.0, bin__threshold=0.01 .............................\n",
      "[CV] ......... clf__C=100000000.0, bin__threshold=0.001, total= 1.4min\n",
      "[CV] .......... clf__C=100000000.0, bin__threshold=0.05, total=  44.7s\n",
      "[CV] ............... clf__C=100.0, bin__threshold=0.001, total= 1.2min\n",
      "[CV] ............... clf__C=100.0, bin__threshold=0.001, total= 1.2min\n",
      "[CV] .......... clf__C=100000000.0, bin__threshold=0.05, total=  36.4s\n",
      "[CV] .............. clf__C=10000.0, bin__threshold=0.01, total=  53.0s\n",
      "[CV] .............. clf__C=10000.0, bin__threshold=0.01, total=  49.3s\n",
      "[CV] .............. clf__C=10000.0, bin__threshold=0.01, total=  47.6s\n"
     ]
    },
    {
     "name": "stderr",
     "output_type": "stream",
     "text": [
      "[Parallel(n_jobs=-1)]: Done  30 out of  30 | elapsed:  4.1min finished\n"
     ]
    },
    {
     "data": {
      "text/plain": [
       "RandomizedSearchCV(cv=None, error_score='raise',\n",
       "          estimator=Pipeline(steps=[('bin', Binarizer(copy=True, threshold=0.0)), ('clf', LogisticRegression(C=1.0, class_weight=None, dual=False, fit_intercept=True,\n",
       "          intercept_scaling=1, max_iter=100, multi_class='ovr', n_jobs=1,\n",
       "          penalty='l2', random_state=None, solver='liblinear', tol=0.0001,\n",
       "          verbose=0, warm_start=False))]),\n",
       "          fit_params={}, iid=True, n_iter=10, n_jobs=-1,\n",
       "          param_distributions={'bin__threshold': [0.001, 0.01, 0.05], 'clf__C': array([  1.00000e+01,   1.00000e+02,   1.00000e+03,   1.00000e+04,\n",
       "         1.00000e+05,   1.00000e+06,   1.00000e+07,   1.00000e+08,\n",
       "         1.00000e+09])},\n",
       "          pre_dispatch='2*n_jobs', random_state=None, refit=True,\n",
       "          return_train_score=True, scoring=None, verbose=2)"
      ]
     },
     "execution_count": 24,
     "metadata": {},
     "output_type": "execute_result"
    }
   ],
   "source": [
    "pipe = Pipeline([('bin', Binarizer()), \n",
    "                 ('clf', LogisticRegression())])\n",
    "\n",
    "param = {'bin__threshold': [0.001, 0.01, 0.05],\n",
    "         'clf__C': 10**np.arange(1.0, 10.0) }\n",
    "\n",
    "from sklearn.model_selection import RandomizedSearchCV\n",
    "\n",
    "gs11 = RandomizedSearchCV(pipe, param, n_jobs=-1, verbose=2)\n",
    "gs11.fit(X_train, y_train)"
   ]
  },
  {
   "cell_type": "code",
   "execution_count": 25,
   "metadata": {
    "ExecuteTime": {
     "end_time": "2017-06-22T08:49:32.293760Z",
     "start_time": "2017-06-22T08:49:32.288329Z"
    }
   },
   "outputs": [
    {
     "data": {
      "text/plain": [
       "({'bin__threshold': 0.05, 'clf__C': 10.0},\n",
       " 0.89172706381474276,\n",
       " Pipeline(steps=[('bin', Binarizer(copy=True, threshold=0.05)), ('clf', LogisticRegression(C=10.0, class_weight=None, dual=False, fit_intercept=True,\n",
       "           intercept_scaling=1, max_iter=100, multi_class='ovr', n_jobs=1,\n",
       "           penalty='l2', random_state=None, solver='liblinear', tol=0.0001,\n",
       "           verbose=0, warm_start=False))]))"
      ]
     },
     "execution_count": 25,
     "metadata": {},
     "output_type": "execute_result"
    }
   ],
   "source": [
    "gs11.best_params_, gs11.best_score_, gs11.best_estimator_"
   ]
  },
  {
   "cell_type": "code",
   "execution_count": 26,
   "metadata": {
    "ExecuteTime": {
     "end_time": "2017-06-22T08:49:32.364707Z",
     "start_time": "2017-06-22T08:49:32.295245Z"
    }
   },
   "outputs": [
    {
     "data": {
      "text/plain": [
       "0.82116303770578869"
      ]
     },
     "execution_count": 26,
     "metadata": {},
     "output_type": "execute_result"
    }
   ],
   "source": [
    "gs11.score(X_test, y_test)"
   ]
  },
  {
   "cell_type": "code",
   "execution_count": null,
   "metadata": {
    "collapsed": true
   },
   "outputs": [],
   "source": []
  },
  {
   "cell_type": "code",
   "execution_count": null,
   "metadata": {
    "collapsed": true
   },
   "outputs": [],
   "source": []
  },
  {
   "cell_type": "code",
   "execution_count": 27,
   "metadata": {
    "ExecuteTime": {
     "end_time": "2017-06-22T08:51:38.911247Z",
     "start_time": "2017-06-22T08:49:32.366325Z"
    },
    "scrolled": false
   },
   "outputs": [
    {
     "name": "stdout",
     "output_type": "stream",
     "text": [
      "Fitting 3 folds for each of 10 candidates, totalling 30 fits\n",
      "[CV] clf__C=1000.0, bin__threshold=0.05 ..............................\n",
      "[CV] clf__C=1000.0, bin__threshold=0.05 ..............................\n",
      "[CV] clf__C=1000.0, bin__threshold=0.05 ..............................\n",
      "[CV] clf__C=1000.0, bin__threshold=0.01 ..............................\n",
      "[CV] clf__C=1000.0, bin__threshold=0.01 ..............................\n",
      "[CV] clf__C=1000.0, bin__threshold=0.01 ..............................\n",
      "[CV] clf__C=100.0, bin__threshold=0.05 ...............................\n",
      "[CV] clf__C=100.0, bin__threshold=0.05 ...............................\n",
      "[CV] ............... clf__C=1000.0, bin__threshold=0.05, total=  18.5s\n",
      "[CV] clf__C=100.0, bin__threshold=0.05 ...............................\n",
      "[CV] ............... clf__C=1000.0, bin__threshold=0.05, total=  18.7s\n",
      "[CV] clf__C=10000.0, bin__threshold=0.001 ............................\n",
      "[CV] ............... clf__C=1000.0, bin__threshold=0.05, total=  21.5s\n",
      "[CV] clf__C=10000.0, bin__threshold=0.001 ............................\n",
      "[CV] ............... clf__C=1000.0, bin__threshold=0.01, total=  25.2s\n",
      "[CV] clf__C=10000.0, bin__threshold=0.001 ............................\n",
      "[CV] ............... clf__C=1000.0, bin__threshold=0.01, total=  27.2s\n",
      "[CV] clf__C=1000000.0, bin__threshold=0.001 ..........................\n",
      "[CV] ............... clf__C=1000.0, bin__threshold=0.01, total=  30.5s\n",
      "[CV] clf__C=1000000.0, bin__threshold=0.001 ..........................\n",
      "[CV] ................ clf__C=100.0, bin__threshold=0.05, total=  36.4s\n",
      "[CV] clf__C=1000000.0, bin__threshold=0.001 ..........................\n",
      "[CV] ................ clf__C=100.0, bin__threshold=0.05, total=  40.5s\n",
      "[CV] clf__C=10000.0, bin__threshold=0.01 .............................\n",
      "[CV] ............. clf__C=10000.0, bin__threshold=0.001, total=  26.4s\n",
      "[CV] clf__C=10000.0, bin__threshold=0.01 .............................\n",
      "[CV] ............. clf__C=10000.0, bin__threshold=0.001, total=  27.1s\n",
      "[CV] clf__C=10000.0, bin__threshold=0.01 .............................\n",
      "[CV] ........... clf__C=1000000.0, bin__threshold=0.001, total=  27.7s\n",
      "[CV] clf__C=10000000.0, bin__threshold=0.05 ..........................\n",
      "[CV] ............. clf__C=10000.0, bin__threshold=0.001, total=  33.8s\n",
      "[CV] clf__C=10000000.0, bin__threshold=0.05 ..........................\n",
      "[CV] ................ clf__C=100.0, bin__threshold=0.05, total=  37.8s\n",
      "[CV] clf__C=10000000.0, bin__threshold=0.05 ..........................\n",
      "[CV] ........... clf__C=1000000.0, bin__threshold=0.001, total=  34.9s\n",
      "[CV] clf__C=1000000000.0, bin__threshold=0.01 ........................\n",
      "[CV] ........... clf__C=1000000.0, bin__threshold=0.001, total=  29.9s\n",
      "[CV] clf__C=1000000000.0, bin__threshold=0.01 ........................\n",
      "[CV] .............. clf__C=10000.0, bin__threshold=0.01, total=  28.4s\n",
      "[CV] clf__C=1000000000.0, bin__threshold=0.01 ........................\n",
      "[CV] ........... clf__C=10000000.0, bin__threshold=0.05, total=  18.4s\n",
      "[CV] clf__C=100000000.0, bin__threshold=0.05 .........................\n",
      "[CV] ........... clf__C=10000000.0, bin__threshold=0.05, total=  20.4s\n",
      "[CV] clf__C=100000000.0, bin__threshold=0.05 .........................\n",
      "[CV] ........... clf__C=10000000.0, bin__threshold=0.05, total=  21.6s\n",
      "[CV] clf__C=100000000.0, bin__threshold=0.05 .........................\n",
      "[CV] .............. clf__C=10000.0, bin__threshold=0.01, total=  33.3s\n",
      "[CV] clf__C=1000000000.0, bin__threshold=0.001 .......................\n",
      "[CV] .............. clf__C=10000.0, bin__threshold=0.01, total=  28.6s\n",
      "[CV] clf__C=1000000000.0, bin__threshold=0.001 .......................\n",
      "[CV] ......... clf__C=1000000000.0, bin__threshold=0.01, total=  26.8s\n",
      "[CV] clf__C=1000000000.0, bin__threshold=0.001 .......................\n",
      "[CV] .......... clf__C=100000000.0, bin__threshold=0.05, total=  18.2s\n",
      "[CV] .......... clf__C=100000000.0, bin__threshold=0.05, total=  17.4s\n",
      "[CV] ......... clf__C=1000000000.0, bin__threshold=0.01, total=  26.3s\n",
      "[CV] .......... clf__C=100000000.0, bin__threshold=0.05, total=  20.4s\n",
      "[CV] ......... clf__C=1000000000.0, bin__threshold=0.01, total=  32.2s\n",
      "[CV] ........ clf__C=1000000000.0, bin__threshold=0.001, total=  24.1s\n",
      "[CV] ........ clf__C=1000000000.0, bin__threshold=0.001, total=  26.6s\n",
      "[CV] ........ clf__C=1000000000.0, bin__threshold=0.001, total=  18.2s\n"
     ]
    },
    {
     "name": "stderr",
     "output_type": "stream",
     "text": [
      "[Parallel(n_jobs=-1)]: Done  30 out of  30 | elapsed:  1.9min finished\n"
     ]
    },
    {
     "data": {
      "text/plain": [
       "RandomizedSearchCV(cv=None, error_score='raise',\n",
       "          estimator=Pipeline(steps=[('bin', Binarizer(copy=True, threshold=0.0)), ('clf', LinearSVC(C=1.0, class_weight=None, dual=True, fit_intercept=True,\n",
       "     intercept_scaling=1, loss='squared_hinge', max_iter=1000,\n",
       "     multi_class='ovr', penalty='l2', random_state=None, tol=0.0001,\n",
       "     verbose=0))]),\n",
       "          fit_params={}, iid=True, n_iter=10, n_jobs=-1,\n",
       "          param_distributions={'bin__threshold': [0.001, 0.01, 0.05], 'clf__C': array([  1.00000e+01,   1.00000e+02,   1.00000e+03,   1.00000e+04,\n",
       "         1.00000e+05,   1.00000e+06,   1.00000e+07,   1.00000e+08,\n",
       "         1.00000e+09])},\n",
       "          pre_dispatch='2*n_jobs', random_state=None, refit=True,\n",
       "          return_train_score=True, scoring=None, verbose=2)"
      ]
     },
     "execution_count": 27,
     "metadata": {},
     "output_type": "execute_result"
    }
   ],
   "source": [
    "from sklearn.svm import LinearSVC\n",
    "\n",
    "pipe = Pipeline([('bin', Binarizer()), \n",
    "                 ('clf', LinearSVC())])\n",
    "\n",
    "param = {'bin__threshold': [0.001, 0.01, 0.05],\n",
    "         'clf__C': 10**np.arange(1.0, 10.0) }\n",
    "\n",
    "from sklearn.model_selection import RandomizedSearchCV\n",
    "\n",
    "gs2 = RandomizedSearchCV(pipe, param, n_jobs=-1, verbose=2)\n",
    "gs2.fit(X_train, y_train)"
   ]
  },
  {
   "cell_type": "code",
   "execution_count": 28,
   "metadata": {
    "ExecuteTime": {
     "end_time": "2017-06-22T08:51:38.920431Z",
     "start_time": "2017-06-22T08:51:38.914498Z"
    }
   },
   "outputs": [
    {
     "data": {
      "text/plain": [
       "({'bin__threshold': 0.05, 'clf__C': 1000.0},\n",
       " 0.88138589358317132,\n",
       " Pipeline(steps=[('bin', Binarizer(copy=True, threshold=0.05)), ('clf', LinearSVC(C=1000.0, class_weight=None, dual=True, fit_intercept=True,\n",
       "      intercept_scaling=1, loss='squared_hinge', max_iter=1000,\n",
       "      multi_class='ovr', penalty='l2', random_state=None, tol=0.0001,\n",
       "      verbose=0))]))"
      ]
     },
     "execution_count": 28,
     "metadata": {},
     "output_type": "execute_result"
    }
   ],
   "source": [
    "gs2.best_params_, gs2.best_score_, gs2.best_estimator_"
   ]
  },
  {
   "cell_type": "code",
   "execution_count": 29,
   "metadata": {
    "ExecuteTime": {
     "end_time": "2017-06-22T08:51:39.012375Z",
     "start_time": "2017-06-22T08:51:38.922013Z"
    }
   },
   "outputs": [
    {
     "data": {
      "text/plain": [
       "0.79779607010090281"
      ]
     },
     "execution_count": 29,
     "metadata": {},
     "output_type": "execute_result"
    }
   ],
   "source": [
    "gs2.score(X_test, y_test)"
   ]
  },
  {
   "cell_type": "code",
   "execution_count": null,
   "metadata": {
    "collapsed": true
   },
   "outputs": [],
   "source": []
  },
  {
   "cell_type": "code",
   "execution_count": null,
   "metadata": {
    "collapsed": true
   },
   "outputs": [],
   "source": []
  },
  {
   "cell_type": "code",
   "execution_count": 30,
   "metadata": {
    "ExecuteTime": {
     "end_time": "2017-06-22T08:51:48.387969Z",
     "start_time": "2017-06-22T08:51:39.014023Z"
    }
   },
   "outputs": [
    {
     "name": "stdout",
     "output_type": "stream",
     "text": [
      "Fitting 3 folds for each of 10 candidates, totalling 30 fits\n",
      "[CV] clf__alpha=0.0001, bin__threshold=0.01 ..........................\n",
      "[CV] clf__alpha=0.0001, bin__threshold=0.01 ..........................\n",
      "[CV] clf__alpha=0.0001, bin__threshold=0.01 ..........................\n",
      "[CV] clf__alpha=1e-10, bin__threshold=0.001 ..........................\n",
      "[CV] clf__alpha=1e-10, bin__threshold=0.001 ..........................\n",
      "[CV] clf__alpha=1e-10, bin__threshold=0.001 ..........................\n",
      "[CV] clf__alpha=0.0001, bin__threshold=0.05 ..........................\n",
      "[CV] clf__alpha=0.0001, bin__threshold=0.05 ..........................\n",
      "[CV] ........... clf__alpha=0.0001, bin__threshold=0.05, total=   1.3s\n",
      "[CV] ........... clf__alpha=0.0001, bin__threshold=0.05, total=   1.3s\n",
      "[CV] clf__alpha=0.0001, bin__threshold=0.05 ..........................\n",
      "[CV] ........... clf__alpha=0.0001, bin__threshold=0.01, total=   1.6s\n",
      "[CV] clf__alpha=1e-07, bin__threshold=0.01 ...........................\n",
      "[CV] ........... clf__alpha=0.0001, bin__threshold=0.01, total=   1.6s\n",
      "[CV] clf__alpha=1e-07, bin__threshold=0.01 ...........................\n",
      "[CV] clf__alpha=1e-07, bin__threshold=0.01 ...........................\n",
      "[CV] ........... clf__alpha=0.0001, bin__threshold=0.01, total=   1.6s\n",
      "[CV] clf__alpha=1e-06, bin__threshold=0.001 ..........................\n",
      "[CV] ........... clf__alpha=1e-10, bin__threshold=0.001, total=   1.8s\n",
      "[CV] clf__alpha=1e-06, bin__threshold=0.001 ..........................\n",
      "[CV] ........... clf__alpha=1e-10, bin__threshold=0.001, total=   1.8s\n",
      "[CV] clf__alpha=1e-06, bin__threshold=0.001 ..........................\n",
      "[CV] ........... clf__alpha=1e-10, bin__threshold=0.001, total=   1.9s\n",
      "[CV] clf__alpha=0.01, bin__threshold=0.05 ............................\n",
      "[CV] ........... clf__alpha=0.0001, bin__threshold=0.05, total=   1.1s\n",
      "[CV] clf__alpha=0.01, bin__threshold=0.05 ............................\n",
      "[CV] ............ clf__alpha=1e-07, bin__threshold=0.01, total=   1.6s\n",
      "[CV] clf__alpha=0.01, bin__threshold=0.05 ............................\n",
      "[CV] ............ clf__alpha=1e-07, bin__threshold=0.01, total=   1.6s\n",
      "[CV] clf__alpha=0.01, bin__threshold=0.01 ............................\n",
      "[CV] ............ clf__alpha=1e-07, bin__threshold=0.01, total=   1.7s\n",
      "[CV] clf__alpha=0.01, bin__threshold=0.01 ............................\n",
      "[CV] ............. clf__alpha=0.01, bin__threshold=0.05, total=   1.4s\n",
      "[CV] clf__alpha=0.01, bin__threshold=0.01 ............................\n",
      "[CV] ........... clf__alpha=1e-06, bin__threshold=0.001, total=   1.9s\n",
      "[CV] clf__alpha=0.0001, bin__threshold=0.001 .........................\n",
      "[CV] ........... clf__alpha=1e-06, bin__threshold=0.001, total=   1.9s\n",
      "[CV] clf__alpha=0.0001, bin__threshold=0.001 .........................\n",
      "[CV] ........... clf__alpha=1e-06, bin__threshold=0.001, total=   2.0s\n",
      "[CV] clf__alpha=0.0001, bin__threshold=0.001 .........................\n",
      "[CV] ............. clf__alpha=0.01, bin__threshold=0.05, total=   1.3s\n",
      "[CV] clf__alpha=0.01, bin__threshold=0.001 ...........................\n",
      "[CV] ............. clf__alpha=0.01, bin__threshold=0.05, total=   1.2s\n",
      "[CV] clf__alpha=0.01, bin__threshold=0.001 ...........................\n",
      "[CV] ............. clf__alpha=0.01, bin__threshold=0.01, total=   1.6s\n",
      "[CV] ............. clf__alpha=0.01, bin__threshold=0.01, total=   1.7s\n",
      "[CV] clf__alpha=0.01, bin__threshold=0.001 ...........................\n",
      "[CV] clf__alpha=0.001, bin__threshold=0.05 ...........................\n",
      "[CV] ............. clf__alpha=0.01, bin__threshold=0.01, total=   1.6s\n",
      "[CV] clf__alpha=0.001, bin__threshold=0.05 ...........................\n",
      "[CV] .......... clf__alpha=0.0001, bin__threshold=0.001, total=   1.8s\n",
      "[CV] clf__alpha=0.001, bin__threshold=0.05 ...........................\n",
      "[CV] .......... clf__alpha=0.0001, bin__threshold=0.001, total=   1.9s\n",
      "[CV] .......... clf__alpha=0.0001, bin__threshold=0.001, total=   1.9s\n",
      "[CV] ............ clf__alpha=0.001, bin__threshold=0.05, total=   1.0s\n",
      "[CV] ............ clf__alpha=0.01, bin__threshold=0.001, total=   2.0s\n",
      "[CV] ............ clf__alpha=0.001, bin__threshold=0.05, total=   1.2s\n",
      "[CV] ............ clf__alpha=0.01, bin__threshold=0.001, total=   2.0s\n",
      "[CV] ............ clf__alpha=0.001, bin__threshold=0.05, total=   1.0s\n",
      "[CV] ............ clf__alpha=0.01, bin__threshold=0.001, total=   1.7s\n"
     ]
    },
    {
     "name": "stderr",
     "output_type": "stream",
     "text": [
      "[Parallel(n_jobs=-1)]: Done  30 out of  30 | elapsed:    8.2s finished\n"
     ]
    },
    {
     "data": {
      "text/plain": [
       "RandomizedSearchCV(cv=None, error_score='raise',\n",
       "          estimator=Pipeline(steps=[('bin', Binarizer(copy=True, threshold=0.0)), ('clf', SGDClassifier(alpha=0.0001, average=False, class_weight=None, epsilon=0.1,\n",
       "       eta0=0.0, fit_intercept=True, l1_ratio=0.15,\n",
       "       learning_rate='optimal', loss='hinge', n_iter=5, n_jobs=1,\n",
       "       penalty='l2', power_t=0.5, random_state=None, shuffle=True,\n",
       "       verbose=0, warm_start=False))]),\n",
       "          fit_params={}, iid=True, n_iter=10, n_jobs=-1,\n",
       "          param_distributions={'bin__threshold': [0.001, 0.01, 0.05], 'clf__alpha': array([  1.00000e-10,   1.00000e-09,   1.00000e-08,   1.00000e-07,\n",
       "         1.00000e-06,   1.00000e-05,   1.00000e-04,   1.00000e-03,\n",
       "         1.00000e-02])},\n",
       "          pre_dispatch='2*n_jobs', random_state=None, refit=True,\n",
       "          return_train_score=True, scoring=None, verbose=2)"
      ]
     },
     "execution_count": 30,
     "metadata": {},
     "output_type": "execute_result"
    }
   ],
   "source": [
    "from sklearn.linear_model import SGDClassifier\n",
    "\n",
    "pipe = Pipeline([('bin', Binarizer()), \n",
    "                 ('clf', SGDClassifier(loss=\"hinge\") )])\n",
    "\n",
    "param = {'bin__threshold': [0.001, 0.01, 0.05],\n",
    "         'clf__alpha': 10**np.arange(-10.0, -1.0) }\n",
    "\n",
    "from sklearn.model_selection import RandomizedSearchCV\n",
    "\n",
    "gs22 = RandomizedSearchCV(pipe, param, n_jobs=-1, verbose=2)\n",
    "gs22.fit(X_train, y_train)"
   ]
  },
  {
   "cell_type": "code",
   "execution_count": 31,
   "metadata": {
    "ExecuteTime": {
     "end_time": "2017-06-22T08:51:48.395843Z",
     "start_time": "2017-06-22T08:51:48.390048Z"
    }
   },
   "outputs": [
    {
     "data": {
      "text/plain": [
       "({'bin__threshold': 0.05, 'clf__alpha': 0.01},\n",
       " 0.89075481704083437,\n",
       " Pipeline(steps=[('bin', Binarizer(copy=True, threshold=0.05)), ('clf', SGDClassifier(alpha=0.01, average=False, class_weight=None, epsilon=0.1,\n",
       "        eta0=0.0, fit_intercept=True, l1_ratio=0.15,\n",
       "        learning_rate='optimal', loss='hinge', n_iter=5, n_jobs=1,\n",
       "        penalty='l2', power_t=0.5, random_state=None, shuffle=True,\n",
       "        verbose=0, warm_start=False))]))"
      ]
     },
     "execution_count": 31,
     "metadata": {},
     "output_type": "execute_result"
    }
   ],
   "source": [
    "gs22.best_params_, gs22.best_score_, gs22.best_estimator_"
   ]
  },
  {
   "cell_type": "code",
   "execution_count": 32,
   "metadata": {
    "ExecuteTime": {
     "end_time": "2017-06-22T08:51:48.497415Z",
     "start_time": "2017-06-22T08:51:48.397424Z"
    }
   },
   "outputs": [
    {
     "data": {
      "text/plain": [
       "0.82103027084439728"
      ]
     },
     "execution_count": 32,
     "metadata": {},
     "output_type": "execute_result"
    }
   ],
   "source": [
    "gs22.score(X_test, y_test)"
   ]
  },
  {
   "cell_type": "code",
   "execution_count": null,
   "metadata": {
    "collapsed": true
   },
   "outputs": [],
   "source": []
  },
  {
   "cell_type": "code",
   "execution_count": null,
   "metadata": {
    "collapsed": true
   },
   "outputs": [],
   "source": []
  },
  {
   "cell_type": "code",
   "execution_count": null,
   "metadata": {
    "collapsed": true
   },
   "outputs": [],
   "source": []
  },
  {
   "cell_type": "code",
   "execution_count": 33,
   "metadata": {
    "ExecuteTime": {
     "end_time": "2017-06-22T08:51:48.596395Z",
     "start_time": "2017-06-22T08:51:48.499016Z"
    }
   },
   "outputs": [],
   "source": [
    "from sklearn.metrics import confusion_matrix\n",
    "from sklearn.metrics import classification_report\n",
    "\n",
    "y_pred = gs22.predict(X_test)"
   ]
  },
  {
   "cell_type": "code",
   "execution_count": 34,
   "metadata": {
    "ExecuteTime": {
     "end_time": "2017-06-22T08:51:48.606191Z",
     "start_time": "2017-06-22T08:51:48.597977Z"
    }
   },
   "outputs": [
    {
     "name": "stdout",
     "output_type": "stream",
     "text": [
      "             precision    recall  f1-score   support\n",
      "\n",
      "          0     0.7594    0.7618    0.7606       319\n",
      "          1     0.7165    0.7147    0.7156       389\n",
      "          2     0.7044    0.7741    0.7376       394\n",
      "          3     0.7443    0.6684    0.7043       392\n",
      "          4     0.7764    0.8208    0.7980       385\n",
      "          5     0.8571    0.7443    0.7967       395\n",
      "          6     0.8186    0.9026    0.8585       390\n",
      "          7     0.8515    0.8687    0.8600       396\n",
      "          8     0.9268    0.9221    0.9244       398\n",
      "          9     0.8976    0.9270    0.9120       397\n",
      "         10     0.9125    0.9674    0.9392       399\n",
      "         11     0.8838    0.9217    0.9023       396\n",
      "         12     0.7892    0.7048    0.7446       393\n",
      "         13     0.8901    0.8384    0.8635       396\n",
      "         14     0.8589    0.9112    0.8842       394\n",
      "         15     0.7785    0.9271    0.8463       398\n",
      "         16     0.6945    0.9368    0.7977       364\n",
      "         17     0.9477    0.8670    0.9056       376\n",
      "         18     0.8317    0.5581    0.6680       310\n",
      "         19     0.8247    0.5060    0.6272       251\n",
      "\n",
      "avg / total     0.8242    0.8210    0.8181      7532\n",
      "\n"
     ]
    }
   ],
   "source": [
    "print(classification_report(y_test, y_pred, digits=4))"
   ]
  },
  {
   "cell_type": "code",
   "execution_count": 35,
   "metadata": {
    "ExecuteTime": {
     "end_time": "2017-06-22T08:51:48.632880Z",
     "start_time": "2017-06-22T08:51:48.607732Z"
    }
   },
   "outputs": [
    {
     "data": {
      "text/plain": [
       "array([[243,   2,   0,   0,   1,   1,   1,   1,   0,   1,   0,   1,   1,\n",
       "          6,   8,  31,   2,   3,   0,  17],\n",
       "       [  2, 278,  19,   6,  10,  25,   8,   3,   4,   0,   0,   6,  11,\n",
       "          2,   6,   2,   4,   0,   1,   2],\n",
       "       [  2,  20, 305,  23,  13,   5,   1,   2,   1,   4,   3,   4,   2,\n",
       "          1,   4,   0,   2,   0,   1,   1],\n",
       "       [  1,   7,  38, 262,  27,   6,   8,   8,   1,   1,   1,   4,  24,\n",
       "          0,   3,   0,   1,   0,   0,   0],\n",
       "       [  0,   4,  10,  20, 316,   1,  10,   5,   0,   5,   0,   1,   6,\n",
       "          3,   2,   0,   1,   0,   1,   0],\n",
       "       [  1,  39,  39,   4,   2, 294,   5,   0,   0,   1,   1,   1,   1,\n",
       "          1,   5,   0,   1,   0,   0,   0],\n",
       "       [  0,   1,   3,   8,   5,   0, 352,   4,   1,   4,   2,   1,   5,\n",
       "          3,   1,   0,   0,   0,   0,   0],\n",
       "       [  0,   2,   2,   2,   1,   0,  10, 344,  12,   1,   0,   1,  11,\n",
       "          1,   1,   0,   5,   0,   3,   0],\n",
       "       [  0,   1,   0,   1,   1,   0,   8,  15, 367,   2,   0,   0,   0,\n",
       "          1,   0,   1,   1,   0,   0,   0],\n",
       "       [  0,   1,   0,   0,   2,   0,   4,   1,   2, 368,  16,   0,   1,\n",
       "          0,   0,   0,   0,   1,   1,   0],\n",
       "       [  0,   0,   0,   0,   1,   0,   3,   0,   0,   8, 386,   0,   0,\n",
       "          0,   0,   1,   0,   0,   0,   0],\n",
       "       [  0,   4,   2,   2,   2,   2,   2,   2,   0,   4,   0, 365,   2,\n",
       "          1,   1,   1,   4,   1,   1,   0],\n",
       "       [  1,   9,  12,  19,  15,   1,   6,   7,   4,   3,   1,  16, 277,\n",
       "          4,   8,   6,   1,   1,   1,   1],\n",
       "       [  5,   8,   1,   2,   4,   4,   6,   6,   1,   1,   4,   1,   4,\n",
       "        332,   3,   5,   1,   3,   4,   1],\n",
       "       [  2,   5,   0,   1,   3,   0,   3,   1,   0,   1,   0,   1,   4,\n",
       "          5, 359,   4,   2,   0,   3,   0],\n",
       "       [ 11,   2,   0,   1,   1,   1,   0,   0,   0,   0,   1,   0,   1,\n",
       "          4,   3, 369,   0,   1,   0,   3],\n",
       "       [  0,   0,   0,   1,   0,   0,   3,   1,   1,   2,   1,   4,   0,\n",
       "          0,   1,   1, 341,   2,   6,   0],\n",
       "       [ 15,   0,   0,   0,   0,   2,   0,   1,   0,   4,   4,   4,   1,\n",
       "          0,   1,   6,   5, 326,   7,   0],\n",
       "       [  3,   1,   1,   0,   2,   0,   0,   0,   2,   0,   1,   3,   0,\n",
       "          4,   8,   1, 105,   4, 173,   2],\n",
       "       [ 34,   4,   1,   0,   1,   1,   0,   3,   0,   0,   2,   0,   0,\n",
       "          5,   4,  46,  15,   2,   6, 127]])"
      ]
     },
     "execution_count": 35,
     "metadata": {},
     "output_type": "execute_result"
    }
   ],
   "source": [
    "conf_mat = confusion_matrix(y_test, y_pred)\n",
    "conf_mat"
   ]
  },
  {
   "cell_type": "code",
   "execution_count": 36,
   "metadata": {
    "ExecuteTime": {
     "end_time": "2017-06-22T08:51:49.049999Z",
     "start_time": "2017-06-22T08:51:48.634659Z"
    }
   },
   "outputs": [
    {
     "data": {
      "image/png": "[encoded data removed]",
      "text/plain": [
       "<matplotlib.figure.Figure at 0x11b2f4860>"
      ]
     },
     "metadata": {},
     "output_type": "display_data"
    }
   ],
   "source": [
    "import matplotlib.pyplot as plt\n",
    "%matplotlib inline\n",
    "plt.gray()\n",
    "\n",
    "plt.imshow(1- conf_mat / conf_mat.sum(axis=1),\n",
    "           interpolation='nearest')\n",
    "\n",
    "plt.yticks(range(20), newsgroups_train.target_names);\n",
    "plt.xticks(range(20), newsgroups_train.target_names, rotation=90);"
   ]
  },
  {
   "cell_type": "code",
   "execution_count": null,
   "metadata": {
    "collapsed": true
   },
   "outputs": [],
   "source": []
  },
  {
   "cell_type": "code",
   "execution_count": null,
   "metadata": {
    "collapsed": true
   },
   "outputs": [],
   "source": []
  }
 ],
 "metadata": {
  "anaconda-cloud": {},
  "kernelspec": {
   "display_name": "Python 3",
   "language": "python",
   "name": "python3"
  },
  "language_info": {
   "codemirror_mode": {
    "name": "ipython",
    "version": 3
   },
   "file_extension": ".py",
   "mimetype": "text/x-python",
   "name": "python",
   "nbconvert_exporter": "python",
   "pygments_lexer": "ipython3",
   "version": "3.6.1"
  },
  "toc": {
   "colors": {
    "hover_highlight": "#DAA520",
    "running_highlight": "#FF0000",
    "selected_highlight": "#FFD700"
   },
   "moveMenuLeft": true,
   "nav_menu": {
    "height": "12px",
    "width": "252px"
   },
   "navigate_menu": true,
   "number_sections": true,
   "sideBar": true,
   "threshold": 4,
   "toc_cell": false,
   "toc_section_display": "block",
   "toc_window_display": false,
   "widenNotebook": false
  }
 },
 "nbformat": 4,
 "nbformat_minor": 1
}
