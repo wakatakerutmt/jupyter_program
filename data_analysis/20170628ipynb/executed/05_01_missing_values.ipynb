{
 "cells": [
  {
   "cell_type": "code",
   "execution_count": 1,
   "metadata": {
    "ExecuteTime": {
     "end_time": "2017-06-22T08:23:14.804289Z",
     "start_time": "2017-06-22T08:23:14.542624Z"
    },
    "collapsed": true
   },
   "outputs": [],
   "source": [
    "# numpyの準備\n",
    "import numpy as np"
   ]
  },
  {
   "cell_type": "code",
   "execution_count": 2,
   "metadata": {
    "ExecuteTime": {
     "end_time": "2017-06-22T08:23:14.808621Z",
     "start_time": "2017-06-22T08:23:14.805204Z"
    },
    "scrolled": false
   },
   "outputs": [
    {
     "name": "stdout",
     "output_type": "stream",
     "text": [
      "1,-7.428476,1.509903\n",
      "0,2.980693,1.960821\n",
      "0,3.988255,4.636389\n",
      "1,-5.789437,-4.621614\n",
      "1,-4.894447,-326.9730\n",
      "1,-1.933949,-0.047276\n",
      "0,-1.611771,5.932201\n",
      "1,-6.670152,-1.036282\n",
      "1,-293.1415,-0.104475\n",
      "0,-0.074762,1.070002\n",
      "1,-2.691793,4.168774\n",
      "0,0.461182,3.453438\n",
      "0,-1.354135,3.751657\n",
      "1,-6.229476,-1.209434\n",
      "0,2.778594,NaN\n",
      "1,-5.719578,-0.243509\n",
      "0,0.928322,3.208520\n",
      "0,0.850475,2.908955\n",
      "1,NaN,-1.831199\n",
      "0,1.116025,3.353602\n",
      "\n"
     ]
    }
   ],
   "source": [
    "# csvファイルの表示\n",
    "\n",
    "#!cat 2D_example_dame.csv\n",
    "\n",
    "with open('2D_example_dame.csv') as f:\n",
    "    print(f.read())"
   ]
  },
  {
   "cell_type": "code",
   "execution_count": 3,
   "metadata": {
    "ExecuteTime": {
     "end_time": "2017-06-22T08:23:14.813616Z",
     "start_time": "2017-06-22T08:23:14.810129Z"
    }
   },
   "outputs": [],
   "source": [
    "# dataにデータをセット\n",
    "data = np.loadtxt(\"2D_example_dame.csv\", delimiter=\",\")"
   ]
  },
  {
   "cell_type": "code",
   "execution_count": 4,
   "metadata": {
    "ExecuteTime": {
     "end_time": "2017-06-22T08:23:14.817735Z",
     "start_time": "2017-06-22T08:23:14.814995Z"
    }
   },
   "outputs": [],
   "source": [
    "y = data[:,0].astype(int) # 1列目がラベル．整数に変換"
   ]
  },
  {
   "cell_type": "code",
   "execution_count": 5,
   "metadata": {
    "ExecuteTime": {
     "end_time": "2017-06-22T08:23:14.830913Z",
     "start_time": "2017-06-22T08:23:14.819496Z"
    }
   },
   "outputs": [
    {
     "data": {
      "text/plain": [
       "array([1, 0, 0, 1, 1, 1, 0, 1, 1, 0, 1, 0, 0, 1, 0, 1, 0, 0, 1, 0])"
      ]
     },
     "execution_count": 5,
     "metadata": {},
     "output_type": "execute_result"
    }
   ],
   "source": [
    "y"
   ]
  },
  {
   "cell_type": "code",
   "execution_count": 6,
   "metadata": {
    "ExecuteTime": {
     "end_time": "2017-06-22T08:23:14.834815Z",
     "start_time": "2017-06-22T08:23:14.832431Z"
    },
    "collapsed": true
   },
   "outputs": [],
   "source": [
    "X = data[:,1:3] # 2,3列目がデータ"
   ]
  },
  {
   "cell_type": "code",
   "execution_count": 7,
   "metadata": {
    "ExecuteTime": {
     "end_time": "2017-06-22T08:23:14.840956Z",
     "start_time": "2017-06-22T08:23:14.836446Z"
    }
   },
   "outputs": [
    {
     "data": {
      "text/plain": [
       "array([[ -7.42847600e+00,   1.50990300e+00],\n",
       "       [  2.98069300e+00,   1.96082100e+00],\n",
       "       [  3.98825500e+00,   4.63638900e+00],\n",
       "       [ -5.78943700e+00,  -4.62161400e+00],\n",
       "       [ -4.89444700e+00,  -3.26973000e+02],\n",
       "       [ -1.93394900e+00,  -4.72760000e-02],\n",
       "       [ -1.61177100e+00,   5.93220100e+00],\n",
       "       [ -6.67015200e+00,  -1.03628200e+00],\n",
       "       [ -2.93141500e+02,  -1.04475000e-01],\n",
       "       [ -7.47620000e-02,   1.07000200e+00],\n",
       "       [ -2.69179300e+00,   4.16877400e+00],\n",
       "       [  4.61182000e-01,   3.45343800e+00],\n",
       "       [ -1.35413500e+00,   3.75165700e+00],\n",
       "       [ -6.22947600e+00,  -1.20943400e+00],\n",
       "       [  2.77859400e+00,              nan],\n",
       "       [ -5.71957800e+00,  -2.43509000e-01],\n",
       "       [  9.28322000e-01,   3.20852000e+00],\n",
       "       [  8.50475000e-01,   2.90895500e+00],\n",
       "       [             nan,  -1.83119900e+00],\n",
       "       [  1.11602500e+00,   3.35360200e+00]])"
      ]
     },
     "execution_count": 7,
     "metadata": {},
     "output_type": "execute_result"
    }
   ],
   "source": [
    "X"
   ]
  },
  {
   "cell_type": "code",
   "execution_count": 8,
   "metadata": {
    "ExecuteTime": {
     "end_time": "2017-06-22T08:23:14.846860Z",
     "start_time": "2017-06-22T08:23:14.842476Z"
    },
    "scrolled": true
   },
   "outputs": [
    {
     "data": {
      "text/plain": [
       "array([ -7.42847600e+00,   2.98069300e+00,   3.98825500e+00,\n",
       "        -5.78943700e+00,  -4.89444700e+00,  -1.93394900e+00,\n",
       "        -1.61177100e+00,  -6.67015200e+00,  -2.93141500e+02,\n",
       "        -7.47620000e-02,  -2.69179300e+00,   4.61182000e-01,\n",
       "        -1.35413500e+00,  -6.22947600e+00,   2.77859400e+00,\n",
       "        -5.71957800e+00,   9.28322000e-01,   8.50475000e-01,\n",
       "                    nan,   1.11602500e+00])"
      ]
     },
     "execution_count": 8,
     "metadata": {},
     "output_type": "execute_result"
    }
   ],
   "source": [
    "X[:, 0] # Xの1列目（csvファイルの2列目）"
   ]
  },
  {
   "cell_type": "code",
   "execution_count": 9,
   "metadata": {
    "ExecuteTime": {
     "end_time": "2017-06-22T08:23:14.852763Z",
     "start_time": "2017-06-22T08:23:14.848267Z"
    }
   },
   "outputs": [
    {
     "data": {
      "text/plain": [
       "array([  1.50990300e+00,   1.96082100e+00,   4.63638900e+00,\n",
       "        -4.62161400e+00,  -3.26973000e+02,  -4.72760000e-02,\n",
       "         5.93220100e+00,  -1.03628200e+00,  -1.04475000e-01,\n",
       "         1.07000200e+00,   4.16877400e+00,   3.45343800e+00,\n",
       "         3.75165700e+00,  -1.20943400e+00,              nan,\n",
       "        -2.43509000e-01,   3.20852000e+00,   2.90895500e+00,\n",
       "        -1.83119900e+00,   3.35360200e+00])"
      ]
     },
     "execution_count": 9,
     "metadata": {},
     "output_type": "execute_result"
    }
   ],
   "source": [
    "X[:, 1] # Xの2列目（csvファイルの3列目）"
   ]
  },
  {
   "cell_type": "code",
   "execution_count": 10,
   "metadata": {
    "ExecuteTime": {
     "end_time": "2017-06-22T08:23:15.079546Z",
     "start_time": "2017-06-22T08:23:14.854414Z"
    }
   },
   "outputs": [
    {
     "data": {
      "text/plain": [
       "<matplotlib.figure.Figure at 0x10c208cc0>"
      ]
     },
     "metadata": {},
     "output_type": "display_data"
    }
   ],
   "source": [
    "# matplotlibの準備\n",
    "import matplotlib.pyplot as plt\n",
    "%matplotlib inline\n",
    "plt.set_cmap(plt.cm.Paired) # 色設定"
   ]
  },
  {
   "cell_type": "code",
   "execution_count": 11,
   "metadata": {
    "ExecuteTime": {
     "end_time": "2017-06-22T08:23:15.204656Z",
     "start_time": "2017-06-22T08:23:15.080720Z"
    },
    "scrolled": true
   },
   "outputs": [
    {
     "data": {
      "image/png": "[encoded data removed]",
      "text/plain": [
       "<matplotlib.figure.Figure at 0x10d0e4f98>"
      ]
     },
     "metadata": {},
     "output_type": "display_data"
    }
   ],
   "source": [
    "plt.scatter(X[:, 0], X[:, 1], c=y, s=50, edgecolors='k'); # 2次元散布図でプロット"
   ]
  },
  {
   "cell_type": "code",
   "execution_count": 12,
   "metadata": {
    "ExecuteTime": {
     "end_time": "2017-06-22T08:23:15.335773Z",
     "start_time": "2017-06-22T08:23:15.205715Z"
    }
   },
   "outputs": [
    {
     "data": {
      "text/plain": [
       "(-10, 10)"
      ]
     },
     "execution_count": 12,
     "metadata": {},
     "output_type": "execute_result"
    },
    {
     "data": {
      "image/png": "[encoded data removed]",
      "text/plain": [
       "<matplotlib.figure.Figure at 0x10d507dd8>"
      ]
     },
     "metadata": {},
     "output_type": "display_data"
    }
   ],
   "source": [
    "plt.scatter(X[:, 0], X[:, 1], c=y, s=50, edgecolors='k'); # 2次元散布図でプロット\n",
    "plt.xlim(-10,10)\n",
    "plt.ylim(-10,10)"
   ]
  },
  {
   "cell_type": "markdown",
   "metadata": {},
   "source": [
    "対策の例：NaNと外れ値を除外する"
   ]
  },
  {
   "cell_type": "code",
   "execution_count": 13,
   "metadata": {
    "ExecuteTime": {
     "end_time": "2017-06-22T08:23:15.340919Z",
     "start_time": "2017-06-22T08:23:15.336794Z"
    },
    "scrolled": true
   },
   "outputs": [
    {
     "data": {
      "text/plain": [
       "array([ True,  True,  True,  True,  True,  True,  True,  True,  True,\n",
       "        True,  True,  True,  True,  True,  True,  True,  True,  True,\n",
       "       False,  True], dtype=bool)"
      ]
     },
     "execution_count": 13,
     "metadata": {},
     "output_type": "execute_result"
    }
   ],
   "source": [
    "~np.isnan(X[:, 0])"
   ]
  },
  {
   "cell_type": "code",
   "execution_count": 14,
   "metadata": {
    "ExecuteTime": {
     "end_time": "2017-06-22T08:23:15.346099Z",
     "start_time": "2017-06-22T08:23:15.342061Z"
    }
   },
   "outputs": [
    {
     "data": {
      "text/plain": [
       "array([ True,  True,  True,  True,  True,  True,  True,  True,  True,\n",
       "        True,  True,  True,  True,  True, False,  True,  True,  True,\n",
       "        True,  True], dtype=bool)"
      ]
     },
     "execution_count": 14,
     "metadata": {},
     "output_type": "execute_result"
    }
   ],
   "source": [
    "~np.isnan(X[:, 1])"
   ]
  },
  {
   "cell_type": "code",
   "execution_count": 15,
   "metadata": {
    "ExecuteTime": {
     "end_time": "2017-06-22T08:23:15.352647Z",
     "start_time": "2017-06-22T08:23:15.347517Z"
    }
   },
   "outputs": [
    {
     "data": {
      "text/plain": [
       "array([ True,  True,  True,  True,  True,  True,  True,  True,  True,\n",
       "        True,  True,  True,  True,  True, False,  True,  True,  True,\n",
       "       False,  True], dtype=bool)"
      ]
     },
     "execution_count": 15,
     "metadata": {},
     "output_type": "execute_result"
    }
   ],
   "source": [
    "~np.isnan(X[:, 1]) & ~np.isnan(X[:, 0])"
   ]
  },
  {
   "cell_type": "code",
   "execution_count": 16,
   "metadata": {
    "ExecuteTime": {
     "end_time": "2017-06-22T08:23:15.356851Z",
     "start_time": "2017-06-22T08:23:15.353708Z"
    }
   },
   "outputs": [],
   "source": [
    "# X1にはNaNがない\n",
    "X1 = X[~np.isnan(X[:, 1]) & ~np.isnan(X[:, 0])] \n",
    "y1 = y[~np.isnan(X[:, 1]) & ~np.isnan(X[:, 0])]"
   ]
  },
  {
   "cell_type": "code",
   "execution_count": 17,
   "metadata": {
    "ExecuteTime": {
     "end_time": "2017-06-22T08:23:15.362259Z",
     "start_time": "2017-06-22T08:23:15.357829Z"
    }
   },
   "outputs": [
    {
     "data": {
      "text/plain": [
       "(array([[ -7.42847600e+00,   1.50990300e+00],\n",
       "        [  2.98069300e+00,   1.96082100e+00],\n",
       "        [  3.98825500e+00,   4.63638900e+00],\n",
       "        [ -5.78943700e+00,  -4.62161400e+00],\n",
       "        [ -4.89444700e+00,  -3.26973000e+02],\n",
       "        [ -1.93394900e+00,  -4.72760000e-02],\n",
       "        [ -1.61177100e+00,   5.93220100e+00],\n",
       "        [ -6.67015200e+00,  -1.03628200e+00],\n",
       "        [ -2.93141500e+02,  -1.04475000e-01],\n",
       "        [ -7.47620000e-02,   1.07000200e+00],\n",
       "        [ -2.69179300e+00,   4.16877400e+00],\n",
       "        [  4.61182000e-01,   3.45343800e+00],\n",
       "        [ -1.35413500e+00,   3.75165700e+00],\n",
       "        [ -6.22947600e+00,  -1.20943400e+00],\n",
       "        [ -5.71957800e+00,  -2.43509000e-01],\n",
       "        [  9.28322000e-01,   3.20852000e+00],\n",
       "        [  8.50475000e-01,   2.90895500e+00],\n",
       "        [  1.11602500e+00,   3.35360200e+00]]), (18, 2))"
      ]
     },
     "execution_count": 17,
     "metadata": {},
     "output_type": "execute_result"
    }
   ],
   "source": [
    "X1, X1.shape"
   ]
  },
  {
   "cell_type": "code",
   "execution_count": 18,
   "metadata": {
    "ExecuteTime": {
     "end_time": "2017-06-22T08:23:15.369141Z",
     "start_time": "2017-06-22T08:23:15.363911Z"
    }
   },
   "outputs": [
    {
     "data": {
      "text/plain": [
       "(array([ True,  True,  True,  True,  True,  True,  True,  True, False,\n",
       "         True,  True,  True,  True,  True,  True,  True,  True,  True], dtype=bool),\n",
       " array([ True,  True,  True,  True, False,  True,  True,  True,  True,\n",
       "         True,  True,  True,  True,  True,  True,  True,  True,  True], dtype=bool))"
      ]
     },
     "execution_count": 18,
     "metadata": {},
     "output_type": "execute_result"
    }
   ],
   "source": [
    "(abs(X1[:, 0]) < 10), (abs(X1[:, 1]) < 10) # 外れ値対策"
   ]
  },
  {
   "cell_type": "code",
   "execution_count": 19,
   "metadata": {
    "ExecuteTime": {
     "end_time": "2017-06-22T08:23:15.373819Z",
     "start_time": "2017-06-22T08:23:15.370279Z"
    }
   },
   "outputs": [],
   "source": [
    "X2 = X1[(abs(X1[:, 0]) < 10) & (abs(X1[:, 1]) < 10)]\n",
    "y2 = y1[(abs(X1[:, 0]) < 10) & (abs(X1[:, 1]) < 10)]"
   ]
  },
  {
   "cell_type": "code",
   "execution_count": 20,
   "metadata": {
    "ExecuteTime": {
     "end_time": "2017-06-22T08:23:15.379444Z",
     "start_time": "2017-06-22T08:23:15.375232Z"
    }
   },
   "outputs": [
    {
     "data": {
      "text/plain": [
       "(array([[-7.428476,  1.509903],\n",
       "        [ 2.980693,  1.960821],\n",
       "        [ 3.988255,  4.636389],\n",
       "        [-5.789437, -4.621614],\n",
       "        [-1.933949, -0.047276],\n",
       "        [-1.611771,  5.932201],\n",
       "        [-6.670152, -1.036282],\n",
       "        [-0.074762,  1.070002],\n",
       "        [-2.691793,  4.168774],\n",
       "        [ 0.461182,  3.453438],\n",
       "        [-1.354135,  3.751657],\n",
       "        [-6.229476, -1.209434],\n",
       "        [-5.719578, -0.243509],\n",
       "        [ 0.928322,  3.20852 ],\n",
       "        [ 0.850475,  2.908955],\n",
       "        [ 1.116025,  3.353602]]), (16, 2))"
      ]
     },
     "execution_count": 20,
     "metadata": {},
     "output_type": "execute_result"
    }
   ],
   "source": [
    "X2, X2.shape"
   ]
  },
  {
   "cell_type": "code",
   "execution_count": 21,
   "metadata": {
    "ExecuteTime": {
     "end_time": "2017-06-22T08:23:15.500916Z",
     "start_time": "2017-06-22T08:23:15.380845Z"
    }
   },
   "outputs": [
    {
     "data": {
      "image/png": "[encoded data removed]",
      "text/plain": [
       "<matplotlib.figure.Figure at 0x10d507668>"
      ]
     },
     "metadata": {},
     "output_type": "display_data"
    }
   ],
   "source": [
    "plt.scatter(X2[:, 0], X2[:, 1], c=y2, s=50, edgecolors='k'); # 2次元散布図でプロット"
   ]
  },
  {
   "cell_type": "code",
   "execution_count": null,
   "metadata": {
    "collapsed": true
   },
   "outputs": [],
   "source": []
  },
  {
   "cell_type": "code",
   "execution_count": null,
   "metadata": {
    "collapsed": true
   },
   "outputs": [],
   "source": []
  },
  {
   "cell_type": "code",
   "execution_count": null,
   "metadata": {
    "collapsed": true
   },
   "outputs": [],
   "source": []
  },
  {
   "cell_type": "markdown",
   "metadata": {},
   "source": [
    "対策の例：NaNを埋める"
   ]
  },
  {
   "cell_type": "code",
   "execution_count": 22,
   "metadata": {
    "ExecuteTime": {
     "end_time": "2017-06-22T08:23:15.788943Z",
     "start_time": "2017-06-22T08:23:15.502493Z"
    },
    "collapsed": true
   },
   "outputs": [],
   "source": [
    "from sklearn.preprocessing import Imputer"
   ]
  },
  {
   "cell_type": "code",
   "execution_count": 23,
   "metadata": {
    "ExecuteTime": {
     "end_time": "2017-06-22T08:23:15.792069Z",
     "start_time": "2017-06-22T08:23:15.789795Z"
    },
    "collapsed": true
   },
   "outputs": [],
   "source": [
    "missing_value_to_mean = Imputer()"
   ]
  },
  {
   "cell_type": "code",
   "execution_count": 24,
   "metadata": {
    "ExecuteTime": {
     "end_time": "2017-06-22T08:23:15.798240Z",
     "start_time": "2017-06-22T08:23:15.793593Z"
    }
   },
   "outputs": [
    {
     "data": {
      "text/plain": [
       "Imputer(axis=0, copy=True, missing_values='NaN', strategy='mean', verbose=0)"
      ]
     },
     "execution_count": 24,
     "metadata": {},
     "output_type": "execute_result"
    }
   ],
   "source": [
    "missing_value_to_mean.fit(X)"
   ]
  },
  {
   "cell_type": "code",
   "execution_count": 25,
   "metadata": {
    "ExecuteTime": {
     "end_time": "2017-06-22T08:23:15.804509Z",
     "start_time": "2017-06-22T08:23:15.799690Z"
    }
   },
   "outputs": [
    {
     "data": {
      "text/plain": [
       "array([[ -7.42847600e+00,   1.50990300e+00],\n",
       "       [  2.98069300e+00,   1.96082100e+00],\n",
       "       [  3.98825500e+00,   4.63638900e+00],\n",
       "       [ -5.78943700e+00,  -4.62161400e+00],\n",
       "       [ -4.89444700e+00,  -3.26973000e+02],\n",
       "       [ -1.93394900e+00,  -4.72760000e-02],\n",
       "       [ -1.61177100e+00,   5.93220100e+00],\n",
       "       [ -6.67015200e+00,  -1.03628200e+00],\n",
       "       [ -2.93141500e+02,  -1.04475000e-01],\n",
       "       [ -7.47620000e-02,   1.07000200e+00],\n",
       "       [ -2.69179300e+00,   4.16877400e+00],\n",
       "       [  4.61182000e-01,   3.45343800e+00],\n",
       "       [ -1.35413500e+00,   3.75165700e+00],\n",
       "       [ -6.22947600e+00,  -1.20943400e+00],\n",
       "       [  2.77859400e+00,              nan],\n",
       "       [ -5.71957800e+00,  -2.43509000e-01],\n",
       "       [  9.28322000e-01,   3.20852000e+00],\n",
       "       [  8.50475000e-01,   2.90895500e+00],\n",
       "       [             nan,  -1.83119900e+00],\n",
       "       [  1.11602500e+00,   3.35360200e+00]])"
      ]
     },
     "execution_count": 25,
     "metadata": {},
     "output_type": "execute_result"
    }
   ],
   "source": [
    "X"
   ]
  },
  {
   "cell_type": "code",
   "execution_count": 26,
   "metadata": {
    "ExecuteTime": {
     "end_time": "2017-06-22T08:23:15.810763Z",
     "start_time": "2017-06-22T08:23:15.806016Z"
    }
   },
   "outputs": [
    {
     "data": {
      "text/plain": [
       "array([[ -7.42847600e+00,   1.50990300e+00],\n",
       "       [  2.98069300e+00,   1.96082100e+00],\n",
       "       [  3.98825500e+00,   4.63638900e+00],\n",
       "       [ -5.78943700e+00,  -4.62161400e+00],\n",
       "       [ -4.89444700e+00,  -3.26973000e+02],\n",
       "       [ -1.93394900e+00,  -4.72760000e-02],\n",
       "       [ -1.61177100e+00,   5.93220100e+00],\n",
       "       [ -6.67015200e+00,  -1.03628200e+00],\n",
       "       [ -2.93141500e+02,  -1.04475000e-01],\n",
       "       [ -7.47620000e-02,   1.07000200e+00],\n",
       "       [ -2.69179300e+00,   4.16877400e+00],\n",
       "       [  4.61182000e-01,   3.45343800e+00],\n",
       "       [ -1.35413500e+00,   3.75165700e+00],\n",
       "       [ -6.22947600e+00,  -1.20943400e+00],\n",
       "       [  2.77859400e+00,  -1.57953962e+01],\n",
       "       [ -5.71957800e+00,  -2.43509000e-01],\n",
       "       [  9.28322000e-01,   3.20852000e+00],\n",
       "       [  8.50475000e-01,   2.90895500e+00],\n",
       "       [ -1.70755753e+01,  -1.83119900e+00],\n",
       "       [  1.11602500e+00,   3.35360200e+00]])"
      ]
     },
     "execution_count": 26,
     "metadata": {},
     "output_type": "execute_result"
    }
   ],
   "source": [
    "X_new = missing_value_to_mean.transform(X)\n",
    "X_new"
   ]
  },
  {
   "cell_type": "code",
   "execution_count": null,
   "metadata": {
    "collapsed": true
   },
   "outputs": [],
   "source": []
  },
  {
   "cell_type": "code",
   "execution_count": 27,
   "metadata": {
    "ExecuteTime": {
     "end_time": "2017-06-22T08:23:15.941330Z",
     "start_time": "2017-06-22T08:23:15.812181Z"
    }
   },
   "outputs": [
    {
     "data": {
      "image/png": "[encoded data removed]",
      "text/plain": [
       "<matplotlib.figure.Figure at 0x10d444908>"
      ]
     },
     "metadata": {},
     "output_type": "display_data"
    }
   ],
   "source": [
    "plt.scatter(X_new[:, 0], X_new[:, 1], c=y, s=50, edgecolors='k'); # 2次元散布図でプロット"
   ]
  },
  {
   "cell_type": "code",
   "execution_count": 28,
   "metadata": {
    "ExecuteTime": {
     "end_time": "2017-06-22T08:23:15.949404Z",
     "start_time": "2017-06-22T08:23:15.942739Z"
    }
   },
   "outputs": [
    {
     "data": {
      "text/plain": [
       "array([[ -7.42847600e+00,   1.50990300e+00],\n",
       "       [  2.98069300e+00,   1.96082100e+00],\n",
       "       [  3.98825500e+00,   4.63638900e+00],\n",
       "       [ -5.78943700e+00,  -4.62161400e+00],\n",
       "       [ -4.89444700e+00,  -3.26973000e+02],\n",
       "       [ -1.93394900e+00,  -4.72760000e-02],\n",
       "       [ -1.61177100e+00,   5.93220100e+00],\n",
       "       [ -6.67015200e+00,  -1.03628200e+00],\n",
       "       [ -2.93141500e+02,  -1.04475000e-01],\n",
       "       [ -7.47620000e-02,   1.07000200e+00],\n",
       "       [ -2.69179300e+00,   4.16877400e+00],\n",
       "       [  4.61182000e-01,   3.45343800e+00],\n",
       "       [ -1.35413500e+00,   3.75165700e+00],\n",
       "       [ -6.22947600e+00,  -1.20943400e+00],\n",
       "       [  2.77859400e+00,   1.50990300e+00],\n",
       "       [ -5.71957800e+00,  -2.43509000e-01],\n",
       "       [  9.28322000e-01,   3.20852000e+00],\n",
       "       [  8.50475000e-01,   2.90895500e+00],\n",
       "       [ -1.61177100e+00,  -1.83119900e+00],\n",
       "       [  1.11602500e+00,   3.35360200e+00]])"
      ]
     },
     "execution_count": 28,
     "metadata": {},
     "output_type": "execute_result"
    }
   ],
   "source": [
    "missing_value_to_median = Imputer(strategy='median')\n",
    "missing_value_to_median.fit(X)\n",
    "X_new2 = missing_value_to_median.transform(X)\n",
    "X_new2"
   ]
  },
  {
   "cell_type": "code",
   "execution_count": 29,
   "metadata": {
    "ExecuteTime": {
     "end_time": "2017-06-22T08:23:16.074703Z",
     "start_time": "2017-06-22T08:23:15.950975Z"
    }
   },
   "outputs": [
    {
     "data": {
      "image/png": "[encoded data removed]",
      "text/plain": [
       "<matplotlib.figure.Figure at 0x10d42f2b0>"
      ]
     },
     "metadata": {},
     "output_type": "display_data"
    }
   ],
   "source": [
    "plt.scatter(X_new2[:, 0], X_new2[:, 1], c=y, s=50, edgecolors='k'); # 2次元散布図でプロット"
   ]
  },
  {
   "cell_type": "code",
   "execution_count": null,
   "metadata": {
    "collapsed": true
   },
   "outputs": [],
   "source": []
  }
 ],
 "metadata": {
  "anaconda-cloud": {},
  "kernelspec": {
   "display_name": "Python 3",
   "language": "python",
   "name": "python3"
  },
  "language_info": {
   "codemirror_mode": {
    "name": "ipython",
    "version": 3
   },
   "file_extension": ".py",
   "mimetype": "text/x-python",
   "name": "python",
   "nbconvert_exporter": "python",
   "pygments_lexer": "ipython3",
   "version": "3.6.1"
  },
  "toc": {
   "colors": {
    "hover_highlight": "#DAA520",
    "running_highlight": "#FF0000",
    "selected_highlight": "#FFD700"
   },
   "moveMenuLeft": true,
   "nav_menu": {
    "height": "12px",
    "width": "252px"
   },
   "navigate_menu": true,
   "number_sections": true,
   "sideBar": true,
   "threshold": 4,
   "toc_cell": false,
   "toc_section_display": "block",
   "toc_window_display": false,
   "widenNotebook": false
  }
 },
 "nbformat": 4,
 "nbformat_minor": 1
}
