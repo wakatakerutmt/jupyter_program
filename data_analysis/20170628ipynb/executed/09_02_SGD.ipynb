{
 "cells": [
  {
   "cell_type": "code",
   "execution_count": 1,
   "metadata": {
    "ExecuteTime": {
     "end_time": "2017-06-22T08:35:32.149353Z",
     "start_time": "2017-06-22T08:35:31.654318Z"
    },
    "collapsed": true
   },
   "outputs": [],
   "source": [
    "import numpy as np\n",
    "\n",
    "import matplotlib.pyplot as plt\n",
    "%matplotlib inline"
   ]
  },
  {
   "cell_type": "code",
   "execution_count": 2,
   "metadata": {
    "ExecuteTime": {
     "end_time": "2017-06-22T08:35:32.152142Z",
     "start_time": "2017-06-22T08:35:32.150202Z"
    },
    "collapsed": true
   },
   "outputs": [],
   "source": [
    "import time"
   ]
  },
  {
   "cell_type": "code",
   "execution_count": 3,
   "metadata": {
    "ExecuteTime": {
     "end_time": "2017-06-22T08:35:32.933516Z",
     "start_time": "2017-06-22T08:35:32.153761Z"
    }
   },
   "outputs": [],
   "source": [
    "from sklearn.datasets import fetch_mldata\n",
    "mnist = fetch_mldata('MNIST original')\n",
    "\n",
    "# MNISTの場合，60000が学習，10000がテスト，と決まっている\n",
    "# http://yann.lecun.com/exdb/mnist/\n",
    "\n",
    "X_train, X_test = mnist.data[:60000]/255., mnist.data[60000:]/255.\n",
    "y_train, y_test = mnist.target[:60000], mnist.target[60000:]\n"
   ]
  },
  {
   "cell_type": "code",
   "execution_count": 4,
   "metadata": {
    "ExecuteTime": {
     "end_time": "2017-06-22T08:35:32.945056Z",
     "start_time": "2017-06-22T08:35:32.935356Z"
    }
   },
   "outputs": [
    {
     "data": {
      "text/plain": [
       "((60000, 784), (10000, 784))"
      ]
     },
     "execution_count": 4,
     "metadata": {},
     "output_type": "execute_result"
    }
   ],
   "source": [
    "X_train.shape, X_test.shape"
   ]
  },
  {
   "cell_type": "code",
   "execution_count": null,
   "metadata": {
    "collapsed": true
   },
   "outputs": [],
   "source": []
  },
  {
   "cell_type": "code",
   "execution_count": 5,
   "metadata": {
    "ExecuteTime": {
     "end_time": "2017-06-22T08:35:33.093489Z",
     "start_time": "2017-06-22T08:35:32.947647Z"
    },
    "collapsed": true
   },
   "outputs": [],
   "source": [
    "from sklearn.linear_model import SGDClassifier"
   ]
  },
  {
   "cell_type": "code",
   "execution_count": 6,
   "metadata": {
    "ExecuteTime": {
     "end_time": "2017-06-22T08:35:33.097284Z",
     "start_time": "2017-06-22T08:35:33.094710Z"
    },
    "collapsed": true
   },
   "outputs": [],
   "source": [
    "clf = SGDClassifier(loss=\"log\") # Logistic regression"
   ]
  },
  {
   "cell_type": "code",
   "execution_count": 7,
   "metadata": {
    "ExecuteTime": {
     "end_time": "2017-06-22T08:35:47.330056Z",
     "start_time": "2017-06-22T08:35:33.098923Z"
    },
    "scrolled": false
   },
   "outputs": [
    {
     "name": "stdout",
     "output_type": "stream",
     "text": [
      "0.10 sec, size 600, accuracy 0.81\n",
      "0.14 sec, size 1200, accuracy 0.84\n",
      "0.60 sec, size 6000, accuracy 0.858\n",
      "1.20 sec, size 12000, accuracy 0.856\n",
      "1.49 sec, size 15000, accuracy 0.8692\n",
      "1.98 sec, size 20000, accuracy 0.8815236952609478\n",
      "2.98 sec, size 30000, accuracy 0.8652\n",
      "5.65 sec, size 60000, accuracy 0.907\n"
     ]
    }
   ],
   "source": [
    "for thin in [100, 50, 10, 5, 4, 3, 2, 1]:\n",
    "    st = time.time()\n",
    "    clf.fit(X_train[::thin], y_train[::thin])\n",
    "    et = time.time() - st\n",
    "    score = clf.score(X_test[::thin], y_test[::thin])\n",
    "    print(\"{0:.2f} sec, size {1}, accuracy {2}\".format(et, \n",
    "                                                       y_train[::thin].size,\n",
    "                                                       score))"
   ]
  },
  {
   "cell_type": "code",
   "execution_count": 8,
   "metadata": {
    "ExecuteTime": {
     "end_time": "2017-06-22T08:35:47.333808Z",
     "start_time": "2017-06-22T08:35:47.331507Z"
    }
   },
   "outputs": [],
   "source": [
    "clf = SGDClassifier(loss=\"hinge\") # linear SVM"
   ]
  },
  {
   "cell_type": "code",
   "execution_count": 9,
   "metadata": {
    "ExecuteTime": {
     "end_time": "2017-06-22T08:35:55.258090Z",
     "start_time": "2017-06-22T08:35:47.335294Z"
    }
   },
   "outputs": [
    {
     "name": "stdout",
     "output_type": "stream",
     "text": [
      "0.04 sec, size 600, accuracy 0.84\n",
      "0.07 sec, size 1200, accuracy 0.845\n",
      "0.32 sec, size 6000, accuracy 0.853\n",
      "0.64 sec, size 12000, accuracy 0.8765\n",
      "0.79 sec, size 15000, accuracy 0.8628\n",
      "1.08 sec, size 20000, accuracy 0.8782243551289742\n",
      "1.68 sec, size 30000, accuracy 0.8766\n",
      "3.22 sec, size 60000, accuracy 0.8891\n"
     ]
    }
   ],
   "source": [
    "for thin in [100, 50, 10, 5, 4, 3, 2, 1]:\n",
    "    st = time.time()\n",
    "    clf.fit(X_train[::thin], y_train[::thin])\n",
    "    et = time.time() - st\n",
    "    score = clf.score(X_test[::thin], y_test[::thin])\n",
    "    print(\"{0:.2f} sec, size {1}, accuracy {2}\".format(et, \n",
    "                                                       y_train[::thin].size,\n",
    "                                                       score))"
   ]
  },
  {
   "cell_type": "code",
   "execution_count": 10,
   "metadata": {
    "ExecuteTime": {
     "end_time": "2017-06-22T08:37:04.370734Z",
     "start_time": "2017-06-22T08:35:55.259385Z"
    }
   },
   "outputs": [
    {
     "data": {
      "image/png": "[encoded data removed]",
      "text/plain": [
       "<matplotlib.figure.Figure at 0x10c569080>"
      ]
     },
     "metadata": {},
     "output_type": "display_data"
    }
   ],
   "source": [
    "from sklearn.svm import LinearSVC\n",
    "\n",
    "for clf in [SGDClassifier(loss=\"hinge\"),\n",
    "            LinearSVC(dual=False)]:\n",
    "    times = []\n",
    "    sizes = []\n",
    "    for thin in [100, 50, 10, 5, 4, 3, 2, 1]:\n",
    "        st = time.time()\n",
    "        clf.fit(X_train[::thin], y_train[::thin])\n",
    "        times.append(time.time() - st)\n",
    "        sizes.append(y_train[::thin].size)\n",
    "    plt.plot(sizes, times, label=clf.__class__.__name__)\n",
    "\n",
    "plt.legend(loc=\"best\")\n",
    "plt.ylabel(\"computation time [sec]\")\n",
    "plt.xlabel(\"# samples\")\n",
    "plt.show()"
   ]
  },
  {
   "cell_type": "markdown",
   "metadata": {
    "collapsed": true
   },
   "source": [
    "scikit-learn document: [Logistic regression](http://scikit-learn.org/stable/modules/linear_model.html#logistic-regression)\n",
    "\n",
    "$$\n",
    "\\min_{w,b}\n",
    "\\frac{1}{2} \\| w \\|_2^2\n",
    "+ C \\sum_{i=1}^N\n",
    "\\log(\\exp(-y_i(w^T x_i + b)) + 1)\n",
    "$$\n",
    "                                             \n",
    "scikit-learn document: [SVC](http://scikit-learn.org/stable/modules/svm.html#svc)\n",
    "\n",
    "$$\n",
    "\\min_{w, b, \\{\\xi_i\\} }\n",
    "\\frac{1}{2} \\| w \\|_2^2\n",
    "+ C \\sum_{i=1}^N \\xi_i\n",
    "\\quad \\text{subject to}\\quad \n",
    "y_i(w^T x_i + b) \\ge 1 - \\xi_i\n",
    "$$"
   ]
  },
  {
   "cell_type": "code",
   "execution_count": 11,
   "metadata": {
    "ExecuteTime": {
     "end_time": "2017-06-22T08:39:27.890680Z",
     "start_time": "2017-06-22T08:37:04.372228Z"
    }
   },
   "outputs": [
    {
     "name": "stdout",
     "output_type": "stream",
     "text": [
      "1e-05 6.192193984985352 0.1032\n",
      "0.0001 5.789118051528931 0.1416\n",
      "0.001 5.832761764526367 0.1678\n",
      "0.01 5.695427179336548 0.1741\n",
      "0.1 6.296325206756592 0.0958\n",
      "1.0 5.681892156600952 0.0958\n",
      "10.0 5.685110092163086 0.098\n",
      "100.0 5.702815055847168 0.2532\n",
      "1000.0 5.703980922698975 0.1032\n",
      "10000.0 4.2864830493927 0.7648\n",
      "100000.0 3.804821014404297 0.8065\n",
      "1000000.0 3.626236915588379 0.8862\n",
      "10000000.0 7.793937921524048 0.9067\n",
      "100000000.0 10.306014060974121 0.9024\n",
      "1000000000.0 10.661073923110962 0.8738\n",
      "10000000000.0 10.149407863616943 0.8429\n",
      "100000000000.0 9.907172918319702 0.8828\n",
      "1e+12 10.00750994682312 0.8846\n",
      "1e+13 10.224251747131348 0.8907\n",
      "1e+14 9.786956071853638 0.8995\n"
     ]
    }
   ],
   "source": [
    "C_range_exp = np.arange(-5.0, 15.0)\n",
    "C_range = 10 ** C_range_exp\n",
    "\n",
    "scores = []\n",
    "comp_time = []\n",
    "\n",
    "clf = SGDClassifier(loss=\"hinge\") # SVM\n",
    "\n",
    "for C in C_range:\n",
    "    clf.alpha = X_train.shape[0] / C # n_sample/alpha = C http://scikit-learn.org/stable/modules/svm.html#svc\n",
    "\n",
    "    st = time.time()\n",
    "    clf.fit(X_train, y_train)\n",
    "    et = time.time() - st\n",
    "\n",
    "    comp_time.append(et)\n",
    "    score = clf.score(X_test, y_test)\n",
    "    scores.append(score)\n",
    "    \n",
    "    print(C, et, score)"
   ]
  },
  {
   "cell_type": "code",
   "execution_count": 12,
   "metadata": {
    "ExecuteTime": {
     "end_time": "2017-06-22T08:39:28.537006Z",
     "start_time": "2017-06-22T08:39:27.893390Z"
    }
   },
   "outputs": [
    {
     "data": {
      "image/png": "[encoded data removed]",
      "text/plain": [
       "<matplotlib.figure.Figure at 0x10ed2d630>"
      ]
     },
     "metadata": {},
     "output_type": "display_data"
    },
    {
     "data": {
      "image/png": "[encoded data removed]",
      "text/plain": [
       "<matplotlib.figure.Figure at 0x10ed93e48>"
      ]
     },
     "metadata": {},
     "output_type": "display_data"
    }
   ],
   "source": [
    "scores = np.array(scores)\n",
    "comp_time = np.array(comp_time)\n",
    "\n",
    "plt.plot(C_range_exp, scores)\n",
    "plt.ylabel(\"accuracy\")\n",
    "plt.xlabel(\"C\");\n",
    "plt.ylim(0,1)\n",
    "\n",
    "plt.show()\n",
    "\n",
    "plt.plot(C_range_exp, comp_time)\n",
    "plt.ylim(0,)\n",
    "plt.ylabel(\"computation time [sec]\")\n",
    "plt.xlabel(\"C\");"
   ]
  },
  {
   "cell_type": "code",
   "execution_count": null,
   "metadata": {
    "collapsed": true
   },
   "outputs": [],
   "source": []
  },
  {
   "cell_type": "code",
   "execution_count": null,
   "metadata": {
    "collapsed": true
   },
   "outputs": [],
   "source": []
  },
  {
   "cell_type": "code",
   "execution_count": 13,
   "metadata": {
    "ExecuteTime": {
     "end_time": "2017-06-22T08:42:03.564656Z",
     "start_time": "2017-06-22T08:39:28.540013Z"
    },
    "scrolled": false
   },
   "outputs": [
    {
     "name": "stdout",
     "output_type": "stream",
     "text": [
      "Fitting 3 folds for each of 15 candidates, totalling 45 fits\n",
      "[CV] clf__alpha=4000000000.0 .........................................\n",
      "[CV] clf__alpha=4000000000.0 .........................................\n",
      "[CV] clf__alpha=4000000000.0 .........................................\n",
      "[CV] clf__alpha=400000000.0 ..........................................\n",
      "[CV] clf__alpha=400000000.0 ..........................................\n",
      "[CV] clf__alpha=400000000.0 ..........................................\n",
      "[CV] clf__alpha=40000000.0 ...........................................\n",
      "[CV] clf__alpha=40000000.0 ...........................................\n",
      "[CV] .......................... clf__alpha=4000000000.0, total=  22.3s\n",
      "[CV] clf__alpha=40000000.0 ...........................................\n",
      "[CV] .......................... clf__alpha=4000000000.0, total=  22.9s\n",
      "[CV] clf__alpha=4000000.0 ............................................\n",
      "[CV] .......................... clf__alpha=4000000000.0, total=  24.1s\n",
      "[CV] clf__alpha=4000000.0 ............................................\n",
      "[CV] ........................... clf__alpha=400000000.0, total=  23.9s\n",
      "[CV] clf__alpha=4000000.0 ............................................\n",
      "[CV] ........................... clf__alpha=400000000.0, total=  24.1s\n",
      "[CV] clf__alpha=400000.0 .............................................\n",
      "[CV] ........................... clf__alpha=400000000.0, total=  24.4s\n",
      "[CV] clf__alpha=400000.0 .............................................\n",
      "[CV] ............................ clf__alpha=40000000.0, total=  24.4s\n",
      "[CV] clf__alpha=400000.0 .............................................\n",
      "[CV] ............................ clf__alpha=40000000.0, total=  24.4s\n",
      "[CV] clf__alpha=40000.0 ..............................................\n",
      "[CV] ............................ clf__alpha=40000000.0, total=  24.2s\n",
      "[CV] clf__alpha=40000.0 ..............................................\n",
      "[CV] ............................. clf__alpha=4000000.0, total=  24.7s\n",
      "[CV] clf__alpha=40000.0 ..............................................\n",
      "[CV] ............................. clf__alpha=4000000.0, total=  24.2s\n",
      "[CV] clf__alpha=4000.0 ...............................................\n",
      "[CV] ............................. clf__alpha=4000000.0, total=  23.8s\n",
      "[CV] clf__alpha=4000.0 ...............................................\n",
      "[CV] .............................. clf__alpha=400000.0, total=  23.9s\n",
      "[CV] clf__alpha=4000.0 ...............................................\n",
      "[CV] .............................. clf__alpha=400000.0, total=  23.6s\n",
      "[CV] clf__alpha=400.0 ................................................\n",
      "[CV] .............................. clf__alpha=400000.0, total=  23.5s\n",
      "[CV] clf__alpha=400.0 ................................................\n",
      "[CV] ............................... clf__alpha=40000.0, total=  23.8s\n",
      "[CV] clf__alpha=400.0 ................................................\n",
      "[CV] ............................... clf__alpha=40000.0, total=  24.2s\n",
      "[CV] clf__alpha=40.0 .................................................\n",
      "[CV] ............................... clf__alpha=40000.0, total=  24.5s\n",
      "[CV] clf__alpha=40.0 .................................................\n",
      "[CV] ................................ clf__alpha=4000.0, total=  24.8s\n",
      "[CV] clf__alpha=40.0 .................................................\n",
      "[CV] ................................ clf__alpha=4000.0, total=  25.0s\n",
      "[CV] clf__alpha=4.0 ..................................................\n",
      "[CV] ................................ clf__alpha=4000.0, total=  24.7s\n",
      "[CV] clf__alpha=4.0 ..................................................\n",
      "[CV] ................................. clf__alpha=400.0, total=  25.0s\n",
      "[CV] clf__alpha=4.0 ..................................................\n",
      "[CV] ................................. clf__alpha=400.0, total=  25.0s\n",
      "[CV] clf__alpha=0.4 ..................................................\n",
      "[CV] ................................. clf__alpha=400.0, total=  24.5s\n",
      "[CV] clf__alpha=0.4 ..................................................\n",
      "[CV] .................................. clf__alpha=40.0, total=  22.9s\n",
      "[CV] clf__alpha=0.4 ..................................................\n"
     ]
    },
    {
     "name": "stderr",
     "output_type": "stream",
     "text": [
      "[Parallel(n_jobs=-1)]: Done  25 tasks      | elapsed:  1.7min\n"
     ]
    },
    {
     "name": "stdout",
     "output_type": "stream",
     "text": [
      "[CV] ................................... clf__alpha=4.0, total=  18.7s\n",
      "[CV] clf__alpha=0.04 .................................................\n",
      "[CV] .................................. clf__alpha=40.0, total=  23.5s\n",
      "[CV] clf__alpha=0.04 .................................................\n",
      "[CV] ................................... clf__alpha=4.0, total=  19.2s\n",
      "[CV] clf__alpha=0.04 .................................................\n",
      "[CV] ................................... clf__alpha=0.4, total=  17.9s\n",
      "[CV] ................................... clf__alpha=4.0, total=  19.3s\n",
      "[CV] .................................. clf__alpha=40.0, total=  23.1s\n",
      "[CV] clf__alpha=0.004 ................................................\n",
      "[CV] ................................... clf__alpha=0.4, total=  18.1s\n",
      "[CV] clf__alpha=0.004 ................................................\n",
      "[CV] clf__alpha=0.004 ................................................\n",
      "[CV] clf__alpha=0.0004 ...............................................\n",
      "[CV] ................................... clf__alpha=0.4, total=  18.2s\n",
      "[CV] clf__alpha=0.0004 ...............................................\n",
      "[CV] .................................. clf__alpha=0.04, total=  17.4s\n",
      "[CV] clf__alpha=0.0004 ...............................................\n",
      "[CV] .................................. clf__alpha=0.04, total=  17.2s\n",
      "[CV] clf__alpha=4e-05 ................................................\n",
      "[CV] .................................. clf__alpha=0.04, total=  17.4s\n",
      "[CV] clf__alpha=4e-05 ................................................\n",
      "[CV] ................................. clf__alpha=0.004, total=  17.2s\n",
      "[CV] ................................. clf__alpha=0.004, total=  16.9s\n",
      "[CV] clf__alpha=4e-05 ................................................\n",
      "[CV] ................................. clf__alpha=0.004, total=  17.4s\n",
      "[CV] ................................ clf__alpha=0.0004, total=  17.1s\n",
      "[CV] ................................ clf__alpha=0.0004, total=  16.0s\n",
      "[CV] ................................ clf__alpha=0.0004, total=  15.7s\n",
      "[CV] ................................. clf__alpha=4e-05, total=  15.4s\n",
      "[CV] ................................. clf__alpha=4e-05, total=  14.9s\n",
      "[CV] ................................. clf__alpha=4e-05, total=  14.7s\n"
     ]
    },
    {
     "name": "stderr",
     "output_type": "stream",
     "text": [
      "[Parallel(n_jobs=-1)]: Done  45 out of  45 | elapsed:  2.4min finished\n"
     ]
    },
    {
     "data": {
      "text/plain": [
       "GridSearchCV(cv=None, error_score='raise',\n",
       "       estimator=Pipeline(steps=[('scaler', MinMaxScaler(copy=True, feature_range=(0, 1))), ('clf', SGDClassifier(alpha=0.0001, average=False, class_weight=None, epsilon=0.1,\n",
       "       eta0=0.0, fit_intercept=True, l1_ratio=0.15,\n",
       "       learning_rate='optimal', loss='hinge', n_iter=5, n_jobs=1,\n",
       "       penalty='l2', power_t=0.5, random_state=None, shuffle=True,\n",
       "       verbose=0, warm_start=False))]),\n",
       "       fit_params={}, iid=True, n_jobs=-1,\n",
       "       param_grid={'clf__alpha': array([  4.00000e+09,   4.00000e+08,   4.00000e+07,   4.00000e+06,\n",
       "         4.00000e+05,   4.00000e+04,   4.00000e+03,   4.00000e+02,\n",
       "         4.00000e+01,   4.00000e+00,   4.00000e-01,   4.00000e-02,\n",
       "         4.00000e-03,   4.00000e-04,   4.00000e-05])},\n",
       "       pre_dispatch='2*n_jobs', refit=True, return_train_score=True,\n",
       "       scoring=None, verbose=2)"
      ]
     },
     "execution_count": 13,
     "metadata": {},
     "output_type": "execute_result"
    }
   ],
   "source": [
    "from sklearn.preprocessing import MinMaxScaler\n",
    "from sklearn.pipeline import Pipeline\n",
    "from sklearn.model_selection import GridSearchCV\n",
    "\n",
    "\n",
    "estimators = [('scaler', MinMaxScaler()), \n",
    "              ('clf', SGDClassifier(loss=\"hinge\"))]\n",
    "\n",
    "pipe = Pipeline(estimators)\n",
    "\n",
    "param = {'clf__alpha': (X_train.shape[0] * 2./3.) / (10**np.arange(-5.0, 10.0)) }\n",
    "\n",
    "gs = GridSearchCV(pipe, param, n_jobs=-1, verbose=2)\n",
    "gs.fit(X_train, y_train)"
   ]
  },
  {
   "cell_type": "code",
   "execution_count": 14,
   "metadata": {
    "ExecuteTime": {
     "end_time": "2017-06-22T08:42:05.376164Z",
     "start_time": "2017-06-22T08:42:03.567390Z"
    },
    "scrolled": false
   },
   "outputs": [
    {
     "data": {
      "text/plain": [
       "<matplotlib.text.Text at 0x10e9bceb8>"
      ]
     },
     "execution_count": 14,
     "metadata": {},
     "output_type": "execute_result"
    },
    {
     "data": {
      "image/png": "[encoded data removed]",
      "text/plain": [
       "<matplotlib.figure.Figure at 0x10ebc1630>"
      ]
     },
     "metadata": {},
     "output_type": "display_data"
    }
   ],
   "source": [
    "plt.plot(gs.cv_results_['param_clf__alpha'].data, \n",
    "         gs.cv_results_['mean_fit_time'], \n",
    "         label=\"training\")\n",
    "\n",
    "plt.plot(gs.cv_results_['param_clf__alpha'].data,\n",
    "         gs.cv_results_['mean_score_time'], \n",
    "         label=\"test(val)\")\n",
    "plt.ylabel(\"computation time [sec]\")\n",
    "plt.ylim(0,)\n",
    "plt.xscale(\"log\")\n",
    "plt.xlabel(\"alpha = #sample / C\")\n",
    "plt.legend(loc=\"upper left\");\n",
    "\n",
    "plt.twinx()\n",
    "\n",
    "plt.plot(gs.cv_results_['param_clf__alpha'].data, \n",
    "         gs.cv_results_['mean_train_score'], \n",
    "         linestyle=\"--\",\n",
    "         label=\"training\")\n",
    "\n",
    "plt.plot(gs.cv_results_['param_clf__alpha'].data,\n",
    "         gs.cv_results_['mean_test_score'], \n",
    "         linestyle=\"--\",\n",
    "         label=\"test(val)\")\n",
    "plt.ylabel(\"accuracy\")\n",
    "plt.legend(loc=\"lower right\");\n",
    "\n",
    "plt.title(\"SGDClassifier\")"
   ]
  },
  {
   "cell_type": "code",
   "execution_count": null,
   "metadata": {
    "collapsed": true
   },
   "outputs": [],
   "source": []
  },
  {
   "cell_type": "code",
   "execution_count": null,
   "metadata": {
    "collapsed": true
   },
   "outputs": [],
   "source": []
  },
  {
   "cell_type": "code",
   "execution_count": null,
   "metadata": {
    "collapsed": true
   },
   "outputs": [],
   "source": []
  },
  {
   "cell_type": "code",
   "execution_count": 15,
   "metadata": {
    "ExecuteTime": {
     "end_time": "2017-06-22T08:42:05.422894Z",
     "start_time": "2017-06-22T08:42:05.378087Z"
    },
    "collapsed": true
   },
   "outputs": [],
   "source": [
    "from sklearn.datasets import load_breast_cancer\n",
    "data = load_breast_cancer()\n",
    "X = data.data\n",
    "y = data.target"
   ]
  },
  {
   "cell_type": "code",
   "execution_count": 16,
   "metadata": {
    "ExecuteTime": {
     "end_time": "2017-06-22T08:42:05.530823Z",
     "start_time": "2017-06-22T08:42:05.425198Z"
    },
    "collapsed": true
   },
   "outputs": [],
   "source": [
    "from sklearn.model_selection import ShuffleSplit\n",
    "ss = ShuffleSplit(n_splits=1, \n",
    "                  train_size=0.8, \n",
    "                  test_size=0.2, \n",
    "                  random_state=0)\n",
    "\n",
    "train_index, test_index = next(ss.split(X, y))\n",
    "\n",
    "X_train, X_test = X[train_index], X[test_index]\n",
    "y_train, y_test = y[train_index], y[test_index]"
   ]
  },
  {
   "cell_type": "code",
   "execution_count": 17,
   "metadata": {
    "ExecuteTime": {
     "end_time": "2017-06-22T08:42:05.542691Z",
     "start_time": "2017-06-22T08:42:05.532816Z"
    },
    "collapsed": true
   },
   "outputs": [],
   "source": [
    "from sklearn.preprocessing import MinMaxScaler\n",
    "scaler = MinMaxScaler()\n",
    "scaler.fit(X_train)\n",
    "X_train = scaler.transform(X_train)\n",
    "X_test  = scaler.transform(X_test)"
   ]
  },
  {
   "cell_type": "code",
   "execution_count": 18,
   "metadata": {
    "ExecuteTime": {
     "end_time": "2017-06-22T08:42:05.552789Z",
     "start_time": "2017-06-22T08:42:05.544570Z"
    },
    "collapsed": true
   },
   "outputs": [],
   "source": [
    "clf = SGDClassifier(loss=\"hinge\") # SVM"
   ]
  },
  {
   "cell_type": "code",
   "execution_count": 19,
   "metadata": {
    "ExecuteTime": {
     "end_time": "2017-06-22T08:42:05.608436Z",
     "start_time": "2017-06-22T08:42:05.554747Z"
    }
   },
   "outputs": [
    {
     "data": {
      "text/plain": [
       "0.93859649122807021"
      ]
     },
     "execution_count": 19,
     "metadata": {},
     "output_type": "execute_result"
    }
   ],
   "source": [
    "clf.fit(X_train, y_train)\n",
    "clf.score(X_test, y_test)"
   ]
  },
  {
   "cell_type": "code",
   "execution_count": 20,
   "metadata": {
    "ExecuteTime": {
     "end_time": "2017-06-22T08:42:05.619776Z",
     "start_time": "2017-06-22T08:42:05.611154Z"
    }
   },
   "outputs": [],
   "source": [
    "clf = SGDClassifier(loss=\"log\") # logistic regression"
   ]
  },
  {
   "cell_type": "code",
   "execution_count": 21,
   "metadata": {
    "ExecuteTime": {
     "end_time": "2017-06-22T08:42:05.639523Z",
     "start_time": "2017-06-22T08:42:05.621639Z"
    }
   },
   "outputs": [
    {
     "data": {
      "text/plain": [
       "0.93859649122807021"
      ]
     },
     "execution_count": 21,
     "metadata": {},
     "output_type": "execute_result"
    }
   ],
   "source": [
    "clf.fit(X_train, y_train)\n",
    "clf.score(X_test, y_test)"
   ]
  },
  {
   "cell_type": "code",
   "execution_count": null,
   "metadata": {
    "collapsed": true
   },
   "outputs": [],
   "source": []
  }
 ],
 "metadata": {
  "anaconda-cloud": {},
  "kernelspec": {
   "display_name": "Python 3",
   "language": "python",
   "name": "python3"
  },
  "language_info": {
   "codemirror_mode": {
    "name": "ipython",
    "version": 3
   },
   "file_extension": ".py",
   "mimetype": "text/x-python",
   "name": "python",
   "nbconvert_exporter": "python",
   "pygments_lexer": "ipython3",
   "version": "3.6.1"
  },
  "toc": {
   "colors": {
    "hover_highlight": "#DAA520",
    "running_highlight": "#FF0000",
    "selected_highlight": "#FFD700"
   },
   "moveMenuLeft": true,
   "nav_menu": {
    "height": "12px",
    "width": "252px"
   },
   "navigate_menu": true,
   "number_sections": true,
   "sideBar": true,
   "threshold": 4,
   "toc_cell": false,
   "toc_section_display": "block",
   "toc_window_display": false,
   "widenNotebook": false
  }
 },
 "nbformat": 4,
 "nbformat_minor": 1
}
